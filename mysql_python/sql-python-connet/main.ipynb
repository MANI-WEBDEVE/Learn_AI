{
 "cells": [
  {
   "cell_type": "markdown",
   "id": "f74a5c8b-0b17-4628-a5d3-c2769ea17298",
   "metadata": {},
   "source": [
    "# SQL Connect to Python"
   ]
  },
  {
   "cell_type": "code",
   "execution_count": null,
   "id": "02158d50-1dc6-46fe-aadf-46167328bf3d",
   "metadata": {},
   "outputs": [],
   "source": [
    "# !pip  install mysql-connector-python"
   ]
  },
  {
   "cell_type": "code",
   "execution_count": 1,
   "id": "519e03b9-4a2a-429e-a6c2-c5066c34fb0f",
   "metadata": {},
   "outputs": [],
   "source": [
    "import mysql.connector"
   ]
  },
  {
   "cell_type": "code",
   "execution_count": 2,
   "id": "d4f049f5-53fd-45bd-b8bb-f4dbe4a2c334",
   "metadata": {},
   "outputs": [
    {
     "name": "stdout",
     "output_type": "stream",
     "text": [
      "<mysql.connector.connection_cext.CMySQLConnection object at 0x00000248FBE1CB30>\n"
     ]
    }
   ],
   "source": [
    "mydb=mysql.connector.connect(\n",
    "    host=\"localhost\",\n",
    "    user=\"root\",\n",
    "    password=\"inam@1234\"\n",
    "    \n",
    ")\n",
    "print(mydb)"
   ]
  },
  {
   "cell_type": "markdown",
   "id": "0ae1152e-128d-43c9-bc9d-66b2bab50e1c",
   "metadata": {},
   "source": [
    "# Create DataBase"
   ]
  },
  {
   "cell_type": "code",
   "execution_count": 3,
   "id": "3a5de500-14e3-41a0-98d2-3ba1a946b01f",
   "metadata": {},
   "outputs": [],
   "source": [
    "cursor=mydb.cursor()\n"
   ]
  },
  {
   "cell_type": "code",
   "execution_count": 4,
   "id": "d5756b92-907b-42fd-a52e-c3d4a7e39691",
   "metadata": {},
   "outputs": [],
   "source": [
    "cursor.execute(\"CREATE DATABASE IF NOT EXISTS python_db\")"
   ]
  },
  {
   "cell_type": "markdown",
   "id": "170b4324-ff3a-41cf-98b8-4a844957f169",
   "metadata": {},
   "source": [
    "# Check the DataBases"
   ]
  },
  {
   "cell_type": "code",
   "execution_count": 5,
   "id": "03bdc81f-fece-4424-986d-879a0f7afe56",
   "metadata": {},
   "outputs": [],
   "source": [
    "cursor.execute(\"SHOW DATABASES\")"
   ]
  },
  {
   "cell_type": "code",
   "execution_count": 6,
   "id": "0d3fe6d8-ea4e-4892-958c-ef68dc998831",
   "metadata": {},
   "outputs": [
    {
     "name": "stdout",
     "output_type": "stream",
     "text": [
      "('information_schema',)\n",
      "('mysql',)\n",
      "('performance_schema',)\n",
      "('python_db',)\n",
      "('sakila',)\n",
      "('sqldatabase',)\n",
      "('students',)\n",
      "('sys',)\n",
      "('world',)\n"
     ]
    }
   ],
   "source": [
    "for x in cursor:\n",
    "    print(x)"
   ]
  },
  {
   "cell_type": "markdown",
   "id": "e6ea2c90-093f-4d28-92a2-5ccd0d889eb6",
   "metadata": {},
   "source": [
    "# Use the DataBase"
   ]
  },
  {
   "cell_type": "code",
   "execution_count": 7,
   "id": "7c78cb59-225a-4e8b-aa67-1f684e5b241b",
   "metadata": {},
   "outputs": [],
   "source": [
    "cursor.execute(\"USE python_db\")"
   ]
  },
  {
   "cell_type": "markdown",
   "id": "ed93af4b-8df5-4411-a776-0d3df79eed38",
   "metadata": {},
   "source": [
    "# Create a Table\n"
   ]
  },
  {
   "cell_type": "code",
   "execution_count": 11,
   "id": "965f3927-2c67-4b89-8f0e-719a7aee96b8",
   "metadata": {},
   "outputs": [],
   "source": [
    "sql_table=\"create table pyourse(id INT UNIQUE, name VARCHAR(40), age INT)\"\n",
    "cursor.execute(sql_table)"
   ]
  },
  {
   "cell_type": "markdown",
   "id": "4d851bb4-6428-4059-9a51-905c4e32f458",
   "metadata": {},
   "source": [
    "# Insert The Data in Table"
   ]
  },
  {
   "cell_type": "code",
   "execution_count": 15,
   "id": "e9b26427-2ca5-4fb8-9cb9-76dbee4a2f23",
   "metadata": {},
   "outputs": [],
   "source": [
    "sql_table_data_qurey='insert into pyourse value (%s, %s, %s)'\n",
    "sql_table_data=(3,\"habib\", 17)"
   ]
  },
  {
   "cell_type": "code",
   "execution_count": 16,
   "id": "2a032b2d-56cd-4b64-b345-5094db37f200",
   "metadata": {},
   "outputs": [],
   "source": [
    "cursor.execute(sql_table_data_qurey, sql_table_data)\n",
    "mydb.commit() # its is required but dont insert the data in table"
   ]
  },
  {
   "cell_type": "markdown",
   "id": "2fb5a1c8-5262-4e64-84c7-9fd3a6af01fb",
   "metadata": {},
   "source": [
    "### How to check data insert the table"
   ]
  },
  {
   "cell_type": "code",
   "execution_count": 7,
   "id": "b4d8cdd7-f42e-4eed-a832-133a85a5ea1a",
   "metadata": {},
   "outputs": [
    {
     "name": "stdout",
     "output_type": "stream",
     "text": [
      "(1, 'inam', 18)\n",
      "(2, 'tahir', 16)\n",
      "(3, 'habib', 17)\n",
      "(4, 'Khan', 20)\n",
      "(5, 'Kareem', 40)\n",
      "(6, 'Haron', 20)\n",
      "(7, 'Valid', 32)\n",
      "(8, 'Haseeb', 34)\n",
      "(9, 'Sammer', 20)\n"
     ]
    }
   ],
   "source": [
    "cursor.execute(\"select * from pyourse\")\n",
    "data=cursor.fetchall()\n",
    "for i in data:\n",
    "    print(i)"
   ]
  },
  {
   "cell_type": "markdown",
   "id": "ba89dd72-62c6-4a8e-9f92-6b0077f799c6",
   "metadata": {},
   "source": [
    "# Insert the Many Valuse to table "
   ]
  },
  {
   "cell_type": "code",
   "execution_count": 24,
   "id": "9c00f2bf-76d0-4c28-93cb-7377ee6b0e2c",
   "metadata": {},
   "outputs": [],
   "source": [
    "sql_table_data_qurey='insert into pyourse value (%s, %s, %s)'\n",
    "sql_table_data=[\n",
    "    (4, \"Khan\", 20),\n",
    "    (5, \"Kareem\", 40),\n",
    "    (6, \"Haron\", 20),\n",
    "    (7, \"Valid\", 32),\n",
    "    (8, \"Haseeb\", 34),\n",
    "    (9, \"Sammer\", 20),\n",
    "]"
   ]
  },
  {
   "cell_type": "code",
   "execution_count": 25,
   "id": "b91c2d3d-0efa-4556-8579-59257f4ef841",
   "metadata": {},
   "outputs": [],
   "source": [
    "cursor.executemany(sql_table_data_qurey, sql_table_data)\n",
    "mydb.commit() # its is required but dont insert the data in table"
   ]
  },
  {
   "cell_type": "code",
   "execution_count": 26,
   "id": "504ba919-bb5d-42d0-8994-79a6d135ff06",
   "metadata": {},
   "outputs": [
    {
     "name": "stdout",
     "output_type": "stream",
     "text": [
      "inam and age is 18\n",
      "tahir and age is 16\n",
      "habib and age is 17\n",
      "Khan and age is 20\n",
      "Kareem and age is 40\n",
      "Haron and age is 20\n",
      "Valid and age is 32\n",
      "Haseeb and age is 34\n",
      "Sammer and age is 20\n"
     ]
    }
   ],
   "source": [
    "cursor.execute(\"select * from pyourse\")\n",
    "data=cursor.fetchall()\n",
    "for i in data:\n",
    "    print(i[1] , \"and age is\", i[2] )"
   ]
  },
  {
   "cell_type": "markdown",
   "id": "c1be062a-990a-464c-8ce6-4bed57737d9c",
   "metadata": {},
   "source": [
    "# Write a Condition to data"
   ]
  },
  {
   "cell_type": "code",
   "execution_count": 28,
   "id": "67160650-3445-496d-8cf4-2f48e2b76b3d",
   "metadata": {},
   "outputs": [
    {
     "name": "stdout",
     "output_type": "stream",
     "text": [
      "Kareem and age is 40\n",
      "Valid and age is 32\n",
      "Haseeb and age is 34\n"
     ]
    }
   ],
   "source": [
    "sql_cond_query=\"select name, age from pyourse where age > 20\"\n",
    "cursor.execute(sql_cond_query)\n",
    "cond_data=cursor.fetchall()\n",
    "for i in cond_data:\n",
    "    print(i[0] , \"and age is\", i[1] )"
   ]
  },
  {
   "cell_type": "markdown",
   "id": "bfea0482-2f48-49ba-b63b-ae2a76ee2a8d",
   "metadata": {},
   "source": [
    "# Update the sql table data"
   ]
  },
  {
   "cell_type": "code",
   "execution_count": 13,
   "id": "72b1d2b2-c97c-47b6-a376-8a034b86bc68",
   "metadata": {},
   "outputs": [],
   "source": [
    "sql_update_table_data_query=\"update pyourse set name='muhammad' where name = 'inam'\"\n",
    "cursor.execute(sql_update_table_data_query)\n",
    "mydb.commit()\n",
    "# print(update_data)"
   ]
  },
  {
   "cell_type": "markdown",
   "id": "144c0bc5-3fd5-43d1-a873-f9ba4e436c2b",
   "metadata": {},
   "source": [
    "cursor.execute(\"select * from pyourse\")\n",
    "data=cursor.fetchall()\n",
    "for i in data:\n",
    "    print(i[1] , \"and age is\", i[2] )"
   ]
  },
  {
   "cell_type": "markdown",
   "id": "edc203f0-f442-475d-b75a-a1ecbfb4f22c",
   "metadata": {},
   "source": [
    "# Delete to table "
   ]
  },
  {
   "cell_type": "code",
   "execution_count": null,
   "id": "c167459b-1ae0-4741-a3ef-b7af8297baf6",
   "metadata": {},
   "outputs": [],
   "source": [
    "sql_delete_queryy='DELETE '"
   ]
  }
 ],
 "metadata": {
  "kernelspec": {
   "display_name": "Python 3 (ipykernel)",
   "language": "python",
   "name": "python3"
  },
  "language_info": {
   "codemirror_mode": {
    "name": "ipython",
    "version": 3
   },
   "file_extension": ".py",
   "mimetype": "text/x-python",
   "name": "python",
   "nbconvert_exporter": "python",
   "pygments_lexer": "ipython3",
   "version": "3.12.8"
  }
 },
 "nbformat": 4,
 "nbformat_minor": 5
}
