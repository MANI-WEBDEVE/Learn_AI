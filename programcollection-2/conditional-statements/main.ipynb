{
 "cells": [
  {
   "cell_type": "markdown",
   "metadata": {},
   "source": [
    "## Conditional Statement in Python"
   ]
  },
  {
   "cell_type": "code",
   "execution_count": 1,
   "metadata": {},
   "outputs": [
    {
     "name": "stdout",
     "output_type": "stream",
     "text": [
      "30\n",
      "-10\n",
      "200\n",
      "0.5\n",
      "False\n",
      "True\n",
      "False\n",
      "True\n",
      "False\n",
      "True\n"
     ]
    }
   ],
   "source": [
    "val_1 = 10\n",
    "val_2 = 20;\n",
    "\n",
    "print(val_1 + val_2)\n",
    "print(val_1 - val_2)\n",
    "print(val_1 * val_2)\n",
    "print(val_1 / val_2)\n",
    "\n",
    "# comparison Operators\n",
    "print(val_1 == val_2)\n",
    "print(val_1 != val_2)\n",
    "print(val_1 > val_2)\n",
    "print(val_1 < val_2)\n",
    "print(val_1 >= val_2)\n",
    "print(val_1 <= val_2)\n"
   ]
  },
  {
   "cell_type": "markdown",
   "metadata": {},
   "source": [
    "![ASCII Table](https://upload.wikimedia.org/wikipedia/commons/thumb/d/dd/ASCII-Table.svg/1920px-ASCII-Table.svg.png)"
   ]
  },
  {
   "cell_type": "code",
   "execution_count": 15,
   "metadata": {},
   "outputs": [
    {
     "name": "stdout",
     "output_type": "stream",
     "text": [
      "False\n",
      "True\n",
      "False\n",
      "True\n",
      "False\n",
      "True\n",
      "97\n",
      "65\n",
      "0b1010\n",
      "b'\\x00\\x00\\x00'\n",
      "A\n"
     ]
    }
   ],
   "source": [
    "# What its work comparison operators with string\n",
    "str_1 = \"Hello\"\n",
    "str_2 = \"world\"\n",
    "\n",
    "print(str_1 == str_2)\n",
    "print(str_1 != str_2)\n",
    "print(str_1 > str_2)\n",
    "print(str_1 < str_2)\n",
    "print(str_1 >= str_2)\n",
    "print(str_1 <= str_2)\n",
    "\n",
    "# How to not equal a == A Because of ASCII value a= 97 and A=65\n",
    "print(ord(\"a\")) # ord() function is used to get the ASCII value of a character\n",
    "print(ord(\"A\"))\n",
    "print(bin(10)) # bin() function is used to convert decimal to binary\n",
    "print(bytes(3)) # bytes() function is used to check the size of the object\n",
    "print(chr(65)) # chr() function is used to convert ASCII value to character\n"
   ]
  },
  {
   "cell_type": "markdown",
   "metadata": {},
   "source": [
    "## Comditional Statement \n",
    "##### If-else statements are used to make decisions in Python:\n",
    "##### - If a condition is True, one block of code runs\n",
    "##### - If the condition is False, another block runs\n"
   ]
  },
  {
   "cell_type": "code",
   "execution_count": 2,
   "metadata": {},
   "outputs": [
    {
     "name": "stdout",
     "output_type": "stream",
     "text": [
      "20 is greater than 10\n"
     ]
    }
   ],
   "source": [
    "var_1 = 10\n",
    "var_2  = 20\n",
    "if(var_1 > var_2):\n",
    "    print(f\"{var_1} is greater than {var_2}\")\n",
    "else:\n",
    "    print(f\"{var_2} is greater than {var_1}\")"
   ]
  },
  {
   "cell_type": "code",
   "execution_count": 3,
   "metadata": {},
   "outputs": [
    {
     "name": "stdout",
     "output_type": "stream",
     "text": [
      "B\n"
     ]
    }
   ],
   "source": [
    "marks = int(input(\"Enter Your Marks\"))\n",
    "\n",
    "if(marks >= 80):\n",
    "    print(\"A+\")\n",
    "elif(marks >= 70 and marks < 80):\n",
    "    print(\"A\")\n",
    "elif(marks >= 60 and marks < 70):\n",
    "    print(\"B\")\n",
    "elif(marks >= 50 and marks < 60):\n",
    "    print(\"C\")\n",
    "else:\n",
    "    print(\"Fail\")"
   ]
  },
  {
   "cell_type": "code",
   "execution_count": 16,
   "metadata": {},
   "outputs": [
    {
     "name": "stdout",
     "output_type": "stream",
     "text": [
      "Its a costly product\n",
      "Its a  costly product but buy easily\n"
     ]
    }
   ],
   "source": [
    "# nested List \n",
    "price = int(input(\"Enter Your Price\"))\n",
    "\n",
    "if(price >= 1000):\n",
    "    print(\"Its a costly product\")\n",
    "    if(price < 2000):\n",
    "        print(\"Its a very costly product\")\n",
    "    elif(price <= 3500):\n",
    "        print(\"Its a  costly product but buy easily\")\n",
    "    elif(price <= 5000):\n",
    "        print(\"I`m not able to buy this product\")\n",
    "else:\n",
    "    print(\"Its a cheap product ans buy easily\")"
   ]
  }
 ],
 "metadata": {
  "kernelspec": {
   "display_name": "Python 3",
   "language": "python",
   "name": "python3"
  },
  "language_info": {
   "codemirror_mode": {
    "name": "ipython",
    "version": 3
   },
   "file_extension": ".py",
   "mimetype": "text/x-python",
   "name": "python",
   "nbconvert_exporter": "python",
   "pygments_lexer": "ipython3",
   "version": "3.12.8"
  }
 },
 "nbformat": 4,
 "nbformat_minor": 2
}
