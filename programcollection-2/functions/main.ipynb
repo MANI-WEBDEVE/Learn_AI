{
 "cells": [
  {
   "cell_type": "markdown",
   "metadata": {},
   "source": [
    "\n",
    "### Definition of a Function in Python\n",
    "\n",
    "A function in Python is a block of reusable code that performs a specific task. It can take inputs, process them, and return an output. Functions help to make the code more organized, modular, and easier to understand.\n",
    "\n",
    "### Function ki Definition Minglish Mein\n",
    "\n",
    "Function Python mein ek block hota hai jo specific task perform karta hai. Ye inputs le sakta hai, unko process kar sakta hai, aur ek output return kar sakta hai. Functions code ko zyada organized, modular, aur samajhne mein asaan banate hain.\n"
   ]
  },
  {
   "cell_type": "code",
   "execution_count": 1,
   "metadata": {},
   "outputs": [
    {
     "name": "stdout",
     "output_type": "stream",
     "text": [
      "4\n"
     ]
    }
   ],
   "source": [
    "def square(n):\n",
    "    return n * n\n",
    "\n",
    "squared = square(2)\n",
    "print(squared)"
   ]
  },
  {
   "cell_type": "code",
   "execution_count": 6,
   "metadata": {},
   "outputs": [
    {
     "name": "stdout",
     "output_type": "stream",
     "text": [
      "2.23606797749979\n"
     ]
    }
   ],
   "source": [
    "def root(n):\n",
    "    return n ** 0.5\n",
    "\n",
    "rooted = root(5)\n",
    "print(rooted)"
   ]
  },
  {
   "cell_type": "code",
   "execution_count": 11,
   "metadata": {},
   "outputs": [
    {
     "name": "stdout",
     "output_type": "stream",
     "text": [
      "odd number 9\n"
     ]
    }
   ],
   "source": [
    "def even_odd(n):\n",
    "    if n % 2 == 0:\n",
    "        print(f\"even number {n}\")\n",
    "    else:\n",
    "        print(f\"odd number {n}\")\n",
    "\n",
    "even_odd(9)"
   ]
  },
  {
   "cell_type": "code",
   "execution_count": 16,
   "metadata": {},
   "outputs": [
    {
     "name": "stdout",
     "output_type": "stream",
     "text": [
      " add function add the two number \n",
      "min(iterable, *[, default=obj, key=func]) -> value\n",
      "min(arg1, arg2, *args, *[, key=func]) -> value\n",
      "\n",
      "With a single iterable argument, return its smallest item. The\n",
      "default keyword-only argument specifies an object to return if\n",
      "the provided iterable is empty.\n",
      "With two or more arguments, return the smallest argument.\n"
     ]
    },
    {
     "data": {
      "text/plain": [
       "[1, 2, 3, 4, 5, 6]"
      ]
     },
     "execution_count": 16,
     "metadata": {},
     "output_type": "execute_result"
    }
   ],
   "source": [
    "# doc string in functions doc string means what work function\n",
    "\n",
    "def add(a,b):\n",
    "    \"\"\" add function add the two number \"\"\" # --> docString\n",
    "    return a+b\n",
    "add(2,2)\n",
    "# how to access the docstring\n",
    "print(add.__doc__)\n",
    "print(min.__doc__)\n",
    "\n",
    "add(\"Muhammad \", \"Inam\")\n",
    "add([1,2,3],[4,5,6])"
   ]
  },
  {
   "cell_type": "markdown",
   "metadata": {},
   "source": [
    "### Global and Local Variable\n",
    "\n",
    "A global variable is a variable that is defined outside of any function and is accessible throughout the entire program. It can be accessed and modified by any function within the program.\n",
    "\n",
    "A local variable is a variable that is defined within a function and is only accessible within that function. It cannot be accessed or modified outside of the function in which it is defined."
   ]
  },
  {
   "cell_type": "code",
   "execution_count": 18,
   "metadata": {},
   "outputs": [
    {
     "name": "stdout",
     "output_type": "stream",
     "text": [
      "Local variable y: 5\n",
      "Global variable x: 10\n",
      "Global variable x outside function: 10\n"
     ]
    }
   ],
   "source": [
    "# Global variable\n",
    "x = 10\n",
    "\n",
    "def example_function():\n",
    "    # Local variable\n",
    "    y = 5\n",
    "    print(f\"Local variable y: {y}\")\n",
    "    print(f\"Global variable x: {x}\")\n",
    "\n",
    "example_function()\n",
    "\n",
    "# Accessing global variable outside the function\n",
    "print(f\"Global variable x outside function: {x}\")\n",
    "\n",
    "# Trying to access local variable outside the function will cause an error\n",
    "# print(y)  # Uncommenting this line will raise a NameError"
   ]
  },
  {
   "cell_type": "code",
   "execution_count": 22,
   "metadata": {},
   "outputs": [
    {
     "data": {
      "text/plain": [
       "[1,\n",
       " 2,\n",
       " 3,\n",
       " 4,\n",
       " 5,\n",
       " 6,\n",
       " 7,\n",
       " 5,\n",
       " 5,\n",
       " 4,\n",
       " 4,\n",
       " 3,\n",
       " 4545.78,\n",
       " 90,\n",
       " 89,\n",
       " 78,\n",
       " 67,\n",
       " 56,\n",
       " 45,\n",
       " 34,\n",
       " 23,\n",
       " 12]"
      ]
     },
     "execution_count": 22,
     "metadata": {},
     "output_type": "execute_result"
    }
   ],
   "source": [
    "l_1=[1,2,3,4,5,6,7,5,5,4,4,3,4545.78,\"awas\",\"ml\",\"dl\",'agents',[90,89,78,67,56,45,34,23,12]]\n",
    "\n",
    "l_2=[]\n",
    "\n",
    "\n",
    "def sperate_num(n):\n",
    "    for i in n:\n",
    "        if type(i) == int or type(i) == float:\n",
    "            l_2.append(i)\n",
    "        elif type(i) == list:\n",
    "            # l_2.extend(i)\n",
    "            for j in i:\n",
    "                l_2.append(j)\n",
    "    return l_2\n",
    "\n",
    "sperate_num(l_1)\n",
    "\n"
   ]
  },
  {
   "cell_type": "code",
   "execution_count": 24,
   "metadata": {},
   "outputs": [
    {
     "data": {
      "text/plain": [
       "6"
      ]
     },
     "execution_count": 24,
     "metadata": {},
     "output_type": "execute_result"
    }
   ],
   "source": [
    "# how to pass multiple argument in function\n",
    "def add_tuple(*args):\n",
    "    result = 0\n",
    "    for i in args:\n",
    "        result = i+i\n",
    "       \n",
    "    return result\n",
    "\n",
    "add_tuple(1,2,3)"
   ]
  },
  {
   "cell_type": "code",
   "execution_count": 37,
   "metadata": {},
   "outputs": [
    {
     "name": "stdout",
     "output_type": "stream",
     "text": [
      "(1, 2, 1, 'Inam', ['opppo', 'ml', 90]) Muhammaed\n",
      "(90, 90, 90) 90\n"
     ]
    },
    {
     "data": {
      "text/plain": [
       "NoneType"
      ]
     },
     "execution_count": 37,
     "metadata": {},
     "output_type": "execute_result"
    }
   ],
   "source": [
    "def more_exam_1(*parameter, a):\n",
    "    print(parameter, a)\n",
    "\n",
    "more_exam_1(1,2,1,\"Inam\",['opppo','ml',90], a=\"Muhammaed\")\n",
    "type(more_exam_1(90,90,90, a=90))"
   ]
  },
  {
   "cell_type": "code",
   "execution_count": 33,
   "metadata": {},
   "outputs": [
    {
     "name": "stdout",
     "output_type": "stream",
     "text": [
      "mani ('Muhammad',) 18 AI-eng\n"
     ]
    }
   ],
   "source": [
    "def more_exam_2(*fullname, nike=\"mani\", rule=\"AI-eng\", age=18):\n",
    "    print(nike,fullname, age, rule)\n",
    "more_exam_2(\"Muhammad\")"
   ]
  },
  {
   "cell_type": "code",
   "execution_count": 40,
   "metadata": {},
   "outputs": [
    {
     "name": "stdout",
     "output_type": "stream",
     "text": [
      "{'a': [1, 2, 3], 'b': ['ml', 'dl', 'nlp'], 'c': 'Inam', 'd': 'AI'}\n",
      "{}\n"
     ]
    },
    {
     "data": {
      "text/plain": [
       "NoneType"
      ]
     },
     "execution_count": 40,
     "metadata": {},
     "output_type": "execute_result"
    }
   ],
   "source": [
    "def more_exam_3(**para):\n",
    "    print(para)\n",
    "more_exam_3(a=[1,2,3], b=[\"ml\", \"dl\", \"nlp\"], c=\"Inam\", d=\"AI\")\n",
    "type(more_exam_3())"
   ]
  }
 ],
 "metadata": {
  "kernelspec": {
   "display_name": "Python 3",
   "language": "python",
   "name": "python3"
  },
  "language_info": {
   "codemirror_mode": {
    "name": "ipython",
    "version": 3
   },
   "file_extension": ".py",
   "mimetype": "text/x-python",
   "name": "python",
   "nbconvert_exporter": "python",
   "pygments_lexer": "ipython3",
   "version": "3.12.8"
  }
 },
 "nbformat": 4,
 "nbformat_minor": 2
}
