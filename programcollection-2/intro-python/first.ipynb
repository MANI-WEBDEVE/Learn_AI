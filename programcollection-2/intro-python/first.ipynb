{
 "cells": [
  {
   "cell_type": "markdown",
   "metadata": {},
   "source": [
    "## Introduction to Python\n",
    " python is a popular programming language , It was Guido van Rossum in 1991 \n",
    "# what is use case of python\n",
    "1. Web development\n",
    "2. Machine learning\n",
    "3. Data analysis\n",
    "4. Desktop application\n",
    "5. Game development\n"
   ]
  },
  {
   "cell_type": "code",
   "execution_count": null,
   "metadata": {},
   "outputs": [],
   "source": [
    "print(\"start python\")"
   ]
  },
  {
   "cell_type": "markdown",
   "metadata": {},
   "source": [
    "## Variables and Data Types in Python"
   ]
  },
  {
   "cell_type": "code",
   "execution_count": 2,
   "metadata": {},
   "outputs": [
    {
     "name": "stdout",
     "output_type": "stream",
     "text": [
      "Python is a most simple programming language\n"
     ]
    }
   ],
   "source": [
    "a= \"Python is a most simple programming language\"\n",
    "print(a)    "
   ]
  },
  {
   "cell_type": "code",
   "execution_count": 5,
   "metadata": {},
   "outputs": [
    {
     "name": "stdout",
     "output_type": "stream",
     "text": [
      "34\n",
      "harry\n"
     ]
    }
   ],
   "source": [
    "b= 34;\n",
    "print(b);\n",
    "c= \"harry\";\n",
    "print(c);"
   ]
  },
  {
   "cell_type": "code",
   "execution_count": 6,
   "metadata": {},
   "outputs": [
    {
     "name": "stdout",
     "output_type": "stream",
     "text": [
      "3.4\n",
      "115.6\n"
     ]
    }
   ],
   "source": [
    "#float number\n",
    "d= 3.4;\n",
    "print(d);\n",
    "#integer\n",
    "e= 34;\n",
    "print(e * d);\n"
   ]
  },
  {
   "cell_type": "markdown",
   "metadata": {},
   "source": [
    "## Type function in python \n",
    "to find the data type any variable"
   ]
  },
  {
   "cell_type": "code",
   "execution_count": 7,
   "metadata": {},
   "outputs": [
    {
     "name": "stdout",
     "output_type": "stream",
     "text": [
      "<class 'int'>\n",
      "<class 'float'>\n",
      "<class 'str'>\n",
      "<class 'bool'>\n"
     ]
    }
   ],
   "source": [
    "num = 10;\n",
    "floating = 10.234;\n",
    "variable = \"Muhammad Inam\";\n",
    "boolean = 5 < 10;\n",
    "print(type(num));\n",
    "print(type(floating));\n",
    "print(type(variable));\n",
    "print(type(boolean));\n"
   ]
  },
  {
   "cell_type": "markdown",
   "metadata": {},
   "source": [
    "## Comments and multiline comment in Python"
   ]
  },
  {
   "cell_type": "code",
   "execution_count": 9,
   "metadata": {},
   "outputs": [
    {
     "name": "stdout",
     "output_type": "stream",
     "text": [
      "comment and multiline commit\n"
     ]
    }
   ],
   "source": [
    "# you add the hash symbol start the line this line not read the compiler\n",
    "\"\"\"\n",
    "this is multi line comment \n",
    "this is use the large defination to understande and developer\n",
    "\"\"\"\n",
    "\n",
    "print(\"comment and multiline commit\")"
   ]
  }
 ],
 "metadata": {
  "kernelspec": {
   "display_name": "Python 3",
   "language": "python",
   "name": "python3"
  },
  "language_info": {
   "codemirror_mode": {
    "name": "ipython",
    "version": 3
   },
   "file_extension": ".py",
   "mimetype": "text/x-python",
   "name": "python",
   "nbconvert_exporter": "python",
   "pygments_lexer": "ipython3",
   "version": "3.12.8"
  }
 },
 "nbformat": 4,
 "nbformat_minor": 2
}
