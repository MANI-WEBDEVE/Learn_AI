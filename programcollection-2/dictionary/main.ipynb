{
 "cells": [
  {
   "cell_type": "markdown",
   "metadata": {},
   "source": [
    "## Dictonaries In Python\n",
    "1. Dictonaries are used to store the data key and values\n",
    "2. A dictonary is a collection which is ordered, changable and mutable and do not allow duplicate\n",
    "3. Dictonaries items are presented key and value pair and can be reffered to by using key name\n",
    "4. Dictionaries cannot have two items with the same key\n",
    "5. A dictionary can nested and can contain another dictionary"
   ]
  },
  {
   "cell_type": "code",
   "execution_count": null,
   "metadata": {},
   "outputs": [],
   "source": [
    "dict_1={ # dictionary is a collection of key value pairs\n",
    "    \"name\":\"Muhammad\",\n",
    "    \"age\":19,\n",
    "    \"True\":True,\n",
    "    \"hobbies\":[\"football\",\"basketball\",\"tennis\"]\n",
    "}\n"
   ]
  },
  {
   "cell_type": "code",
   "execution_count": 2,
   "metadata": {},
   "outputs": [
    {
     "data": {
      "text/plain": [
       "200"
      ]
     },
     "execution_count": 2,
     "metadata": {},
     "output_type": "execute_result"
    }
   ],
   "source": [
    "dict_2 = {\n",
    "    \"name\": \"John\",\n",
    "    \"age\": 30,\n",
    "    \"city\": \"New York\",\n",
    "    \"email\": \"john@example.com\",\n",
    "    \"phone\": \"+00000000000000\",\n",
    "    \"socialMedia\": {\n",
    "        \"facebook\": \"https://www.facebook.com/john\",\n",
    "        \"instagram\": \"https://www.instagram.com/john\",\n",
    "        \"twitter\": \"https://www.twitter.com/john\",\n",
    "        \"followerse\": (100,200,300)\n",
    "    },\n",
    "    \"links\": [\"company1.com\",\"company2.com\"]\n",
    "}\n",
    "\n",
    "# indexing in nested dictionary\n",
    "dict_2[\"socialMedia\"][\"followerse\"][1] # 200"
   ]
  },
  {
   "cell_type": "markdown",
   "metadata": {},
   "source": [
    "### dict Function in dictionary data type"
   ]
  },
  {
   "cell_type": "code",
   "execution_count": 26,
   "metadata": {},
   "outputs": [
    {
     "name": "stdout",
     "output_type": "stream",
     "text": [
      "dict_keys(['name', 'age', 'hobbies'])\n"
     ]
    }
   ],
   "source": [
    "dict_1 = {\n",
    "    \"name\": \"Muhammad\",\n",
    "    \"age\": 19,\n",
    "    \"hobbies\": [\"football\", \"basketball\", \"tennis\"]\n",
    "}\n",
    "\n",
    "# key method\n",
    "dict_2 = dict_1.keys()\n",
    "print(dict_2)"
   ]
  },
  {
   "cell_type": "code",
   "execution_count": 3,
   "metadata": {},
   "outputs": [
    {
     "name": "stdout",
     "output_type": "stream",
     "text": [
      "<class 'list'>\n",
      "['name', 'age', 'hobbies']\n"
     ]
    }
   ],
   "source": [
    "dict_3 = list(dict_2)\n",
    "print(type(dict_3))\n",
    "print(dict_3)"
   ]
  },
  {
   "cell_type": "code",
   "execution_count": 4,
   "metadata": {},
   "outputs": [
    {
     "name": "stdout",
     "output_type": "stream",
     "text": [
      "dict_values(['Muhammad', 19, ['football', 'basketball', 'tennis']])\n"
     ]
    }
   ],
   "source": [
    "dict_3 = dict_1.values()\n",
    "print(dict_3)"
   ]
  },
  {
   "cell_type": "code",
   "execution_count": 5,
   "metadata": {},
   "outputs": [
    {
     "name": "stdout",
     "output_type": "stream",
     "text": [
      "[('name', 'Muhammad'), ('age', 19), ('hobbies', ['football', 'basketball', 'tennis'])]\n"
     ]
    }
   ],
   "source": [
    "dict_4 = dict_1.items()\n",
    "dict_list1 = list(dict_4)\n",
    "print(dict_list1)"
   ]
  },
  {
   "cell_type": "code",
   "execution_count": 9,
   "metadata": {},
   "outputs": [
    {
     "name": "stdout",
     "output_type": "stream",
     "text": [
      "{'name': 'Muhammad', 'age': 19, 'hobbies': ['football', 'basketball', 'tennis'], 'social': ('facebook', 'instagram', 'twitter')}\n"
     ]
    }
   ],
   "source": [
    "dict_1[\"social\"] = \"facebook\",\"instagram\",\"twitter\"\n",
    "print(dict_1)"
   ]
  },
  {
   "cell_type": "code",
   "execution_count": 10,
   "metadata": {},
   "outputs": [
    {
     "data": {
      "text/plain": [
       "['football', 'basketball', 'tennis']"
      ]
     },
     "execution_count": 10,
     "metadata": {},
     "output_type": "execute_result"
    }
   ],
   "source": [
    "dict_1.pop(\"hobbies\")"
   ]
  },
  {
   "cell_type": "code",
   "execution_count": 11,
   "metadata": {},
   "outputs": [
    {
     "data": {
      "text/plain": [
       "{'name': 'Muhammad', 'age': 19, 'social': ('facebook', 'instagram', 'twitter')}"
      ]
     },
     "execution_count": 11,
     "metadata": {},
     "output_type": "execute_result"
    }
   ],
   "source": [
    "dict_1\n"
   ]
  },
  {
   "cell_type": "code",
   "execution_count": null,
   "metadata": {},
   "outputs": [],
   "source": [
    "dict_1.get(\"name\") # get the value of the key\n",
    "dict_1.popitem() # remove the last item\n"
   ]
  },
  {
   "cell_type": "code",
   "execution_count": 24,
   "metadata": {},
   "outputs": [],
   "source": [
    "dict_1.clear() # clear the dictionary"
   ]
  },
  {
   "cell_type": "code",
   "execution_count": 31,
   "metadata": {},
   "outputs": [
    {
     "data": {
      "text/plain": [
       "{'n': 'age', 'a': 'age', 'm': 'age', 'e': 'age'}"
      ]
     },
     "execution_count": 31,
     "metadata": {},
     "output_type": "execute_result"
    }
   ],
   "source": [
    "dict_1.fromkeys(\"name\",\"age\") # create a dictionary with the specified keys and values"
   ]
  },
  {
   "cell_type": "code",
   "execution_count": null,
   "metadata": {},
   "outputs": [],
   "source": []
  }
 ],
 "metadata": {
  "kernelspec": {
   "display_name": "Python 3",
   "language": "python",
   "name": "python3"
  },
  "language_info": {
   "codemirror_mode": {
    "name": "ipython",
    "version": 3
   },
   "file_extension": ".py",
   "mimetype": "text/x-python",
   "name": "python",
   "nbconvert_exporter": "python",
   "pygments_lexer": "ipython3",
   "version": "3.12.8"
  }
 },
 "nbformat": 4,
 "nbformat_minor": 2
}
