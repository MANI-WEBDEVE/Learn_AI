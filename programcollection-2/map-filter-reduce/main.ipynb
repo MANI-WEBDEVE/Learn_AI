{
 "cells": [
  {
   "cell_type": "markdown",
   "metadata": {},
   "source": [
    "### Map, Filter, aur Reduce ke Definitions\n",
    "\n",
    "**Map:** Map function ek iterable (jaise list) ke har element par ek function apply karta hai aur ek naya iterable return karta hai jisme sabhi elements par function apply ho chuka hota hai.\n",
    "\n",
    "**Filter:** Filter function ek iterable ke elements ko filter karta hai based on ek condition jo ek function ke through define hoti hai. Ye function true ya false return karta hai aur sirf wahi elements return karta hai jo condition ko satisfy karte hain.\n",
    "\n",
    "**Reduce:** Reduce function ek iterable ke elements ko combine karta hai ek single value mein using ek function jo do elements ko combine karta hai. Ye function cumulative result ko return karta hai."
   ]
  },
  {
   "cell_type": "code",
   "execution_count": 11,
   "metadata": {},
   "outputs": [
    {
     "name": "stdout",
     "output_type": "stream",
     "text": [
      "[1, 8, 216, 64, 125, 27]\n"
     ]
    },
    {
     "ename": "TypeError",
     "evalue": "'int' object is not callable",
     "output_type": "error",
     "traceback": [
      "\u001b[1;31m---------------------------------------------------------------------------\u001b[0m",
      "\u001b[1;31mTypeError\u001b[0m                                 Traceback (most recent call last)",
      "Cell \u001b[1;32mIn[11], line 12\u001b[0m\n\u001b[0;32m      9\u001b[0m \u001b[38;5;28mprint\u001b[39m(newlist)\n\u001b[0;32m     10\u001b[0m \u001b[38;5;66;03m#ya jo uppper kam kara ha kitna haritate ha\u001b[39;00m\n\u001b[0;32m     11\u001b[0m \u001b[38;5;66;03m#is liya hum python ka inbuild function ka istamal karta ha\u001b[39;00m\n\u001b[1;32m---> 12\u001b[0m \u001b[38;5;28mprint\u001b[39m(\u001b[38;5;28;43mlist\u001b[39;49m\u001b[43m(\u001b[49m\u001b[38;5;28;43mmap\u001b[39;49m\u001b[43m(\u001b[49m\u001b[38;5;28;43;01mlambda\u001b[39;49;00m\u001b[43m \u001b[49m\u001b[43mx\u001b[49m\u001b[43m:\u001b[49m\u001b[43m \u001b[49m\u001b[43mx\u001b[49m\u001b[43m \u001b[49m\u001b[38;5;241;43m*\u001b[39;49m\u001b[43m \u001b[49m\u001b[43mx\u001b[49m\u001b[43m \u001b[49m\u001b[38;5;241;43m*\u001b[39;49m\u001b[43m \u001b[49m\u001b[43mx\u001b[49m\u001b[43m,\u001b[49m\u001b[43m \u001b[49m\u001b[43mnumbers\u001b[49m\u001b[43m)\u001b[49m\u001b[43m)\u001b[49m)\n",
      "\u001b[1;31mTypeError\u001b[0m: 'int' object is not callable"
     ]
    }
   ],
   "source": [
    "#MAP\n",
    "#map filter apply karna sa phle khuch example dekhel lata ha\n",
    "numbers = [1, 2, 6, 4, 5, 3]\n",
    "def cube(x):\n",
    "    return x * x * x\n",
    "newlist = []\n",
    "for item in numbers:\n",
    "    newlist.append(cube(item))\n",
    "print(newlist)\n",
    "#ya jo uppper kam kara ha kitna haritate ha\n",
    "#is liya hum python ka inbuild function ka istamal karta ha\n",
    "print(list(map(lambda x: x * x * x, numbers)))\n"
   ]
  }
 ],
 "metadata": {
  "kernelspec": {
   "display_name": "Python 3",
   "language": "python",
   "name": "python3"
  },
  "language_info": {
   "codemirror_mode": {
    "name": "ipython",
    "version": 3
   },
   "file_extension": ".py",
   "mimetype": "text/x-python",
   "name": "python",
   "nbconvert_exporter": "python",
   "pygments_lexer": "ipython3",
   "version": "3.12.8"
  }
 },
 "nbformat": 4,
 "nbformat_minor": 2
}
