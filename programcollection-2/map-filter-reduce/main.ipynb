{
 "cells": [
  {
   "cell_type": "markdown",
   "metadata": {},
   "source": [
    "### Map, Filter, aur Reduce ke Definitions\n",
    "\n",
    "**Map:** Map function ek iterable (jaise list) ke har element par ek function apply karta hai aur ek naya iterable return karta hai jisme sabhi elements par function apply ho chuka hota hai.\n",
    "\n",
    "**Filter:** Filter function ek iterable ke elements ko filter karta hai based on ek condition jo ek function ke through define hoti hai. Ye function true ya false return karta hai aur sirf wahi elements return karta hai jo condition ko satisfy karte hain.\n",
    "\n",
    "**Reduce:** Reduce function ek iterable ke elements ko combine karta hai ek single value mein using ek function jo do elements ko combine karta hai. Ye function cumulative result ko return karta hai."
   ]
  },
  {
   "cell_type": "code",
   "execution_count": null,
   "metadata": {},
   "outputs": [
    {
     "name": "stdout",
     "output_type": "stream",
     "text": [
      "[1, 8, 216, 64, 125, 27]\n"
     ]
    }
   ],
   "source": [
    "#MAP\n",
    "#map filter apply karna sa phle khuch example dekhel lata ha\n",
    "numbers = [1, 2, 6, 4, 5, 3]\n",
    "def cube(x):\n",
    "    return x * x * x\n",
    "newlist = []\n",
    "for item in numbers:\n",
    "    newlist.append(cube(item))\n",
    "print(newlist)\n",
    "#ya jo uppper kam kara ha kitna haritate ha\n",
    "#is liya hum python ka inbuild function ka istamal karta ha\n",
    "\n"
   ]
  },
  {
   "cell_type": "code",
   "execution_count": 4,
   "metadata": {},
   "outputs": [
    {
     "data": {
      "text/plain": [
       "[11, 22, 33]"
      ]
     },
     "execution_count": 4,
     "metadata": {},
     "output_type": "execute_result"
    }
   ],
   "source": [
    "l_1 = [1, 2, 3]\n",
    "l_2 = [10, 20, 30]\n",
    "list(map(lambda x, y: x+y, l_1, l_2))"
   ]
  },
  {
   "cell_type": "code",
   "execution_count": 5,
   "metadata": {},
   "outputs": [
    {
     "data": {
      "text/plain": [
       "[11, 22, 33]"
      ]
     },
     "execution_count": 5,
     "metadata": {},
     "output_type": "execute_result"
    }
   ],
   "source": [
    "def add(x,y):\n",
    "    return x+y\n",
    "l_1 = [1, 2, 3]\n",
    "l_2 = [10, 20, 30]\n",
    "list(map(add, l_1, l_2))"
   ]
  },
  {
   "cell_type": "code",
   "execution_count": 10,
   "metadata": {},
   "outputs": [
    {
     "data": {
      "text/plain": [
       "['M', 'U', 'H', 'A', 'M', 'M', 'A', 'D', ' ', 'I', 'N', 'A', 'M']"
      ]
     },
     "execution_count": 10,
     "metadata": {},
     "output_type": "execute_result"
    }
   ],
   "source": [
    "name=\"Muhammad Inam\"\n",
    "list(map(lambda st: st.upper(), name))"
   ]
  },
  {
   "cell_type": "code",
   "execution_count": 12,
   "metadata": {},
   "outputs": [
    {
     "name": "stdout",
     "output_type": "stream",
     "text": [
      "17\n",
      "180\n",
      "1\n"
     ]
    }
   ],
   "source": [
    "#reduce function\n",
    "from functools import reduce\n",
    "\n",
    "l_3=[1,2,3,1,2,3,5]\n",
    "\n",
    "print(reduce(lambda x,y: x+y, l_3))\n",
    "\n",
    "print(reduce(lambda x,y:x*y, l_3))\n",
    "\n",
    "print(reduce(lambda x,y:x/y, [1]))  \n"
   ]
  },
  {
   "cell_type": "code",
   "execution_count": 13,
   "metadata": {},
   "outputs": [
    {
     "data": {
      "text/plain": [
       "[3, 4, 5, 6, 3, 5]"
      ]
     },
     "execution_count": 13,
     "metadata": {},
     "output_type": "execute_result"
    }
   ],
   "source": [
    "#filter function\n",
    "\n",
    "l_4=[1,2,3,4,5,6,1,2,1,1,2,1,3,5]\n",
    "\n",
    "list(filter(lambda x: x != 1 and x != 2, l_4 ))"
   ]
  }
 ],
 "metadata": {
  "kernelspec": {
   "display_name": "Python 3",
   "language": "python",
   "name": "python3"
  },
  "language_info": {
   "codemirror_mode": {
    "name": "ipython",
    "version": 3
   },
   "file_extension": ".py",
   "mimetype": "text/x-python",
   "name": "python",
   "nbconvert_exporter": "python",
   "pygments_lexer": "ipython3",
   "version": "3.12.8"
  }
 },
 "nbformat": 4,
 "nbformat_minor": 2
}
