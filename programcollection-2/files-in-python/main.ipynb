{
 "cells": [
  {
   "cell_type": "markdown",
   "metadata": {},
   "source": [
    "## Files in Python"
   ]
  },
  {
   "cell_type": "code",
   "execution_count": 45,
   "metadata": {},
   "outputs": [
    {
     "data": {
      "text/plain": [
       "'e:\\\\python-code-file\\\\programcollection-2\\\\files-in-python'"
      ]
     },
     "execution_count": 45,
     "metadata": {},
     "output_type": "execute_result"
    }
   ],
   "source": [
    "pwd # print working directory"
   ]
  },
  {
   "cell_type": "code",
   "execution_count": 46,
   "metadata": {},
   "outputs": [
    {
     "name": "stdout",
     "output_type": "stream",
     "text": [
      " Volume in drive E is New Volume\n",
      " Volume Serial Number is BA90-46FD\n",
      "\n",
      " Directory of e:\\python-code-file\\programcollection-2\\files-in-python\n",
      "\n",
      "\n",
      " Directory of e:\\python-code-file\\programcollection-2\\files-in-python\n",
      "\n",
      "\n",
      " Directory of e:\\python-code-file\\programcollection-2\\files-in-python\n",
      "\n"
     ]
    },
    {
     "name": "stderr",
     "output_type": "stream",
     "text": [
      "File Not Found\n"
     ]
    }
   ],
   "source": [
    "ls # list files"
   ]
  },
  {
   "cell_type": "code",
   "execution_count": 47,
   "metadata": {},
   "outputs": [],
   "source": [
    "create_file = open(\"docs.yml\", \"w\") # create file\n",
    "data = open.__doc__"
   ]
  },
  {
   "cell_type": "code",
   "execution_count": 48,
   "metadata": {},
   "outputs": [
    {
     "data": {
      "text/plain": [
       "6006"
      ]
     },
     "execution_count": 48,
     "metadata": {},
     "output_type": "execute_result"
    }
   ],
   "source": [
    "create_file.write(data) # write to file"
   ]
  },
  {
   "cell_type": "code",
   "execution_count": 81,
   "metadata": {},
   "outputs": [],
   "source": [
    "# read_file = open('docs.yml',\"r\") # read file mod\n",
    "\n",
    "# read_file = read_file.read() # read file\n",
    "\n",
    "# print(read_file)\n",
    "create_file.close()"
   ]
  },
  {
   "cell_type": "code",
   "execution_count": 50,
   "metadata": {},
   "outputs": [],
   "source": [
    "text_add = open(\"docs.yml\", \"a\")   # open file"
   ]
  },
  {
   "cell_type": "code",
   "execution_count": 51,
   "metadata": {},
   "outputs": [
    {
     "data": {
      "text/plain": [
       "18"
      ]
     },
     "execution_count": 51,
     "metadata": {},
     "output_type": "execute_result"
    }
   ],
   "source": [
    "text_add.write(\" Powered by Python\")\n"
   ]
  },
  {
   "cell_type": "code",
   "execution_count": 52,
   "metadata": {},
   "outputs": [],
   "source": [
    "text_add.close()"
   ]
  },
  {
   "cell_type": "code",
   "execution_count": 53,
   "metadata": {},
   "outputs": [],
   "source": [
    "read_file_1=open('docs.yml', 'r')"
   ]
  },
  {
   "cell_type": "code",
   "execution_count": 54,
   "metadata": {},
   "outputs": [
    {
     "data": {
      "text/plain": [
       "'Open file and return a stream.  Raise OSError upon failure.\\n\\nfile is either a text or byte string giving the name (and the path\\nif the file isn\\'t in the current working directory) of the file to\\nbe opened or an integer file descriptor of the file to be\\nwrapped. (If a file descriptor is given, it is closed when the\\nreturned I/O object is closed, unless closefd is set to False.)\\n\\nmode is an optional string that specifies the mode in which the file\\nis opened. It defaults to \\'r\\' which means open for reading in text\\nmode.  Other common values are \\'w\\' for writing (truncating the file if\\nit already exists), \\'x\\' for creating and writing to a new file, and\\n\\'a\\' for appending (which on some Unix systems, means that all writes\\nappend to the end of the file regardless of the current seek position).\\nIn text mode, if encoding is not specified the encoding used is platform\\ndependent: locale.getencoding() is called to get the current locale encoding.\\n(For reading and writing raw bytes use binary mode and leave encoding\\nunspecified.) The available modes are:\\n\\n========= ===============================================================\\nCharacter Meaning\\n--------- ---------------------------------------------------------------\\n\\'r\\'       open for reading (default)\\n\\'w\\'       open for writing, truncating the file first\\n\\'x\\'       create a new file and open it for writing\\n\\'a\\'       open for writing, appending to the end of the file if it exists\\n\\'b\\'       binary mode\\n\\'t\\'       text mode (default)\\n\\'+\\'       open a disk file for updating (reading and writing)\\n========= ===============================================================\\n\\nThe default mode is \\'rt\\' (open for reading text). For binary random\\naccess, the mode \\'w+b\\' opens and truncates the file to 0 bytes, while\\n\\'r+b\\' opens the file without truncation. The \\'x\\' mode implies \\'w\\' and\\nraises an `FileExistsError` if the file already exists.\\n\\nPython distinguishes between files opened in binary and text modes,\\neven when the underlying operating system doesn\\'t. Files opened in\\nbinary mode (appending \\'b\\' to the mode argument) return contents as\\nbytes objects without any decoding. In text mode (the default, or when\\n\\'t\\' is appended to the mode argument), the contents of the file are\\nreturned as strings, the bytes having been first decoded using a\\nplatform-dependent encoding or using the specified encoding if given.\\n\\nbuffering is an optional integer used to set the buffering policy.\\nPass 0 to switch buffering off (only allowed in binary mode), 1 to select\\nline buffering (only usable in text mode), and an integer > 1 to indicate\\nthe size of a fixed-size chunk buffer.  When no buffering argument is\\ngiven, the default buffering policy works as follows:\\n\\n* Binary files are buffered in fixed-size chunks; the size of the buffer\\n  is chosen using a heuristic trying to determine the underlying device\\'s\\n  \"block size\" and falling back on `io.DEFAULT_BUFFER_SIZE`.\\n  On many systems, the buffer will typically be 4096 or 8192 bytes long.\\n\\n* \"Interactive\" text files (files for which isatty() returns True)\\n  use line buffering.  Other text files use the policy described above\\n  for binary files.\\n\\nencoding is the name of the encoding used to decode or encode the\\nfile. This should only be used in text mode. The default encoding is\\nplatform dependent, but any encoding supported by Python can be\\npassed.  See the codecs module for the list of supported encodings.\\n\\nerrors is an optional string that specifies how encoding errors are to\\nbe handled---this argument should not be used in binary mode. Pass\\n\\'strict\\' to raise a ValueError exception if there is an encoding error\\n(the default of None has the same effect), or pass \\'ignore\\' to ignore\\nerrors. (Note that ignoring encoding errors can lead to data loss.)\\nSee the documentation for codecs.register or run \\'help(codecs.Codec)\\'\\nfor a list of the permitted encoding error strings.\\n\\nnewline controls how universal newlines works (it only applies to text\\nmode). It can be None, \\'\\', \\'\\\\n\\', \\'\\\\r\\', and \\'\\\\r\\\\n\\'.  It works as\\nfollows:\\n\\n* On input, if newline is None, universal newlines mode is\\n  enabled. Lines in the input can end in \\'\\\\n\\', \\'\\\\r\\', or \\'\\\\r\\\\n\\', and\\n  these are translated into \\'\\\\n\\' before being returned to the\\n  caller. If it is \\'\\', universal newline mode is enabled, but line\\n  endings are returned to the caller untranslated. If it has any of\\n  the other legal values, input lines are only terminated by the given\\n  string, and the line ending is returned to the caller untranslated.\\n\\n* On output, if newline is None, any \\'\\\\n\\' characters written are\\n  translated to the system default line separator, os.linesep. If\\n  newline is \\'\\' or \\'\\\\n\\', no translation takes place. If newline is any\\n  of the other legal values, any \\'\\\\n\\' characters written are translated\\n  to the given string.\\n\\nIf closefd is False, the underlying file descriptor will be kept open\\nwhen the file is closed. This does not work when a file name is given\\nand must be True in that case.\\n\\nA custom opener can be used by passing a callable as *opener*. The\\nunderlying file descriptor for the file object is then obtained by\\ncalling *opener* with (*file*, *flags*). *opener* must return an open\\nfile descriptor (passing os.open as *opener* results in functionality\\nsimilar to passing None).\\n\\nopen() returns a file object whose type depends on the mode, and\\nthrough which the standard file operations such as reading and writing\\nare performed. When open() is used to open a file in a text mode (\\'w\\',\\n\\'r\\', \\'wt\\', \\'rt\\', etc.), it returns a TextIOWrapper. When used to open\\na file in a binary mode, the returned class varies: in read binary\\nmode, it returns a BufferedReader; in write binary and append binary\\nmodes, it returns a BufferedWriter, and in read/write mode, it returns\\na BufferedRandom.\\n\\nIt is also possible to use a string or bytearray as a file for both\\nreading and writing. For strings StringIO can be used like a file\\nopened in a text mode, and for bytes a BytesIO can be used like a file\\nopened in a binary mode. Powered by Python'"
      ]
     },
     "execution_count": 54,
     "metadata": {},
     "output_type": "execute_result"
    }
   ],
   "source": [
    "read_file_1.read()"
   ]
  },
  {
   "cell_type": "code",
   "execution_count": 55,
   "metadata": {},
   "outputs": [
    {
     "data": {
      "text/plain": [
       "''"
      ]
     },
     "execution_count": 55,
     "metadata": {},
     "output_type": "execute_result"
    }
   ],
   "source": [
    "read_file_1.read() #beacause of file the pointer in end point of file text"
   ]
  },
  {
   "cell_type": "code",
   "execution_count": 56,
   "metadata": {},
   "outputs": [
    {
     "data": {
      "text/plain": [
       "0"
      ]
     },
     "execution_count": 56,
     "metadata": {},
     "output_type": "execute_result"
    }
   ],
   "source": [
    "read_file_1.seek(0) # pointer in start point of file text\n",
    "               #index"
   ]
  },
  {
   "cell_type": "code",
   "execution_count": 57,
   "metadata": {},
   "outputs": [
    {
     "data": {
      "text/plain": [
       "'Open file and return a stream.  Raise OSError upon failure.\\n'"
      ]
     },
     "execution_count": 57,
     "metadata": {},
     "output_type": "execute_result"
    }
   ],
   "source": [
    "read_file_1.readline() # read line by line"
   ]
  },
  {
   "cell_type": "code",
   "execution_count": 58,
   "metadata": {},
   "outputs": [
    {
     "name": "stdout",
     "output_type": "stream",
     "text": [
      "\n",
      "\n",
      "file is either a text or byte string giving the name (and the path\n",
      "\n",
      "if the file isn't in the current working directory) of the file to\n",
      "\n",
      "be opened or an integer file descriptor of the file to be\n",
      "\n",
      "wrapped. (If a file descriptor is given, it is closed when the\n",
      "\n",
      "returned I/O object is closed, unless closefd is set to False.)\n",
      "\n",
      "\n",
      "\n",
      "mode is an optional string that specifies the mode in which the file\n",
      "\n",
      "is opened. It defaults to 'r' which means open for reading in text\n",
      "\n",
      "mode.  Other common values are 'w' for writing (truncating the file if\n",
      "\n",
      "it already exists), 'x' for creating and writing to a new file, and\n",
      "\n",
      "'a' for appending (which on some Unix systems, means that all writes\n",
      "\n",
      "append to the end of the file regardless of the current seek position).\n",
      "\n",
      "In text mode, if encoding is not specified the encoding used is platform\n",
      "\n",
      "dependent: locale.getencoding() is called to get the current locale encoding.\n",
      "\n",
      "(For reading and writing raw bytes use binary mode and leave encoding\n",
      "\n",
      "unspecified.) The available modes are:\n",
      "\n",
      "\n",
      "\n",
      "========= ===============================================================\n",
      "\n",
      "Character Meaning\n",
      "\n",
      "--------- ---------------------------------------------------------------\n",
      "\n",
      "'r'       open for reading (default)\n",
      "\n",
      "'w'       open for writing, truncating the file first\n",
      "\n",
      "'x'       create a new file and open it for writing\n",
      "\n",
      "'a'       open for writing, appending to the end of the file if it exists\n",
      "\n",
      "'b'       binary mode\n",
      "\n",
      "'t'       text mode (default)\n",
      "\n",
      "'+'       open a disk file for updating (reading and writing)\n",
      "\n",
      "========= ===============================================================\n",
      "\n",
      "\n",
      "\n",
      "The default mode is 'rt' (open for reading text). For binary random\n",
      "\n",
      "access, the mode 'w+b' opens and truncates the file to 0 bytes, while\n",
      "\n",
      "'r+b' opens the file without truncation. The 'x' mode implies 'w' and\n",
      "\n",
      "raises an `FileExistsError` if the file already exists.\n",
      "\n",
      "\n",
      "\n",
      "Python distinguishes between files opened in binary and text modes,\n",
      "\n",
      "even when the underlying operating system doesn't. Files opened in\n",
      "\n",
      "binary mode (appending 'b' to the mode argument) return contents as\n",
      "\n",
      "bytes objects without any decoding. In text mode (the default, or when\n",
      "\n",
      "'t' is appended to the mode argument), the contents of the file are\n",
      "\n",
      "returned as strings, the bytes having been first decoded using a\n",
      "\n",
      "platform-dependent encoding or using the specified encoding if given.\n",
      "\n",
      "\n",
      "\n",
      "buffering is an optional integer used to set the buffering policy.\n",
      "\n",
      "Pass 0 to switch buffering off (only allowed in binary mode), 1 to select\n",
      "\n",
      "line buffering (only usable in text mode), and an integer > 1 to indicate\n",
      "\n",
      "the size of a fixed-size chunk buffer.  When no buffering argument is\n",
      "\n",
      "given, the default buffering policy works as follows:\n",
      "\n",
      "\n",
      "\n",
      "* Binary files are buffered in fixed-size chunks; the size of the buffer\n",
      "\n",
      "  is chosen using a heuristic trying to determine the underlying device's\n",
      "\n",
      "  \"block size\" and falling back on `io.DEFAULT_BUFFER_SIZE`.\n",
      "\n",
      "  On many systems, the buffer will typically be 4096 or 8192 bytes long.\n",
      "\n",
      "\n",
      "\n",
      "* \"Interactive\" text files (files for which isatty() returns True)\n",
      "\n",
      "  use line buffering.  Other text files use the policy described above\n",
      "\n",
      "  for binary files.\n",
      "\n",
      "\n",
      "\n",
      "encoding is the name of the encoding used to decode or encode the\n",
      "\n",
      "file. This should only be used in text mode. The default encoding is\n",
      "\n",
      "platform dependent, but any encoding supported by Python can be\n",
      "\n",
      "passed.  See the codecs module for the list of supported encodings.\n",
      "\n",
      "\n",
      "\n",
      "errors is an optional string that specifies how encoding errors are to\n",
      "\n",
      "be handled---this argument should not be used in binary mode. Pass\n",
      "\n",
      "'strict' to raise a ValueError exception if there is an encoding error\n",
      "\n",
      "(the default of None has the same effect), or pass 'ignore' to ignore\n",
      "\n",
      "errors. (Note that ignoring encoding errors can lead to data loss.)\n",
      "\n",
      "See the documentation for codecs.register or run 'help(codecs.Codec)'\n",
      "\n",
      "for a list of the permitted encoding error strings.\n",
      "\n",
      "\n",
      "\n",
      "newline controls how universal newlines works (it only applies to text\n",
      "\n",
      "mode). It can be None, '', '\\n', '\\r', and '\\r\\n'.  It works as\n",
      "\n",
      "follows:\n",
      "\n",
      "\n",
      "\n",
      "* On input, if newline is None, universal newlines mode is\n",
      "\n",
      "  enabled. Lines in the input can end in '\\n', '\\r', or '\\r\\n', and\n",
      "\n",
      "  these are translated into '\\n' before being returned to the\n",
      "\n",
      "  caller. If it is '', universal newline mode is enabled, but line\n",
      "\n",
      "  endings are returned to the caller untranslated. If it has any of\n",
      "\n",
      "  the other legal values, input lines are only terminated by the given\n",
      "\n",
      "  string, and the line ending is returned to the caller untranslated.\n",
      "\n",
      "\n",
      "\n",
      "* On output, if newline is None, any '\\n' characters written are\n",
      "\n",
      "  translated to the system default line separator, os.linesep. If\n",
      "\n",
      "  newline is '' or '\\n', no translation takes place. If newline is any\n",
      "\n",
      "  of the other legal values, any '\\n' characters written are translated\n",
      "\n",
      "  to the given string.\n",
      "\n",
      "\n",
      "\n",
      "If closefd is False, the underlying file descriptor will be kept open\n",
      "\n",
      "when the file is closed. This does not work when a file name is given\n",
      "\n",
      "and must be True in that case.\n",
      "\n",
      "\n",
      "\n",
      "A custom opener can be used by passing a callable as *opener*. The\n",
      "\n",
      "underlying file descriptor for the file object is then obtained by\n",
      "\n",
      "calling *opener* with (*file*, *flags*). *opener* must return an open\n",
      "\n",
      "file descriptor (passing os.open as *opener* results in functionality\n",
      "\n",
      "similar to passing None).\n",
      "\n",
      "\n",
      "\n",
      "open() returns a file object whose type depends on the mode, and\n",
      "\n",
      "through which the standard file operations such as reading and writing\n",
      "\n",
      "are performed. When open() is used to open a file in a text mode ('w',\n",
      "\n",
      "'r', 'wt', 'rt', etc.), it returns a TextIOWrapper. When used to open\n",
      "\n",
      "a file in a binary mode, the returned class varies: in read binary\n",
      "\n",
      "mode, it returns a BufferedReader; in write binary and append binary\n",
      "\n",
      "modes, it returns a BufferedWriter, and in read/write mode, it returns\n",
      "\n",
      "a BufferedRandom.\n",
      "\n",
      "\n",
      "\n",
      "It is also possible to use a string or bytearray as a file for both\n",
      "\n",
      "reading and writing. For strings StringIO can be used like a file\n",
      "\n",
      "opened in a text mode, and for bytes a BytesIO can be used like a file\n",
      "\n",
      "opened in a binary mode. Powered by Python\n"
     ]
    }
   ],
   "source": [
    "for i in read_file_1:\n",
    "    print(i)"
   ]
  },
  {
   "cell_type": "code",
   "execution_count": 65,
   "metadata": {},
   "outputs": [],
   "source": [
    "# read_file.close()\n",
    "read_file_1.close()"
   ]
  },
  {
   "cell_type": "code",
   "execution_count": 69,
   "metadata": {},
   "outputs": [
    {
     "data": {
      "text/plain": [
       "6136"
      ]
     },
     "execution_count": 69,
     "metadata": {},
     "output_type": "execute_result"
    }
   ],
   "source": [
    "import os\n",
    "\n",
    "os.path.getsize(\"docs.yml\")\n",
    "# os.remove(\"docs.yml\")"
   ]
  },
  {
   "cell_type": "code",
   "execution_count": 73,
   "metadata": {},
   "outputs": [],
   "source": [
    "new_file_text = open(\"main.txt\", \"w\") # create file\n"
   ]
  },
  {
   "cell_type": "code",
   "execution_count": 74,
   "metadata": {},
   "outputs": [
    {
     "data": {
      "text/plain": [
       "11"
      ]
     },
     "execution_count": 74,
     "metadata": {},
     "output_type": "execute_result"
    }
   ],
   "source": [
    "new_file_text.write(\"hello world\") # write to file"
   ]
  },
  {
   "cell_type": "code",
   "execution_count": 75,
   "metadata": {},
   "outputs": [],
   "source": [
    "new_file_text.close()"
   ]
  },
  {
   "cell_type": "code",
   "execution_count": 76,
   "metadata": {},
   "outputs": [],
   "source": [
    "os.rename(\"main.txt\", \"main.py\") # rename file"
   ]
  },
  {
   "cell_type": "code",
   "execution_count": 77,
   "metadata": {},
   "outputs": [],
   "source": [
    "os.remove(\"main.py\") # delete file"
   ]
  },
  {
   "cell_type": "code",
   "execution_count": 79,
   "metadata": {},
   "outputs": [
    {
     "data": {
      "text/plain": [
       "'readme.md'"
      ]
     },
     "execution_count": 79,
     "metadata": {},
     "output_type": "execute_result"
    }
   ],
   "source": [
    "import shutil\n",
    "\n",
    "shutil.copyfile(\"docs.yml\", \"readme.md\") # create a same copy of file"
   ]
  },
  {
   "cell_type": "code",
   "execution_count": 83,
   "metadata": {},
   "outputs": [],
   "source": [
    "# os.remove(\"readme.md\")\n",
    "os.remove(\"docs.yml\")"
   ]
  }
 ],
 "metadata": {
  "kernelspec": {
   "display_name": "Python 3",
   "language": "python",
   "name": "python3"
  },
  "language_info": {
   "codemirror_mode": {
    "name": "ipython",
    "version": 3
   },
   "file_extension": ".py",
   "mimetype": "text/x-python",
   "name": "python",
   "nbconvert_exporter": "python",
   "pygments_lexer": "ipython3",
   "version": "3.12.8"
  }
 },
 "nbformat": 4,
 "nbformat_minor": 2
}
