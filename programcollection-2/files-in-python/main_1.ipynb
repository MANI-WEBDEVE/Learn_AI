{
 "cells": [
  {
   "cell_type": "markdown",
   "metadata": {},
   "source": [
    "## Another method to create a file"
   ]
  },
  {
   "cell_type": "code",
   "execution_count": 3,
   "metadata": {},
   "outputs": [],
   "source": [
    "# write a file another method\n",
    "with open(\"main.xml\", 'w') as file:\n",
    "    file.write('<filed>\\n')\n",
    "    for i in range(1, 10):\n",
    "        file.write(f'    <string name=\"string{i}\">String {i}</string>\\n')\n",
    "    file.write('</filed>\\n')"
   ]
  },
  {
   "cell_type": "code",
   "execution_count": 4,
   "metadata": {},
   "outputs": [
    {
     "name": "stdout",
     "output_type": "stream",
     "text": [
      "<filed>\n",
      "    <string name=\"string1\">String 1</string>\n",
      "    <string name=\"string2\">String 2</string>\n",
      "    <string name=\"string3\">String 3</string>\n",
      "    <string name=\"string4\">String 4</string>\n",
      "    <string name=\"string5\">String 5</string>\n",
      "    <string name=\"string6\">String 6</string>\n",
      "    <string name=\"string7\">String 7</string>\n",
      "    <string name=\"string8\">String 8</string>\n",
      "    <string name=\"string9\">String 9</string>\n",
      "</filed>\n",
      "\n"
     ]
    }
   ],
   "source": [
    "# read a file another method\n",
    "with open(\"main.xml\", 'r') as file:\n",
    "    print(file.read())"
   ]
  },
  {
   "cell_type": "code",
   "execution_count": 11,
   "metadata": {},
   "outputs": [],
   "source": [
    "personal_info = {\n",
    "    \"name\": \"Muhammad Inam\",\n",
    "    \"age\": 20,\n",
    "    \"city\": \"Karachi\",\n",
    "    \"occupation\": \"Software Engineer\",\n",
    "    \"hobbies\": [\"Coding\", \"Reading\", \"Gaming\"],\n",
    "    \"is_student\": False,\n",
    "    \"grades\": {\"Math\": 85, \"Science\": 90, \"History\": 78},\n",
    "    \"address\": None,\n",
    "    \"phone_number\": \"123-456-7890\",\n",
    "    \"email\": \"Qp9oR@example.com\",\n",
    "}"
   ]
  },
  {
   "cell_type": "code",
   "execution_count": 14,
   "metadata": {},
   "outputs": [],
   "source": [
    "import json\n",
    "\n",
    "with open(\"file.json\", \"w\") as info:\n",
    "    json.dump(personal_info, info)\n"
   ]
  },
  {
   "cell_type": "code",
   "execution_count": 17,
   "metadata": {},
   "outputs": [
    {
     "name": "stdout",
     "output_type": "stream",
     "text": [
      "{\n",
      "  \"name\": \"Muhammad Inam\",\n",
      "  \"age\": 20,\n",
      "  \"city\": \"Karachi\",\n",
      "  \"occupation\": \"Software Engineer\",\n",
      "  \"hobbies\": [\"Coding\", \"Reading\", \"Gaming\"],\n",
      "  \"is_student\": false,\n",
      "  \"grades\": { \"Math\": 85, \"Science\": 90, \"History\": 78 },\n",
      "  \"address\": null,\n",
      "  \"phone_number\": \"123-456-7890\",\n",
      "  \"email\": \"Qp9oR@example.com\"\n",
      "}\n",
      "\n"
     ]
    }
   ],
   "source": [
    "with open(\"file.json\", 'r') as read:\n",
    "    print(read.read())"
   ]
  },
  {
   "cell_type": "code",
   "execution_count": 25,
   "metadata": {},
   "outputs": [],
   "source": [
    "# csv format data\n",
    "import csv\n",
    "\n",
    "data_2=[\n",
    "    [\"name\", \"email\", \"phone\"],\n",
    "    ['Muhammad Inam', 'inam@gmail.com', 90909090],\n",
    "    ['Muhammad Tahir', 'tahir@gmail.com', 902323],\n",
    "    ['Muhammad Tahir', 'tahir@gmail.com', 902323],\n",
    "    ['Muhammad Tahir', 'tahir@gmail.com', 902323],\n",
    "    ['Muhammad Tahir', 'tahir@gmail.com', 902323,],\n",
    "]\n",
    "\n",
    "\n",
    "with open(\"file_2.csv\", 'w') as f:\n",
    "    writer = csv.writer(f, dialect='excel')\n",
    "\n",
    "    for i in data_2:\n",
    "        writer.writerow(i)"
   ]
  },
  {
   "cell_type": "code",
   "execution_count": 30,
   "metadata": {},
   "outputs": [
    {
     "name": "stdout",
     "output_type": "stream",
     "text": [
      "['name', 'email', 'phone']\n",
      "[]\n",
      "['Muhammad Inam', 'inam@gmail.com', '90909090']\n",
      "[]\n",
      "['Muhammad Tahir', 'tahir@gmail.com', '902323']\n",
      "[]\n",
      "['Muhammad Tahir', 'tahir@gmail.com', '902323']\n",
      "[]\n",
      "['Muhammad Tahir', 'tahir@gmail.com', '902323']\n",
      "[]\n",
      "['Muhammad Tahir', 'tahir@gmail.com', '902323', 'powered by py']\n",
      "[]\n"
     ]
    }
   ],
   "source": [
    "with open(\"file_2.csv\", 'r') as f:\n",
    "    reder = csv.reader(f)\n",
    "    for i in reder:\n",
    "        print(i)\n",
    "\n",
    "   "
   ]
  },
  {
   "cell_type": "code",
   "execution_count": 38,
   "metadata": {},
   "outputs": [],
   "source": [
    "# write a binary data to file\n",
    "\n",
    "with open(\"binary_file.bin\", \"wb\") as f:\n",
    "    f.write(b'\\x01\\x03\\x09')"
   ]
  },
  {
   "cell_type": "code",
   "execution_count": 39,
   "metadata": {},
   "outputs": [
    {
     "name": "stdout",
     "output_type": "stream",
     "text": [
      "b'\\x01\\x03\\t'\n"
     ]
    }
   ],
   "source": [
    "with open('binary_file.bin', 'rb') as file:\n",
    "    binary_data = file.read()\n",
    "    print(binary_data)"
   ]
  },
  {
   "cell_type": "code",
   "execution_count": 41,
   "metadata": {},
   "outputs": [
    {
     "name": "stdout",
     "output_type": "stream",
     "text": [
      "<_io.BufferedWriter name='buffer_data.txt'>\n"
     ]
    }
   ],
   "source": [
    "# write a buffer data\n",
    "import io\n",
    "\n",
    "with open(\"buffer_data.txt\", \"wb\") as f:\n",
    "    file = io.BufferedWriter(f)\n",
    "    print(file)\n",
    "    file.write(b'My name is Inam')\n",
    "    file.write(b'age is 19')\n",
    "    file.flush()\n",
    "\n"
   ]
  },
  {
   "cell_type": "code",
   "execution_count": 44,
   "metadata": {},
   "outputs": [
    {
     "name": "stdout",
     "output_type": "stream",
     "text": [
      "b'My'\n"
     ]
    }
   ],
   "source": [
    "with open(\"buffer_data.txt\", 'rb') as f:\n",
    "    file = io.BufferedReader(f)\n",
    "    file = file.read(2) # chunks get the data more efficient machine memory\n",
    "    print(file)"
   ]
  },
  {
   "cell_type": "code",
   "execution_count": null,
   "metadata": {},
   "outputs": [],
   "source": []
  }
 ],
 "metadata": {
  "kernelspec": {
   "display_name": "Python 3",
   "language": "python",
   "name": "python3"
  },
  "language_info": {
   "codemirror_mode": {
    "name": "ipython",
    "version": 3
   },
   "file_extension": ".py",
   "mimetype": "text/x-python",
   "name": "python",
   "nbconvert_exporter": "python",
   "pygments_lexer": "ipython3",
   "version": "3.12.8"
  }
 },
 "nbformat": 4,
 "nbformat_minor": 2
}
