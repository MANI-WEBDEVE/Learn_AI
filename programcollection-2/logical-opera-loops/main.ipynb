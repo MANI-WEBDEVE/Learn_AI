{
 "cells": [
  {
   "cell_type": "markdown",
   "metadata": {},
   "source": [
    "## Logical Operator In Python\n",
    "\n",
    "- and this operator if the both condition true so return true another false\n",
    "- or this operator if the any one condition return true so return true and all condition false return false\n",
    "- not this operator if the true convert false nad false convert true"
   ]
  },
  {
   "cell_type": "code",
   "execution_count": 4,
   "metadata": {},
   "outputs": [
    {
     "name": "stdout",
     "output_type": "stream",
     "text": [
      "True\n"
     ]
    }
   ],
   "source": [
    "# and operator \n",
    "\n",
    "var_1 = 10\n",
    "var_2 = 20\n",
    "if(var_1 == 10 and var_2 >= 20):\n",
    "    print(\"True\")\n",
    "else:\n",
    "    print(\"False\")"
   ]
  },
  {
   "cell_type": "code",
   "execution_count": 6,
   "metadata": {},
   "outputs": [
    {
     "name": "stdout",
     "output_type": "stream",
     "text": [
      "False\n"
     ]
    }
   ],
   "source": [
    "# or operator\n",
    "if(var_1 == 10 or var_2 > 20):\n",
    "    print(\"True\")\n",
    "else:\n",
    "    print(\"False\")"
   ]
  },
  {
   "cell_type": "code",
   "execution_count": 8,
   "metadata": {},
   "outputs": [
    {
     "name": "stdout",
     "output_type": "stream",
     "text": [
      "True\n"
     ]
    }
   ],
   "source": [
    "# not operator\n",
    "if(not var_1 != 10):\n",
    "    print(\"True\")\n"
   ]
  },
  {
   "cell_type": "markdown",
   "metadata": {},
   "source": [
    "## Loops In Python\n",
    "### For Loop\n",
    "1. For loop iterates over a sequence (list, tuple, string) or other iterable objects\n",
    "\n"
   ]
  },
  {
   "cell_type": "code",
   "execution_count": 10,
   "metadata": {},
   "outputs": [
    {
     "name": "stdout",
     "output_type": "stream",
     "text": [
      "10\n",
      "20\n",
      "30\n",
      "40\n",
      "50\n",
      "60\n",
      "70\n",
      "80\n",
      "90\n",
      "100\n"
     ]
    }
   ],
   "source": [
    "list_1 = [10,20,30,40,50,60,70,80,90,100]\n",
    "\n",
    "for i in list_1 :\n",
    "    print(i)"
   ]
  },
  {
   "cell_type": "markdown",
   "metadata": {},
   "source": [
    "### Range Function "
   ]
  },
  {
   "cell_type": "code",
   "execution_count": 11,
   "metadata": {},
   "outputs": [
    {
     "name": "stdout",
     "output_type": "stream",
     "text": [
      "0\n",
      "1\n",
      "2\n",
      "3\n",
      "4\n",
      "5\n"
     ]
    }
   ],
   "source": [
    "for i in range(6):  # 0 to 5 always n-1\n",
    "    print(i)"
   ]
  },
  {
   "cell_type": "code",
   "execution_count": 14,
   "metadata": {},
   "outputs": [
    {
     "name": "stdout",
     "output_type": "stream",
     "text": [
      "10\n",
      "20\n",
      "30\n",
      "40\n",
      "50\n",
      "60\n",
      "70\n",
      "80\n",
      "90\n",
      "100\n"
     ]
    }
   ],
   "source": [
    "for i in range(0, len(list_1)):\n",
    "    print(list_1[i])"
   ]
  },
  {
   "cell_type": "code",
   "execution_count": 1,
   "metadata": {},
   "outputs": [
    {
     "name": "stdout",
     "output_type": "stream",
     "text": [
      "-10\n",
      "-9\n",
      "-8\n",
      "-7\n",
      "-6\n",
      "-5\n",
      "-4\n",
      "-3\n",
      "-2\n",
      "-1\n",
      "0\n",
      "1\n",
      "2\n",
      "3\n",
      "4\n",
      "5\n",
      "6\n",
      "7\n",
      "8\n",
      "9\n",
      "10\n"
     ]
    }
   ],
   "source": [
    "#now check the negative number iterate the loop througe range function\n",
    "for i in range(-10, 11):\n",
    "    print(i)"
   ]
  },
  {
   "cell_type": "code",
   "execution_count": 5,
   "metadata": {},
   "outputs": [
    {
     "name": "stdout",
     "output_type": "stream",
     "text": [
      "10\n",
      "20\n",
      "30\n",
      "40\n",
      "50\n",
      "60\n",
      "70\n",
      "80\n",
      "90\n",
      "100\n",
      "[20, 30, 40, 50, 60, 70, 80, 90, 100, 110]\n"
     ]
    }
   ],
   "source": [
    "l_1=[10,20,30,40,50,60,70,80,90,100]\n",
    "\n",
    "l2=[]\n",
    "\n",
    "for i in l_1:\n",
    "    print(i)\n",
    "    l2.append(i+10)\n",
    "print(l2)"
   ]
  },
  {
   "cell_type": "code",
   "execution_count": 21,
   "metadata": {},
   "outputs": [
    {
     "name": "stdout",
     "output_type": "stream",
     "text": [
      "['name', 'age', 'city']\n",
      "['sachin', 22, 'bangalore']\n"
     ]
    }
   ],
   "source": [
    "dict_1 = {'name':'sachin', 'age': 22, 'city':'bangalore'}\n",
    "dict_2=dict_1.items()\n",
    "\n",
    "keys=[]\n",
    "val=[]\n",
    "for i in dict_2:\n",
    "    keys.append(i[0])\n",
    "    val.append(i[1])\n",
    "print(keys)\n",
    "print(val)"
   ]
  },
  {
   "cell_type": "code",
   "execution_count": 24,
   "metadata": {},
   "outputs": [
    {
     "name": "stdout",
     "output_type": "stream",
     "text": [
      "{16, 12, 14}\n",
      "{'python': 2000, 'java': 1000, 'c++': 500}\n",
      "{'sagar', 'inam', 'sachin'}\n"
     ]
    }
   ],
   "source": [
    "learn_dict = {\n",
    "    \"launch-date\":{12,14,16},\n",
    "    \"courses\": {\"python\": 2000, \"java\": 1000, \"c++\": 500},\n",
    "    'mentor': { 'inam', 'sachin', 'sagar', 'sachin'}\n",
    "}\n",
    "\n",
    "for i in learn_dict.values():\n",
    "    print(i)"
   ]
  },
  {
   "cell_type": "code",
   "execution_count": 41,
   "metadata": {},
   "outputs": [
    {
     "name": "stdout",
     "output_type": "stream",
     "text": [
      "i=0\n",
      "j=0\n",
      "i=1\n",
      "j=0\n",
      "j=1\n",
      "i=2\n",
      "j=0\n",
      "j=1\n",
      "j=2\n",
      "i=3\n",
      "j=0\n",
      "j=1\n",
      "j=2\n",
      "j=3\n",
      "i=4\n",
      "j=0\n",
      "j=1\n",
      "j=2\n",
      "j=3\n",
      "j=4\n"
     ]
    }
   ],
   "source": [
    "i,j=0,0\n",
    "for i in range(0,5):\n",
    "    print(f\"i={i}\")\n",
    "    for j in range(0,i+1):\n",
    "        print(f\"j={j}\")"
   ]
  },
  {
   "cell_type": "code",
   "execution_count": 53,
   "metadata": {},
   "outputs": [
    {
     "name": "stdout",
     "output_type": "stream",
     "text": [
      "2 x  1 = 2\n",
      "2 x  2 = 4\n",
      "2 x  3 = 6\n",
      "2 x  4 = 8\n",
      "2 x  5 = 10\n",
      "2 x  6 = 12\n",
      "2 x  7 = 14\n",
      "2 x  8 = 16\n",
      "2 x  9 = 18\n",
      "2 x  10 = 20\n",
      "3 x  1 = 3\n",
      "3 x  2 = 6\n",
      "3 x  3 = 9\n",
      "3 x  4 = 12\n",
      "3 x  5 = 15\n",
      "3 x  6 = 18\n",
      "3 x  7 = 21\n",
      "3 x  8 = 24\n",
      "3 x  9 = 27\n",
      "3 x  10 = 30\n",
      "4 x  1 = 4\n",
      "4 x  2 = 8\n",
      "4 x  3 = 12\n",
      "4 x  4 = 16\n",
      "4 x  5 = 20\n",
      "4 x  6 = 24\n",
      "4 x  7 = 28\n",
      "4 x  8 = 32\n",
      "4 x  9 = 36\n",
      "4 x  10 = 40\n",
      "5 x  1 = 5\n",
      "5 x  2 = 10\n",
      "5 x  3 = 15\n",
      "5 x  4 = 20\n",
      "5 x  5 = 25\n",
      "5 x  6 = 30\n",
      "5 x  7 = 35\n",
      "5 x  8 = 40\n",
      "5 x  9 = 45\n",
      "5 x  10 = 50\n",
      "6 x  1 = 6\n",
      "6 x  2 = 12\n",
      "6 x  3 = 18\n",
      "6 x  4 = 24\n",
      "6 x  5 = 30\n",
      "6 x  6 = 36\n",
      "6 x  7 = 42\n",
      "6 x  8 = 48\n",
      "6 x  9 = 54\n",
      "6 x  10 = 60\n",
      "7 x  1 = 7\n",
      "7 x  2 = 14\n",
      "7 x  3 = 21\n",
      "7 x  4 = 28\n",
      "7 x  5 = 35\n",
      "7 x  6 = 42\n",
      "7 x  7 = 49\n",
      "7 x  8 = 56\n",
      "7 x  9 = 63\n",
      "7 x  10 = 70\n",
      "8 x  1 = 8\n",
      "8 x  2 = 16\n",
      "8 x  3 = 24\n",
      "8 x  4 = 32\n",
      "8 x  5 = 40\n",
      "8 x  6 = 48\n",
      "8 x  7 = 56\n",
      "8 x  8 = 64\n",
      "8 x  9 = 72\n",
      "8 x  10 = 80\n",
      "9 x  1 = 9\n",
      "9 x  2 = 18\n",
      "9 x  3 = 27\n",
      "9 x  4 = 36\n",
      "9 x  5 = 45\n",
      "9 x  6 = 54\n",
      "9 x  7 = 63\n",
      "9 x  8 = 72\n",
      "9 x  9 = 81\n",
      "9 x  10 = 90\n",
      "10 x  1 = 10\n",
      "10 x  2 = 20\n",
      "10 x  3 = 30\n",
      "10 x  4 = 40\n",
      "10 x  5 = 50\n",
      "10 x  6 = 60\n",
      "10 x  7 = 70\n",
      "10 x  8 = 80\n",
      "10 x  9 = 90\n",
      "10 x  10 = 100\n"
     ]
    }
   ],
   "source": [
    "table_num = int(input(\"Enter The Table Number\"))\n",
    "i,j = 1,1\n",
    "\n",
    "for i in range(2, table_num):\n",
    "    for j in range(1 , table_num ):\n",
    "        result = i * j\n",
    "        print(f\"{i} x  {j} = {result}\") "
   ]
  },
  {
   "cell_type": "code",
   "execution_count": 54,
   "metadata": {},
   "outputs": [
    {
     "name": "stdout",
     "output_type": "stream",
     "text": [
      "{'name': ('Muhammad', 19, 'AI-Engineer'), 'age': ('Muhammad', 19, 'AI-Engineer'), 'rule': ('Muhammad', 19, 'AI-Engineer')}\n"
     ]
    }
   ],
   "source": [
    "#Python Dictionary fromkeys() Method\n",
    "keys_=(\"name\", \"age\", \"rule\")\n",
    "value_=(\"Muhammad\", 19, \"AI-Engineer\")\n",
    "\n",
    "thisDict = dict.fromkeys(keys_, value_)\n",
    "print(thisDict)"
   ]
  },
  {
   "cell_type": "markdown",
   "metadata": {},
   "source": [
    "### Jumping Statement In Python\n",
    "- break\n",
    "- continue"
   ]
  },
  {
   "cell_type": "code",
   "execution_count": 66,
   "metadata": {},
   "outputs": [
    {
     "name": "stdout",
     "output_type": "stream",
     "text": [
      "0 if statement\n",
      "1 if statement\n",
      "2\n"
     ]
    }
   ],
   "source": [
    "for i in range(0, 6):\n",
    "    if (i ==2):\n",
    "        break\n",
    "   \n",
    "        # print(\"else statement\")\n",
    "    print(i, 'if statement')\n",
    "print(i)"
   ]
  },
  {
   "cell_type": "code",
   "execution_count": 59,
   "metadata": {},
   "outputs": [
    {
     "name": "stdout",
     "output_type": "stream",
     "text": [
      "name\n",
      "age\n"
     ]
    }
   ],
   "source": [
    "list_1 = [\"name\",\"age\", \"rule\", \"work\"]\n",
    "\n",
    "for i in range(len(list_1)):\n",
    "    if (list_1[i] == \"rule\"):\n",
    "        break\n",
    "    print(list_1[i])"
   ]
  },
  {
   "cell_type": "code",
   "execution_count": 70,
   "metadata": {},
   "outputs": [
    {
     "name": "stdout",
     "output_type": "stream",
     "text": [
      "0\n",
      "1\n",
      "2\n",
      "3\n"
     ]
    }
   ],
   "source": [
    "for i in range(6):\n",
    "    if i == 4:\n",
    "        break\n",
    "    print(i)\n",
    "else:\n",
    "    print(\"some new\")"
   ]
  },
  {
   "cell_type": "code",
   "execution_count": 69,
   "metadata": {},
   "outputs": [
    {
     "name": "stdout",
     "output_type": "stream",
     "text": [
      "0\n",
      "1\n",
      "2\n",
      "3\n",
      "5\n",
      "some new\n"
     ]
    }
   ],
   "source": [
    "# Continue statement\n",
    "for i in range(6):\n",
    "    if i == 4:\n",
    "        continue\n",
    "    print(i)\n",
    "else:\n",
    "    print(\"some new\")"
   ]
  },
  {
   "cell_type": "code",
   "execution_count": 71,
   "metadata": {},
   "outputs": [
    {
     "data": {
      "text/plain": [
       "46"
      ]
     },
     "execution_count": 71,
     "metadata": {},
     "output_type": "execute_result"
    }
   ],
   "source": [
    "# built in sum and for loop use create new sum \n",
    "\n",
    "list_2=[1,2,3,4,5,6,1,3,4,9,8]\n",
    "sum(list_2)"
   ]
  },
  {
   "cell_type": "code",
   "execution_count": 72,
   "metadata": {},
   "outputs": [
    {
     "name": "stdout",
     "output_type": "stream",
     "text": [
      "46\n"
     ]
    }
   ],
   "source": [
    "result =0\n",
    "for i in list_2:\n",
    "    result = result + i\n",
    "\n",
    "print(result)"
   ]
  },
  {
   "cell_type": "code",
   "execution_count": 74,
   "metadata": {},
   "outputs": [
    {
     "name": "stdout",
     "output_type": "stream",
     "text": [
      "1\n",
      "2\n",
      "3\n",
      "4\n",
      "5\n",
      "6\n"
     ]
    }
   ],
   "source": [
    "tup_1 =(1,2,4)\n",
    "set_1 = {1,2,3,4,5,6}\n",
    "for i in set_1:\n",
    "    print(i)"
   ]
  },
  {
   "cell_type": "code",
   "execution_count": 76,
   "metadata": {},
   "outputs": [
    {
     "name": "stdout",
     "output_type": "stream",
     "text": [
      "2\n",
      "4\n",
      "6\n",
      "4\n",
      "8\n"
     ]
    }
   ],
   "source": [
    "# pass Statement \n",
    "for i in list_2:\n",
    "    if i % 2!=0:\n",
    "        pass\n",
    "    else:\n",
    "        print(i)"
   ]
  },
  {
   "cell_type": "markdown",
   "metadata": {},
   "source": [
    "## While Loop"
   ]
  },
  {
   "cell_type": "code",
   "execution_count": 6,
   "metadata": {},
   "outputs": [
    {
     "name": "stdout",
     "output_type": "stream",
     "text": [
      "0\n",
      "1\n",
      "2\n",
      "3\n",
      "4\n",
      "5\n",
      "6\n",
      "7\n",
      "8\n",
      "9\n"
     ]
    }
   ],
   "source": [
    "# whilem  loop syntex\n",
    "\n",
    "i = 0\n",
    "while i < 10:\n",
    "    print(i)\n",
    "    i = i + 1"
   ]
  },
  {
   "cell_type": "code",
   "execution_count": 7,
   "metadata": {},
   "outputs": [
    {
     "name": "stdout",
     "output_type": "stream",
     "text": [
      "45\n"
     ]
    }
   ],
   "source": [
    "num = int(input(\"Enter the number: \"))\n",
    "starting_point=0\n",
    "counter=1\n",
    "\n",
    "while counter < num:\n",
    "    starting_point = starting_point + counter\n",
    "    counter+=1\n",
    "print(starting_point)"
   ]
  },
  {
   "cell_type": "code",
   "execution_count": 13,
   "metadata": {},
   "outputs": [
    {
     "name": "stdout",
     "output_type": "stream",
     "text": [
      "120\n"
     ]
    }
   ],
   "source": [
    "# Factorial of Given Number -> 5 = 5*4*3*2*1\n",
    "num_1= int(input(\"Enter the Number\"))\n",
    "factorial=1\n",
    "while num_1 > 0:\n",
    "    factorial = factorial * num_1\n",
    "    num_1 -=1\n",
    "print(factorial)"
   ]
  },
  {
   "cell_type": "code",
   "execution_count": 5,
   "metadata": {},
   "outputs": [
    {
     "name": "stdout",
     "output_type": "stream",
     "text": [
      "0\n",
      "1\n",
      "1\n",
      "2\n",
      "3\n",
      "5\n",
      "8\n",
      "13\n",
      "21\n",
      "34\n"
     ]
    }
   ],
   "source": [
    "# Fibbonaci Series\n",
    "a = 0\n",
    "b = 1\n",
    "\n",
    "for i in range(10):\n",
    "    print(a)\n",
    "    c = a + b\n",
    "    a = b\n",
    "    b = c"
   ]
  },
  {
   "cell_type": "code",
   "execution_count": 3,
   "metadata": {},
   "outputs": [
    {
     "name": "stdout",
     "output_type": "stream",
     "text": [
      "0\n",
      "1\n",
      "1\n",
      "2\n",
      "3\n",
      "5\n",
      "8\n",
      "13\n",
      "21\n",
      "34\n",
      "55\n",
      "89\n",
      "144\n",
      "233\n",
      "377\n"
     ]
    }
   ],
   "source": [
    "a_1 =0\n",
    "b_1 = 1\n",
    "number = int(input(\"Enter the num\"))\n",
    "counter_fi = 0\n",
    "while counter_fi < number:\n",
    "    print(a_1)\n",
    "    c = a_1+b_1\n",
    "    a_1 = b_1\n",
    "    b_1 = c\n",
    "    counter_fi = counter_fi + 1\n"
   ]
  },
  {
   "cell_type": "code",
   "execution_count": 17,
   "metadata": {},
   "outputs": [
    {
     "name": "stdout",
     "output_type": "stream",
     "text": [
      "4\n",
      "manI\n"
     ]
    }
   ],
   "source": [
    "# reverse the string without built in method \n",
    "s = \"Inam\"\n",
    "rev =\"\"\n",
    "length = len(s)\n",
    "print(length)\n",
    "while length > 0:\n",
    "    rev = rev + s[length - 1]\n",
    "    length -= 1    \n",
    "print(rev)"
   ]
  }
 ],
 "metadata": {
  "kernelspec": {
   "display_name": "Python 3",
   "language": "python",
   "name": "python3"
  },
  "language_info": {
   "codemirror_mode": {
    "name": "ipython",
    "version": 3
   },
   "file_extension": ".py",
   "mimetype": "text/x-python",
   "name": "python",
   "nbconvert_exporter": "python",
   "pygments_lexer": "ipython3",
   "version": "3.12.8"
  }
 },
 "nbformat": 4,
 "nbformat_minor": 2
}
