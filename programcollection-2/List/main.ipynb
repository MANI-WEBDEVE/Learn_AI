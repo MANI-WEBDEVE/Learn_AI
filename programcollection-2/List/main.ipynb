{
 "cells": [
  {
   "cell_type": "markdown",
   "metadata": {},
   "source": [
    "## List\n",
    "List are used to multiple items in a single variable\n",
    "1. List can contains any arbitary value\n",
    "2. Nested list\n",
    "3. we can store different data type a signle varaible is called list\n",
    "4. we can add lists\n",
    "5. we can multiply list"
   ]
  },
  {
   "cell_type": "code",
   "execution_count": 1,
   "metadata": {},
   "outputs": [
    {
     "name": "stdout",
     "output_type": "stream",
     "text": [
      "['muhmmad', 'Inam', 'Khan', 'AI-Engineer']\n"
     ]
    }
   ],
   "source": [
    "list_1 = [\"muhmmad\", \"Inam\", \"Khan\", \"AI-Engineer\"]\n",
    "print(list_1)  "
   ]
  },
  {
   "cell_type": "code",
   "execution_count": 2,
   "metadata": {},
   "outputs": [
    {
     "name": "stdout",
     "output_type": "stream",
     "text": [
      "[100, 90, 87, 'price', 'discount']\n"
     ]
    }
   ],
   "source": [
    "list_2=[100,90,87,\"price\", \"discount\", True, False]\n",
    "print(list_2)"
   ]
  },
  {
   "cell_type": "code",
   "execution_count": 3,
   "metadata": {},
   "outputs": [
    {
     "name": "stdout",
     "output_type": "stream",
     "text": [
      "[90.9, 'Amount', 'value', [1, 10, 9, 2, 4, 5], 'diffValue']\n"
     ]
    }
   ],
   "source": [
    "list_3 = [90.9, \"Amount\", \"value\", [1,10,9,2,4,5], \"diffValue\"]\n",
    "print(list_3)"
   ]
  },
  {
   "cell_type": "code",
   "execution_count": 9,
   "metadata": {},
   "outputs": [
    {
     "data": {
      "text/plain": [
       "5"
      ]
     },
     "execution_count": 9,
     "metadata": {},
     "output_type": "execute_result"
    }
   ],
   "source": [
    "# len() method find the list length\n",
    "len(list_3)\n"
   ]
  },
  {
   "cell_type": "code",
   "execution_count": 13,
   "metadata": {},
   "outputs": [
    {
     "name": "stdout",
     "output_type": "stream",
     "text": [
      "value\n",
      "[1, 10, 9, 2, 4, 5]\n",
      "10\n"
     ]
    }
   ],
   "source": [
    "# list indexing\n",
    "list_3 = [90.9, \"Amount\", \"value\", [1,10,9,2,4,5], \"diffValue\"]\n",
    "print(list_3[2])\n",
    "print(list_3[3])\n",
    "print(list_3[3][1])\n"
   ]
  },
  {
   "cell_type": "code",
   "execution_count": 23,
   "metadata": {},
   "outputs": [
    {
     "name": "stdout",
     "output_type": "stream",
     "text": [
      "['Amount', 'value', [1, 10, 9, 2, 4, 5]]\n",
      "[90.9, 'value', 'diffValue']\n",
      "[90.9, [1, 10, 9, 2, 4, 5]]\n",
      "['diffValue', [1, 10, 9, 2, 4, 5], 'value', 'Amount', 90.9]\n",
      "['Amount', 'value', [1, 10, 9, 2, 4, 5]]\n"
     ]
    }
   ],
   "source": [
    "# list slicing\n",
    "list_3 = [90.9, \"Amount\", \"value\", [1,10,9,2,4,5], \"diffValue\"]\n",
    "print(list_3[1:4])\n",
    "print(list_3[0:5:2]) # last parameter means gap for value\n",
    "print(list_3[0:5:3])\n",
    "print(list_3[::-1]) # reverse the list\n",
    "# negative slicing\n",
    "print(list_3[-4:-1])"
   ]
  },
  {
   "cell_type": "code",
   "execution_count": null,
   "metadata": {
    "scrolled": true
   },
   "outputs": [],
   "source": [
    "# what thw add the string in the list\n",
    "str_1= \"Muhammad\"\n",
    "str_list=[\"inam\", \"khan\", 90, 99]\n",
    "# print(str_1 + str_list) # not can only concatenate str (not \"list\") to str"
   ]
  },
  {
   "cell_type": "code",
   "execution_count": 2,
   "metadata": {},
   "outputs": [
    {
     "name": "stdout",
     "output_type": "stream",
     "text": [
      "['inam', 'khan', 'AI-Engineer', 90, 'oppo', 'windows', 'radnom-words']\n"
     ]
    }
   ],
   "source": [
    "# what the add two list\n",
    "list_one=[\"inam\", \"khan\", \"AI-Engineer\", 90]\n",
    "list_two=[\"oppo\", \"windows\", \"radnom-words\"]\n",
    "print(list_one + list_two)"
   ]
  },
  {
   "cell_type": "code",
   "execution_count": 3,
   "metadata": {},
   "outputs": [
    {
     "data": {
      "text/plain": [
       "['inam',\n",
       " 'khan',\n",
       " 'AI-Engineer',\n",
       " 90,\n",
       " 'inam',\n",
       " 'khan',\n",
       " 'AI-Engineer',\n",
       " 90,\n",
       " 'inam',\n",
       " 'khan',\n",
       " 'AI-Engineer',\n",
       " 90]"
      ]
     },
     "execution_count": 3,
     "metadata": {},
     "output_type": "execute_result"
    }
   ],
   "source": [
    "# What the multiply the list\n",
    "list_one*3"
   ]
  },
  {
   "cell_type": "code",
   "execution_count": 8,
   "metadata": {
    "scrolled": true
   },
   "outputs": [
    {
     "name": "stdout",
     "output_type": "stream",
     "text": [
      "<class 'str'>\n"
     ]
    }
   ],
   "source": [
    "# how to change the string data type in list\n",
    "one_str=\"Muhammad\"\n",
    "list((one_str))\n",
    "print(type(one_str))"
   ]
  },
  {
   "cell_type": "markdown",
   "metadata": {},
   "source": [
    "## list Methods "
   ]
  },
  {
   "cell_type": "code",
   "execution_count": 9,
   "metadata": {},
   "outputs": [
    {
     "data": {
      "text/plain": [
       "['Muhammad', 'Inam', 'Tahir', 'Habib', 'Muzammil']"
      ]
     },
     "execution_count": 9,
     "metadata": {},
     "output_type": "execute_result"
    }
   ],
   "source": [
    "list_three=[\"Muhammad\", \"Inam\", \"Tahir\", \"Habib\"]\n",
    "list_three.append(\"Muzammil\")\n",
    "list_three"
   ]
  }
 ],
 "metadata": {
  "kernelspec": {
   "display_name": "Python 3 (ipykernel)",
   "language": "python",
   "name": "python3"
  },
  "language_info": {
   "codemirror_mode": {
    "name": "ipython",
    "version": 3
   },
   "file_extension": ".py",
   "mimetype": "text/x-python",
   "name": "python",
   "nbconvert_exporter": "python",
   "pygments_lexer": "ipython3",
   "version": "3.12.5"
  }
 },
 "nbformat": 4,
 "nbformat_minor": 4
}
