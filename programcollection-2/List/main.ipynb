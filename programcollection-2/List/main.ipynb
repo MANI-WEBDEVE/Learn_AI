{
 "cells": [
  {
   "cell_type": "markdown",
   "metadata": {},
   "source": [
    "## List\n",
    "List are used to multiple items in a single variable\n",
    "1. List can contains any arbitary value\n",
    "2. Nested list\n",
    "3. we can store different data type a signle varaible is called list\n",
    "4. we can add lists\n",
    "5. we can multiply list"
   ]
  },
  {
   "cell_type": "code",
   "execution_count": 1,
   "metadata": {},
   "outputs": [
    {
     "name": "stdout",
     "output_type": "stream",
     "text": [
      "['muhmmad', 'Inam', 'Khan', 'AI-Engineer']\n"
     ]
    }
   ],
   "source": [
    "list_1 = [\"muhmmad\", \"Inam\", \"Khan\", \"AI-Engineer\"]\n",
    "print(list_1)  "
   ]
  },
  {
   "cell_type": "code",
   "execution_count": 2,
   "metadata": {},
   "outputs": [
    {
     "name": "stdout",
     "output_type": "stream",
     "text": [
      "[100, 90, 87, 'price', 'discount']\n"
     ]
    }
   ],
   "source": [
    "list_2=[100,90,87,\"price\", \"discount\", True, False]\n",
    "print(list_2)"
   ]
  },
  {
   "cell_type": "code",
   "execution_count": 3,
   "metadata": {},
   "outputs": [
    {
     "name": "stdout",
     "output_type": "stream",
     "text": [
      "[90.9, 'Amount', 'value', [1, 10, 9, 2, 4, 5], 'diffValue']\n"
     ]
    }
   ],
   "source": [
    "list_3 = [90.9, \"Amount\", \"value\", [1,10,9,2,4,5], \"diffValue\"]\n",
    "print(list_3)"
   ]
  },
  {
   "cell_type": "code",
   "execution_count": 9,
   "metadata": {},
   "outputs": [
    {
     "data": {
      "text/plain": [
       "5"
      ]
     },
     "execution_count": 9,
     "metadata": {},
     "output_type": "execute_result"
    }
   ],
   "source": [
    "# len() method find the list length\n",
    "len(list_3)\n"
   ]
  },
  {
   "cell_type": "code",
   "execution_count": 13,
   "metadata": {},
   "outputs": [
    {
     "name": "stdout",
     "output_type": "stream",
     "text": [
      "value\n",
      "[1, 10, 9, 2, 4, 5]\n",
      "10\n"
     ]
    }
   ],
   "source": [
    "# list indexing\n",
    "list_3 = [90.9, \"Amount\", \"value\", [1,10,9,2,4,5], \"diffValue\"]\n",
    "print(list_3[2])\n",
    "print(list_3[3])\n",
    "print(list_3[3][1])\n"
   ]
  },
  {
   "cell_type": "code",
   "execution_count": 23,
   "metadata": {},
   "outputs": [
    {
     "name": "stdout",
     "output_type": "stream",
     "text": [
      "['Amount', 'value', [1, 10, 9, 2, 4, 5]]\n",
      "[90.9, 'value', 'diffValue']\n",
      "[90.9, [1, 10, 9, 2, 4, 5]]\n",
      "['diffValue', [1, 10, 9, 2, 4, 5], 'value', 'Amount', 90.9]\n",
      "['Amount', 'value', [1, 10, 9, 2, 4, 5]]\n"
     ]
    }
   ],
   "source": [
    "# list slicing\n",
    "list_3 = [90.9, \"Amount\", \"value\", [1,10,9,2,4,5], \"diffValue\"]\n",
    "print(list_3[1:4])\n",
    "print(list_3[0:5:2]) # last parameter means gap for value\n",
    "print(list_3[0:5:3])\n",
    "print(list_3[::-1]) # reverse the list\n",
    "# negative slicing\n",
    "print(list_3[-4:-1])"
   ]
  },
  {
   "cell_type": "code",
   "execution_count": null,
   "metadata": {
    "scrolled": true
   },
   "outputs": [],
   "source": [
    "# what thw add the string in the list\n",
    "str_1= \"Muhammad\"\n",
    "str_list=[\"inam\", \"khan\", 90, 99]\n",
    "# print(str_1 + str_list) # not can only concatenate str (not \"list\") to str"
   ]
  },
  {
   "cell_type": "code",
   "execution_count": 2,
   "metadata": {},
   "outputs": [
    {
     "name": "stdout",
     "output_type": "stream",
     "text": [
      "['inam', 'khan', 'AI-Engineer', 90, 'oppo', 'windows', 'radnom-words']\n"
     ]
    }
   ],
   "source": [
    "# what the add two list\n",
    "list_one=[\"inam\", \"khan\", \"AI-Engineer\", 90]\n",
    "list_two=[\"oppo\", \"windows\", \"radnom-words\"]\n",
    "print(list_one + list_two)"
   ]
  },
  {
   "cell_type": "code",
   "execution_count": 3,
   "metadata": {},
   "outputs": [
    {
     "data": {
      "text/plain": [
       "['inam',\n",
       " 'khan',\n",
       " 'AI-Engineer',\n",
       " 90,\n",
       " 'inam',\n",
       " 'khan',\n",
       " 'AI-Engineer',\n",
       " 90,\n",
       " 'inam',\n",
       " 'khan',\n",
       " 'AI-Engineer',\n",
       " 90]"
      ]
     },
     "execution_count": 3,
     "metadata": {},
     "output_type": "execute_result"
    }
   ],
   "source": [
    "# What the multiply the list\n",
    "list_one*3"
   ]
  },
  {
   "cell_type": "code",
   "execution_count": 8,
   "metadata": {
    "scrolled": true
   },
   "outputs": [
    {
     "name": "stdout",
     "output_type": "stream",
     "text": [
      "<class 'str'>\n"
     ]
    }
   ],
   "source": [
    "# how to change the string data type in list\n",
    "one_str=\"Muhammad\"\n",
    "list((one_str))\n",
    "print(type(one_str))"
   ]
  },
  {
   "cell_type": "markdown",
   "metadata": {},
   "source": [
    "## list Methods "
   ]
  },
  {
   "cell_type": "code",
   "execution_count": 9,
   "metadata": {},
   "outputs": [
    {
     "data": {
      "text/plain": [
       "['Muhammad', 'Inam', 'Tahir', 'Habib', 'Muzammil']"
      ]
     },
     "execution_count": 9,
     "metadata": {},
     "output_type": "execute_result"
    }
   ],
   "source": [
    "list_three=[\"Muhammad\", \"Inam\", \"Tahir\", \"Habib\"]\n",
    "list_three.append(\"Muzammil\")\n",
    "list_three"
   ]
  },
  {
   "cell_type": "code",
   "execution_count": 7,
   "metadata": {},
   "outputs": [
    {
     "data": {
      "text/plain": [
       "['Muhammad', 'Inam', [78, 'ko'], 'Tahir', 'Habib']"
      ]
     },
     "execution_count": 7,
     "metadata": {},
     "output_type": "execute_result"
    }
   ],
   "source": [
    "# insert method insert nay data any way list insert the list fisrt value list of index and second value\n",
    "list_three=[\"Muhammad\", \"Inam\", \"Tahir\", \"Habib\"]\n",
    "list_three.insert(2, [78,'ko'])\n",
    "list_three\n"
   ]
  },
  {
   "cell_type": "code",
   "execution_count": 10,
   "metadata": {},
   "outputs": [
    {
     "data": {
      "text/plain": [
       "['Muhammad',\n",
       " 'Inam',\n",
       " [78, 'ko'],\n",
       " 'Tahir',\n",
       " 'Habib',\n",
       " 'kHAN',\n",
       " 'John',\n",
       " 'kHAN',\n",
       " 'John',\n",
       " 'M',\n",
       " 'u',\n",
       " 'h',\n",
       " 'a',\n",
       " 'm',\n",
       " 'm',\n",
       " 'a',\n",
       " 'd']"
      ]
     },
     "execution_count": 10,
     "metadata": {},
     "output_type": "execute_result"
    }
   ],
   "source": [
    "#extend method on list this method iterable like \"Mu\" = \"M\", \"u\" but not iterable integer value\n",
    "list_three.extend([\"kHAN\", \"John\"])\n",
    "list_three.extend(\"Muhammad\")\n",
    "list_three\n"
   ]
  },
  {
   "cell_type": "code",
   "execution_count": 11,
   "metadata": {},
   "outputs": [
    {
     "data": {
      "text/plain": [
       "5"
      ]
     },
     "execution_count": 11,
     "metadata": {},
     "output_type": "execute_result"
    }
   ],
   "source": [
    "# index method in list this index method give the value and return the index number and one more this if your list contain same value its return the fisrt index of value\n",
    "list_three.index(\"kHAN\")"
   ]
  },
  {
   "cell_type": "code",
   "execution_count": 13,
   "metadata": {},
   "outputs": [
    {
     "data": {
      "text/plain": [
       "['Muhammad',\n",
       " 'Inam',\n",
       " 'Tahir',\n",
       " 'Habib',\n",
       " 'kHAN',\n",
       " 'John',\n",
       " 'kHAN',\n",
       " 'John',\n",
       " 'M',\n",
       " 'u',\n",
       " 'h',\n",
       " 'a',\n",
       " 'm',\n",
       " 'm',\n",
       " 'a']"
      ]
     },
     "execution_count": 13,
     "metadata": {},
     "output_type": "execute_result"
    }
   ],
   "source": [
    "# pop method in list this pop method delete the list value index number but by default last index\n",
    "list_three.pop(2)\n",
    "list_three"
   ]
  },
  {
   "cell_type": "code",
   "execution_count": 14,
   "metadata": {},
   "outputs": [],
   "source": [
    "# remove method in list remove the items value base remove method get the value and remove the items\n",
    "list_four=[\"Ko\", \"Jo\", \"Mo\", \"lo\"]\n",
    "list_four.remove('Mo')\n"
   ]
  },
  {
   "cell_type": "code",
   "execution_count": 15,
   "metadata": {},
   "outputs": [
    {
     "data": {
      "text/plain": [
       "['Ko', 'Jo', 'lo']"
      ]
     },
     "execution_count": 15,
     "metadata": {},
     "output_type": "execute_result"
    }
   ],
   "source": [
    "list_four\n"
   ]
  },
  {
   "cell_type": "code",
   "execution_count": 17,
   "metadata": {},
   "outputs": [
    {
     "data": {
      "text/plain": [
       "[1, 2, 2, 2, 3, 4, 5, 5, 6, 7]"
      ]
     },
     "execution_count": 17,
     "metadata": {},
     "output_type": "execute_result"
    }
   ],
   "source": [
    "# sort method in list sort the value but not mixing value like string and intergers\n",
    "list_five=[1,2,4,5,6,7,5,3,2,2]\n",
    "list_five.sort()\n",
    "list_five"
   ]
  },
  {
   "cell_type": "code",
   "execution_count": 19,
   "metadata": {},
   "outputs": [
    {
     "data": {
      "text/plain": [
       "['Jo', 'Ko', 'lo']"
      ]
     },
     "execution_count": 19,
     "metadata": {},
     "output_type": "execute_result"
    }
   ],
   "source": [
    "list_four.sort()\n",
    "list_four"
   ]
  },
  {
   "cell_type": "code",
   "execution_count": 20,
   "metadata": {},
   "outputs": [
    {
     "data": {
      "text/plain": [
       "[88, 67, 66, 45, 7, 7, 7, 6, 6, 6, 6, 6, 5, 5, 5, 5, 5, 5, 5, 4, 4, 4, 3, 1]"
      ]
     },
     "execution_count": 20,
     "metadata": {},
     "output_type": "execute_result"
    }
   ],
   "source": [
    "list_six=[1,6,7,3,5,6,88,6,5,5,4,5,66,7,7,5,45,4,4,6,67,6,5,5]\n",
    "list_six.sort(reverse=True)\n",
    "list_six"
   ]
  },
  {
   "cell_type": "code",
   "execution_count": 23,
   "metadata": {},
   "outputs": [
    {
     "data": {
      "text/plain": [
       "7"
      ]
     },
     "execution_count": 23,
     "metadata": {},
     "output_type": "execute_result"
    }
   ],
   "source": [
    "# count method in list check the value exist two time\n",
    "list_six.count(5)"
   ]
  },
  {
   "cell_type": "code",
   "execution_count": 24,
   "metadata": {},
   "outputs": [
    {
     "data": {
      "text/plain": [
       "[1, 3, 4, 4, 4, 5, 5, 5, 5, 5, 5, 5, 6, 6, 6, 6, 6, 7, 7, 7, 45, 66, 67, 88]"
      ]
     },
     "execution_count": 24,
     "metadata": {},
     "output_type": "execute_result"
    }
   ],
   "source": [
    "list_six[::-1]"
   ]
  },
  {
   "cell_type": "code",
   "execution_count": null,
   "metadata": {},
   "outputs": [],
   "source": []
  }
 ],
 "metadata": {
  "kernelspec": {
   "display_name": "Python 3 (ipykernel)",
   "language": "python",
   "name": "python3"
  },
  "language_info": {
   "codemirror_mode": {
    "name": "ipython",
    "version": 3
   },
   "file_extension": ".py",
   "mimetype": "text/x-python",
   "name": "python",
   "nbconvert_exporter": "python",
   "pygments_lexer": "ipython3",
   "version": "3.12.5"
  }
 },
 "nbformat": 4,
 "nbformat_minor": 4
}
