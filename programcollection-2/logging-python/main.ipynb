{
 "cells": [
  {
   "cell_type": "markdown",
   "metadata": {},
   "source": [
    "### Logging in Python\n",
    "### Logging ek tarika hai jisse hum apne program ke run-time information ko record kar sakte hain.\n",
    "# Yeh information errors, warnings, ya phir general information ho sakti hai jo debugging mein madad karti hai.\n",
    "\n",
    "### Logging Levels:\n",
    " 1. DEBUG: Detailed information, typically of interest only when diagnosing problems.\n",
    " 2. INFO: Confirmation that things are working as expected.\n",
    " 3. WARNING: An indication that something unexpected happened, or indicative of some problem in the near future (e.g. ‘disk space low’). The software is still working as expected.\n",
    " 4. ERROR: Due to a more serious problem, the software has not been able to perform some function.\n",
    " 5. CRITICAL: A very serious error, indicating that the program itself may be unable to continue running.\n",
    "\n",
    "import logging\n",
    "\n",
    "### Example of setting up logging\n",
    "1. logging.basicConfig(level=logging.DEBUG)\n",
    "2. logging.debug('This is a debug message')\n",
    "3. logging.info('This is an info message')\n",
    "4. logging.warning('This is a warning message')\n",
    "5. logging.error('This is an error message')\n",
    "6. logging.critical('This is a critical message')\n"
   ]
  },
  {
   "cell_type": "code",
   "execution_count": 1,
   "metadata": {},
   "outputs": [],
   "source": [
    "import logging\n",
    "\n",
    "logging.basicConfig(filename='info.log', level=logging.INFO, format='%(asctime)s - %(levelname)s - %(message)s')\n",
    "\n",
    "# logging.debug('this is a debug message')\n",
    "# logging.info('this is a log message')\n",
    "# logging.warning('this is a warning message')\n",
    "# logging.error('this is an error message')\n",
    "\n",
    "# logging.shutdown()"
   ]
  },
  {
   "cell_type": "code",
   "execution_count": 7,
   "metadata": {},
   "outputs": [],
   "source": [
    "# import logging\n",
    "\n",
    "\n",
    "# logging.basicConfig(filename='app.log', level=logging.DEBUG)\n",
    "\n",
    "# logging.debug('this is a debug message')\n",
    "# logging.info('this is a log message')\n",
    "# logging.warning('this is a warning message')\n",
    "# logging.error('this is an error message')\n",
    "# logging.critical('this is a critical message')  \n",
    "\n",
    "\n",
    "# logging.shutdown()"
   ]
  },
  {
   "cell_type": "code",
   "execution_count": 4,
   "metadata": {},
   "outputs": [],
   "source": [
    "l1=[1,2,3,4,5,6,7,8,9,[22,33,22,1,2,3], \"inam\", 'khan', 'pakistan']\n",
    "l1_int=[]\n",
    "l2_str=[]\n",
    "\n",
    "\n",
    "for i in l1:\n",
    "    logging.info(f\"loop through the list: {l1}\")\n",
    "    if (type(i) == list):\n",
    "        for j in i:\n",
    "            logging.info(f\"loop through the nested list: {i} and {j}\")\n",
    "            l1_int.append(j)\n",
    "    elif (type(i) == int):\n",
    "        logging.info(f\"check the integer val {i}\")\n",
    "        l1_int.append(i)\n",
    "    elif (type(i) ==str):\n",
    "        logging.info(f\"check the string val {i}\")\n",
    "        l2_str.append(i)\n",
    "\n",
    "logging.info(l1_int)\n",
    "logging.info(l2_str)"
   ]
  }
 ],
 "metadata": {
  "kernelspec": {
   "display_name": "Python 3",
   "language": "python",
   "name": "python3"
  },
  "language_info": {
   "codemirror_mode": {
    "name": "ipython",
    "version": 3
   },
   "file_extension": ".py",
   "mimetype": "text/x-python",
   "name": "python",
   "nbconvert_exporter": "python",
   "pygments_lexer": "ipython3",
   "version": "3.12.6"
  }
 },
 "nbformat": 4,
 "nbformat_minor": 2
}
