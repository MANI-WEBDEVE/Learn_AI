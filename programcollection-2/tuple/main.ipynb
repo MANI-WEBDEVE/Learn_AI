{
 "cells": [
  {
   "cell_type": "markdown",
   "id": "90d84387-4858-49aa-9596-7429915259b6",
   "metadata": {},
   "source": [
    "## Tuples In Python\n",
    "1. Tuples in similar to List That the Object in tuple are immutable which means we cannot the change the elements of a tuples once assigned\n",
    "2. Tuples are enclosed the parenthesis ()\n",
    "3. Tuples are ordered, indexing and slicing\n",
    "4. tuples are contain the same multiple values"
   ]
  },
  {
   "cell_type": "code",
   "execution_count": 2,
   "id": "905a4361-b1e5-41bf-9945-8375563423c0",
   "metadata": {},
   "outputs": [
    {
     "data": {
      "text/plain": [
       "'Tahir'"
      ]
     },
     "execution_count": 2,
     "metadata": {},
     "output_type": "execute_result"
    }
   ],
   "source": [
    "tup1=(\"Muhammad\", \"Inam\", 18, 203, [\"Muhammad\",\"Tahir\", 17,309], True)\n",
    "tup1[4][1] # nested indexing in Tuples and same is list"
   ]
  },
  {
   "cell_type": "code",
   "execution_count": 5,
   "id": "5e92bc2d-efc6-42c5-837a-cf7be8b552ee",
   "metadata": {},
   "outputs": [
    {
     "data": {
      "text/plain": [
       "(203, ['Muhammad', 'Tahir', 17, 309], True)"
      ]
     },
     "execution_count": 5,
     "metadata": {},
     "output_type": "execute_result"
    }
   ],
   "source": [
    "#slicing in typles\n",
    "tup1[3:]"
   ]
  },
  {
   "cell_type": "code",
   "execution_count": null,
   "id": "1cffb814-90e8-4fdd-870c-5f8fff9bfffe",
   "metadata": {
    "scrolled": true
   },
   "outputs": [],
   "source": [
    "tup1*3 #three time multiply and copy paste the data on tuples like that"
   ]
  },
  {
   "cell_type": "markdown",
   "id": "13f801a8-797d-4181-95f7-edab1ff91f24",
   "metadata": {},
   "source": [
    "#### Tuples only two methods "
   ]
  },
  {
   "cell_type": "code",
   "execution_count": 22,
   "id": "056f15f2-8196-4097-97ae-8b6ec8dfeb7e",
   "metadata": {},
   "outputs": [],
   "source": [
    "tup2=(\"Muuhammad\", \"Inam\", \"Tahir\", 18,18)"
   ]
  },
  {
   "cell_type": "code",
   "execution_count": 24,
   "id": "91d36a83-7e6e-4b21-819f-5ddd19059f80",
   "metadata": {},
   "outputs": [
    {
     "data": {
      "text/plain": [
       "2"
      ]
     },
     "execution_count": 24,
     "metadata": {},
     "output_type": "execute_result"
    }
   ],
   "source": [
    "tup2.count(18) # count function ko jo value pass karat hai woh check karta hai ka ya value list ys tuple ma kitna time hai"
   ]
  },
  {
   "cell_type": "code",
   "execution_count": null,
   "id": "1cf4ecbd-33c5-4b15-a730-766b68d09a88",
   "metadata": {},
   "outputs": [],
   "source": [
    "tup2.index(18)"
   ]
  },
  {
   "cell_type": "markdown",
   "id": "f6b88cf9-8750-4b61-bcca-03a8dbed55b9",
   "metadata": {},
   "source": [
    "## Set in Python\n",
    "1. set are unordered but remove and add the value after creation\n",
    "2. set are not allowed the duplicate value and all value unique"
   ]
  },
  {
   "cell_type": "code",
   "execution_count": 28,
   "id": "e0e714dd-95c7-4209-bba9-7f7c6ca5f068",
   "metadata": {},
   "outputs": [
    {
     "name": "stdout",
     "output_type": "stream",
     "text": [
      "<class 'dict'>\n"
     ]
    }
   ],
   "source": [
    "x={}\n",
    "print(type(x))"
   ]
  },
  {
   "cell_type": "code",
   "execution_count": 30,
   "id": "06c62c08-d414-4aa0-9d8a-1688de427de4",
   "metadata": {},
   "outputs": [],
   "source": [
    "y={90,98,78,\"Muhammad\",\"Inam\", \"Kareem\", 78,90, 89, \"Muhammad\"}"
   ]
  },
  {
   "cell_type": "code",
   "execution_count": 31,
   "id": "d3b5e73c-a1cc-4e55-9f30-ae6730121bd4",
   "metadata": {},
   "outputs": [
    {
     "data": {
      "text/plain": [
       "{78, 89, 90, 98, 'Inam', 'Kareem', 'Muhammad'}"
      ]
     },
     "execution_count": 31,
     "metadata": {},
     "output_type": "execute_result"
    }
   ],
   "source": [
    "y"
   ]
  },
  {
   "cell_type": "code",
   "execution_count": 32,
   "id": "12c0bab9-fe79-4c4b-8850-b327a6ca7bda",
   "metadata": {},
   "outputs": [],
   "source": [
    "# add , update abd remove function in set\n",
    "y.add(\"Habib\")"
   ]
  },
  {
   "cell_type": "code",
   "execution_count": 33,
   "id": "1ba6ddca-a4a9-4cf1-9634-d89969d48988",
   "metadata": {},
   "outputs": [
    {
     "data": {
      "text/plain": [
       "{78, 89, 90, 98, 'Habib', 'Inam', 'Kareem', 'Muhammad'}"
      ]
     },
     "execution_count": 33,
     "metadata": {},
     "output_type": "execute_result"
    }
   ],
   "source": [
    "y"
   ]
  },
  {
   "cell_type": "code",
   "execution_count": 34,
   "id": "fef0bf87-2af1-48c0-8dcf-c86a859bac81",
   "metadata": {},
   "outputs": [],
   "source": [
    "y.update({\"Muzammil\", \"Ali\", \"hasnain\"})\n",
    "# you can added the multiple value to use update"
   ]
  },
  {
   "cell_type": "code",
   "execution_count": 35,
   "id": "43f19285-3d4d-4976-bf75-7473e955084f",
   "metadata": {},
   "outputs": [
    {
     "data": {
      "text/plain": [
       "{78,\n",
       " 89,\n",
       " 90,\n",
       " 98,\n",
       " 'Ali',\n",
       " 'Habib',\n",
       " 'Inam',\n",
       " 'Kareem',\n",
       " 'Muhammad',\n",
       " 'Muzammil',\n",
       " 'hasnain'}"
      ]
     },
     "execution_count": 35,
     "metadata": {},
     "output_type": "execute_result"
    }
   ],
   "source": [
    "y"
   ]
  },
  {
   "cell_type": "code",
   "execution_count": 36,
   "id": "21392036-023c-4268-a9d5-eaf539f2fe3d",
   "metadata": {},
   "outputs": [],
   "source": [
    "y.remove(\"hasnain\") # you can remove the value in set you can use the remove function "
   ]
  },
  {
   "cell_type": "code",
   "execution_count": 37,
   "id": "703a17d3-8fdb-4a1a-92ec-9431cef50111",
   "metadata": {},
   "outputs": [
    {
     "data": {
      "text/plain": [
       "{78, 89, 90, 98, 'Ali', 'Habib', 'Inam', 'Kareem', 'Muhammad', 'Muzammil'}"
      ]
     },
     "execution_count": 37,
     "metadata": {},
     "output_type": "execute_result"
    }
   ],
   "source": [
    "y"
   ]
  }
 ],
 "metadata": {
  "kernelspec": {
   "display_name": "Python 3 (ipykernel)",
   "language": "python",
   "name": "python3"
  },
  "language_info": {
   "codemirror_mode": {
    "name": "ipython",
    "version": 3
   },
   "file_extension": ".py",
   "mimetype": "text/x-python",
   "name": "python",
   "nbconvert_exporter": "python",
   "pygments_lexer": "ipython3",
   "version": "3.12.5"
  }
 },
 "nbformat": 4,
 "nbformat_minor": 5
}
