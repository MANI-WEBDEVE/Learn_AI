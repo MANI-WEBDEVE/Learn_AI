{
 "cells": [
  {
   "cell_type": "markdown",
   "id": "90d84387-4858-49aa-9596-7429915259b6",
   "metadata": {},
   "source": [
    "## Tuples In Python\n",
    "1. Tuples in similar to List That the Object in tuple are immutable which means we cannot the change the elements of a tuples once assigned\n",
    "2. Tuples are enclosed the parenthesis ()\n",
    "3. Tuples are ordered, indexing and slicing\n",
    "4. tuples are contain the same multiple values"
   ]
  },
  {
   "cell_type": "code",
   "execution_count": 2,
   "id": "905a4361-b1e5-41bf-9945-8375563423c0",
   "metadata": {},
   "outputs": [
    {
     "data": {
      "text/plain": [
       "'Tahir'"
      ]
     },
     "execution_count": 2,
     "metadata": {},
     "output_type": "execute_result"
    }
   ],
   "source": [
    "tup1=(\"Muhammad\", \"Inam\", 18, 203, [\"Muhammad\",\"Tahir\", 17,309], True)\n",
    "tup1[4][1] # nested indexing in Tuples and same is list"
   ]
  },
  {
   "cell_type": "code",
   "execution_count": 5,
   "id": "5e92bc2d-efc6-42c5-837a-cf7be8b552ee",
   "metadata": {},
   "outputs": [
    {
     "data": {
      "text/plain": [
       "(203, ['Muhammad', 'Tahir', 17, 309], True)"
      ]
     },
     "execution_count": 5,
     "metadata": {},
     "output_type": "execute_result"
    }
   ],
   "source": [
    "#slicing in typles\n",
    "tup1[3:]"
   ]
  },
  {
   "cell_type": "code",
   "execution_count": null,
   "id": "1cffb814-90e8-4fdd-870c-5f8fff9bfffe",
   "metadata": {
    "scrolled": true
   },
   "outputs": [],
   "source": [
    "tup1*3 #three time multiply and copy paste the data on tuples like that"
   ]
  },
  {
   "cell_type": "markdown",
   "id": "13f801a8-797d-4181-95f7-edab1ff91f24",
   "metadata": {},
   "source": [
    "#### Tuples only two methods "
   ]
  },
  {
   "cell_type": "code",
   "execution_count": 22,
   "id": "056f15f2-8196-4097-97ae-8b6ec8dfeb7e",
   "metadata": {},
   "outputs": [],
   "source": [
    "tup2=(\"Muuhammad\", \"Inam\", \"Tahir\", 18,18)"
   ]
  },
  {
   "cell_type": "code",
   "execution_count": 24,
   "id": "91d36a83-7e6e-4b21-819f-5ddd19059f80",
   "metadata": {},
   "outputs": [
    {
     "data": {
      "text/plain": [
       "2"
      ]
     },
     "execution_count": 24,
     "metadata": {},
     "output_type": "execute_result"
    }
   ],
   "source": [
    "tup2.count(18) # count function ko jo value pass karat hai woh check karta hai ka ya value list ys tuple ma kitna time hai"
   ]
  },
  {
   "cell_type": "code",
   "execution_count": null,
   "id": "1cf4ecbd-33c5-4b15-a730-766b68d09a88",
   "metadata": {},
   "outputs": [],
   "source": [
    "tup2.index(18)"
   ]
  },
  {
   "cell_type": "markdown",
   "id": "f6b88cf9-8750-4b61-bcca-03a8dbed55b9",
   "metadata": {},
   "source": [
    "## Set in Python\n",
    "1. set are unordered but remove and add the value after creation\n",
    "2. set are not allowed the duplicate value and all value unique"
   ]
  },
  {
   "cell_type": "code",
   "execution_count": 28,
   "id": "e0e714dd-95c7-4209-bba9-7f7c6ca5f068",
   "metadata": {},
   "outputs": [
    {
     "name": "stdout",
     "output_type": "stream",
     "text": [
      "<class 'dict'>\n"
     ]
    }
   ],
   "source": [
    "x={}\n",
    "print(type(x))"
   ]
  },
  {
   "cell_type": "code",
   "execution_count": 30,
   "id": "06c62c08-d414-4aa0-9d8a-1688de427de4",
   "metadata": {},
   "outputs": [],
   "source": [
    "y={90,98,78,\"Muhammad\",\"Inam\", \"Kareem\", 78,90, 89, \"Muhammad\"}"
   ]
  },
  {
   "cell_type": "code",
   "execution_count": 31,
   "id": "d3b5e73c-a1cc-4e55-9f30-ae6730121bd4",
   "metadata": {},
   "outputs": [
    {
     "data": {
      "text/plain": [
       "{78, 89, 90, 98, 'Inam', 'Kareem', 'Muhammad'}"
      ]
     },
     "execution_count": 31,
     "metadata": {},
     "output_type": "execute_result"
    }
   ],
   "source": [
    "y"
   ]
  },
  {
   "cell_type": "code",
   "execution_count": 32,
   "id": "12c0bab9-fe79-4c4b-8850-b327a6ca7bda",
   "metadata": {},
   "outputs": [],
   "source": [
    "# add , update abd remove function in set\n",
    "y.add(\"Habib\")"
   ]
  },
  {
   "cell_type": "code",
   "execution_count": 33,
   "id": "1ba6ddca-a4a9-4cf1-9634-d89969d48988",
   "metadata": {},
   "outputs": [
    {
     "data": {
      "text/plain": [
       "{78, 89, 90, 98, 'Habib', 'Inam', 'Kareem', 'Muhammad'}"
      ]
     },
     "execution_count": 33,
     "metadata": {},
     "output_type": "execute_result"
    }
   ],
   "source": [
    "y"
   ]
  },
  {
   "cell_type": "code",
   "execution_count": 34,
   "id": "fef0bf87-2af1-48c0-8dcf-c86a859bac81",
   "metadata": {},
   "outputs": [],
   "source": [
    "y.update({\"Muzammil\", \"Ali\", \"hasnain\"})\n",
    "# you can added the multiple value to use update"
   ]
  },
  {
   "cell_type": "code",
   "execution_count": 35,
   "id": "43f19285-3d4d-4976-bf75-7473e955084f",
   "metadata": {},
   "outputs": [
    {
     "data": {
      "text/plain": [
       "{78,\n",
       " 89,\n",
       " 90,\n",
       " 98,\n",
       " 'Ali',\n",
       " 'Habib',\n",
       " 'Inam',\n",
       " 'Kareem',\n",
       " 'Muhammad',\n",
       " 'Muzammil',\n",
       " 'hasnain'}"
      ]
     },
     "execution_count": 35,
     "metadata": {},
     "output_type": "execute_result"
    }
   ],
   "source": [
    "y"
   ]
  },
  {
   "cell_type": "code",
   "execution_count": 36,
   "id": "21392036-023c-4268-a9d5-eaf539f2fe3d",
   "metadata": {},
   "outputs": [],
   "source": [
    "y.remove(\"hasnain\") # you can remove the value in set you can use the remove function "
   ]
  },
  {
   "cell_type": "code",
   "execution_count": 37,
   "id": "703a17d3-8fdb-4a1a-92ec-9431cef50111",
   "metadata": {},
   "outputs": [
    {
     "data": {
      "text/plain": [
       "{78, 89, 90, 98, 'Ali', 'Habib', 'Inam', 'Kareem', 'Muhammad', 'Muzammil'}"
      ]
     },
     "execution_count": 37,
     "metadata": {},
     "output_type": "execute_result"
    }
   ],
   "source": [
    "y"
   ]
  },
  {
   "cell_type": "code",
   "execution_count": null,
   "id": "7d826cb4",
   "metadata": {},
   "outputs": [],
   "source": [
    "\n"
   ]
  },
  {
   "cell_type": "code",
   "execution_count": 8,
   "id": "45481845",
   "metadata": {},
   "outputs": [
    {
     "name": "stdout",
     "output_type": "stream",
     "text": [
      "{1, 2, 3, 4, 5, 6, 7, 8, 10, 92}\n",
      "<class 'set'>\n"
     ]
    }
   ],
   "source": [
    "list_A = [1, 2, 3, 4, 5, 6, 7, 8, 92, 2, 2, 2, 2, 10]\n",
    "\n",
    "set_A = set(list_A)  # Convert the list to a set\n",
    "print(set_A)         # Print the set\n",
    "print(type(set_A))   # Print the type of the set"
   ]
  },
  {
   "cell_type": "code",
   "execution_count": 11,
   "id": "37d1f812",
   "metadata": {},
   "outputs": [
    {
     "name": "stdout",
     "output_type": "stream",
     "text": [
      "[1, 2, 3, 4, 5, 6, 7, 8, 100, 10, 92]\n"
     ]
    }
   ],
   "source": [
    "set_A.add(100)  \n",
    "set_A   \n",
    "list_A_Ag = list(set_A)  # Convert the set to a list\n",
    "print(list_A_Ag)         # Print the list"
   ]
  },
  {
   "cell_type": "code",
   "execution_count": 14,
   "id": "6fe6f6a5",
   "metadata": {},
   "outputs": [
    {
     "name": "stdout",
     "output_type": "stream",
     "text": [
      "Second last highest number is: , second_last_high_num:92\n",
      "Second first lowest number is: , second_first_low_num:2\n"
     ]
    }
   ],
   "source": [
    "list_A_Ag.sort()  # Sort the list\n",
    "second_last_high_num = list_A_Ag[-2]\n",
    "second_first_low_num = list_A_Ag[1]\n",
    "print(f\"Second last highest number is: , second_last_high_num:{second_last_high_num}\")\n",
    "print(f\"Second first lowest number is: , second_first_low_num:{second_first_low_num}\")"
   ]
  },
  {
   "cell_type": "markdown",
   "id": "4fd2eb10",
   "metadata": {},
   "source": [
    "#### Union and Intersection function in Python\n",
    "\n",
    "![Union and Intersection](https://encrypted-tbn0.gstatic.com/images?q=tbn:ANd9GcSA_hSuMhCwmQmK17LJRUxgYatatgTecHtIQQ&s)\n"
   ]
  },
  {
   "cell_type": "code",
   "execution_count": 20,
   "id": "89490989",
   "metadata": {},
   "outputs": [
    {
     "name": "stdout",
     "output_type": "stream",
     "text": [
      "{'world', 'hello', 8.98, 'programming', 'inam', 'language', 90, 'python'}\n",
      "{'world', 'is', 'hello', 8.98, 'awesome', 'programming', 'inam', 'language', 90, 'python'}\n",
      "{'world', 'hello', 8.98, 'programming', 'inam', 'language', 90, 'python'}\n",
      "{'world', 'is', 'hello', 8.98, 'awesome', 'programming', 'inam', 'language', 90, 'python'}\n",
      "set()\n"
     ]
    }
   ],
   "source": [
    "x_axis = set([\"hello\", \"world\", \"python\", \"programming\", \"language\" ,8.98,90,\"inam\"])\n",
    "y_axis = set([\"hello\", \"world\", \"python\", \"programming\", \"language\", \"is\", \"awesome\", 90 ,8.98,90,\"inam\"])\n",
    "\n",
    "intersection_val = x_axis.intersection(y_axis) # intersection function is use to find the common value in both set\n",
    "union_val = x_axis.union(y_axis) # union function is use to merge the both set\n",
    "\n",
    "difference_val = x_axis.difference(y_axis) # difference function is use to find the difference value in both set\n",
    "\n",
    "# another method to find the intersection and union\n",
    "intersection_val2 =  x_axis & y_axis\n",
    "union_val2 = x_axis | y_axis\n",
    "\n",
    "print(intersection_val2)\n",
    "print(union_val2)\n",
    "\n",
    "print(intersection_val)\n",
    "print(union_val)\n",
    "print(difference_val)\n",
    "\n"
   ]
  },
  {
   "cell_type": "code",
   "execution_count": 21,
   "id": "cc7c4417",
   "metadata": {},
   "outputs": [
    {
     "name": "stdout",
     "output_type": "stream",
     "text": [
      "the minimum value in list A is: 1\n",
      "the maximum value in list A is: 10\n",
      "the sum of value in list A is: 55\n",
      "the minimum value in set B is: 1\n",
      "the maximum value in set B is: 10\n",
      "the sum of value in set B is: 55\n"
     ]
    }
   ],
   "source": [
    "# min max and sum function in list and set\n",
    "A = [1, 2, 3, 4, 5, 6, 7, 8, 9, 10]\n",
    "B= {1, 2, 3, 4, 5, 6, 7, 8, 9, 10}\n",
    "\n",
    "print(f\"the minimum value in list A is: {min(A)}\")\n",
    "print(f\"the maximum value in list A is: {max(A)}\")\n",
    "print(f\"the sum of value in list A is: {sum(A)}\")\n",
    "\n",
    "print(f\"the minimum value in set B is: {min(B)}\")\n",
    "print(f\"the maximum value in set B is: {max(B)}\")\n",
    "print(f\"the sum of value in set B is: {sum(B)}\")"
   ]
  },
  {
   "cell_type": "markdown",
   "id": "9334374c",
   "metadata": {},
   "source": [
    "## No Mutable sequence  in a set\n",
    " A set not have  a mutable element such as list or dictionary in it. if any , it return  as follow"
   ]
  },
  {
   "cell_type": "code",
   "execution_count": 22,
   "id": "a087d9ca",
   "metadata": {},
   "outputs": [
    {
     "ename": "TypeError",
     "evalue": "unhashable type: 'list'",
     "output_type": "error",
     "traceback": [
      "\u001b[1;31m---------------------------------------------------------------------------\u001b[0m",
      "\u001b[1;31mTypeError\u001b[0m                                 Traceback (most recent call last)",
      "Cell \u001b[1;32mIn[22], line 1\u001b[0m\n\u001b[1;32m----> 1\u001b[0m set_A \u001b[38;5;241m=\u001b[39m {\u001b[38;5;124m\"\u001b[39m\u001b[38;5;124mHello python\u001b[39m\u001b[38;5;124m\"\u001b[39m, \u001b[38;5;124m\"\u001b[39m\u001b[38;5;124mHello world\u001b[39m\u001b[38;5;124m\"\u001b[39m, \u001b[38;5;241m90\u001b[39m, [\u001b[38;5;124m\"\u001b[39m\u001b[38;5;124minam\u001b[39m\u001b[38;5;124m\"\u001b[39m, \u001b[38;5;241m100\u001b[39m]}\n",
      "\u001b[1;31mTypeError\u001b[0m: unhashable type: 'list'"
     ]
    }
   ],
   "source": [
    "# set_A = {\"Hello python\", \"Hello world\", 90, [\"inam\", 100]}"
   ]
  },
  {
   "cell_type": "code",
   "execution_count": 24,
   "id": "6c9c98b9",
   "metadata": {},
   "outputs": [
    {
     "name": "stdout",
     "output_type": "stream",
     "text": [
      "{3, 4, 5, 6, 7, 8, 9, 10}\n",
      "{4, 5, 6, 7, 8, 9, 10}\n"
     ]
    }
   ],
   "source": [
    "# pop and push in set\n",
    "B.pop()\n",
    "print(B)\n",
    "B.pop()\n",
    "print(B)\n",
    "\n"
   ]
  }
 ],
 "metadata": {
  "kernelspec": {
   "display_name": "Python 3",
   "language": "python",
   "name": "python3"
  },
  "language_info": {
   "codemirror_mode": {
    "name": "ipython",
    "version": 3
   },
   "file_extension": ".py",
   "mimetype": "text/x-python",
   "name": "python",
   "nbconvert_exporter": "python",
   "pygments_lexer": "ipython3",
   "version": "3.12.8"
  }
 },
 "nbformat": 4,
 "nbformat_minor": 5
}
