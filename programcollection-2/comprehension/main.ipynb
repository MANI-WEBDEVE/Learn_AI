{
 "cells": [
  {
   "cell_type": "markdown",
   "metadata": {},
   "source": [
    "## Comprehension In python\n",
    "A comprehension is a way to create a new list, dictionary, or set by applying an expression to each item in an existing list, dictionary, or set. It's a short and easy way to make new collections from old ones.\n",
    "\n",
    "Example:\n",
    "```python   \n",
    "# List comprehension\n",
    "numbers = [1, 2, 3, 4, 5]\n",
    "squares = [x * x for x in numbers]\n",
    "print(squares)  # Output: [1, 4, 9, 16, 25]\n",
    "```"
   ]
  },
  {
   "cell_type": "code",
   "execution_count": 2,
   "metadata": {},
   "outputs": [
    {
     "name": "stdout",
     "output_type": "stream",
     "text": [
      "[1, 4, 9, 16, 25, 36, 49]\n",
      "[2, 4, 6]\n"
     ]
    }
   ],
   "source": [
    "# list Comprehension\n",
    "l_1=[1,2,3,4,5,6,7]\n",
    "\n",
    "a= [i**2 for i in l_1]\n",
    "print(a)\n",
    "b=[i for i in l_1 if i % 2 == 0]\n",
    "print(b)"
   ]
  },
  {
   "cell_type": "code",
   "execution_count": 6,
   "metadata": {},
   "outputs": [
    {
     "name": "stdout",
     "output_type": "stream",
     "text": [
      "[1, 4, 9, 16, 25, 36, 49]\n",
      "['Aws', 'Ml', 'Dl', 'Nn', 'Genai']\n"
     ]
    }
   ],
   "source": [
    "# tuple Comprehension\n",
    "c = (i**2 for i in l_1)\n",
    "print(list(c))\n",
    "l_2=[\"aws\", \"ml\", 'dl', 'nn','genai']\n",
    "d=(i.title() for i in l_2)\n",
    "print(list(d))"
   ]
  },
  {
   "cell_type": "code",
   "execution_count": 8,
   "metadata": {},
   "outputs": [
    {
     "name": "stdout",
     "output_type": "stream",
     "text": [
      "{1, 4, 36, 9, 16, 49, 81, 25}\n"
     ]
    }
   ],
   "source": [
    "# set Comprehension\n",
    "\n",
    "set_1 = {1,2,3,4,5,6,7,9}\n",
    "e= {i*i for i in set_1 }\n",
    "print(e)"
   ]
  },
  {
   "cell_type": "code",
   "execution_count": 15,
   "metadata": {},
   "outputs": [
    {
     "name": "stdout",
     "output_type": "stream",
     "text": [
      "{'MuhammadInam': 'name', 19: 'age', 'AI engineer': 'rule'}\n",
      "{'key3': 239, 'key4': 102, 'key5': 90, 'key6': 242}\n"
     ]
    }
   ],
   "source": [
    "# dict comprehension\n",
    "dict_1= {\n",
    "    \"name\":\"MuhammadInam\",\n",
    "    \"age\":19,\n",
    "    \"rule\":\"AI engineer\"\n",
    "}\n",
    "f={val:key for key,val in dict_1.items()}\n",
    "print(f)\n",
    "\n",
    "\n",
    "dict_2={\n",
    "    \"key1\":23,\n",
    "    \"key2\":24,\n",
    "    \"key3\":239,\n",
    "    \"key4\":102,\n",
    "    \"key5\":90,\n",
    "    \"key6\":242,\n",
    "}\n",
    "\n",
    "g={key:val for key, val in dict_2.items() if val > 30}\n",
    "print(g)\n"
   ]
  }
 ],
 "metadata": {
  "kernelspec": {
   "display_name": "Python 3",
   "language": "python",
   "name": "python3"
  },
  "language_info": {
   "codemirror_mode": {
    "name": "ipython",
    "version": 3
   },
   "file_extension": ".py",
   "mimetype": "text/x-python",
   "name": "python",
   "nbconvert_exporter": "python",
   "pygments_lexer": "ipython3",
   "version": "3.12.8"
  }
 },
 "nbformat": 4,
 "nbformat_minor": 2
}
