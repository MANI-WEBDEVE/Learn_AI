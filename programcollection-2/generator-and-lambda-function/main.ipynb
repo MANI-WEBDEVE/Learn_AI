{
 "cells": [
  {
   "cell_type": "markdown",
   "metadata": {},
   "source": [
    "\n",
    "### Definition of a Generator Function and a Lambda Function in Minglish\n",
    "\n",
    "**Generator Function:**\n",
    "Generator function ek aisi function hoti hai jo values ko ek ek karke return karti hai jab tak wo khatam na ho jaye. Yeh `yield` keyword ka use karti hai values ko return karne ke liye.\n",
    "\n",
    "Example:\n",
    "```python\n",
    "def my_generator():\n",
    "    yield 1\n",
    "    yield 2\n",
    "    yield 3\n",
    "\n",
    "for value in my_generator():\n",
    "    print(value)\n",
    "```\n",
    "\n",
    "**Lambda Function:**\n",
    "Lambda function ek anonymous function hoti hai jo ek single expression ko evaluate karti hai. Yeh `lambda` keyword ka use karti hai.\n",
    "\n",
    "Example:\n",
    "```python\n",
    "add = lambda x, y: x + y\n",
    "print(add(2, 3))\n",
    "```\n"
   ]
  },
  {
   "cell_type": "code",
   "execution_count": 9,
   "metadata": {},
   "outputs": [
    {
     "name": "stdout",
     "output_type": "stream",
     "text": [
      "import { v2 as cloudinary } from \"cloudinary\";\n",
      "\n"
     ]
    }
   ],
   "source": [
    "def read_large_file(file_path):\n",
    "    # 'with' statement ka use file ko open karne aur automatically close karne ke liye hota hai\n",
    "    with open(file_path, 'r') as file:\n",
    "        while True:\n",
    "            # 'readline()' function ek line ko read karta hai\n",
    "            line = file.readline()\n",
    "            # 'if not line' condition check karti hai agar line empty hai to loop break ho jaye\n",
    "            if not line:\n",
    "                break\n",
    "            # 'yield' keyword ek ek karke line ko return karta hai\n",
    "            yield line\n",
    "\n",
    "# Example usage:\n",
    "file_path = 'app.js'\n",
    "# for line in read_large_file(file_path):\n",
    "    # 'strip()' function line ke leading aur trailing whitespaces ko remove karta hai\n",
    "    # print(line.strip())\n",
    "\n",
    "print(next(read_large_file(file_path)))"
   ]
  },
  {
   "cell_type": "code",
   "execution_count": 5,
   "metadata": {},
   "outputs": [
    {
     "name": "stdout",
     "output_type": "stream",
     "text": [
      "0\n",
      "1\n",
      "1\n",
      "2\n",
      "3\n"
     ]
    }
   ],
   "source": [
    "def fibonacci_generator(n):\n",
    "    a, b = 0, 1\n",
    "    for _ in range(n):\n",
    "        yield a\n",
    "        # c = a+b\n",
    "        # a = b\n",
    "        # b = c\n",
    "        a,b = b,a+b    \n",
    "# Using the generator\n",
    "n = 5\n",
    "for num in fibonacci_generator(n):\n",
    "    print(num)\n"
   ]
  },
  {
   "cell_type": "code",
   "execution_count": 11,
   "metadata": {},
   "outputs": [
    {
     "data": {
      "text/plain": [
       "'M'"
      ]
     },
     "execution_count": 11,
     "metadata": {},
     "output_type": "execute_result"
    }
   ],
   "source": [
    "my_name= \"Muhammad Inam\"\n",
    "my_name_iter =iter(my_name)\n",
    "next(my_name_iter)"
   ]
  },
  {
   "cell_type": "code",
   "execution_count": 13,
   "metadata": {},
   "outputs": [
    {
     "name": "stdout",
     "output_type": "stream",
     "text": [
      "M\n",
      "u\n",
      "h\n",
      "a\n",
      "m\n",
      "m\n",
      "a\n",
      "d\n",
      " \n",
      "I\n",
      "n\n",
      "a\n",
      "m\n"
     ]
    }
   ],
   "source": [
    "for i in my_name:\n",
    "    print(i)"
   ]
  },
  {
   "cell_type": "code",
   "execution_count": 15,
   "metadata": {},
   "outputs": [
    {
     "name": "stdout",
     "output_type": "stream",
     "text": [
      "5\n",
      "5\n"
     ]
    }
   ],
   "source": [
    "# normal function\n",
    "def added(x,y):\n",
    "    return x+y\n",
    "\n",
    "print(added(2,3))\n",
    "\n",
    "#lambda function\n",
    "add = lambda x,y: x+y\n",
    "print(add(2,3))"
   ]
  },
  {
   "cell_type": "code",
   "execution_count": 16,
   "metadata": {},
   "outputs": [
    {
     "name": "stdout",
     "output_type": "stream",
     "text": [
      "8\n"
     ]
    }
   ],
   "source": [
    "power = lambda x,y: x**y\n",
    "print(power(2,3))"
   ]
  },
  {
   "cell_type": "code",
   "execution_count": 20,
   "metadata": {},
   "outputs": [
    {
     "name": "stdout",
     "output_type": "stream",
     "text": [
      "60.8\n",
      "16.0\n"
     ]
    }
   ],
   "source": [
    "c_to_f = lambda c: (9/5)*c + 32\n",
    "print(c_to_f(16))\n",
    "\n",
    "f_to_c = lambda f: (f-32)*(5/9)\n",
    "print(f_to_c(60.8))"
   ]
  }
 ],
 "metadata": {
  "kernelspec": {
   "display_name": "Python 3",
   "language": "python",
   "name": "python3"
  },
  "language_info": {
   "codemirror_mode": {
    "name": "ipython",
    "version": 3
   },
   "file_extension": ".py",
   "mimetype": "text/x-python",
   "name": "python",
   "nbconvert_exporter": "python",
   "pygments_lexer": "ipython3",
   "version": "3.12.9"
  }
 },
 "nbformat": 4,
 "nbformat_minor": 2
}
