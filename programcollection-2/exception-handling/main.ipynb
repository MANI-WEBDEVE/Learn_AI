{
 "cells": [
  {
   "cell_type": "markdown",
   "metadata": {},
   "source": [
    "### Exception Handling\n",
    "0. Exception handling in Python ka matlab hota hai errors ko handle karna.\n",
    "1. Jab program run karte waqt koi error aata hai, toh program crash ho sakta hai.\n",
    "2. Exception handling ka use karke hum errors ko gracefully handle kar sakte hain,\n",
    "3. taaki program bina crash hue smoothly run kar sake."
   ]
  },
  {
   "cell_type": "code",
   "execution_count": 3,
   "metadata": {},
   "outputs": [
    {
     "name": "stdout",
     "output_type": "stream",
     "text": [
      "error to read file [Errno 2] No such file or directory: 'main.txt'\n"
     ]
    }
   ],
   "source": [
    "try:\n",
    "    f = open(\"main.txt\", \"r\")\n",
    "except Exception as err:\n",
    "    print(f\"error to read file {err}\")\n"
   ]
  },
  {
   "cell_type": "code",
   "execution_count": null,
   "metadata": {},
   "outputs": [
    {
     "name": "stdout",
     "output_type": "stream",
     "text": [
      "Result is: 3.3333333333333335\n",
      "Execution completed.\n"
     ]
    }
   ],
   "source": [
    "\n",
    "\n",
    "def exception_handling_example():\n",
    "    try:\n",
    "        # Yeh block of code try karega execute hone ka\n",
    "        result = 10 / 0 \n",
    "    except ZeroDivisionError:\n",
    "        # Agar ZeroDivisionError aata hai, toh yeh block execute hoga\n",
    "        print(\"Error: Division by zero is not allowed.\")\n",
    "    else:\n",
    "        # Agar koi error nahi aata, toh yeh block execute hoga\n",
    "        print(\"Result is:\", result)\n",
    "    finally:\n",
    "        # Yeh block hamesha execute hoga, chahe error aaye ya na aaye\n",
    "        print(\"Execution completed.\")\n",
    "\n",
    "# Function ko call karke dekhte hain\n",
    "exception_handling_example()"
   ]
  },
  {
   "cell_type": "markdown",
   "metadata": {},
   "source": [
    "##### Custom Exception Handling"
   ]
  },
  {
   "cell_type": "code",
   "execution_count": 6,
   "metadata": {},
   "outputs": [
    {
     "name": "stdout",
     "output_type": "stream",
     "text": [
      "You are not eligible to get a bike license bacause you are older person\n"
     ]
    }
   ],
   "source": [
    "class validationBikeLicense(Exception):\n",
    "\n",
    "    def __init__(self,messege):\n",
    "        self.messege = messege  \n",
    "\n",
    "def check_bike_license(age):\n",
    "    if (age < 18 and age < 0):\n",
    "        raise validationBikeLicense(\"You are not eligible to get a bike license\")\n",
    "    elif (age >= 18 and age <= 60):\n",
    "        raise validationBikeLicense(\"You are eligible to get a bike license\")\n",
    "    else :\n",
    "        raise validationBikeLicense(\"You are not eligible to get a bike license bacause you are older person\")\n",
    "\n",
    "age = int(input(\"Enter your age: \"))\n",
    "\n",
    "try:\n",
    "    check_bike_license(age)\n",
    "except validationBikeLicense as e:\n",
    "    print(e.messege)\n"
   ]
  },
  {
   "cell_type": "markdown",
   "metadata": {},
   "source": [
    "## List of Exception Handling"
   ]
  },
  {
   "cell_type": "code",
   "execution_count": 11,
   "metadata": {},
   "outputs": [
    {
     "name": "stdout",
     "output_type": "stream",
     "text": [
      "[Errno 2] No such file or directory: 'info.json'\n",
      "Please create info.json file\n",
      "list index out of range\n",
      "division by zero\n",
      "'fullName'\n",
      "name 'types' is not defined\n"
     ]
    }
   ],
   "source": [
    "try:\n",
    "    with open(\"info.json\", \"r\") as f:\n",
    "        f.read()\n",
    "except FileNotFoundError as error:\n",
    "    print(error)\n",
    "    print(\"Please create info.json file\")\n",
    "    exit(1)\n",
    "###################################################\n",
    "try:\n",
    "    l_1=[1,2,3,4,\"inam\"]\n",
    "    print(l_1[5])\n",
    "except (IndexError, IndentationError) as error:\n",
    "    print(error)    \n",
    "\n",
    "####################################################\n",
    "\n",
    "try: \n",
    "    a=10/0\n",
    "    print(a)\n",
    "except ZeroDivisionError as error:\n",
    "    print(error)\n",
    "\n",
    "\n",
    "####################################################\n",
    "\n",
    "try:\n",
    "    dict_1={'name':\"iname\", 1:[1,2,3,4]}\n",
    "    print(dict_1[\"fullName\"])\n",
    "except KeyError as error:\n",
    "    print(error)\n",
    "\n",
    "####################################################\n",
    "\n",
    "try:\n",
    "    a =10\n",
    "    types(a)\n",
    "except (TypeError, NameError) as error:\n",
    "    print(error)"
   ]
  },
  {
   "cell_type": "code",
   "execution_count": null,
   "metadata": {},
   "outputs": [],
   "source": []
  }
 ],
 "metadata": {
  "kernelspec": {
   "display_name": "Python 3",
   "language": "python",
   "name": "python3"
  },
  "language_info": {
   "codemirror_mode": {
    "name": "ipython",
    "version": 3
   },
   "file_extension": ".py",
   "mimetype": "text/x-python",
   "name": "python",
   "nbconvert_exporter": "python",
   "pygments_lexer": "ipython3",
   "version": "3.12.8"
  }
 },
 "nbformat": 4,
 "nbformat_minor": 2
}
