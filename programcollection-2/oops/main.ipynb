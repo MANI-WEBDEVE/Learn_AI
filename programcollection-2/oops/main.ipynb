{
 "cells": [
  {
   "cell_type": "markdown",
   "metadata": {},
   "source": [
    "# OOPS stands for Object-Oriente Programming System\n",
    "\n",
    "#### Classes and Object\n",
    "1. Class is a Blueprint for that objects or for creating object\n",
    "2. An Object is simply a collection of data(variables) and methods(functions) that acts on those data\n",
    "3. Objects get their variables and functions from class \n",
    "4. Object are nothing but an ecapsulation of variable and function into a single entity\n",
    "5. Self Parameter is a reference to the current instance of the class and is used to access variable that"
   ]
  },
  {
   "cell_type": "code",
   "execution_count": 19,
   "metadata": {},
   "outputs": [],
   "source": [
    "a = 56 # type of <class int>\n",
    "b = \"Inam\" # type of <class str>"
   ]
  },
  {
   "cell_type": "code",
   "execution_count": 20,
   "metadata": {},
   "outputs": [],
   "source": [
    "# syntex of class \n",
    "class person:\n",
    "    pass\n",
    "# this is basic syntex of class"
   ]
  },
  {
   "cell_type": "code",
   "execution_count": 21,
   "metadata": {},
   "outputs": [
    {
     "data": {
      "text/plain": [
       "3.14"
      ]
     },
     "execution_count": 21,
     "metadata": {},
     "output_type": "execute_result"
    }
   ],
   "source": [
    "class myNum:\n",
    "    pi=3.14\n",
    "\n",
    "obj = myNum() # creating object of myNum class\n",
    "obj.pi # accessing attribute"
   ]
  },
  {
   "cell_type": "markdown",
   "metadata": {},
   "source": [
    "__init__ Method:\n",
    "\n",
    "__init__ method ek constructor hai jo class ka instance banate waqt automatically call hota hai.\n",
    "Is method ka use instance variables ko initialize karne ke liye hota hai.\n",
    "self parameter class ke current instance ko refer karta hai, jisse instance variables ko access aur modify kiya ja sakta hai.\n",
    "self Parameter:\n",
    "\n",
    "__self__ ek conventional name hai jo class ke current instance ko refer karta hai.\n",
    "Iska use instance variables aur methods ko access karne ke liye hota hai.\n",
    "Jab bhi aap class ke kisi method ko define karte hain, aapko self parameter ko first argument ke roop mein include karna hota hai.\n",
    "\n",
    "__init__ method ek constructor hai jo class ka instance banate waqt call hota hai aur instance variables ko initialize karta hai. self parameter class ke current instance ko refer karta hai aur iska use instance variables aur methods ko access karne ke liye hota hai."
   ]
  },
  {
   "cell_type": "code",
   "execution_count": 22,
   "metadata": {},
   "outputs": [
    {
     "name": "stdout",
     "output_type": "stream",
     "text": [
      "Welcome to my class\n"
     ]
    }
   ],
   "source": [
    "class person:\n",
    "    def welCome_msg(self):\n",
    "        print(\"Welcome to my class\")\n",
    "\n",
    "obj = person()\n",
    "obj.welCome_msg()"
   ]
  },
  {
   "cell_type": "code",
   "execution_count": 23,
   "metadata": {},
   "outputs": [
    {
     "name": "stdout",
     "output_type": "stream",
     "text": [
      "Start the Engine Toyota\n"
     ]
    }
   ],
   "source": [
    "#Instance ek specific object hota hai jo kisi class ka ek particular example hota hai. Jab aap ek class define karte hain, to aap ek blueprint ya template banate hain. Us class ka instance banane ka matlab hai us blueprint ka ek actual object create karna.\n",
    "class Car:\n",
    "\n",
    "    def __init__(self, color, model, feature):\n",
    "        self.color = color\n",
    "        self.model= model\n",
    "        self.feature = feature\n",
    "    \n",
    "    def start(self):\n",
    "        print(f\"Start the Engine {self.model}\")\n",
    "\n",
    "car_obj = Car(\"cyan\", \"Toyota\", \"fuel engine\")\n",
    "\n",
    "car_obj.start()"
   ]
  },
  {
   "cell_type": "code",
   "execution_count": 24,
   "metadata": {},
   "outputs": [
    {
     "name": "stdout",
     "output_type": "stream",
     "text": [
      "Inam\n",
      "(10, 'Inam', 'AI-Engineer')\n"
     ]
    }
   ],
   "source": [
    "class emp_info:\n",
    "    def __init__(self, emp_id, emp_name, emp_rule): #and self keyword use any keyword but first method argument reference\n",
    "        self.emp_id1=emp_id\n",
    "        self.emp_name1=emp_name\n",
    "        self.emp_rule1=emp_rule\n",
    "    \n",
    "    def empData(self):\n",
    "        return self.emp_id1, self.emp_name1, self.emp_rule1\n",
    "\n",
    "emp_1 = emp_info(10, \"Inam\", \"AI-Engineer\")\n",
    "print(emp_1.emp_name1)\n",
    "print(emp_1.empData())"
   ]
  },
  {
   "cell_type": "markdown",
   "metadata": {},
   "source": [
    "## Encapsulation\n",
    "1. It help in hiding the internal implementation details of a class and exposing only what is necessary\n",
    "\n",
    "Encapsulation ek object-oriented programming concept hai jisme data aur methods ko ek single unit mein bundle kiya jata hai. Iska main purpose data ko protect karna aur usko directly access karne se rokna hota hai. Encapsulation se hum class ke internal details ko hide kar sakte hain aur sirf necessary information ko expose karte hain.\n",
    "\n"
   ]
  },
  {
   "cell_type": "code",
   "execution_count": 1,
   "metadata": {},
   "outputs": [],
   "source": [
    "class test_encap:\n",
    "\n",
    "    def __init__(self, id, name, rule, salary):\n",
    "        self.id = id\n",
    "        self.name = name\n",
    "        self.rule = rule\n",
    "        self.salary = salary\n",
    "\n",
    "    def get_id(self):\n",
    "        return self.id"
   ]
  },
  {
   "cell_type": "code",
   "execution_count": 7,
   "metadata": {},
   "outputs": [
    {
     "name": "stdout",
     "output_type": "stream",
     "text": [
      "10\n",
      "update_id: 20\n",
      "10000\n",
      "update_salary: 20000\n"
     ]
    }
   ],
   "source": [
    "emp_1 = test_encap(10, \"Inam\", \"AI-Engineer\", 10000)\n",
    "print(emp_1.get_id())\n",
    "update_id = emp_1.id = 20\n",
    "print(f\"update_id: {update_id}\")\n",
    "print(emp_1.salary)\n",
    "update_salary = emp_1.salary = 20000\n",
    "print(f\"update_salary: {update_salary}\")"
   ]
  },
  {
   "cell_type": "code",
   "execution_count": 12,
   "metadata": {},
   "outputs": [],
   "source": [
    "class Bank_Amount:\n",
    "\n",
    "    def __init__(self, id, username, balance):\n",
    "        self.__id= id\n",
    "        self.__username= username\n",
    "        self.__balance=balance\n",
    "    \n",
    "    def set_username(self, username):\n",
    "        self.__username = username"
   ]
  },
  {
   "cell_type": "code",
   "execution_count": 17,
   "metadata": {},
   "outputs": [
    {
     "name": "stdout",
     "output_type": "stream",
     "text": [
      "kasahan\n",
      "20\n"
     ]
    }
   ],
   "source": [
    "user_1 = Bank_Amount(1, \"inam\", '50,000')\n",
    "user_2 = Bank_Amount(2, \"tahir\", '190,000')\n",
    "user_3 = Bank_Amount(3, \"haron\", '100,000')\n",
    "\n",
    "# print(user_1.balance) not accessable\n",
    "\n",
    "user_2.set_username(\"kasahan\")\n",
    "print(user_2._Bank_Amount__username)\n",
    "user_2_update = user_2._Bank_Amount__balance = 20\n",
    "print(user_2_update)"
   ]
  },
  {
   "cell_type": "code",
   "execution_count": 63,
   "metadata": {},
   "outputs": [],
   "source": [
    "class Bank_Account :\n",
    "\n",
    "    def __init__(self, balance):\n",
    "        self.__balance = balance\n",
    "    \n",
    "    def deposite(self, amount):\n",
    "        self.__balance = self.__balance + amount\n",
    "        print(f\"Your balance is {self.__balance}\")\n",
    "    def with_draw(self, amount):\n",
    "        if self.__balance > amount:\n",
    "            self.__balance = self.__balance - amount\n",
    "            print(f\"with draw {amount} with draw succesfully and current amount {self.__balance}\")\n",
    "        else :\n",
    "            print(f\"you balanec is {self.__balance} greater you balnce amount\")\n",
    "    \n",
    "    def get_Amount(self):\n",
    "        print(f\"your balance is {self.__balance}\")"
   ]
  },
  {
   "cell_type": "code",
   "execution_count": 64,
   "metadata": {},
   "outputs": [
    {
     "name": "stdout",
     "output_type": "stream",
     "text": [
      "with draw 300 with draw succesfully and current amount 700\n"
     ]
    }
   ],
   "source": [
    "bank_am = Bank_Account(1000)\n",
    "\n",
    "bank_am.with_draw(300)\n"
   ]
  },
  {
   "cell_type": "code",
   "execution_count": 65,
   "metadata": {},
   "outputs": [
    {
     "name": "stdout",
     "output_type": "stream",
     "text": [
      "your balance is 700\n"
     ]
    }
   ],
   "source": [
    "bank_am.get_Amount()"
   ]
  },
  {
   "cell_type": "code",
   "execution_count": 66,
   "metadata": {},
   "outputs": [
    {
     "name": "stdout",
     "output_type": "stream",
     "text": [
      "Your balance is 10000700\n"
     ]
    }
   ],
   "source": [
    "bank_am.deposite(10000000)"
   ]
  },
  {
   "cell_type": "code",
   "execution_count": 67,
   "metadata": {},
   "outputs": [
    {
     "name": "stdout",
     "output_type": "stream",
     "text": [
      "with draw 10000 with draw succesfully and current amount 9990700\n",
      "your balance is 9990700\n"
     ]
    }
   ],
   "source": [
    "bank_am.with_draw(10000)\n",
    "bank_am.get_Amount()"
   ]
  }
 ],
 "metadata": {
  "kernelspec": {
   "display_name": "Python 3",
   "language": "python",
   "name": "python3"
  },
  "language_info": {
   "codemirror_mode": {
    "name": "ipython",
    "version": 3
   },
   "file_extension": ".py",
   "mimetype": "text/x-python",
   "name": "python",
   "nbconvert_exporter": "python",
   "pygments_lexer": "ipython3",
   "version": "3.12.8"
  }
 },
 "nbformat": 4,
 "nbformat_minor": 2
}
