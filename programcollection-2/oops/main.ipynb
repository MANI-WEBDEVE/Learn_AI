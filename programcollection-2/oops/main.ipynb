{
 "cells": [
  {
   "cell_type": "markdown",
   "metadata": {},
   "source": [
    "# OOPS stands for Object-Oriente Programming System\n",
    "\n",
    "#### Classes and Object\n",
    "1. Class is a Blueprint for that objects or for creating object\n",
    "2. An Object is simply a collection of data(variables) and methods(functions) that acts on those data\n",
    "3. Objects get their variables and functions from class \n",
    "4. Object are nothing but an ecapsulation of variable and function into a single entity\n",
    "5. Self Parameter is a reference to the current instance of the class and is used to access variable that"
   ]
  },
  {
   "cell_type": "code",
   "execution_count": 19,
   "metadata": {},
   "outputs": [],
   "source": [
    "a = 56 # type of <class int>\n",
    "b = \"Inam\" # type of <class str>"
   ]
  },
  {
   "cell_type": "code",
   "execution_count": 20,
   "metadata": {},
   "outputs": [],
   "source": [
    "# syntex of class \n",
    "class person:\n",
    "    pass\n",
    "# this is basic syntex of class"
   ]
  },
  {
   "cell_type": "code",
   "execution_count": 21,
   "metadata": {},
   "outputs": [
    {
     "data": {
      "text/plain": [
       "3.14"
      ]
     },
     "execution_count": 21,
     "metadata": {},
     "output_type": "execute_result"
    }
   ],
   "source": [
    "class myNum:\n",
    "    pi=3.14\n",
    "\n",
    "obj = myNum() # creating object of myNum class\n",
    "obj.pi # accessing attribute"
   ]
  },
  {
   "cell_type": "markdown",
   "metadata": {},
   "source": [
    "__init__ Method:\n",
    "\n",
    "__init__ method ek constructor hai jo class ka instance banate waqt automatically call hota hai.\n",
    "Is method ka use instance variables ko initialize karne ke liye hota hai.\n",
    "self parameter class ke current instance ko refer karta hai, jisse instance variables ko access aur modify kiya ja sakta hai.\n",
    "self Parameter:\n",
    "\n",
    "__self__ ek conventional name hai jo class ke current instance ko refer karta hai.\n",
    "Iska use instance variables aur methods ko access karne ke liye hota hai.\n",
    "Jab bhi aap class ke kisi method ko define karte hain, aapko self parameter ko first argument ke roop mein include karna hota hai.\n",
    "\n",
    "__init__ method ek constructor hai jo class ka instance banate waqt call hota hai aur instance variables ko initialize karta hai. self parameter class ke current instance ko refer karta hai aur iska use instance variables aur methods ko access karne ke liye hota hai."
   ]
  },
  {
   "cell_type": "code",
   "execution_count": 22,
   "metadata": {},
   "outputs": [
    {
     "name": "stdout",
     "output_type": "stream",
     "text": [
      "Welcome to my class\n"
     ]
    }
   ],
   "source": [
    "class person:\n",
    "    def welCome_msg(self):\n",
    "        print(\"Welcome to my class\")\n",
    "\n",
    "obj = person()\n",
    "obj.welCome_msg()"
   ]
  },
  {
   "cell_type": "code",
   "execution_count": 23,
   "metadata": {},
   "outputs": [
    {
     "name": "stdout",
     "output_type": "stream",
     "text": [
      "Start the Engine Toyota\n"
     ]
    }
   ],
   "source": [
    "#Instance ek specific object hota hai jo kisi class ka ek particular example hota hai. Jab aap ek class define karte hain, to aap ek blueprint ya template banate hain. Us class ka instance banane ka matlab hai us blueprint ka ek actual object create karna.\n",
    "class Car:\n",
    "\n",
    "    def __init__(self, color, model, feature):\n",
    "        self.color = color\n",
    "        self.model= model\n",
    "        self.feature = feature\n",
    "    \n",
    "    def start(self):\n",
    "        print(f\"Start the Engine {self.model}\")\n",
    "\n",
    "car_obj = Car(\"cyan\", \"Toyota\", \"fuel engine\")\n",
    "\n",
    "car_obj.start()"
   ]
  },
  {
   "cell_type": "code",
   "execution_count": 24,
   "metadata": {},
   "outputs": [
    {
     "name": "stdout",
     "output_type": "stream",
     "text": [
      "Inam\n",
      "(10, 'Inam', 'AI-Engineer')\n"
     ]
    }
   ],
   "source": [
    "class emp_info:\n",
    "    def __init__(self, emp_id, emp_name, emp_rule): #and self keyword use any keyword but first method argument reference\n",
    "        self.emp_id1=emp_id\n",
    "        self.emp_name1=emp_name\n",
    "        self.emp_rule1=emp_rule\n",
    "    \n",
    "    def empData(self):\n",
    "        return self.emp_id1, self.emp_name1, self.emp_rule1\n",
    "\n",
    "emp_1 = emp_info(10, \"Inam\", \"AI-Engineer\")\n",
    "print(emp_1.emp_name1)\n",
    "print(emp_1.empData())"
   ]
  }
 ],
 "metadata": {
  "kernelspec": {
   "display_name": "Python 3",
   "language": "python",
   "name": "python3"
  },
  "language_info": {
   "codemirror_mode": {
    "name": "ipython",
    "version": 3
   },
   "file_extension": ".py",
   "mimetype": "text/x-python",
   "name": "python",
   "nbconvert_exporter": "python",
   "pygments_lexer": "ipython3",
   "version": "3.12.8"
  }
 },
 "nbformat": 4,
 "nbformat_minor": 2
}
