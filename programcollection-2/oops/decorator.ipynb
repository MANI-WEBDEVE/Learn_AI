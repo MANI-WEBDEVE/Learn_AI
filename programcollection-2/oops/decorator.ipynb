{
 "cells": [
  {
   "cell_type": "markdown",
   "metadata": {},
   "source": [
    "## Decorator\n",
    "- Decorator ek function hota hai jo dusre function ko modify ya enhance karta hai bina uska structure change kiye. Yeh function ko as input leta hai aur ek naya function return karta hai. Python mein, decorators ko @ symbol ke sath use kiya jata hai."
   ]
  },
  {
   "cell_type": "code",
   "execution_count": 45,
   "metadata": {},
   "outputs": [],
   "source": [
    "def deco(func):\n",
    "    def wrapper():\n",
    "        print(\"deco\")\n",
    "        func()\n",
    "        print(\"deco\")\n",
    "    return wrapper"
   ]
  },
  {
   "cell_type": "code",
   "execution_count": 46,
   "metadata": {},
   "outputs": [],
   "source": [
    "@deco\n",
    "def add():\n",
    "    print(2+2)"
   ]
  },
  {
   "cell_type": "code",
   "execution_count": 47,
   "metadata": {},
   "outputs": [
    {
     "name": "stdout",
     "output_type": "stream",
     "text": [
      "deco\n",
      "4\n",
      "deco\n"
     ]
    }
   ],
   "source": [
    "add()"
   ]
  },
  {
   "cell_type": "code",
   "execution_count": 55,
   "metadata": {},
   "outputs": [
    {
     "name": "stdout",
     "output_type": "stream",
     "text": [
      "0.010002374649047852\n"
     ]
    }
   ],
   "source": [
    "import time\n",
    "\n",
    "def time_deco(func):\n",
    "    def wrapper():\n",
    "        start = time.time()\n",
    "        func()\n",
    "        end = time.time()\n",
    "        print(end - start)\n",
    "    return wrapper\n",
    "\n",
    "@time_deco\n",
    "def test():\n",
    "    for i in range(100000):\n",
    "        pass\n",
    "\n",
    "test()"
   ]
  },
  {
   "cell_type": "markdown",
   "metadata": {},
   "source": [
    "\n",
    "## Built in Decorator\n",
    "1. @staticMethod - Static method ek aisa method hota hai jo class ke instance ya object se bind nahi hota. Isko bina kisi instance ke call kiya ja sakta hai.\n",
    "2. @classMethod - Class method ek aisa method hota hai jo class ko as a parameter leta hai. Isko class ke instance ya object ke bina bhi call kiya ja sakta hai.\n",
    "3. @property - Property decorator ek aisa decorator hota hai jo method ko attribute ki tarah access karne ki suvidha deta hai. Isse method ko bina parentheses ke call kiya ja sakta hai."
   ]
  },
  {
   "cell_type": "code",
   "execution_count": 56,
   "metadata": {},
   "outputs": [],
   "source": [
    "class our_courses:\n",
    "\n",
    "    def __init__(self, course_name, course_description, course_price):\n",
    "        self.course_name = course_name\n",
    "        self.course_description = course_description\n",
    "        self.__course_price = course_price\n",
    "\n",
    "    @property\n",
    "    def course_price_acess(self):\n",
    "        print(self.__course_price)\n",
    "    \n",
    "    # def course_price_change(self, price):\n",
    "    #     self.__course_price = price\n",
    "\n",
    "    @course_price_acess.setter\n",
    "    def course_price_change(self, price):\n",
    "        if price <= 3500:\n",
    "            print(\"You are not allowed to change the price\")\n",
    "            pass\n",
    "        else:\n",
    "            self.__course_price = price\n",
    "\n",
    "    @course_price_acess.deleter\n",
    "    def delete_course_price(self):\n",
    "        del self.__course_price\n"
   ]
  },
  {
   "cell_type": "code",
   "execution_count": 58,
   "metadata": {},
   "outputs": [
    {
     "name": "stdout",
     "output_type": "stream",
     "text": [
      "10000\n"
     ]
    }
   ],
   "source": [
    "course_1 = our_courses(\"python\", \"this is python course\", 10000)\n",
    "\n",
    "#  course_1._our_courses__course_price \n",
    "course_1.course_price_acess\n",
    "course_1.course_price_change = 20000\n",
    "del course_1.delete_course_price"
   ]
  },
  {
   "cell_type": "code",
   "execution_count": 60,
   "metadata": {},
   "outputs": [],
   "source": [
    "# couserse_1.course_price_acess { name 'couserse_1' is not defined}"
   ]
  },
  {
   "cell_type": "code",
   "execution_count": null,
   "metadata": {},
   "outputs": [],
   "source": [
    "# Static method\n",
    "class Math:\n",
    "    def __init__(self, num):\n",
    "        self.num = num\n",
    "\n",
    "    def addtonum(self, n):\n",
    "        self.num = self.num + n\n",
    "\n",
    "    @staticmethod\n",
    "    def add(a, b):\n",
    "        return a + b\n",
    "\n",
    "\n",
    "a = Math(5)\n",
    "print(a.num)\n",
    "a.addtonum(6)\n",
    "print(a.num)\n",
    "print(Math.add(1, 2)) # this is beauty no need to create instance object directly call the function"
   ]
  },
  {
   "cell_type": "code",
   "execution_count": 61,
   "metadata": {},
   "outputs": [
    {
     "name": "stdout",
     "output_type": "stream",
     "text": [
      "5\n",
      "11\n",
      "3\n"
     ]
    }
   ],
   "source": [
    "# class method\n",
    "class Math:\n",
    "    def __init__(self, num):\n",
    "        self.num = num\n",
    "\n",
    "    def addtonum(self, n):\n",
    "        self.num = self.num + n\n",
    "\n",
    "    @classmethod\n",
    "    def add(cls, a, b):\n",
    "        return a + b\n",
    "\n",
    "# return cls(a + b)\n",
    "\n",
    "\n",
    "a = Math(5)\n",
    "print(a.num)\n",
    "a.addtonum(6)\n",
    "print(a.num)\n",
    "print(Math.add(1, 2)) # this is beauty no need to create instance object directly call the function"
   ]
  },
  {
   "cell_type": "markdown",
   "metadata": {},
   "source": [
    "## Method Overloading"
   ]
  },
  {
   "cell_type": "code",
   "execution_count": 63,
   "metadata": {},
   "outputs": [
    {
     "name": "stdout",
     "output_type": "stream",
     "text": [
      "6\n"
     ]
    }
   ],
   "source": [
    "def add(a,b):\n",
    "    return a+b\n",
    "\n",
    "def add(a,b,c):\n",
    "    return a+b+c\n",
    "\n",
    "# print(add(1,2)) # this is define two argument but take three beacuse it is overloading\n",
    "print(add(1,2,3))"
   ]
  },
  {
   "cell_type": "markdown",
   "metadata": {},
   "source": [
    "## Magic or Dunder"
   ]
  },
  {
   "cell_type": "code",
   "execution_count": 64,
   "metadata": {},
   "outputs": [
    {
     "data": {
      "text/plain": [
       "['__abs__',\n",
       " '__add__',\n",
       " '__and__',\n",
       " '__bool__',\n",
       " '__ceil__',\n",
       " '__class__',\n",
       " '__delattr__',\n",
       " '__dir__',\n",
       " '__divmod__',\n",
       " '__doc__',\n",
       " '__eq__',\n",
       " '__float__',\n",
       " '__floor__',\n",
       " '__floordiv__',\n",
       " '__format__',\n",
       " '__ge__',\n",
       " '__getattribute__',\n",
       " '__getnewargs__',\n",
       " '__getstate__',\n",
       " '__gt__',\n",
       " '__hash__',\n",
       " '__index__',\n",
       " '__init__',\n",
       " '__init_subclass__',\n",
       " '__int__',\n",
       " '__invert__',\n",
       " '__le__',\n",
       " '__lshift__',\n",
       " '__lt__',\n",
       " '__mod__',\n",
       " '__mul__',\n",
       " '__ne__',\n",
       " '__neg__',\n",
       " '__new__',\n",
       " '__or__',\n",
       " '__pos__',\n",
       " '__pow__',\n",
       " '__radd__',\n",
       " '__rand__',\n",
       " '__rdivmod__',\n",
       " '__reduce__',\n",
       " '__reduce_ex__',\n",
       " '__repr__',\n",
       " '__rfloordiv__',\n",
       " '__rlshift__',\n",
       " '__rmod__',\n",
       " '__rmul__',\n",
       " '__ror__',\n",
       " '__round__',\n",
       " '__rpow__',\n",
       " '__rrshift__',\n",
       " '__rshift__',\n",
       " '__rsub__',\n",
       " '__rtruediv__',\n",
       " '__rxor__',\n",
       " '__setattr__',\n",
       " '__sizeof__',\n",
       " '__str__',\n",
       " '__sub__',\n",
       " '__subclasshook__',\n",
       " '__truediv__',\n",
       " '__trunc__',\n",
       " '__xor__',\n",
       " 'as_integer_ratio',\n",
       " 'bit_count',\n",
       " 'bit_length',\n",
       " 'conjugate',\n",
       " 'denominator',\n",
       " 'from_bytes',\n",
       " 'imag',\n",
       " 'is_integer',\n",
       " 'numerator',\n",
       " 'real',\n",
       " 'to_bytes']"
      ]
     },
     "execution_count": 64,
     "metadata": {},
     "output_type": "execute_result"
    }
   ],
   "source": [
    "dir(int)"
   ]
  }
 ],
 "metadata": {
  "kernelspec": {
   "display_name": "Python 3",
   "language": "python",
   "name": "python3"
  },
  "language_info": {
   "codemirror_mode": {
    "name": "ipython",
    "version": 3
   },
   "file_extension": ".py",
   "mimetype": "text/x-python",
   "name": "python",
   "nbconvert_exporter": "python",
   "pygments_lexer": "ipython3",
   "version": "3.12.8"
  }
 },
 "nbformat": 4,
 "nbformat_minor": 2
}
