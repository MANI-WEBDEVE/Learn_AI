{
 "cells": [
  {
   "cell_type": "markdown",
   "metadata": {},
   "source": [
    "## String Concatination In Python"
   ]
  },
  {
   "cell_type": "code",
   "execution_count": 2,
   "metadata": {},
   "outputs": [
    {
     "name": "stdout",
     "output_type": "stream",
     "text": [
      "Muhammad Inam\n"
     ]
    }
   ],
   "source": [
    "string1 = \"Muhammad\"\n",
    "string2 = \" Inam\"\n",
    "string3 = string1 + string2\n",
    "print(string3)"
   ]
  },
  {
   "cell_type": "markdown",
   "metadata": {},
   "source": [
    "## Python Type Casting \n",
    "1. Implicit casting - In Implicit  type casting, the  python complier internally  one varaible  into another type cast without the external action  of the user\n",
    "2. Explicit casting -  In Explicit type casting, the user expliciting the force the complier the change the type to another type"
   ]
  },
  {
   "cell_type": "code",
   "execution_count": null,
   "metadata": {},
   "outputs": [],
   "source": [
    "# Implicit type\n",
    "# example how to typecast the compiler without external action\n",
    "int_num = 90\n",
    "float_num = 10.23\n",
    "print(type(int_num))\n",
    "print(type(float_num))\n",
    "\n",
    "ans = int_num + float_num\n",
    "print(ans)\n",
    "print(type(ans))"
   ]
  },
  {
   "cell_type": "code",
   "execution_count": 11,
   "metadata": {},
   "outputs": [
    {
     "name": "stdout",
     "output_type": "stream",
     "text": [
      "<class 'int'>\n",
      "<class 'str'>\n",
      "179.0\n"
     ]
    }
   ],
   "source": [
    "# Explicit typeCasting\n",
    "var = 90\n",
    "print(type(var))\n",
    "ans = str(var)\n",
    "print(type(ans))\n",
    "\n",
    "var_2 = 89\n",
    "answere = var + var_2\n",
    "print(float(answere))\n",
    "\n"
   ]
  },
  {
   "cell_type": "raw",
   "metadata": {},
   "source": [
    "## String Methods"
   ]
  },
  {
   "cell_type": "code",
   "execution_count": 12,
   "metadata": {},
   "outputs": [
    {
     "data": {
      "text/plain": [
       "'MUHAMMAD INAM'"
      ]
     },
     "execution_count": 12,
     "metadata": {},
     "output_type": "execute_result"
    }
   ],
   "source": [
    "name = \"muhammad inam\"\n",
    "name.upper() # all letters Upperacse"
   ]
  },
  {
   "cell_type": "raw",
   "metadata": {},
   "source": [
    "name.capitalize() # first letter capitalized\n",
    "\n"
   ]
  },
  {
   "cell_type": "code",
   "execution_count": 27,
   "metadata": {},
   "outputs": [
    {
     "data": {
      "text/plain": [
       "'muhammmad inam khan'"
      ]
     },
     "execution_count": 27,
     "metadata": {},
     "output_type": "execute_result"
    }
   ],
   "source": [
    "main_name= \"MUHAMMMAD INAM KHAN\"\n",
    "main_name.lower() # all letter convert the lower case "
   ]
  },
  {
   "cell_type": "code",
   "execution_count": 14,
   "metadata": {},
   "outputs": [
    {
     "data": {
      "text/plain": [
       "'Muhammad Inam'"
      ]
     },
     "execution_count": 14,
     "metadata": {},
     "output_type": "execute_result"
    }
   ],
   "source": [
    "name.title() # this method all word fisrt letter capitalize like title heading"
   ]
  },
  {
   "cell_type": "code",
   "execution_count": 23,
   "metadata": {},
   "outputs": [
    {
     "name": "stdout",
     "output_type": "stream",
     "text": [
      "mani inam\n"
     ]
    },
    {
     "data": {
      "text/plain": [
       "'muhammad inam'"
      ]
     },
     "execution_count": 23,
     "metadata": {},
     "output_type": "execute_result"
    }
   ],
   "source": [
    "nike_nam = 'mani inam'\n",
    "print(nike_nam) \n",
    "nike_nam.replace(\"mani\", 'muhammad') # this method replace the word example here !"
   ]
  },
  {
   "cell_type": "code",
   "execution_count": 33,
   "metadata": {},
   "outputs": [
    {
     "data": {
      "text/plain": [
       "2"
      ]
     },
     "execution_count": 33,
     "metadata": {},
     "output_type": "execute_result"
    }
   ],
   "source": [
    "para_random = \"This is Python Guide Code for Every Python student and This Code Easy to understand\"\n",
    "para_random.count(\"Code\") # this count method find the same word of paragraph but is case sansitive like Code !== code \n",
    "# para_random.count(\"code\")"
   ]
  },
  {
   "cell_type": "code",
   "execution_count": 34,
   "metadata": {},
   "outputs": [
    {
     "data": {
      "text/plain": [
       "'my first name is Muhammad and last name is Inam'"
      ]
     },
     "execution_count": 34,
     "metadata": {},
     "output_type": "execute_result"
    }
   ],
   "source": [
    "fisrt_name = \"Muhammad\"\n",
    "last_name = \"Inam\"\n",
    "\n",
    "\"my first name is {} and last name is {}\".format(fisrt_name, last_name)"
   ]
  },
  {
   "cell_type": "code",
   "execution_count": 37,
   "metadata": {},
   "outputs": [
    {
     "data": {
      "text/plain": [
       "'Muhammad TahirMuhammad TahirMuhammad TahirMuhammad TahirMuhammad TahirMuhammad TahirMuhammad TahirMuhammad TahirMuhammad TahirMuhammad Tahir'"
      ]
     },
     "execution_count": 37,
     "metadata": {},
     "output_type": "execute_result"
    }
   ],
   "source": [
    "my_name=\"Muhammad Tahir\"\n",
    "my_name*10 # string not addition support but multipilication support in python "
   ]
  },
  {
   "cell_type": "markdown",
   "metadata": {},
   "source": [
    "## Relational Operator in Python\n",
    "1. == is equal to\n",
    "2. \">\"= is greater and equal to\n",
    "3. =< is less than and equal to\n",
    "4. \">\" is Greater than\n",
    "5. \"<\" is less than \n",
    "6. != is not equal to\n"
   ]
  },
  {
   "cell_type": "code",
   "execution_count": 46,
   "metadata": {},
   "outputs": [
    {
     "data": {
      "text/plain": [
       "False"
      ]
     },
     "execution_count": 46,
     "metadata": {},
     "output_type": "execute_result"
    }
   ],
   "source": [
    "num =3 \n",
    "num2= 3\n",
    "\n",
    "num == num2 # its return the True\n",
    "num != num2 # its return False\n",
    "num >= num2 # its return true\n",
    "num <= num2 # its return true\n",
    "num < num2 # its return always false beacuse the value 3 and 3 \n",
    "num > num # same here"
   ]
  },
  {
   "cell_type": "markdown",
   "metadata": {},
   "source": [
    "## Boolean Operator\n",
    "1. \"and\" this operator both condition true return true other False\n",
    "2. \"or\"  this operator both condition any one true and both true return True both False return False\n",
    "3. \"not\" return value opposite to the true value of expression\n"
   ]
  },
  {
   "cell_type": "code",
   "execution_count": 48,
   "metadata": {},
   "outputs": [
    {
     "name": "stdout",
     "output_type": "stream",
     "text": [
      "False\n",
      "True\n",
      "True\n"
     ]
    }
   ],
   "source": [
    "# and operator\n",
    "print(True and False)\n",
    "# or Operator\n",
    "print(True or False)\n",
    "# not operator\n",
    "print(not False)"
   ]
  }
 ],
 "metadata": {
  "kernelspec": {
   "display_name": "Python 3 (ipykernel)",
   "language": "python",
   "name": "python3"
  },
  "language_info": {
   "codemirror_mode": {
    "name": "ipython",
    "version": 3
   },
   "file_extension": ".py",
   "mimetype": "text/x-python",
   "name": "python",
   "nbconvert_exporter": "python",
   "pygments_lexer": "ipython3",
   "version": "3.12.5"
  }
 },
 "nbformat": 4,
 "nbformat_minor": 4
}
