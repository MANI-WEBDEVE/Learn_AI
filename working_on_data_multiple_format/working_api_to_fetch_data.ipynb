{
 "cells": [
  {
   "cell_type": "markdown",
   "id": "114389d0",
   "metadata": {},
   "source": [
    "## Fetch The Data Through API and Convert the DataFrame Format"
   ]
  },
  {
   "cell_type": "markdown",
   "id": "31329b76",
   "metadata": {},
   "source": []
  },
  {
   "cell_type": "code",
   "execution_count": 2,
   "id": "96b440ba",
   "metadata": {},
   "outputs": [],
   "source": [
    "import requests\n",
    "import pandas as pd"
   ]
  },
  {
   "cell_type": "code",
   "execution_count": 36,
   "id": "8a8181aa",
   "metadata": {},
   "outputs": [],
   "source": [
    "url = \"https://cryptocurrency-news2.p.rapidapi.com/v1/cryptodaily\"\n",
    "\n",
    "headers = {\n",
    "\t\"x-rapidapi-key\": \"c5d5beee3fmsh1508c860dd6de8bp1f1b94jsn0394581e961f\",\n",
    "\t\"x-rapidapi-host\": \"cryptocurrency-news2.p.rapidapi.com\"\n",
    "}\n",
    "\n",
    "response = requests.get(url, headers=headers)\n",
    "\n",
    "data = pd.DataFrame(response.json()[\"data\"])"
   ]
  },
  {
   "cell_type": "code",
   "execution_count": 39,
   "id": "88191f08",
   "metadata": {},
   "outputs": [
    {
     "data": {
      "text/html": [
       "<div>\n",
       "<style scoped>\n",
       "    .dataframe tbody tr th:only-of-type {\n",
       "        vertical-align: middle;\n",
       "    }\n",
       "\n",
       "    .dataframe tbody tr th {\n",
       "        vertical-align: top;\n",
       "    }\n",
       "\n",
       "    .dataframe thead th {\n",
       "        text-align: right;\n",
       "    }\n",
       "</style>\n",
       "<table border=\"1\" class=\"dataframe\">\n",
       "  <thead>\n",
       "    <tr style=\"text-align: right;\">\n",
       "      <th></th>\n",
       "      <th>url</th>\n",
       "      <th>title</th>\n",
       "      <th>description</th>\n",
       "      <th>thumbnail</th>\n",
       "      <th>createdAt</th>\n",
       "    </tr>\n",
       "  </thead>\n",
       "  <tbody>\n",
       "    <tr>\n",
       "      <th>0</th>\n",
       "      <td>https://cryptodaily.co.uk/2025/04/avax-25-brea...</td>\n",
       "      <td>AVAX $25 Breakthrough A Possibility? Whales An...</td>\n",
       "      <td>The cryptocurrency market has been going throu...</td>\n",
       "      <td>https://images.cryptodaily.co.uk/space/8EXR0WI...</td>\n",
       "      <td>Sat, 26 Apr 2025 14:09:46 +0100</td>\n",
       "    </tr>\n",
       "    <tr>\n",
       "      <th>1</th>\n",
       "      <td>https://cryptodaily.co.uk/2025/04/pepe-raises-...</td>\n",
       "      <td>PEPE Raises Millions, Aptos Eyes 378% Gains; B...</td>\n",
       "      <td>Explore why Unstaked leads the conversation on...</td>\n",
       "      <td>https://images.cryptodaily.co.uk/space/Screens...</td>\n",
       "      <td>Sat, 26 Apr 2025 11:59:26 +0100</td>\n",
       "    </tr>\n",
       "    <tr>\n",
       "      <th>2</th>\n",
       "      <td>https://cryptodaily.co.uk/2025/04/early-liteco...</td>\n",
       "      <td>Early Litecoin Adopters Become Keen On New Ope...</td>\n",
       "      <td>As Litecoin (LTC) continues to make headlines ...</td>\n",
       "      <td>https://images.cryptodaily.co.uk/space/FBHy658...</td>\n",
       "      <td>Sat, 26 Apr 2025 14:04:45 +0100</td>\n",
       "    </tr>\n",
       "    <tr>\n",
       "      <th>3</th>\n",
       "      <td>https://cryptodaily.co.uk/2025/04/best-crypto-...</td>\n",
       "      <td>Best Crypto Presales 2025: BlockDAG, Cold Wall...</td>\n",
       "      <td>Discover the best crypto presale opportunities...</td>\n",
       "      <td>https://images.cryptodaily.co.uk/space/IMAGE%2...</td>\n",
       "      <td>Sat, 26 Apr 2025 12:05:13 +0100</td>\n",
       "    </tr>\n",
       "    <tr>\n",
       "      <th>4</th>\n",
       "      <td>https://cryptodaily.co.uk/2025/04/coldware-com...</td>\n",
       "      <td>Coldware Combines Payfi, Security &amp; Tokenizati...</td>\n",
       "      <td>With the crypto market continuously evolving, ...</td>\n",
       "      <td>https://images.cryptodaily.co.uk/space/ho4CbXw...</td>\n",
       "      <td>Sat, 26 Apr 2025 14:02:03 +0100</td>\n",
       "    </tr>\n",
       "  </tbody>\n",
       "</table>\n",
       "</div>"
      ],
      "text/plain": [
       "                                                 url  \\\n",
       "0  https://cryptodaily.co.uk/2025/04/avax-25-brea...   \n",
       "1  https://cryptodaily.co.uk/2025/04/pepe-raises-...   \n",
       "2  https://cryptodaily.co.uk/2025/04/early-liteco...   \n",
       "3  https://cryptodaily.co.uk/2025/04/best-crypto-...   \n",
       "4  https://cryptodaily.co.uk/2025/04/coldware-com...   \n",
       "\n",
       "                                               title  \\\n",
       "0  AVAX $25 Breakthrough A Possibility? Whales An...   \n",
       "1  PEPE Raises Millions, Aptos Eyes 378% Gains; B...   \n",
       "2  Early Litecoin Adopters Become Keen On New Ope...   \n",
       "3  Best Crypto Presales 2025: BlockDAG, Cold Wall...   \n",
       "4  Coldware Combines Payfi, Security & Tokenizati...   \n",
       "\n",
       "                                         description  \\\n",
       "0  The cryptocurrency market has been going throu...   \n",
       "1  Explore why Unstaked leads the conversation on...   \n",
       "2  As Litecoin (LTC) continues to make headlines ...   \n",
       "3  Discover the best crypto presale opportunities...   \n",
       "4  With the crypto market continuously evolving, ...   \n",
       "\n",
       "                                           thumbnail  \\\n",
       "0  https://images.cryptodaily.co.uk/space/8EXR0WI...   \n",
       "1  https://images.cryptodaily.co.uk/space/Screens...   \n",
       "2  https://images.cryptodaily.co.uk/space/FBHy658...   \n",
       "3  https://images.cryptodaily.co.uk/space/IMAGE%2...   \n",
       "4  https://images.cryptodaily.co.uk/space/ho4CbXw...   \n",
       "\n",
       "                         createdAt  \n",
       "0  Sat, 26 Apr 2025 14:09:46 +0100  \n",
       "1  Sat, 26 Apr 2025 11:59:26 +0100  \n",
       "2  Sat, 26 Apr 2025 14:04:45 +0100  \n",
       "3  Sat, 26 Apr 2025 12:05:13 +0100  \n",
       "4  Sat, 26 Apr 2025 14:02:03 +0100  "
      ]
     },
     "execution_count": 39,
     "metadata": {},
     "output_type": "execute_result"
    }
   ],
   "source": [
    "data.head()"
   ]
  },
  {
   "cell_type": "code",
   "execution_count": 38,
   "id": "a45aa494",
   "metadata": {},
   "outputs": [],
   "source": [
    "# save the data to a CSV file\n",
    "data.to_csv(\"cryptocurrency_news.csv\", index=False)"
   ]
  }
 ],
 "metadata": {
  "kernelspec": {
   "display_name": "venv",
   "language": "python",
   "name": "python3"
  },
  "language_info": {
   "codemirror_mode": {
    "name": "ipython",
    "version": 3
   },
   "file_extension": ".py",
   "mimetype": "text/x-python",
   "name": "python",
   "nbconvert_exporter": "python",
   "pygments_lexer": "ipython3",
   "version": "3.12.9"
  }
 },
 "nbformat": 4,
 "nbformat_minor": 5
}
