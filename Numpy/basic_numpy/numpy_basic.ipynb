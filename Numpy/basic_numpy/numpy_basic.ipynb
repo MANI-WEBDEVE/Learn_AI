{
  "cells": [
    {
      "cell_type": "markdown",
      "metadata": {
        "id": "E045aKcDJdfb"
      },
      "source": [
        "\n",
        "**Numpy: Basic Definition and Uses**\n",
        "![NumPy Logo](https://numpy.org/doc/stable/_static/numpylogo_dark.svg)\n",
        "---\n",
        "\n",
        "Numpy (Numerical Python) ek Python library hai jisko scientific computing mein use kiya jaata hai. Yeh multidimensional array objects, matrices, aur inpe kaam karne wale functions provide karta hai.\n",
        "\n",
        "\n",
        "---\n",
        "\n",
        "\n",
        "\n",
        "*   Maths calculations: Numpy maths calculations ko easy aur fast banata hai, khaaskar bade datasets ke saath. Isme linear algebra, Fourier transform, random number generation jaise bahut saare useful functions hain.\n",
        "* Data Science: Numpy, pandas aur matplotlib jaise data science libraries ka base hai. Data manipulation, analysis, aur visualization ke liye iska use kiya jaata hai.\n",
        "* Arrays: Numpy ka main feature array hai, jo Python lists se zyada efficient hota hai. Array mein ek hi type ka data store kiya jaata hai, jisse operations tezi se hote hain.\n",
        "* Machine Learning: Machine learning algorithms ko implement karne ke liye Numpy ka use kiya jaata hai. Data preprocessing, feature engineering, aur model training mein yeh madad karta hai.\n",
        "---\n",
        "In short, Numpy ek powerful library hai jo scientific computing, data science, aur machine learning mein useful hai. Yeh maths calculations ko easy aur fast banata hai aur data ko manage karne ke liye efficient tools provide karta hai.\n",
        "\n"
      ]
    },
    {
      "cell_type": "code",
      "execution_count": null,
      "metadata": {
        "colab": {
          "base_uri": "https://localhost:8080/"
        },
        "collapsed": true,
        "id": "4NavRftuJTUP",
        "outputId": "fc2374f0-87b9-48b8-fe06-b7e10447e622"
      },
      "outputs": [],
      "source": [
        "# !pip install numpy"
      ]
    },
    {
      "cell_type": "code",
      "execution_count": null,
      "metadata": {
        "id": "iAgyJCElL1cj"
      },
      "outputs": [],
      "source": [
        "import numpy as np "
      ]
    },
    {
      "cell_type": "code",
      "execution_count": null,
      "metadata": {
        "colab": {
          "base_uri": "https://localhost:8080/"
        },
        "id": "ZW5Y4TL9b4tH",
        "outputId": "f374e1be-ed3b-4716-ee15-382160363172"
      },
      "outputs": [],
      "source": [
        "# create a list\n",
        "l_1=[0,1,2,3,4,5,6]\n",
        "\n",
        "# print the list with data type\n",
        "print(f\"list={l_1} and data type is {type(l_1)}\")"
      ]
    },
    {
      "cell_type": "code",
      "execution_count": null,
      "metadata": {
        "colab": {
          "base_uri": "https://localhost:8080/"
        },
        "id": "bWytxGOncS1I",
        "outputId": "f06539f8-4fe6-4662-f71b-4c49e741753f"
      },
      "outputs": [],
      "source": [
        "# list convert the numpy array\n",
        "np_arr=np.array(l_1)\n",
        "# print the numpy array with data type\n",
        "print(f'numpy array {np_arr} data type is {type(np_arr)}')\n",
        "# more  method to create a arry like  `asarray and asanyarray`"
      ]
    },
    {
      "cell_type": "markdown",
      "metadata": {
        "id": "Jas_3F-kjxjn"
      },
      "source": [
        "# fromfunction\n",
        "\n",
        "fromfunction ek NumPy array banata hai jiske values ek function se generate hote hain. Yeh function array ke har element ke coordinates leta hai aur ek value return karta hai jo uss element mein daali jaati hai.\n",
        "\n",
        "Basically, yeh ek function use karke automatically array create karta hai.\n",
        "\n",
        "Think of it like:\n",
        "\n",
        "Blank grid (array)\n",
        "Function = painter\n",
        "Coordinates = box location\n",
        "Returned value = color of the box\n",
        "Hope this short definition helps! 😉"
      ]
    },
    {
      "cell_type": "code",
      "execution_count": null,
      "metadata": {
        "id": "ckiDi_ufLY9Z"
      },
      "outputs": [],
      "source": [
        "import numpy as np"
      ]
    },
    {
      "cell_type": "code",
      "execution_count": null,
      "metadata": {
        "id": "x7rp4k1Jc6GT"
      },
      "outputs": [],
      "source": [
        "def my_func(x:int, y:int) :\n",
        "   return x + y\n",
        "x=2\n",
        "y=2\n",
        "# arr_2=np.fromfunction(my_func, shape=(3,3), dtype=int)\n",
        "arr_2=np.fromfunction(lambda i, j: my_func(i+x, y+j), shape=(3,3))"
      ]
    },
    {
      "cell_type": "code",
      "execution_count": null,
      "metadata": {
        "colab": {
          "base_uri": "https://localhost:8080/"
        },
        "id": "kU184Xbyp072",
        "outputId": "109eb68f-9bd0-422f-c19f-2f6fa73623d9"
      },
      "outputs": [],
      "source": [
        "print(arr_2)"
      ]
    },
    {
      "cell_type": "markdown",
      "metadata": {
        "id": "CF1SYObRv3wJ"
      },
      "source": [
        "\n",
        "\n",
        "> Pehle element ke liye (0, 0), my_func(0, 0, 2, 3) calculate hota hai 0.\n",
        "\n",
        "> Dusre element ke liye (0, 1), my_func(0, 1, 2, 3) calculate hota hai 3.\n",
        "\n",
        "\n",
        "\n",
        "\n"
      ]
    },
    {
      "cell_type": "code",
      "execution_count": null,
      "metadata": {
        "colab": {
          "base_uri": "https://localhost:8080/"
        },
        "id": "NpOHECGMpl8o",
        "outputId": "d7fead11-c4a4-498b-d4e8-0133ca028968"
      },
      "outputs": [],
      "source": [
        "def my_func(x, y, a, b):\n",
        "    return a * x + b * y\n",
        "\n",
        "a = 2\n",
        "b = 3\n",
        "arr = np.fromfunction(lambda x, y: my_func(x, y, a, b), (3, 3), dtype=int)\n",
        "print(arr)"
      ]
    },
    {
      "cell_type": "markdown",
      "metadata": {
        "id": "SIh9YRt0w-W3"
      },
      "source": [
        "# fromiter in Numpy\n",
        "numpy.fromiter yeh ek NumPy array banata hai kisi bhi iterable object se. Matlab, agar tumhare paas koi list, tuple, ya generator hai, toh tum fromiter use karke usse ek array mein badal sakte ho.\n",
        "\n",
        "Kaise kaam karta hai:\n",
        "\n",
        "fromiter ek iterable object leta hai input mein.\n",
        "Yeh iterable ke har ek item ko padhta hai, ek-ek karke.\n",
        "Har item ko woh dtype mein convert karta hai jo tumne bataya hoga.\n",
        "Fir yeh sab converted items ko ek naye 1-dimensional NumPy array mein store karta hai.\n",
        "Aur finally, yeh bana hua array return karta hai.\n",
        "Syntax:\n",
        "\n",
        "\n",
        "`numpy.fromiter(iterable, dtype, count=-1)`\n",
        "\n",
        "\n",
        "---\n",
        "\n",
        "\n",
        "Parameters:\n",
        "\n",
        "iterable: Yeh woh object hai jisse tum array banana chahte ho. Koi bhi list, tuple, ya generator chalega.\n",
        "dtype: Yeh array mein elements ka data type hai. Tum koi bhi valid NumPy data type de sakte ho, jaise int, float, ya bool.\n",
        "count: (Optional) Yeh batata hai ki iterable se kitne items read karne hain. Agar -1 hai (default), toh saare items read karega.\n",
        "\n",
        "\n",
        "```\n",
        "import numpy as np\n",
        "\n",
        "# Ek iterable banao (iss case mein ek list)\n",
        "iterable = [1, 2, 3, 4, 5]\n",
        "\n",
        "# Iterable se ek NumPy array banao\n",
        "array = np.fromiter(iterable, dtype=int)\n",
        "\n",
        "# Array print karo\n",
        "print(array)  # Output: [1 2 3 4 5]\n",
        "\n",
        "```\n",
        "\n"
      ]
    },
    {
      "cell_type": "code",
      "execution_count": null,
      "metadata": {
        "id": "99oYA9Z-sJko"
      },
      "outputs": [],
      "source": [
        "l_3=(i*87 for i in range(1,4))"
      ]
    },
    {
      "cell_type": "code",
      "execution_count": null,
      "metadata": {
        "colab": {
          "base_uri": "https://localhost:8080/"
        },
        "id": "aAYh0HMrySLG",
        "outputId": "de581e96-1eb3-400a-bac0-0ba6df38ec5f"
      },
      "outputs": [],
      "source": [
        "l_3"
      ]
    },
    {
      "cell_type": "code",
      "execution_count": null,
      "metadata": {
        "colab": {
          "base_uri": "https://localhost:8080/"
        },
        "id": "tJfAVXtPyrdN",
        "outputId": "10f39f47-0e3c-4ef5-9923-9ff5a73951cb"
      },
      "outputs": [],
      "source": [
        "l_3_arr=np.fromiter(l_3, dtype=int)\n",
        "print(l_3_arr)"
      ]
    },
    {
      "cell_type": "markdown",
      "metadata": {
        "id": "UHWqVuZj3QKL"
      },
      "source": [
        "# Fromstring()\n",
        "\n",
        "\n",
        "---\n",
        "numpy.fromstring() method ek naya 1-dimensional array banata hai ek string se jisme numerical data hota hai. Matlab, yeh ek string leta hai jo numbers ko represent karta hai aur usko NumPy array mein convert karta hai.\n",
        "\n",
        "\n",
        "\n",
        "---\n",
        "\n",
        "\n",
        "\n",
        "```\n",
        "numpy.fromstring(string, dtype=float, sep='', *, count=-1, like=None)\n",
        "\n",
        "```\n",
        "> Parameters:\n",
        "\n",
        "string: Yeh input string hai jisme numerical data hai.\n",
        "\n",
        "dtype: Yeh array ke elements ka desired data type hai (e.g., int, float).\n",
        "Default float hai.\n",
        "\n",
        "sep: Yeh delimiter hai jo string mein values ko alag karta hai. Default koi bhi whitespace hai.\n",
        "\n",
        "count: (Optional) Kitne values string se read karne hain. Agar -1 hai (default), toh saare values read karega.\n",
        "\n",
        "like: (Optional) Existing array ke properties se array define karne ke liye use hota hai.\n",
        "\n",
        "---\n",
        "> Kaise kaam karta hai:\n",
        "\n",
        "fromstring() method input string leta hai.\n",
        "\n",
        "Yeh sep parameter use karke string mein numerical values ke beech ke delimiters ko identify karta hai.\n",
        "\n",
        "Yeh har value ko specified dtype mein convert karta hai.\n",
        "\n",
        "Yeh ek naya 1-dimensional NumPy array banata hai jisme yeh converted values hote hain.\n",
        "\n",
        "Finally, yeh bana hua array return karta hai.\n",
        "\n",
        "```\n",
        "import numpy as np\n",
        "\n",
        "# Comma-separated values wali string se array banao\n",
        "data_string = \"1,2,3,4,5\"\n",
        "array = np.fromstring(data_string, dtype=int, sep=\",\")\n",
        "\n",
        "# Output dekhne ke liye code run karo.\n",
        "# Expected output: [1 2 3 4 5]\n",
        "```\n",
        "\n"
      ]
    },
    {
      "cell_type": "code",
      "execution_count": null,
      "metadata": {
        "colab": {
          "base_uri": "https://localhost:8080/"
        },
        "id": "4fPFZwB23PpN",
        "outputId": "3b1c975c-c720-4c69-983a-a328f9f8a73b"
      },
      "outputs": [],
      "source": [
        "data_str=\"1,2,3,4,5\"\n",
        "data_str_1=np.fromstring(data_str,sep=\",\", dtype=int)\n",
        "print(data_str_1)\n",
        "\n",
        "data_str_2=\"100 200 300 500\"\n",
        "data_str_3=np.fromstring(data_str_2,sep=\" \", dtype=int)\n",
        "print(data_str_3)"
      ]
    },
    {
      "cell_type": "markdown",
      "metadata": {
        "id": "OfHzsX7xzM6x"
      },
      "source": [
        "# COPY\n",
        "\n",
        "\n",
        "---\n",
        "\n",
        "\n",
        "\n",
        "> Shallow Copy:\n",
        "\n",
        "Ek naya array object banta hai, lekin yeh original array ke data ko point karta hai.\n",
        "Matlab, agar tum shallow copy mein kuch change karte ho, toh woh original array mein bhi reflect hoga.\n",
        "Socho ise ek photocopy ki tarah, jahan original aur copy dono same data share karte hain.\n",
        "`view()` method use karke shallow copy banate hain.\n",
        "\n",
        "---\n",
        "\n",
        "> Deep Copy:\n",
        "\n",
        "Ek naya array object banta hai aur original array ke data ki ek independent copy bhi banti hai.\n",
        "Matlab, agar tum deep copy mein kuch change karte ho, toh woh original array ko affect nahin karega.\n",
        "Socho ise original document ki ek nayi copy ki tarah, jahan dono independent hain.\n",
        "`copy()` method use karke deep copy banate hain.\n",
        "\n",
        "---\n",
        "In short:\n",
        "\n",
        "Shallow copy: Data share karta hai, changes dono mein reflect hote hain.\n",
        "Deep copy: Data ki independent copy, changes ek dusre ko affect nahin karte.\n",
        "\n",
        "\n"
      ]
    },
    {
      "cell_type": "code",
      "execution_count": null,
      "metadata": {
        "colab": {
          "base_uri": "https://localhost:8080/"
        },
        "id": "Vms4Nwv4zFLM",
        "outputId": "18c7d389-e711-4862-c9c0-41f765868b33"
      },
      "outputs": [],
      "source": [
        "data_arr=[1,2,3,4,5,6]\n",
        "#create a shallow copy\n",
        "data_arr_s=data_arr\n",
        "\n",
        "print('original',data_arr)\n",
        "\n",
        "# change first index\n",
        "data_arr_s[0]=100\n",
        "print(\"copy shallow\",data_arr_s)\n",
        "print('original changed',data_arr)"
      ]
    },
    {
      "cell_type": "code",
      "execution_count": null,
      "metadata": {
        "colab": {
          "base_uri": "https://localhost:8080/"
        },
        "id": "gXKuJ_IM0QNa",
        "outputId": "7133e999-56c3-4c71-9452-6ed3c15d0a12"
      },
      "outputs": [],
      "source": [
        "# create a deep Copy\n",
        "data_arr_d=data_arr.copy()\n",
        "\n",
        "print('original',data_arr)\n",
        "\n",
        "data_arr_d[0]=1000\n",
        "print(\"copy deep\",data_arr_d)\n",
        "print('original not changed',data_arr)"
      ]
    },
    {
      "cell_type": "markdown",
      "metadata": {
        "id": "R_fJhkJo_BsJ"
      },
      "source": [
        "# Numpy Data Types"
      ]
    },
    {
      "cell_type": "code",
      "execution_count": null,
      "metadata": {
        "colab": {
          "base_uri": "https://localhost:8080/"
        },
        "id": "Tzd4p4Jp03f0",
        "outputId": "df71ba7d-6cee-49f6-f2da-08ec608e6451"
      },
      "outputs": [],
      "source": [
        "# Create an integer list\n",
        "integer_list = [10, 20, 30, 40, 50]\n",
        "\n",
        "print(f\"Integer list: {integer_list}\")\n",
        "\n",
        "print(f\"Data type of integer_list: {type(integer_list)}\")"
      ]
    },
    {
      "cell_type": "code",
      "execution_count": null,
      "metadata": {
        "colab": {
          "base_uri": "https://localhost:8080/"
        },
        "id": "baQCSNov_VIv",
        "outputId": "8106576f-8978-47fb-f6de-877cef8f0e3f"
      },
      "outputs": [],
      "source": [
        "# Convert the list to a NumPy array\n",
        "integer_array = np.array(integer_list)\n",
        "\n",
        "print(f\"Integer array: {integer_array}\")\n",
        "print(f\"Data type of integer_array: {type(integer_array)}\")\n",
        "print(f\"Data type of elements in integer_array: {integer_array.dtype}\")"
      ]
    },
    {
      "cell_type": "code",
      "execution_count": null,
      "metadata": {
        "colab": {
          "base_uri": "https://localhost:8080/"
        },
        "id": "ctayuITr_buc",
        "outputId": "47ea892c-5a42-4707-c656-6b8690dae0d2"
      },
      "outputs": [],
      "source": [
        "integer_array.ndim\n",
        "# [10 20 30 40 50] only one row"
      ]
    },
    {
      "cell_type": "code",
      "execution_count": null,
      "metadata": {
        "colab": {
          "base_uri": "https://localhost:8080/"
        },
        "id": "63brxJrJ_tIG",
        "outputId": "060ec9a8-3caf-42d3-bf5f-60deebcf2056"
      },
      "outputs": [],
      "source": [
        "ar_2=np.asarray([[1,2,3],[9,9,9]])\n",
        "print(f\"two dimensional array: {ar_2}\")\n",
        "print(f\"Data type of ar_2: {type(ar_2)}\")\n",
        "print(f\"Data type of elements in ar_2: {ar_2.dtype}\")"
      ]
    },
    {
      "cell_type": "code",
      "execution_count": null,
      "metadata": {
        "colab": {
          "base_uri": "https://localhost:8080/"
        },
        "id": "Z_ALo4gvADDu",
        "outputId": "bd53fac5-55dd-4aea-c026-af04b25293b7"
      },
      "outputs": [],
      "source": [
        "ar_2"
      ]
    },
    {
      "cell_type": "code",
      "execution_count": null,
      "metadata": {
        "colab": {
          "base_uri": "https://localhost:8080/"
        },
        "id": "SrkCpXmBAj6H",
        "outputId": "bff9f0ea-96ec-4501-9d35-82a3946147ff"
      },
      "outputs": [],
      "source": [
        "ar_2.ndim"
      ]
    },
    {
      "cell_type": "code",
      "execution_count": null,
      "metadata": {
        "id": "LqRfhdn3AmLd"
      },
      "outputs": [],
      "source": [
        "ar_3=np.array([\n",
        "    [1,2,3],\n",
        "    [0,9,8],\n",
        "    [6,6,5]\n",
        "])"
      ]
    },
    {
      "cell_type": "code",
      "execution_count": null,
      "metadata": {
        "colab": {
          "base_uri": "https://localhost:8080/"
        },
        "id": "Y1lJq_7qAyKV",
        "outputId": "fc76bcf1-3495-494b-80ba-9936ea8a2d31"
      },
      "outputs": [],
      "source": [
        "ar_3"
      ]
    },
    {
      "cell_type": "code",
      "execution_count": null,
      "metadata": {
        "colab": {
          "base_uri": "https://localhost:8080/"
        },
        "id": "fTnWRZe3AzYd",
        "outputId": "a4f84be7-6f6f-4ae2-f4bb-390700966f95"
      },
      "outputs": [],
      "source": [
        "ar_3.ndim"
      ]
    },
    {
      "cell_type": "code",
      "execution_count": null,
      "metadata": {
        "id": "D7ma7MT4A3x0"
      },
      "outputs": [],
      "source": [
        "ar_4=np.array(\n",
        "    [\n",
        "        [\n",
        "            [1,2,3],\n",
        "            [0,9,8],\n",
        "            [6,6,5]\n",
        "        ],\n",
        "    ]\n",
        ")"
      ]
    },
    {
      "cell_type": "code",
      "execution_count": null,
      "metadata": {
        "colab": {
          "base_uri": "https://localhost:8080/"
        },
        "id": "gIy7vGr1BDZF",
        "outputId": "f95ccb12-9141-4cee-a941-3cbc18b1aaa7"
      },
      "outputs": [],
      "source": [
        "ar_4"
      ]
    },
    {
      "cell_type": "code",
      "execution_count": null,
      "metadata": {
        "colab": {
          "base_uri": "https://localhost:8080/"
        },
        "id": "L_RNOjG5BE00",
        "outputId": "a6168c03-6d4f-4274-c0f8-9127b82c1daa"
      },
      "outputs": [],
      "source": [
        "ar_4.ndim"
      ]
    },
    {
      "cell_type": "code",
      "execution_count": null,
      "metadata": {
        "colab": {
          "base_uri": "https://localhost:8080/"
        },
        "id": "6DA86OROBID9",
        "outputId": "6ffde586-b600-4cec-8936-a86b3a11537f"
      },
      "outputs": [],
      "source": [
        "ar_4.shape"
      ]
    },
    {
      "cell_type": "markdown",
      "metadata": {
        "id": "iRXgKKoUKHoT"
      },
      "source": [
        "# Arange() in Numpy\n",
        "- ab hum ma range function ka use kar ka 0 sa 5.4 tak ki range ka array bana hai\n",
        "- ak tu ya range function float value ko support nahi karta is liya hum numpy ka\n",
        "\n",
        "```\n",
        "np.arange()\n",
        "```\n",
        "- method use karta hai\n",
        "\n",
        "- Pehla parameter batata hai ki tum kahan se shuru karoge (starting point).\n",
        "\n",
        "- Dusra parameter batata hai ki tum kahan tak jaoge (ending point).\n",
        "- Teesra parameter, jisko hum \"step size\" kehte hain, batata hai ki tum kitne steps skip karoge har baar."
      ]
    },
    {
      "cell_type": "code",
      "execution_count": null,
      "metadata": {
        "colab": {
          "base_uri": "https://localhost:8080/"
        },
        "id": "UldNmrCQHu6x",
        "outputId": "b3149e13-f4b1-4a9a-f248-188ff21102c8"
      },
      "outputs": [],
      "source": [
        "val_1=np.arange(0,5.4,0.5)\n",
        "print(val_1)\n",
        "print(type(val_1))\n",
        "\n",
        "val_2=np.arange(0,5.4,.5)\n",
        "print(val_2)\n",
        "print(type(val_2))"
      ]
    },
    {
      "cell_type": "markdown",
      "metadata": {
        "id": "_VjjFIRZMgrm"
      },
      "source": [
        "# linspace() in Numpy\n",
        "- linsapace three parameter lata hai first kaha sa start ho ga second kaha take jaye ga or third jo is ki khasiyat hai 0 sa 5 ka bechema 20 numbers batao\n",
        "---\n",
        "```\n",
        "np.linspace(\"firstNum,secondNum,ThirdNum\")\n",
        "```\n",
        "\n"
      ]
    },
    {
      "cell_type": "code",
      "execution_count": null,
      "metadata": {
        "colab": {
          "base_uri": "https://localhost:8080/"
        },
        "id": "1IAlZDsULfnP",
        "outputId": "7aea2667-1578-448a-9077-7b465cde35e4"
      },
      "outputs": [],
      "source": [
        "val_3=np.linspace(1,3,50)\n",
        "print(val_3)\n",
        "print(type(val_3))"
      ]
    },
    {
      "cell_type": "code",
      "execution_count": null,
      "metadata": {
        "colab": {
          "base_uri": "https://localhost:8080/"
        },
        "id": "YXrfQLx0NbPl",
        "outputId": "ea856364-c38a-42b0-e8c2-f1e1a9938951"
      },
      "outputs": [],
      "source": [
        "# zeros method ya method array ma sirf zero hi store karta hai\n",
        "# example [\n",
        "#     [0,0,0],\n",
        "#     [0,0,0],\n",
        "#     [0,0,0],\n",
        "# ]\n",
        "\n",
        "val_4=np.zeros((3,13), dtype=int)\n",
        "print(val_4)"
      ]
    },
    {
      "cell_type": "code",
      "execution_count": null,
      "metadata": {
        "colab": {
          "base_uri": "https://localhost:8080/"
        },
        "id": "_0tFjfz-N9ts",
        "outputId": "e97b0dd4-e333-4990-aa22-0f35bf633890"
      },
      "outputs": [],
      "source": [
        "# ab hun 3d dimensinal array bana hai simple\n",
        "val_5=np.zeros((3,3,3), dtype=int)\n",
        "print(val_5)"
      ]
    },
    {
      "cell_type": "code",
      "execution_count": null,
      "metadata": {
        "colab": {
          "base_uri": "https://localhost:8080/"
        },
        "id": "Wa9VEajcOdSi",
        "outputId": "d5e150bd-d3ff-4c67-c820-b07e99e4fb2d"
      },
      "outputs": [],
      "source": [
        "# lets create 4d array\n",
        "val_6=np.zeros((3,3,3,3))\n",
        "print(val_6)"
      ]
    },
    {
      "cell_type": "code",
      "execution_count": null,
      "metadata": {
        "colab": {
          "base_uri": "https://localhost:8080/"
        },
        "id": "PRrWk2NYOvfB",
        "outputId": "8fd5dd4a-4ccd-4d46-86ab-18695c22d175"
      },
      "outputs": [],
      "source": [
        "# zeros to upgrade version is onces() its converd the whole array in 1 number\n",
        "'''\n",
        "example\n",
        "[\n",
        "  [1,1,1,1],\n",
        "  [1,1,1,1],\n",
        "  [1,1,1,1],\n",
        "  [1,1,1,1],\n",
        "]\n",
        "'''\n",
        "val_7=np.ones((3,2,3,3), dtype=int)\n",
        "print(val_7)\n",
        "print(f'check dimension {val_7.ndim}')"
      ]
    },
    {
      "cell_type": "code",
      "execution_count": null,
      "metadata": {
        "id": "JBaI0-3nRfdk"
      },
      "outputs": [],
      "source": [
        "val_8=val_7+32/10*78"
      ]
    },
    {
      "cell_type": "code",
      "execution_count": null,
      "metadata": {
        "colab": {
          "base_uri": "https://localhost:8080/"
        },
        "id": "RnzniNT6R5Y0",
        "outputId": "86161fd8-803c-4390-e61f-87335bbffb65"
      },
      "outputs": [],
      "source": [
        "print(val_8)"
      ]
    },
    {
      "cell_type": "code",
      "execution_count": null,
      "metadata": {
        "id": "WYZfzGcrUl9F"
      },
      "outputs": [],
      "source": [
        "'''\n",
        "[[1, 0, 0],\n",
        " [0, 1, 0],\n",
        " [0, 0, 1]]\n",
        "\n",
        "Dekho, diagonal par 1 hain aur baaki jagah 0 hain.\n",
        "\n",
        "Simple words mein: eye() method se hum ek special matrix banate hain jisme diagonal par 1 hote hain aur baaki jagah 0 hote hain.\n",
        "\n",
        "Kya kaam aata hai?\n",
        "\n",
        "Identity matrix ka use bahut saare mathematical calculations mein hota hai, jaise:\n",
        "\n",
        "Linear algebra\n",
        "Matrix operations\n",
        "Machine learning algorithms\n",
        "'''"
      ]
    },
    {
      "cell_type": "code",
      "execution_count": null,
      "metadata": {
        "colab": {
          "base_uri": "https://localhost:8080/"
        },
        "id": "IFJbca0FYbGp",
        "outputId": "c2e26193-25e7-4306-aa5b-f5d5e3c72099"
      },
      "outputs": [],
      "source": [
        "val_9=np.eye(20, dtype=int, k=8)\n",
        "print(val_9)"
      ]
    },
    {
      "cell_type": "code",
      "execution_count": null,
      "metadata": {
        "colab": {
          "base_uri": "https://localhost:8080/"
        },
        "id": "aAfobFLZZVi7",
        "outputId": "f64dec16-9d12-4d94-b055-ef2f439c4ac3"
      },
      "outputs": [],
      "source": [
        "# logspace\n",
        "'''\n",
        "Is function mein teen parameters hain:\n",
        "\n",
        "start (2): Yeh sequence ka starting point hai. Yahaan se values generate hona shuru hongi.\n",
        " Is case mein, starting point 2 hai.\n",
        "stop (5): Yeh sequence ka ending point hai. Values generate hote hue is point tak jaayengi.\n",
        " Is case mein, ending point 5 hai.\n",
        "base (2): Yeh logarithm ka base hai. Is case mein, base 2 hai. Default base 10 hota hai,\n",
        "lekin yahaan humne use 2 specify kiya hai.\n",
        "Kya hoga is function se?\n",
        "\n",
        "Yeh function ek array generate karega jisme values base ** start se base ** stop tak\n",
        "logarithmically spaced hongi. Yahaan, ** ka matlab exponent hai.\n",
        "\n",
        "Is case mein, function yeh array generate karega:\n",
        "\n",
        "\n",
        "[4. 8. 16. 32.]\n",
        "Use code with caution\n",
        "Explanation:\n",
        "\n",
        "Pehli value: 2 ** 2 = 4\n",
        "Dusri value: 2 ** 3 = 8\n",
        "Teesri value: 2 ** 4 = 16\n",
        "Chauthi value: 2 ** 5 = 32\n",
        "Yeh values 2 ke base mein logarithmically spaced hain, matlab har value pichli\n",
        "value se 2 guna badh rahi hai.\n",
        "\n",
        "Simple words mein:\n",
        "\n",
        "np.logspace(2, 5, base=2) ek array generate karta hai jisme values 4 se 32 tak\n",
        "hoti hain aur har value pichli value se 2 guna badh rahi hoti hai.\n",
        "------------------------------------------------------------------------------------\n",
        "num parameter: Yeh specify karta hai ki array mein kitne values generate karne hain.\n",
        " Agar num parameter specify nahi kiya jaata, toh iski default value 50 hoti hai.\n",
        "\n",
        "Is case mein, humne num parameter specify nahi kiya, isliye function ne 50 values\n",
        "generate kiye hain jo 4 se 32 tak logarithmically spaced hain.\n",
        "\n",
        "Agar aap output mein sirf 4 values chahte hain, toh aapko num parameter ko 4 specify\n",
        "karna hoga:\n",
        "\n",
        "\n",
        "np.logspace(2, 5, base=2, num=4)\n",
        "Use code with caution\n",
        "Isse aapko yeh output milega:\n",
        "\n",
        "\n",
        "[ 4.  8. 16. 32.]\n",
        "Use code with caution\n",
        "Simple words mein:\n",
        "\n",
        "np.logspace() function default olarak 50 values generate karta hai.\n",
        "Agar aap kam ya zyada values chahte hain, toh aapko num parameter use karna hoga.\n",
        "\n",
        "Umeed hai ab yeh clear hai! Agar koi aur sawal hai to pooch sakte ho.\n",
        "'''\n",
        "\n",
        "val_10=np.logspace(2,6 ,base=2, num=4)\n",
        "print(val_10)"
      ]
    },
    {
      "cell_type": "code",
      "execution_count": null,
      "metadata": {
        "colab": {
          "base_uri": "https://localhost:8080/"
        },
        "id": "sgq78tWuR8Rz",
        "outputId": "4bea6b11-f778-43ad-cdb2-ebae0668873a"
      },
      "outputs": [],
      "source": [
        "np.arange(4)/3"
      ]
    },
    {
      "cell_type": "markdown",
      "metadata": {
        "id": "6KqzyDR2odQP"
      },
      "source": [
        "# Random() Method in Numpy"
      ]
    },
    {
      "cell_type": "code",
      "execution_count": null,
      "metadata": {
        "id": "mUtQQY4Pee_n"
      },
      "outputs": [],
      "source": [
        "arr_1=np.random.rand(5,4)"
      ]
    },
    {
      "cell_type": "code",
      "execution_count": null,
      "metadata": {
        "colab": {
          "base_uri": "https://localhost:8080/"
        },
        "id": "fATYnyt8o0dQ",
        "outputId": "fa3a98dc-725a-4617-b7d5-3e2599f15a54"
      },
      "outputs": [],
      "source": [
        "arr_1"
      ]
    },
    {
      "cell_type": "code",
      "execution_count": null,
      "metadata": {
        "colab": {
          "base_uri": "https://localhost:8080/"
        },
        "id": "oN5KE1VGo2hs",
        "outputId": "d97c92ef-68bd-4206-e1df-c2d969a47e41"
      },
      "outputs": [],
      "source": [
        "arr_2=np.random.randint(2,10,(4,4))\n",
        "arr_2"
      ]
    },
    {
      "cell_type": "code",
      "execution_count": null,
      "metadata": {
        "id": "g98HMsK3pH4n"
      },
      "outputs": [],
      "source": [
        "import pandas as pd\n"
      ]
    },
    {
      "cell_type": "code",
      "execution_count": null,
      "metadata": {
        "id": "oTS1TowopYsV"
      },
      "outputs": [],
      "source": [
        "arr_3=a=pd.DataFrame(np.random.randint(2,10,(40,40)))\n",
        "arr_3"
      ]
    },
    {
      "cell_type": "code",
      "execution_count": null,
      "metadata": {
        "id": "iwi6bJs_pi_2"
      },
      "outputs": [],
      "source": [
        "arr_3.to_csv(\"random-data.csv\")"
      ]
    },
    {
      "cell_type": "code",
      "execution_count": null,
      "metadata": {
        "colab": {
          "base_uri": "https://localhost:8080/"
        },
        "id": "xwGOS3o2p0p-",
        "outputId": "3d330c75-d2d3-48bc-c6b9-9836f2a1c160"
      },
      "outputs": [],
      "source": [
        "# reshape the array\n",
        "arr_2\n",
        "print(arr_2.shape)"
      ]
    },
    {
      "cell_type": "markdown",
      "metadata": {
        "id": "EgadNB3RrW7c"
      },
      "source": [
        "# Indexing and Slicing Numpy"
      ]
    },
    {
      "cell_type": "code",
      "execution_count": null,
      "metadata": {
        "colab": {
          "base_uri": "https://localhost:8080/"
        },
        "id": "h3AA0htlqm92",
        "outputId": "3b6f2790-1975-477f-dcc5-8d8f687db721"
      },
      "outputs": [],
      "source": [
        "arr_1"
      ]
    },
    {
      "cell_type": "code",
      "execution_count": null,
      "metadata": {
        "colab": {
          "base_uri": "https://localhost:8080/"
        },
        "id": "aRY3UWrjrc2F",
        "outputId": "237fa24a-3c07-4d08-b1aa-5270364e15af"
      },
      "outputs": [],
      "source": [
        "arr_1[0]"
      ]
    },
    {
      "cell_type": "code",
      "execution_count": null,
      "metadata": {
        "colab": {
          "base_uri": "https://localhost:8080/"
        },
        "id": "Clwrph3jrfB-",
        "outputId": "b3a61cd8-9a46-448c-bd6b-870eca4a120d"
      },
      "outputs": [],
      "source": [
        "arr_1[0][2]"
      ]
    },
    {
      "cell_type": "code",
      "execution_count": null,
      "metadata": {
        "colab": {
          "base_uri": "https://localhost:8080/"
        },
        "id": "j33C3CParh_I",
        "outputId": "582e453a-bc9e-430e-c715-fe34b200d392"
      },
      "outputs": [],
      "source": [
        "arr_1[2, [2,3]]"
      ]
    },
    {
      "cell_type": "code",
      "execution_count": null,
      "metadata": {
        "id": "wvlyL4Mzrpd3"
      },
      "outputs": [],
      "source": [
        "arr_5=np.random.randint(1,10,(3,3,3))"
      ]
    },
    {
      "cell_type": "code",
      "execution_count": null,
      "metadata": {
        "colab": {
          "base_uri": "https://localhost:8080/"
        },
        "id": "kMeGWf3asJQR",
        "outputId": "3187bf0a-a607-44aa-880d-fe0874b1de6d"
      },
      "outputs": [],
      "source": [
        "arr_5"
      ]
    },
    {
      "cell_type": "code",
      "execution_count": null,
      "metadata": {
        "colab": {
          "base_uri": "https://localhost:8080/"
        },
        "id": "2JPQI4PVsKeF",
        "outputId": "3681d5db-4d65-4045-92c6-7910815ce050"
      },
      "outputs": [],
      "source": [
        "arr_5[2]"
      ]
    },
    {
      "cell_type": "code",
      "execution_count": null,
      "metadata": {
        "colab": {
          "base_uri": "https://localhost:8080/"
        },
        "id": "Hi7Dw9yHsM4-",
        "outputId": "4fab7aad-5c19-4371-e1e4-070dfc5d36d0"
      },
      "outputs": [],
      "source": [
        "arr_5[2][1][2]"
      ]
    },
    {
      "cell_type": "code",
      "execution_count": null,
      "metadata": {
        "colab": {
          "base_uri": "https://localhost:8080/"
        },
        "id": "LqaAA0FtscZG",
        "outputId": "1a220fea-3995-4468-b3ca-678ae06d0bda"
      },
      "outputs": [],
      "source": [
        "# comperishion\n",
        "arr_5[arr_5>7]"
      ]
    },
    {
      "cell_type": "code",
      "execution_count": null,
      "metadata": {
        "colab": {
          "base_uri": "https://localhost:8080/"
        },
        "id": "hAx2FXVlsnHn",
        "outputId": "ad90250e-0aa9-4245-8e12-8fc2ec251370"
      },
      "outputs": [],
      "source": [
        "arr_5+23"
      ]
    },
    {
      "cell_type": "code",
      "execution_count": null,
      "metadata": {
        "colab": {
          "base_uri": "https://localhost:8080/"
        },
        "id": "Ep9gnpjMs0BL",
        "outputId": "beced469-6b2d-46f5-c625-9a833aad19df"
      },
      "outputs": [],
      "source": [
        "arr_5/10"
      ]
    },
    {
      "cell_type": "code",
      "execution_count": null,
      "metadata": {
        "colab": {
          "base_uri": "https://localhost:8080/"
        },
        "id": "jjKCMTtNsxqZ",
        "outputId": "16078be6-2d7a-48ef-ec08-9946aa236d20"
      },
      "outputs": [],
      "source": [
        "arr_5-10"
      ]
    },
    {
      "cell_type": "markdown",
      "metadata": {
        "id": "QAj7S1v2s53H"
      },
      "source": [
        "# Real Multiplication of Matrix"
      ]
    },
    {
      "cell_type": "code",
      "execution_count": null,
      "metadata": {
        "colab": {
          "base_uri": "https://localhost:8080/"
        },
        "id": "KmFzqWQKtExe",
        "outputId": "6fd23191-5306-44e0-c9d5-ff5ba319bca7"
      },
      "outputs": [],
      "source": [
        "arr_1"
      ]
    },
    {
      "cell_type": "code",
      "execution_count": null,
      "metadata": {
        "colab": {
          "base_uri": "https://localhost:8080/"
        },
        "id": "fFw-4fiStElK",
        "outputId": "49b262e7-426e-4d26-d160-4ec11955cbdd"
      },
      "outputs": [],
      "source": [
        "arr_2"
      ]
    },
    {
      "cell_type": "code",
      "execution_count": null,
      "metadata": {
        "colab": {
          "base_uri": "https://localhost:8080/"
        },
        "id": "y0W10F4is4S1",
        "outputId": "2b84c85e-a120-480a-9c8e-24c4600ce23b"
      },
      "outputs": [],
      "source": [
        "arr_1 @ arr_2"
      ]
    },
    {
      "cell_type": "code",
      "execution_count": null,
      "metadata": {},
      "outputs": [],
      "source": []
    }
  ],
  "metadata": {
    "colab": {
      "provenance": []
    },
    "kernelspec": {
      "display_name": "jarvis-venv",
      "language": "python",
      "name": "python3"
    },
    "language_info": {
      "name": "python",
      "version": "3.12.8"
    }
  },
  "nbformat": 4,
  "nbformat_minor": 0
}
