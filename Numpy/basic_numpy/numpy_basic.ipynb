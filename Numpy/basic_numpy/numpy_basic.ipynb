{
  "nbformat": 4,
  "nbformat_minor": 0,
  "metadata": {
    "colab": {
      "provenance": []
    },
    "kernelspec": {
      "name": "python3",
      "display_name": "Python 3"
    },
    "language_info": {
      "name": "python"
    }
  },
  "cells": [
    {
      "cell_type": "markdown",
      "source": [
        "\n",
        "**Numpy: Basic Definition and Uses**\n",
        "![NumPy Logo](https://numpy.org/doc/stable/_static/numpylogo_dark.svg)\n",
        "---\n",
        "\n",
        "Numpy (Numerical Python) ek Python library hai jisko scientific computing mein use kiya jaata hai. Yeh multidimensional array objects, matrices, aur inpe kaam karne wale functions provide karta hai.\n",
        "\n",
        "\n",
        "---\n",
        "\n",
        "\n",
        "\n",
        "*   Maths calculations: Numpy maths calculations ko easy aur fast banata hai, khaaskar bade datasets ke saath. Isme linear algebra, Fourier transform, random number generation jaise bahut saare useful functions hain.\n",
        "* Data Science: Numpy, pandas aur matplotlib jaise data science libraries ka base hai. Data manipulation, analysis, aur visualization ke liye iska use kiya jaata hai.\n",
        "* Arrays: Numpy ka main feature array hai, jo Python lists se zyada efficient hota hai. Array mein ek hi type ka data store kiya jaata hai, jisse operations tezi se hote hain.\n",
        "* Machine Learning: Machine learning algorithms ko implement karne ke liye Numpy ka use kiya jaata hai. Data preprocessing, feature engineering, aur model training mein yeh madad karta hai.\n",
        "---\n",
        "In short, Numpy ek powerful library hai jo scientific computing, data science, aur machine learning mein useful hai. Yeh maths calculations ko easy aur fast banata hai aur data ko manage karne ke liye efficient tools provide karta hai.\n",
        "\n"
      ],
      "metadata": {
        "id": "E045aKcDJdfb"
      }
    },
    {
      "cell_type": "code",
      "execution_count": null,
      "metadata": {
        "colab": {
          "base_uri": "https://localhost:8080/"
        },
        "collapsed": true,
        "id": "4NavRftuJTUP",
        "outputId": "fc2374f0-87b9-48b8-fe06-b7e10447e622"
      },
      "outputs": [
        {
          "output_type": "stream",
          "name": "stdout",
          "text": [
            "Requirement already satisfied: numpy in /usr/local/lib/python3.11/dist-packages (1.26.4)\n"
          ]
        }
      ],
      "source": [
        "!pip install numpy"
      ]
    },
    {
      "cell_type": "code",
      "source": [
        "import numpy as np"
      ],
      "metadata": {
        "id": "iAgyJCElL1cj"
      },
      "execution_count": null,
      "outputs": []
    },
    {
      "cell_type": "code",
      "source": [
        "# create a list\n",
        "l_1=[0,1,2,3,4,5,6]\n",
        "\n",
        "# print the list with data type\n",
        "print(f\"list={l_1} and data type is {type(l_1)}\")"
      ],
      "metadata": {
        "colab": {
          "base_uri": "https://localhost:8080/"
        },
        "id": "ZW5Y4TL9b4tH",
        "outputId": "f374e1be-ed3b-4716-ee15-382160363172"
      },
      "execution_count": null,
      "outputs": [
        {
          "output_type": "stream",
          "name": "stdout",
          "text": [
            "list=[0, 1, 2, 3, 4, 5, 6] and data type is <class 'list'>\n"
          ]
        }
      ]
    },
    {
      "cell_type": "code",
      "source": [
        "# list convert the numpy array\n",
        "np_arr=np.array(l_1)\n",
        "# print the numpy array with data type\n",
        "print(f'numpy array {np_arr} data type is {type(np_arr)}')\n",
        "# more  method to create a arry like  `asarray and asanyarray`"
      ],
      "metadata": {
        "colab": {
          "base_uri": "https://localhost:8080/"
        },
        "id": "bWytxGOncS1I",
        "outputId": "f06539f8-4fe6-4662-f71b-4c49e741753f"
      },
      "execution_count": null,
      "outputs": [
        {
          "output_type": "stream",
          "name": "stdout",
          "text": [
            "numpy array [0 1 2 3 4 5 6] data type is <class 'numpy.ndarray'>\n"
          ]
        }
      ]
    },
    {
      "cell_type": "markdown",
      "source": [
        "# fromfunction\n",
        "\n",
        "fromfunction ek NumPy array banata hai jiske values ek function se generate hote hain. Yeh function array ke har element ke coordinates leta hai aur ek value return karta hai jo uss element mein daali jaati hai.\n",
        "\n",
        "Basically, yeh ek function use karke automatically array create karta hai.\n",
        "\n",
        "Think of it like:\n",
        "\n",
        "Blank grid (array)\n",
        "Function = painter\n",
        "Coordinates = box location\n",
        "Returned value = color of the box\n",
        "Hope this short definition helps! 😉"
      ],
      "metadata": {
        "id": "Jas_3F-kjxjn"
      }
    },
    {
      "cell_type": "code",
      "source": [
        "import numpy as np"
      ],
      "metadata": {
        "id": "ckiDi_ufLY9Z"
      },
      "execution_count": 3,
      "outputs": []
    },
    {
      "cell_type": "code",
      "source": [
        "def my_func(x:int, y:int) :\n",
        "   return x + y\n",
        "x=2\n",
        "y=2\n",
        "# arr_2=np.fromfunction(my_func, shape=(3,3), dtype=int)\n",
        "arr_2=np.fromfunction(lambda i, j: my_func(i+x, y+j), shape=(3,3))"
      ],
      "metadata": {
        "id": "x7rp4k1Jc6GT"
      },
      "execution_count": 4,
      "outputs": []
    },
    {
      "cell_type": "code",
      "source": [
        "print(arr_2)"
      ],
      "metadata": {
        "colab": {
          "base_uri": "https://localhost:8080/"
        },
        "id": "kU184Xbyp072",
        "outputId": "109eb68f-9bd0-422f-c19f-2f6fa73623d9"
      },
      "execution_count": null,
      "outputs": [
        {
          "output_type": "stream",
          "name": "stdout",
          "text": [
            "[[4. 5. 6.]\n",
            " [5. 6. 7.]\n",
            " [6. 7. 8.]]\n"
          ]
        }
      ]
    },
    {
      "cell_type": "markdown",
      "source": [
        "\n",
        "\n",
        "> Pehle element ke liye (0, 0), my_func(0, 0, 2, 3) calculate hota hai 0.\n",
        "\n",
        "> Dusre element ke liye (0, 1), my_func(0, 1, 2, 3) calculate hota hai 3.\n",
        "\n",
        "\n",
        "\n",
        "\n"
      ],
      "metadata": {
        "id": "CF1SYObRv3wJ"
      }
    },
    {
      "cell_type": "code",
      "source": [
        "def my_func(x, y, a, b):\n",
        "    return a * x + b * y\n",
        "\n",
        "a = 2\n",
        "b = 3\n",
        "arr = np.fromfunction(lambda x, y: my_func(x, y, a, b), (3, 3), dtype=int)\n",
        "print(arr)"
      ],
      "metadata": {
        "colab": {
          "base_uri": "https://localhost:8080/"
        },
        "id": "NpOHECGMpl8o",
        "outputId": "d7fead11-c4a4-498b-d4e8-0133ca028968"
      },
      "execution_count": null,
      "outputs": [
        {
          "output_type": "stream",
          "name": "stdout",
          "text": [
            "[[ 0  3  6]\n",
            " [ 2  5  8]\n",
            " [ 4  7 10]]\n"
          ]
        }
      ]
    },
    {
      "cell_type": "markdown",
      "source": [
        "# fromiter in Numpy\n",
        "numpy.fromiter yeh ek NumPy array banata hai kisi bhi iterable object se. Matlab, agar tumhare paas koi list, tuple, ya generator hai, toh tum fromiter use karke usse ek array mein badal sakte ho.\n",
        "\n",
        "Kaise kaam karta hai:\n",
        "\n",
        "fromiter ek iterable object leta hai input mein.\n",
        "Yeh iterable ke har ek item ko padhta hai, ek-ek karke.\n",
        "Har item ko woh dtype mein convert karta hai jo tumne bataya hoga.\n",
        "Fir yeh sab converted items ko ek naye 1-dimensional NumPy array mein store karta hai.\n",
        "Aur finally, yeh bana hua array return karta hai.\n",
        "Syntax:\n",
        "\n",
        "\n",
        "`numpy.fromiter(iterable, dtype, count=-1)`\n",
        "\n",
        "\n",
        "---\n",
        "\n",
        "\n",
        "Parameters:\n",
        "\n",
        "iterable: Yeh woh object hai jisse tum array banana chahte ho. Koi bhi list, tuple, ya generator chalega.\n",
        "dtype: Yeh array mein elements ka data type hai. Tum koi bhi valid NumPy data type de sakte ho, jaise int, float, ya bool.\n",
        "count: (Optional) Yeh batata hai ki iterable se kitne items read karne hain. Agar -1 hai (default), toh saare items read karega.\n",
        "\n",
        "\n",
        "```\n",
        "import numpy as np\n",
        "\n",
        "# Ek iterable banao (iss case mein ek list)\n",
        "iterable = [1, 2, 3, 4, 5]\n",
        "\n",
        "# Iterable se ek NumPy array banao\n",
        "array = np.fromiter(iterable, dtype=int)\n",
        "\n",
        "# Array print karo\n",
        "print(array)  # Output: [1 2 3 4 5]\n",
        "\n",
        "```\n",
        "\n"
      ],
      "metadata": {
        "id": "SIh9YRt0w-W3"
      }
    },
    {
      "cell_type": "code",
      "source": [
        "l_3=(i*87 for i in range(1,4))"
      ],
      "metadata": {
        "id": "99oYA9Z-sJko"
      },
      "execution_count": null,
      "outputs": []
    },
    {
      "cell_type": "code",
      "source": [
        "l_3"
      ],
      "metadata": {
        "colab": {
          "base_uri": "https://localhost:8080/"
        },
        "id": "aAYh0HMrySLG",
        "outputId": "de581e96-1eb3-400a-bac0-0ba6df38ec5f"
      },
      "execution_count": null,
      "outputs": [
        {
          "output_type": "execute_result",
          "data": {
            "text/plain": [
              "<generator object <genexpr> at 0x7d844e094d40>"
            ]
          },
          "metadata": {},
          "execution_count": 45
        }
      ]
    },
    {
      "cell_type": "code",
      "source": [
        "l_3_arr=np.fromiter(l_3, dtype=int)\n",
        "print(l_3_arr)"
      ],
      "metadata": {
        "colab": {
          "base_uri": "https://localhost:8080/"
        },
        "id": "tJfAVXtPyrdN",
        "outputId": "10f39f47-0e3c-4ef5-9923-9ff5a73951cb"
      },
      "execution_count": null,
      "outputs": [
        {
          "output_type": "stream",
          "name": "stdout",
          "text": [
            "[ 87 174 261]\n"
          ]
        }
      ]
    },
    {
      "cell_type": "markdown",
      "source": [
        "# Fromstring()\n",
        "\n",
        "\n",
        "---\n",
        "numpy.fromstring() method ek naya 1-dimensional array banata hai ek string se jisme numerical data hota hai. Matlab, yeh ek string leta hai jo numbers ko represent karta hai aur usko NumPy array mein convert karta hai.\n",
        "\n",
        "\n",
        "\n",
        "---\n",
        "\n",
        "\n",
        "\n",
        "```\n",
        "numpy.fromstring(string, dtype=float, sep='', *, count=-1, like=None)\n",
        "\n",
        "```\n",
        "> Parameters:\n",
        "\n",
        "string: Yeh input string hai jisme numerical data hai.\n",
        "\n",
        "dtype: Yeh array ke elements ka desired data type hai (e.g., int, float).\n",
        "Default float hai.\n",
        "\n",
        "sep: Yeh delimiter hai jo string mein values ko alag karta hai. Default koi bhi whitespace hai.\n",
        "\n",
        "count: (Optional) Kitne values string se read karne hain. Agar -1 hai (default), toh saare values read karega.\n",
        "\n",
        "like: (Optional) Existing array ke properties se array define karne ke liye use hota hai.\n",
        "\n",
        "---\n",
        "> Kaise kaam karta hai:\n",
        "\n",
        "fromstring() method input string leta hai.\n",
        "\n",
        "Yeh sep parameter use karke string mein numerical values ke beech ke delimiters ko identify karta hai.\n",
        "\n",
        "Yeh har value ko specified dtype mein convert karta hai.\n",
        "\n",
        "Yeh ek naya 1-dimensional NumPy array banata hai jisme yeh converted values hote hain.\n",
        "\n",
        "Finally, yeh bana hua array return karta hai.\n",
        "\n",
        "```\n",
        "import numpy as np\n",
        "\n",
        "# Comma-separated values wali string se array banao\n",
        "data_string = \"1,2,3,4,5\"\n",
        "array = np.fromstring(data_string, dtype=int, sep=\",\")\n",
        "\n",
        "# Output dekhne ke liye code run karo.\n",
        "# Expected output: [1 2 3 4 5]\n",
        "```\n",
        "\n"
      ],
      "metadata": {
        "id": "UHWqVuZj3QKL"
      }
    },
    {
      "cell_type": "code",
      "source": [
        "data_str=\"1,2,3,4,5\"\n",
        "data_str_1=np.fromstring(data_str,sep=\",\", dtype=int)\n",
        "print(data_str_1)\n",
        "\n",
        "data_str_2=\"100 200 300 500\"\n",
        "data_str_3=np.fromstring(data_str_2,sep=\" \", dtype=int)\n",
        "print(data_str_3)"
      ],
      "metadata": {
        "colab": {
          "base_uri": "https://localhost:8080/"
        },
        "id": "4fPFZwB23PpN",
        "outputId": "3b1c975c-c720-4c69-983a-a328f9f8a73b"
      },
      "execution_count": null,
      "outputs": [
        {
          "output_type": "stream",
          "name": "stdout",
          "text": [
            "[1 2 3 4 5]\n",
            "[100 200 300 500]\n"
          ]
        }
      ]
    },
    {
      "cell_type": "markdown",
      "source": [
        "# COPY\n",
        "\n",
        "\n",
        "---\n",
        "\n",
        "\n",
        "\n",
        "> Shallow Copy:\n",
        "\n",
        "Ek naya array object banta hai, lekin yeh original array ke data ko point karta hai.\n",
        "Matlab, agar tum shallow copy mein kuch change karte ho, toh woh original array mein bhi reflect hoga.\n",
        "Socho ise ek photocopy ki tarah, jahan original aur copy dono same data share karte hain.\n",
        "`view()` method use karke shallow copy banate hain.\n",
        "\n",
        "---\n",
        "\n",
        "> Deep Copy:\n",
        "\n",
        "Ek naya array object banta hai aur original array ke data ki ek independent copy bhi banti hai.\n",
        "Matlab, agar tum deep copy mein kuch change karte ho, toh woh original array ko affect nahin karega.\n",
        "Socho ise original document ki ek nayi copy ki tarah, jahan dono independent hain.\n",
        "`copy()` method use karke deep copy banate hain.\n",
        "\n",
        "---\n",
        "In short:\n",
        "\n",
        "Shallow copy: Data share karta hai, changes dono mein reflect hote hain.\n",
        "Deep copy: Data ki independent copy, changes ek dusre ko affect nahin karte.\n",
        "\n",
        "\n"
      ],
      "metadata": {
        "id": "OfHzsX7xzM6x"
      }
    },
    {
      "cell_type": "code",
      "source": [
        "data_arr=[1,2,3,4,5,6]\n",
        "#create a shallow copy\n",
        "data_arr_s=data_arr\n",
        "\n",
        "print('original',data_arr)\n",
        "\n",
        "# change first index\n",
        "data_arr_s[0]=100\n",
        "print(\"copy shallow\",data_arr_s)\n",
        "print('original changed',data_arr)"
      ],
      "metadata": {
        "colab": {
          "base_uri": "https://localhost:8080/"
        },
        "id": "Vms4Nwv4zFLM",
        "outputId": "18c7d389-e711-4862-c9c0-41f765868b33"
      },
      "execution_count": null,
      "outputs": [
        {
          "output_type": "stream",
          "name": "stdout",
          "text": [
            "original [1, 2, 3, 4, 5, 6]\n",
            "copy shallow [100, 2, 3, 4, 5, 6]\n",
            "original changed [100, 2, 3, 4, 5, 6]\n"
          ]
        }
      ]
    },
    {
      "cell_type": "code",
      "source": [
        "# create a deep Copy\n",
        "data_arr_d=data_arr.copy()\n",
        "\n",
        "print('original',data_arr)\n",
        "\n",
        "data_arr_d[0]=1000\n",
        "print(\"copy deep\",data_arr_d)\n",
        "print('original not changed',data_arr)"
      ],
      "metadata": {
        "colab": {
          "base_uri": "https://localhost:8080/"
        },
        "id": "gXKuJ_IM0QNa",
        "outputId": "7133e999-56c3-4c71-9452-6ed3c15d0a12"
      },
      "execution_count": null,
      "outputs": [
        {
          "output_type": "stream",
          "name": "stdout",
          "text": [
            "original [100, 2, 3, 4, 5, 6]\n",
            "copy deep [1000, 2, 3, 4, 5, 6]\n",
            "original not changed [100, 2, 3, 4, 5, 6]\n"
          ]
        }
      ]
    },
    {
      "cell_type": "markdown",
      "source": [
        "# Numpy Data Types"
      ],
      "metadata": {
        "id": "R_fJhkJo_BsJ"
      }
    },
    {
      "cell_type": "code",
      "source": [
        "# Create an integer list\n",
        "integer_list = [10, 20, 30, 40, 50]\n",
        "\n",
        "print(f\"Integer list: {integer_list}\")\n",
        "\n",
        "print(f\"Data type of integer_list: {type(integer_list)}\")"
      ],
      "metadata": {
        "colab": {
          "base_uri": "https://localhost:8080/"
        },
        "id": "Tzd4p4Jp03f0",
        "outputId": "df71ba7d-6cee-49f6-f2da-08ec608e6451"
      },
      "execution_count": null,
      "outputs": [
        {
          "output_type": "stream",
          "name": "stdout",
          "text": [
            "Integer list: [10, 20, 30, 40, 50]\n",
            "Data type of integer_list: <class 'list'>\n"
          ]
        }
      ]
    },
    {
      "cell_type": "code",
      "source": [
        "# Convert the list to a NumPy array\n",
        "integer_array = np.array(integer_list)\n",
        "\n",
        "print(f\"Integer array: {integer_array}\")\n",
        "print(f\"Data type of integer_array: {type(integer_array)}\")\n",
        "print(f\"Data type of elements in integer_array: {integer_array.dtype}\")"
      ],
      "metadata": {
        "colab": {
          "base_uri": "https://localhost:8080/"
        },
        "id": "baQCSNov_VIv",
        "outputId": "8106576f-8978-47fb-f6de-877cef8f0e3f"
      },
      "execution_count": null,
      "outputs": [
        {
          "output_type": "stream",
          "name": "stdout",
          "text": [
            "Integer array: [10 20 30 40 50]\n",
            "Data type of integer_array: <class 'numpy.ndarray'>\n",
            "Data type of elements in integer_array: int64\n"
          ]
        }
      ]
    },
    {
      "cell_type": "code",
      "source": [
        "integer_array.ndim\n",
        "# [10 20 30 40 50] only one row"
      ],
      "metadata": {
        "colab": {
          "base_uri": "https://localhost:8080/"
        },
        "id": "ctayuITr_buc",
        "outputId": "47ea892c-5a42-4707-c656-6b8690dae0d2"
      },
      "execution_count": null,
      "outputs": [
        {
          "output_type": "execute_result",
          "data": {
            "text/plain": [
              "1"
            ]
          },
          "metadata": {},
          "execution_count": 63
        }
      ]
    },
    {
      "cell_type": "code",
      "source": [
        "ar_2=np.asarray([[1,2,3],[9,9,9]])\n",
        "print(f\"two dimensional array: {ar_2}\")\n",
        "print(f\"Data type of ar_2: {type(ar_2)}\")\n",
        "print(f\"Data type of elements in ar_2: {ar_2.dtype}\")"
      ],
      "metadata": {
        "colab": {
          "base_uri": "https://localhost:8080/"
        },
        "id": "63brxJrJ_tIG",
        "outputId": "060ec9a8-3caf-42d3-bf5f-60deebcf2056"
      },
      "execution_count": null,
      "outputs": [
        {
          "output_type": "stream",
          "name": "stdout",
          "text": [
            "two dimensional array: [[1 2 3]\n",
            " [9 9 9]]\n",
            "Data type of ar_2: <class 'numpy.ndarray'>\n",
            "Data type of elements in ar_2: int64\n"
          ]
        }
      ]
    },
    {
      "cell_type": "code",
      "source": [
        "ar_2"
      ],
      "metadata": {
        "colab": {
          "base_uri": "https://localhost:8080/"
        },
        "id": "Z_ALo4gvADDu",
        "outputId": "bd53fac5-55dd-4aea-c026-af04b25293b7"
      },
      "execution_count": null,
      "outputs": [
        {
          "output_type": "execute_result",
          "data": {
            "text/plain": [
              "array([[1, 2, 3],\n",
              "       [9, 9, 9]])"
            ]
          },
          "metadata": {},
          "execution_count": 69
        }
      ]
    },
    {
      "cell_type": "code",
      "source": [
        "ar_2.ndim"
      ],
      "metadata": {
        "colab": {
          "base_uri": "https://localhost:8080/"
        },
        "id": "SrkCpXmBAj6H",
        "outputId": "bff9f0ea-96ec-4501-9d35-82a3946147ff"
      },
      "execution_count": null,
      "outputs": [
        {
          "output_type": "execute_result",
          "data": {
            "text/plain": [
              "2"
            ]
          },
          "metadata": {},
          "execution_count": 70
        }
      ]
    },
    {
      "cell_type": "code",
      "source": [
        "ar_3=np.array([\n",
        "    [1,2,3],\n",
        "    [0,9,8],\n",
        "    [6,6,5]\n",
        "])"
      ],
      "metadata": {
        "id": "LqRfhdn3AmLd"
      },
      "execution_count": null,
      "outputs": []
    },
    {
      "cell_type": "code",
      "source": [
        "ar_3"
      ],
      "metadata": {
        "colab": {
          "base_uri": "https://localhost:8080/"
        },
        "id": "Y1lJq_7qAyKV",
        "outputId": "fc76bcf1-3495-494b-80ba-9936ea8a2d31"
      },
      "execution_count": null,
      "outputs": [
        {
          "output_type": "execute_result",
          "data": {
            "text/plain": [
              "array([[1, 2, 3],\n",
              "       [0, 9, 8],\n",
              "       [6, 6, 5]])"
            ]
          },
          "metadata": {},
          "execution_count": 72
        }
      ]
    },
    {
      "cell_type": "code",
      "source": [
        "ar_3.ndim"
      ],
      "metadata": {
        "colab": {
          "base_uri": "https://localhost:8080/"
        },
        "id": "fTnWRZe3AzYd",
        "outputId": "a4f84be7-6f6f-4ae2-f4bb-390700966f95"
      },
      "execution_count": null,
      "outputs": [
        {
          "output_type": "execute_result",
          "data": {
            "text/plain": [
              "2"
            ]
          },
          "metadata": {},
          "execution_count": 73
        }
      ]
    },
    {
      "cell_type": "code",
      "source": [
        "ar_4=np.array(\n",
        "    [\n",
        "        [\n",
        "            [1,2,3],\n",
        "            [0,9,8],\n",
        "            [6,6,5]\n",
        "        ],\n",
        "    ]\n",
        ")"
      ],
      "metadata": {
        "id": "D7ma7MT4A3x0"
      },
      "execution_count": null,
      "outputs": []
    },
    {
      "cell_type": "code",
      "source": [
        "ar_4"
      ],
      "metadata": {
        "colab": {
          "base_uri": "https://localhost:8080/"
        },
        "id": "gIy7vGr1BDZF",
        "outputId": "f95ccb12-9141-4cee-a941-3cbc18b1aaa7"
      },
      "execution_count": null,
      "outputs": [
        {
          "output_type": "execute_result",
          "data": {
            "text/plain": [
              "array([[[1, 2, 3],\n",
              "        [0, 9, 8],\n",
              "        [6, 6, 5]]])"
            ]
          },
          "metadata": {},
          "execution_count": 75
        }
      ]
    },
    {
      "cell_type": "code",
      "source": [
        "ar_4.ndim"
      ],
      "metadata": {
        "colab": {
          "base_uri": "https://localhost:8080/"
        },
        "id": "L_RNOjG5BE00",
        "outputId": "a6168c03-6d4f-4274-c0f8-9127b82c1daa"
      },
      "execution_count": null,
      "outputs": [
        {
          "output_type": "execute_result",
          "data": {
            "text/plain": [
              "3"
            ]
          },
          "metadata": {},
          "execution_count": 76
        }
      ]
    },
    {
      "cell_type": "code",
      "source": [
        "ar_4.shape"
      ],
      "metadata": {
        "colab": {
          "base_uri": "https://localhost:8080/"
        },
        "id": "6DA86OROBID9",
        "outputId": "6ffde586-b600-4cec-8936-a86b3a11537f"
      },
      "execution_count": null,
      "outputs": [
        {
          "output_type": "execute_result",
          "data": {
            "text/plain": [
              "(1, 3, 3)"
            ]
          },
          "metadata": {},
          "execution_count": 77
        }
      ]
    },
    {
      "cell_type": "markdown",
      "source": [
        "# Arange() in Numpy\n",
        "- ab hum ma range function ka use kar ka 0 sa 5.4 tak ki range ka array bana hai\n",
        "- ak tu ya range function float value ko support nahi karta is liya hum numpy ka\n",
        "\n",
        "```\n",
        "np.arange()\n",
        "```\n",
        "- method use karta hai\n",
        "\n",
        "- Pehla parameter batata hai ki tum kahan se shuru karoge (starting point).\n",
        "\n",
        "- Dusra parameter batata hai ki tum kahan tak jaoge (ending point).\n",
        "- Teesra parameter, jisko hum \"step size\" kehte hain, batata hai ki tum kitne steps skip karoge har baar."
      ],
      "metadata": {
        "id": "iRXgKKoUKHoT"
      }
    },
    {
      "cell_type": "code",
      "source": [
        "val_1=np.arange(0,5.4,0.5)\n",
        "print(val_1)\n",
        "print(type(val_1))\n",
        "\n",
        "val_2=np.arange(0,5.4,.5)\n",
        "print(val_2)\n",
        "print(type(val_2))"
      ],
      "metadata": {
        "id": "UldNmrCQHu6x",
        "colab": {
          "base_uri": "https://localhost:8080/"
        },
        "outputId": "b3149e13-f4b1-4a9a-f248-188ff21102c8"
      },
      "execution_count": 9,
      "outputs": [
        {
          "output_type": "stream",
          "name": "stdout",
          "text": [
            "[0.  0.5 1.  1.5 2.  2.5 3.  3.5 4.  4.5 5. ]\n",
            "<class 'numpy.ndarray'>\n",
            "[0.  0.5 1.  1.5 2.  2.5 3.  3.5 4.  4.5 5. ]\n",
            "<class 'numpy.ndarray'>\n"
          ]
        }
      ]
    },
    {
      "cell_type": "markdown",
      "source": [
        "# linspace() in Numpy\n",
        "- linsapace three parameter lata hai first kaha sa start ho ga second kaha take jaye ga or third jo is ki khasiyat hai 0 sa 5 ka bechema 20 numbers batao\n",
        "---\n",
        "```\n",
        "np.linspace(\"firstNum,secondNum,ThirdNum\")\n",
        "```\n",
        "\n"
      ],
      "metadata": {
        "id": "_VjjFIRZMgrm"
      }
    },
    {
      "cell_type": "code",
      "source": [
        "val_3=np.linspace(1,3,50)\n",
        "print(val_3)\n",
        "print(type(val_3))"
      ],
      "metadata": {
        "colab": {
          "base_uri": "https://localhost:8080/"
        },
        "id": "1IAlZDsULfnP",
        "outputId": "7aea2667-1578-448a-9077-7b465cde35e4"
      },
      "execution_count": 11,
      "outputs": [
        {
          "output_type": "stream",
          "name": "stdout",
          "text": [
            "[1.         1.04081633 1.08163265 1.12244898 1.16326531 1.20408163\n",
            " 1.24489796 1.28571429 1.32653061 1.36734694 1.40816327 1.44897959\n",
            " 1.48979592 1.53061224 1.57142857 1.6122449  1.65306122 1.69387755\n",
            " 1.73469388 1.7755102  1.81632653 1.85714286 1.89795918 1.93877551\n",
            " 1.97959184 2.02040816 2.06122449 2.10204082 2.14285714 2.18367347\n",
            " 2.2244898  2.26530612 2.30612245 2.34693878 2.3877551  2.42857143\n",
            " 2.46938776 2.51020408 2.55102041 2.59183673 2.63265306 2.67346939\n",
            " 2.71428571 2.75510204 2.79591837 2.83673469 2.87755102 2.91836735\n",
            " 2.95918367 3.        ]\n",
            "<class 'numpy.ndarray'>\n"
          ]
        }
      ]
    },
    {
      "cell_type": "code",
      "source": [
        "# zeros method ya method array ma sirf zero hi store karta hai\n",
        "# example [\n",
        "#     [0,0,0],\n",
        "#     [0,0,0],\n",
        "#     [0,0,0],\n",
        "# ]\n",
        "\n",
        "val_4=np.zeros((3,13), dtype=int)\n",
        "print(val_4)"
      ],
      "metadata": {
        "colab": {
          "base_uri": "https://localhost:8080/"
        },
        "id": "YXrfQLx0NbPl",
        "outputId": "ea856364-c38a-42b0-e8c2-f1e1a9938951"
      },
      "execution_count": 17,
      "outputs": [
        {
          "output_type": "stream",
          "name": "stdout",
          "text": [
            "[[0 0 0 0 0 0 0 0 0 0 0 0 0]\n",
            " [0 0 0 0 0 0 0 0 0 0 0 0 0]\n",
            " [0 0 0 0 0 0 0 0 0 0 0 0 0]]\n"
          ]
        }
      ]
    },
    {
      "cell_type": "code",
      "source": [
        "# ab hun 3d dimensinal array bana hai simple\n",
        "val_5=np.zeros((3,3,3), dtype=int)\n",
        "print(val_5)"
      ],
      "metadata": {
        "colab": {
          "base_uri": "https://localhost:8080/"
        },
        "id": "_0tFjfz-N9ts",
        "outputId": "e97b0dd4-e333-4990-aa22-0f35bf633890"
      },
      "execution_count": 20,
      "outputs": [
        {
          "output_type": "stream",
          "name": "stdout",
          "text": [
            "[[[0 0 0]\n",
            "  [0 0 0]\n",
            "  [0 0 0]]\n",
            "\n",
            " [[0 0 0]\n",
            "  [0 0 0]\n",
            "  [0 0 0]]\n",
            "\n",
            " [[0 0 0]\n",
            "  [0 0 0]\n",
            "  [0 0 0]]]\n"
          ]
        }
      ]
    },
    {
      "cell_type": "code",
      "source": [
        "# lets create 4d array\n",
        "val_6=np.zeros((3,3,3,3))\n",
        "print(val_6)"
      ],
      "metadata": {
        "colab": {
          "base_uri": "https://localhost:8080/"
        },
        "id": "Wa9VEajcOdSi",
        "outputId": "d5e150bd-d3ff-4c67-c820-b07e99e4fb2d"
      },
      "execution_count": 22,
      "outputs": [
        {
          "output_type": "stream",
          "name": "stdout",
          "text": [
            "[[[[0. 0. 0.]\n",
            "   [0. 0. 0.]\n",
            "   [0. 0. 0.]]\n",
            "\n",
            "  [[0. 0. 0.]\n",
            "   [0. 0. 0.]\n",
            "   [0. 0. 0.]]\n",
            "\n",
            "  [[0. 0. 0.]\n",
            "   [0. 0. 0.]\n",
            "   [0. 0. 0.]]]\n",
            "\n",
            "\n",
            " [[[0. 0. 0.]\n",
            "   [0. 0. 0.]\n",
            "   [0. 0. 0.]]\n",
            "\n",
            "  [[0. 0. 0.]\n",
            "   [0. 0. 0.]\n",
            "   [0. 0. 0.]]\n",
            "\n",
            "  [[0. 0. 0.]\n",
            "   [0. 0. 0.]\n",
            "   [0. 0. 0.]]]\n",
            "\n",
            "\n",
            " [[[0. 0. 0.]\n",
            "   [0. 0. 0.]\n",
            "   [0. 0. 0.]]\n",
            "\n",
            "  [[0. 0. 0.]\n",
            "   [0. 0. 0.]\n",
            "   [0. 0. 0.]]\n",
            "\n",
            "  [[0. 0. 0.]\n",
            "   [0. 0. 0.]\n",
            "   [0. 0. 0.]]]]\n"
          ]
        }
      ]
    },
    {
      "cell_type": "code",
      "source": [
        "# zeros to upgrade version is onces() its converd the whole array in 1 number\n",
        "'''\n",
        "example\n",
        "[\n",
        "  [1,1,1,1],\n",
        "  [1,1,1,1],\n",
        "  [1,1,1,1],\n",
        "  [1,1,1,1],\n",
        "]\n",
        "'''\n",
        "val_7=np.ones((3,2,3,3), dtype=int)\n",
        "print(val_7)\n",
        "print(f'check dimension {val_7.ndim}')"
      ],
      "metadata": {
        "colab": {
          "base_uri": "https://localhost:8080/"
        },
        "id": "PRrWk2NYOvfB",
        "outputId": "8fd5dd4a-4ccd-4d46-86ab-18695c22d175"
      },
      "execution_count": 31,
      "outputs": [
        {
          "output_type": "stream",
          "name": "stdout",
          "text": [
            "[[[[1 1 1]\n",
            "   [1 1 1]\n",
            "   [1 1 1]]\n",
            "\n",
            "  [[1 1 1]\n",
            "   [1 1 1]\n",
            "   [1 1 1]]]\n",
            "\n",
            "\n",
            " [[[1 1 1]\n",
            "   [1 1 1]\n",
            "   [1 1 1]]\n",
            "\n",
            "  [[1 1 1]\n",
            "   [1 1 1]\n",
            "   [1 1 1]]]\n",
            "\n",
            "\n",
            " [[[1 1 1]\n",
            "   [1 1 1]\n",
            "   [1 1 1]]\n",
            "\n",
            "  [[1 1 1]\n",
            "   [1 1 1]\n",
            "   [1 1 1]]]]\n",
            "check dimension 4\n"
          ]
        }
      ]
    },
    {
      "cell_type": "code",
      "source": [
        "val_8=val_7+32/10*78"
      ],
      "metadata": {
        "id": "JBaI0-3nRfdk"
      },
      "execution_count": 32,
      "outputs": []
    },
    {
      "cell_type": "code",
      "source": [
        "print(val_8)"
      ],
      "metadata": {
        "colab": {
          "base_uri": "https://localhost:8080/"
        },
        "id": "RnzniNT6R5Y0",
        "outputId": "86161fd8-803c-4390-e61f-87335bbffb65"
      },
      "execution_count": 33,
      "outputs": [
        {
          "output_type": "stream",
          "name": "stdout",
          "text": [
            "[[[[250.6 250.6 250.6]\n",
            "   [250.6 250.6 250.6]\n",
            "   [250.6 250.6 250.6]]\n",
            "\n",
            "  [[250.6 250.6 250.6]\n",
            "   [250.6 250.6 250.6]\n",
            "   [250.6 250.6 250.6]]]\n",
            "\n",
            "\n",
            " [[[250.6 250.6 250.6]\n",
            "   [250.6 250.6 250.6]\n",
            "   [250.6 250.6 250.6]]\n",
            "\n",
            "  [[250.6 250.6 250.6]\n",
            "   [250.6 250.6 250.6]\n",
            "   [250.6 250.6 250.6]]]\n",
            "\n",
            "\n",
            " [[[250.6 250.6 250.6]\n",
            "   [250.6 250.6 250.6]\n",
            "   [250.6 250.6 250.6]]\n",
            "\n",
            "  [[250.6 250.6 250.6]\n",
            "   [250.6 250.6 250.6]\n",
            "   [250.6 250.6 250.6]]]]\n"
          ]
        }
      ]
    },
    {
      "cell_type": "code",
      "source": [
        "'''\n",
        "[[1, 0, 0],\n",
        " [0, 1, 0],\n",
        " [0, 0, 1]]\n",
        "\n",
        "Dekho, diagonal par 1 hain aur baaki jagah 0 hain.\n",
        "\n",
        "Simple words mein: eye() method se hum ek special matrix banate hain jisme diagonal par 1 hote hain aur baaki jagah 0 hote hain.\n",
        "\n",
        "Kya kaam aata hai?\n",
        "\n",
        "Identity matrix ka use bahut saare mathematical calculations mein hota hai, jaise:\n",
        "\n",
        "Linear algebra\n",
        "Matrix operations\n",
        "Machine learning algorithms\n",
        "'''"
      ],
      "metadata": {
        "id": "WYZfzGcrUl9F"
      },
      "execution_count": null,
      "outputs": []
    },
    {
      "cell_type": "code",
      "source": [
        "val_9=np.eye(20, dtype=int, k=8)\n",
        "print(val_9)"
      ],
      "metadata": {
        "colab": {
          "base_uri": "https://localhost:8080/"
        },
        "id": "IFJbca0FYbGp",
        "outputId": "c2e26193-25e7-4306-aa5b-f5d5e3c72099"
      },
      "execution_count": 41,
      "outputs": [
        {
          "output_type": "stream",
          "name": "stdout",
          "text": [
            "[[0 0 0 0 0 0 0 0 1 0 0 0 0 0 0 0 0 0 0 0]\n",
            " [0 0 0 0 0 0 0 0 0 1 0 0 0 0 0 0 0 0 0 0]\n",
            " [0 0 0 0 0 0 0 0 0 0 1 0 0 0 0 0 0 0 0 0]\n",
            " [0 0 0 0 0 0 0 0 0 0 0 1 0 0 0 0 0 0 0 0]\n",
            " [0 0 0 0 0 0 0 0 0 0 0 0 1 0 0 0 0 0 0 0]\n",
            " [0 0 0 0 0 0 0 0 0 0 0 0 0 1 0 0 0 0 0 0]\n",
            " [0 0 0 0 0 0 0 0 0 0 0 0 0 0 1 0 0 0 0 0]\n",
            " [0 0 0 0 0 0 0 0 0 0 0 0 0 0 0 1 0 0 0 0]\n",
            " [0 0 0 0 0 0 0 0 0 0 0 0 0 0 0 0 1 0 0 0]\n",
            " [0 0 0 0 0 0 0 0 0 0 0 0 0 0 0 0 0 1 0 0]\n",
            " [0 0 0 0 0 0 0 0 0 0 0 0 0 0 0 0 0 0 1 0]\n",
            " [0 0 0 0 0 0 0 0 0 0 0 0 0 0 0 0 0 0 0 1]\n",
            " [0 0 0 0 0 0 0 0 0 0 0 0 0 0 0 0 0 0 0 0]\n",
            " [0 0 0 0 0 0 0 0 0 0 0 0 0 0 0 0 0 0 0 0]\n",
            " [0 0 0 0 0 0 0 0 0 0 0 0 0 0 0 0 0 0 0 0]\n",
            " [0 0 0 0 0 0 0 0 0 0 0 0 0 0 0 0 0 0 0 0]\n",
            " [0 0 0 0 0 0 0 0 0 0 0 0 0 0 0 0 0 0 0 0]\n",
            " [0 0 0 0 0 0 0 0 0 0 0 0 0 0 0 0 0 0 0 0]\n",
            " [0 0 0 0 0 0 0 0 0 0 0 0 0 0 0 0 0 0 0 0]\n",
            " [0 0 0 0 0 0 0 0 0 0 0 0 0 0 0 0 0 0 0 0]]\n"
          ]
        }
      ]
    },
    {
      "cell_type": "code",
      "source": [
        "# logspace\n",
        "'''\n",
        "Is function mein teen parameters hain:\n",
        "\n",
        "start (2): Yeh sequence ka starting point hai. Yahaan se values generate hona shuru hongi.\n",
        " Is case mein, starting point 2 hai.\n",
        "stop (5): Yeh sequence ka ending point hai. Values generate hote hue is point tak jaayengi.\n",
        " Is case mein, ending point 5 hai.\n",
        "base (2): Yeh logarithm ka base hai. Is case mein, base 2 hai. Default base 10 hota hai,\n",
        "lekin yahaan humne use 2 specify kiya hai.\n",
        "Kya hoga is function se?\n",
        "\n",
        "Yeh function ek array generate karega jisme values base ** start se base ** stop tak\n",
        "logarithmically spaced hongi. Yahaan, ** ka matlab exponent hai.\n",
        "\n",
        "Is case mein, function yeh array generate karega:\n",
        "\n",
        "\n",
        "[4. 8. 16. 32.]\n",
        "Use code with caution\n",
        "Explanation:\n",
        "\n",
        "Pehli value: 2 ** 2 = 4\n",
        "Dusri value: 2 ** 3 = 8\n",
        "Teesri value: 2 ** 4 = 16\n",
        "Chauthi value: 2 ** 5 = 32\n",
        "Yeh values 2 ke base mein logarithmically spaced hain, matlab har value pichli\n",
        "value se 2 guna badh rahi hai.\n",
        "\n",
        "Simple words mein:\n",
        "\n",
        "np.logspace(2, 5, base=2) ek array generate karta hai jisme values 4 se 32 tak\n",
        "hoti hain aur har value pichli value se 2 guna badh rahi hoti hai.\n",
        "------------------------------------------------------------------------------------\n",
        "num parameter: Yeh specify karta hai ki array mein kitne values generate karne hain.\n",
        " Agar num parameter specify nahi kiya jaata, toh iski default value 50 hoti hai.\n",
        "\n",
        "Is case mein, humne num parameter specify nahi kiya, isliye function ne 50 values\n",
        "generate kiye hain jo 4 se 32 tak logarithmically spaced hain.\n",
        "\n",
        "Agar aap output mein sirf 4 values chahte hain, toh aapko num parameter ko 4 specify\n",
        "karna hoga:\n",
        "\n",
        "\n",
        "np.logspace(2, 5, base=2, num=4)\n",
        "Use code with caution\n",
        "Isse aapko yeh output milega:\n",
        "\n",
        "\n",
        "[ 4.  8. 16. 32.]\n",
        "Use code with caution\n",
        "Simple words mein:\n",
        "\n",
        "np.logspace() function default olarak 50 values generate karta hai.\n",
        "Agar aap kam ya zyada values chahte hain, toh aapko num parameter use karna hoga.\n",
        "\n",
        "Umeed hai ab yeh clear hai! Agar koi aur sawal hai to pooch sakte ho.\n",
        "'''\n",
        "\n",
        "val_10=np.logspace(2,6 ,base=2, num=4)\n",
        "print(val_10)"
      ],
      "metadata": {
        "colab": {
          "base_uri": "https://localhost:8080/"
        },
        "id": "aAfobFLZZVi7",
        "outputId": "f64dec16-9d12-4d94-b055-ef2f439c4ac3"
      },
      "execution_count": 50,
      "outputs": [
        {
          "output_type": "stream",
          "name": "stdout",
          "text": [
            "[ 4.         10.0793684  25.39841683 64.        ]\n"
          ]
        }
      ]
    },
    {
      "cell_type": "code",
      "source": [
        "np.arange(4)/3"
      ],
      "metadata": {
        "colab": {
          "base_uri": "https://localhost:8080/"
        },
        "id": "sgq78tWuR8Rz",
        "outputId": "4bea6b11-f778-43ad-cdb2-ebae0668873a"
      },
      "execution_count": 51,
      "outputs": [
        {
          "output_type": "execute_result",
          "data": {
            "text/plain": [
              "array([0.        , 0.33333333, 0.66666667, 1.        ])"
            ]
          },
          "metadata": {},
          "execution_count": 51
        }
      ]
    },
    {
      "cell_type": "markdown",
      "source": [
        "# Random() Method in Numpy"
      ],
      "metadata": {
        "id": "6KqzyDR2odQP"
      }
    },
    {
      "cell_type": "code",
      "source": [
        "arr_1=np.random.rand(5,4)"
      ],
      "metadata": {
        "id": "mUtQQY4Pee_n"
      },
      "execution_count": 54,
      "outputs": []
    },
    {
      "cell_type": "code",
      "source": [
        "arr_1"
      ],
      "metadata": {
        "colab": {
          "base_uri": "https://localhost:8080/"
        },
        "id": "fATYnyt8o0dQ",
        "outputId": "fa3a98dc-725a-4617-b7d5-3e2599f15a54"
      },
      "execution_count": 55,
      "outputs": [
        {
          "output_type": "execute_result",
          "data": {
            "text/plain": [
              "array([[0.86073482, 0.13826211, 0.95052007, 0.84729001],\n",
              "       [0.0235748 , 0.15467744, 0.29834908, 0.02742945],\n",
              "       [0.39413021, 0.14684008, 0.58002385, 0.38881828],\n",
              "       [0.82555033, 0.28479872, 0.45449055, 0.4590166 ],\n",
              "       [0.57679917, 0.00816333, 0.83946112, 0.28024973]])"
            ]
          },
          "metadata": {},
          "execution_count": 55
        }
      ]
    },
    {
      "cell_type": "code",
      "source": [
        "arr_2=np.random.randint(2,10,(4,4))\n",
        "arr_2"
      ],
      "metadata": {
        "colab": {
          "base_uri": "https://localhost:8080/"
        },
        "id": "oN5KE1VGo2hs",
        "outputId": "d97c92ef-68bd-4206-e1df-c2d969a47e41"
      },
      "execution_count": 57,
      "outputs": [
        {
          "output_type": "execute_result",
          "data": {
            "text/plain": [
              "array([[9, 8, 5, 8],\n",
              "       [8, 2, 4, 8],\n",
              "       [8, 2, 6, 7],\n",
              "       [8, 5, 3, 8]])"
            ]
          },
          "metadata": {},
          "execution_count": 57
        }
      ]
    },
    {
      "cell_type": "code",
      "source": [
        "import pandas as pd\n"
      ],
      "metadata": {
        "id": "g98HMsK3pH4n"
      },
      "execution_count": 58,
      "outputs": []
    },
    {
      "cell_type": "code",
      "source": [
        "arr_3=a=pd.DataFrame(np.random.randint(2,10,(40,40)))\n",
        "arr_3"
      ],
      "metadata": {
        "id": "oTS1TowopYsV"
      },
      "execution_count": null,
      "outputs": []
    },
    {
      "cell_type": "code",
      "source": [
        "arr_3.to_csv(\"random-data.csv\")"
      ],
      "metadata": {
        "id": "iwi6bJs_pi_2"
      },
      "execution_count": 64,
      "outputs": []
    },
    {
      "cell_type": "code",
      "source": [
        "# reshape the array\n",
        "arr_2\n",
        "print(arr_2.shape)"
      ],
      "metadata": {
        "colab": {
          "base_uri": "https://localhost:8080/"
        },
        "id": "xwGOS3o2p0p-",
        "outputId": "3d330c75-d2d3-48bc-c6b9-9836f2a1c160"
      },
      "execution_count": 73,
      "outputs": [
        {
          "output_type": "stream",
          "name": "stdout",
          "text": [
            "(4, 4)\n"
          ]
        }
      ]
    },
    {
      "cell_type": "markdown",
      "source": [
        "# Indexing and Slicing Numpy"
      ],
      "metadata": {
        "id": "EgadNB3RrW7c"
      }
    },
    {
      "cell_type": "code",
      "source": [
        "arr_1"
      ],
      "metadata": {
        "colab": {
          "base_uri": "https://localhost:8080/"
        },
        "id": "h3AA0htlqm92",
        "outputId": "3b6f2790-1975-477f-dcc5-8d8f687db721"
      },
      "execution_count": 77,
      "outputs": [
        {
          "output_type": "execute_result",
          "data": {
            "text/plain": [
              "array([[0.86073482, 0.13826211, 0.95052007, 0.84729001],\n",
              "       [0.0235748 , 0.15467744, 0.29834908, 0.02742945],\n",
              "       [0.39413021, 0.14684008, 0.58002385, 0.38881828],\n",
              "       [0.82555033, 0.28479872, 0.45449055, 0.4590166 ],\n",
              "       [0.57679917, 0.00816333, 0.83946112, 0.28024973]])"
            ]
          },
          "metadata": {},
          "execution_count": 77
        }
      ]
    },
    {
      "cell_type": "code",
      "source": [
        "arr_1[0]"
      ],
      "metadata": {
        "colab": {
          "base_uri": "https://localhost:8080/"
        },
        "id": "aRY3UWrjrc2F",
        "outputId": "237fa24a-3c07-4d08-b1aa-5270364e15af"
      },
      "execution_count": 78,
      "outputs": [
        {
          "output_type": "execute_result",
          "data": {
            "text/plain": [
              "array([0.86073482, 0.13826211, 0.95052007, 0.84729001])"
            ]
          },
          "metadata": {},
          "execution_count": 78
        }
      ]
    },
    {
      "cell_type": "code",
      "source": [
        "arr_1[0][2]"
      ],
      "metadata": {
        "colab": {
          "base_uri": "https://localhost:8080/"
        },
        "id": "Clwrph3jrfB-",
        "outputId": "b3a61cd8-9a46-448c-bd6b-870eca4a120d"
      },
      "execution_count": 79,
      "outputs": [
        {
          "output_type": "execute_result",
          "data": {
            "text/plain": [
              "0.9505200660652796"
            ]
          },
          "metadata": {},
          "execution_count": 79
        }
      ]
    },
    {
      "cell_type": "code",
      "source": [
        "arr_1[2, [2,3]]"
      ],
      "metadata": {
        "colab": {
          "base_uri": "https://localhost:8080/"
        },
        "id": "j33C3CParh_I",
        "outputId": "582e453a-bc9e-430e-c715-fe34b200d392"
      },
      "execution_count": 82,
      "outputs": [
        {
          "output_type": "execute_result",
          "data": {
            "text/plain": [
              "array([0.58002385, 0.38881828])"
            ]
          },
          "metadata": {},
          "execution_count": 82
        }
      ]
    },
    {
      "cell_type": "code",
      "source": [
        "arr_5=np.random.randint(1,10,(3,3,3))"
      ],
      "metadata": {
        "id": "wvlyL4Mzrpd3"
      },
      "execution_count": 83,
      "outputs": []
    },
    {
      "cell_type": "code",
      "source": [
        "arr_5"
      ],
      "metadata": {
        "colab": {
          "base_uri": "https://localhost:8080/"
        },
        "id": "kMeGWf3asJQR",
        "outputId": "3187bf0a-a607-44aa-880d-fe0874b1de6d"
      },
      "execution_count": 84,
      "outputs": [
        {
          "output_type": "execute_result",
          "data": {
            "text/plain": [
              "array([[[1, 3, 4],\n",
              "        [8, 5, 7],\n",
              "        [5, 2, 7]],\n",
              "\n",
              "       [[7, 7, 4],\n",
              "        [5, 1, 1],\n",
              "        [5, 9, 3]],\n",
              "\n",
              "       [[4, 8, 9],\n",
              "        [8, 3, 8],\n",
              "        [4, 8, 6]]])"
            ]
          },
          "metadata": {},
          "execution_count": 84
        }
      ]
    },
    {
      "cell_type": "code",
      "source": [
        "arr_5[2]"
      ],
      "metadata": {
        "colab": {
          "base_uri": "https://localhost:8080/"
        },
        "id": "2JPQI4PVsKeF",
        "outputId": "3681d5db-4d65-4045-92c6-7910815ce050"
      },
      "execution_count": 85,
      "outputs": [
        {
          "output_type": "execute_result",
          "data": {
            "text/plain": [
              "array([[4, 8, 9],\n",
              "       [8, 3, 8],\n",
              "       [4, 8, 6]])"
            ]
          },
          "metadata": {},
          "execution_count": 85
        }
      ]
    },
    {
      "cell_type": "code",
      "source": [
        "arr_5[2][1][2]"
      ],
      "metadata": {
        "colab": {
          "base_uri": "https://localhost:8080/"
        },
        "id": "Hi7Dw9yHsM4-",
        "outputId": "4fab7aad-5c19-4371-e1e4-070dfc5d36d0"
      },
      "execution_count": 86,
      "outputs": [
        {
          "output_type": "execute_result",
          "data": {
            "text/plain": [
              "8"
            ]
          },
          "metadata": {},
          "execution_count": 86
        }
      ]
    },
    {
      "cell_type": "code",
      "source": [
        "# comperishion\n",
        "arr_5[arr_5>7]"
      ],
      "metadata": {
        "colab": {
          "base_uri": "https://localhost:8080/"
        },
        "id": "LqaAA0FtscZG",
        "outputId": "1a220fea-3995-4468-b3ca-678ae06d0bda"
      },
      "execution_count": 89,
      "outputs": [
        {
          "output_type": "execute_result",
          "data": {
            "text/plain": [
              "array([8, 9, 8, 9, 8, 8, 8])"
            ]
          },
          "metadata": {},
          "execution_count": 89
        }
      ]
    },
    {
      "cell_type": "code",
      "source": [
        "arr_5+23"
      ],
      "metadata": {
        "colab": {
          "base_uri": "https://localhost:8080/"
        },
        "id": "hAx2FXVlsnHn",
        "outputId": "ad90250e-0aa9-4245-8e12-8fc2ec251370"
      },
      "execution_count": 90,
      "outputs": [
        {
          "output_type": "execute_result",
          "data": {
            "text/plain": [
              "array([[[24, 26, 27],\n",
              "        [31, 28, 30],\n",
              "        [28, 25, 30]],\n",
              "\n",
              "       [[30, 30, 27],\n",
              "        [28, 24, 24],\n",
              "        [28, 32, 26]],\n",
              "\n",
              "       [[27, 31, 32],\n",
              "        [31, 26, 31],\n",
              "        [27, 31, 29]]])"
            ]
          },
          "metadata": {},
          "execution_count": 90
        }
      ]
    },
    {
      "cell_type": "code",
      "source": [
        "arr_5/10"
      ],
      "metadata": {
        "colab": {
          "base_uri": "https://localhost:8080/"
        },
        "id": "Ep9gnpjMs0BL",
        "outputId": "beced469-6b2d-46f5-c625-9a833aad19df"
      },
      "execution_count": 91,
      "outputs": [
        {
          "output_type": "execute_result",
          "data": {
            "text/plain": [
              "array([[[0.1, 0.3, 0.4],\n",
              "        [0.8, 0.5, 0.7],\n",
              "        [0.5, 0.2, 0.7]],\n",
              "\n",
              "       [[0.7, 0.7, 0.4],\n",
              "        [0.5, 0.1, 0.1],\n",
              "        [0.5, 0.9, 0.3]],\n",
              "\n",
              "       [[0.4, 0.8, 0.9],\n",
              "        [0.8, 0.3, 0.8],\n",
              "        [0.4, 0.8, 0.6]]])"
            ]
          },
          "metadata": {},
          "execution_count": 91
        }
      ]
    },
    {
      "cell_type": "code",
      "source": [
        "arr_5-10"
      ],
      "metadata": {
        "colab": {
          "base_uri": "https://localhost:8080/"
        },
        "id": "jjKCMTtNsxqZ",
        "outputId": "16078be6-2d7a-48ef-ec08-9946aa236d20"
      },
      "execution_count": 92,
      "outputs": [
        {
          "output_type": "execute_result",
          "data": {
            "text/plain": [
              "array([[[-9, -7, -6],\n",
              "        [-2, -5, -3],\n",
              "        [-5, -8, -3]],\n",
              "\n",
              "       [[-3, -3, -6],\n",
              "        [-5, -9, -9],\n",
              "        [-5, -1, -7]],\n",
              "\n",
              "       [[-6, -2, -1],\n",
              "        [-2, -7, -2],\n",
              "        [-6, -2, -4]]])"
            ]
          },
          "metadata": {},
          "execution_count": 92
        }
      ]
    },
    {
      "cell_type": "markdown",
      "source": [
        "# Real Multiplication of Matrix"
      ],
      "metadata": {
        "id": "QAj7S1v2s53H"
      }
    },
    {
      "cell_type": "code",
      "source": [
        "arr_1"
      ],
      "metadata": {
        "colab": {
          "base_uri": "https://localhost:8080/"
        },
        "id": "KmFzqWQKtExe",
        "outputId": "6fd23191-5306-44e0-c9d5-ff5ba319bca7"
      },
      "execution_count": 93,
      "outputs": [
        {
          "output_type": "execute_result",
          "data": {
            "text/plain": [
              "array([[0.86073482, 0.13826211, 0.95052007, 0.84729001],\n",
              "       [0.0235748 , 0.15467744, 0.29834908, 0.02742945],\n",
              "       [0.39413021, 0.14684008, 0.58002385, 0.38881828],\n",
              "       [0.82555033, 0.28479872, 0.45449055, 0.4590166 ],\n",
              "       [0.57679917, 0.00816333, 0.83946112, 0.28024973]])"
            ]
          },
          "metadata": {},
          "execution_count": 93
        }
      ]
    },
    {
      "cell_type": "code",
      "source": [
        "arr_2"
      ],
      "metadata": {
        "colab": {
          "base_uri": "https://localhost:8080/"
        },
        "id": "fFw-4fiStElK",
        "outputId": "49b262e7-426e-4d26-d160-4ec11955cbdd"
      },
      "execution_count": 94,
      "outputs": [
        {
          "output_type": "execute_result",
          "data": {
            "text/plain": [
              "array([[9, 8, 5, 8],\n",
              "       [8, 2, 4, 8],\n",
              "       [8, 2, 6, 7],\n",
              "       [8, 5, 3, 8]])"
            ]
          },
          "metadata": {},
          "execution_count": 94
        }
      ]
    },
    {
      "cell_type": "code",
      "source": [
        "arr_1 @ arr_2"
      ],
      "metadata": {
        "colab": {
          "base_uri": "https://localhost:8080/"
        },
        "id": "y0W10F4is4S1",
        "outputId": "2b84c85e-a120-480a-9c8e-24c4600ce23b"
      },
      "execution_count": 95,
      "outputs": [
        {
          "output_type": "execute_result",
          "data": {
            "text/plain": [
              "array([[23.23519089, 13.29989295, 13.10171297, 21.423936  ],\n",
              "       [ 4.0558209 ,  1.23179864,  2.60896656,  3.73389702],\n",
              "       [12.47262961,  6.55086099,  7.20460932, 11.49847555],\n",
              "       [17.01640002, 10.37806423,  9.37093968, 15.73635914],\n",
              "       [14.21418595,  7.71089088,  8.79416507, 12.79792566]])"
            ]
          },
          "metadata": {},
          "execution_count": 95
        }
      ]
    }
  ]
}