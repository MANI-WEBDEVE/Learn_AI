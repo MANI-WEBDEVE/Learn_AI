{
 "cells": [
  {
   "cell_type": "markdown",
   "id": "baf16496-e268-4d8e-af54-8ce6fea8e44f",
   "metadata": {},
   "source": [
    "# Series "
   ]
  },
  {
   "cell_type": "code",
   "execution_count": 1,
   "id": "0eb31f0d-f9c2-4421-ac5e-a226c78b7d14",
   "metadata": {},
   "outputs": [],
   "source": [
    "import pandas as pd"
   ]
  },
  {
   "cell_type": "code",
   "execution_count": 2,
   "id": "18845771-12d4-497c-b0ed-12f1400ba92c",
   "metadata": {},
   "outputs": [],
   "source": [
    "data=[1,2,3,4]"
   ]
  },
  {
   "cell_type": "code",
   "execution_count": 4,
   "id": "f8898575-c16a-4ba9-9880-765c28cc1525",
   "metadata": {},
   "outputs": [
    {
     "name": "stdout",
     "output_type": "stream",
     "text": [
      "0    1\n",
      "1    2\n",
      "2    3\n",
      "3    4\n",
      "dtype: int64\n"
     ]
    }
   ],
   "source": [
    "# simple list convert the series data\n",
    "series_data=pd.Series(data)\n",
    "print(series_data)"
   ]
  },
  {
   "cell_type": "code",
   "execution_count": 7,
   "id": "e8500d29-b4ba-4e97-8c23-ecc420e27aa8",
   "metadata": {},
   "outputs": [
    {
     "name": "stdout",
     "output_type": "stream",
     "text": [
      "<class 'pandas.core.series.Series'>\n",
      "<class 'list'>\n"
     ]
    }
   ],
   "source": [
    "# check the data type of list and after list convert the series\n",
    "print(type(series_data))\n",
    "print(type(data))"
   ]
  },
  {
   "cell_type": "markdown",
   "id": "695a810d-43d4-456b-ab72-c45de1310053",
   "metadata": {},
   "source": [
    "# Access the Elemets"
   ]
  },
  {
   "cell_type": "code",
   "execution_count": 8,
   "id": "2e9ad5f8-5709-4750-8b7d-36bd78733920",
   "metadata": {},
   "outputs": [
    {
     "data": {
      "text/plain": [
       "2    3\n",
       "3    4\n",
       "dtype: int64"
      ]
     },
     "execution_count": 8,
     "metadata": {},
     "output_type": "execute_result"
    }
   ],
   "source": [
    "series_data[0] # interger indexing\n",
    "series_data[2:4] # perform the slicing"
   ]
  },
  {
   "cell_type": "markdown",
   "id": "33efeedb-0b39-4c00-99f5-ae59a4f00bd9",
   "metadata": {},
   "source": [
    "## Operation in Pandas"
   ]
  },
  {
   "cell_type": "code",
   "execution_count": 9,
   "id": "223430b5-71ab-4b6c-8574-f7a6e3e8f481",
   "metadata": {},
   "outputs": [],
   "source": [
    "s_1=pd.Series([1,2,3,4,5])\n",
    "s_2=pd.Series([6,7,8,9,10])"
   ]
  },
  {
   "cell_type": "code",
   "execution_count": 11,
   "id": "1734a5e5-d743-4bdc-b67d-393caf0060ec",
   "metadata": {},
   "outputs": [],
   "source": [
    "result=s_1+s_2"
   ]
  },
  {
   "cell_type": "code",
   "execution_count": 12,
   "id": "b6be804c-935f-4f09-858d-06f6c0db0e36",
   "metadata": {},
   "outputs": [
    {
     "name": "stdout",
     "output_type": "stream",
     "text": [
      "0     7\n",
      "1     9\n",
      "2    11\n",
      "3    13\n",
      "4    15\n",
      "dtype: int64\n"
     ]
    }
   ],
   "source": [
    "print(result)"
   ]
  },
  {
   "cell_type": "code",
   "execution_count": 15,
   "id": "5c534eff-9fea-486e-a98d-88a593b59289",
   "metadata": {},
   "outputs": [],
   "source": [
    "# load the csv format data in jpyter notebook through the pandas\n",
    "df=pd.read_csv(\"taxonomy.csv\")"
   ]
  },
  {
   "cell_type": "code",
   "execution_count": 18,
   "id": "7e95e8a1-a666-441e-9f6d-b26a69cac1a1",
   "metadata": {},
   "outputs": [
    {
     "data": {
      "text/html": [
       "<div>\n",
       "<style scoped>\n",
       "    .dataframe tbody tr th:only-of-type {\n",
       "        vertical-align: middle;\n",
       "    }\n",
       "\n",
       "    .dataframe tbody tr th {\n",
       "        vertical-align: top;\n",
       "    }\n",
       "\n",
       "    .dataframe thead th {\n",
       "        text-align: right;\n",
       "    }\n",
       "</style>\n",
       "<table border=\"1\" class=\"dataframe\">\n",
       "  <thead>\n",
       "    <tr style=\"text-align: right;\">\n",
       "      <th></th>\n",
       "      <th>taxonomy_id</th>\n",
       "      <th>name</th>\n",
       "      <th>parent_id</th>\n",
       "      <th>parent_name</th>\n",
       "    </tr>\n",
       "  </thead>\n",
       "  <tbody>\n",
       "    <tr>\n",
       "      <th>0</th>\n",
       "      <td>101</td>\n",
       "      <td>Emergency</td>\n",
       "      <td>NaN</td>\n",
       "      <td>NaN</td>\n",
       "    </tr>\n",
       "    <tr>\n",
       "      <th>1</th>\n",
       "      <td>101-01</td>\n",
       "      <td>Disaster Response</td>\n",
       "      <td>101</td>\n",
       "      <td>Emergency</td>\n",
       "    </tr>\n",
       "    <tr>\n",
       "      <th>2</th>\n",
       "      <td>101-02</td>\n",
       "      <td>Emergency Cash</td>\n",
       "      <td>101</td>\n",
       "      <td>Emergency</td>\n",
       "    </tr>\n",
       "    <tr>\n",
       "      <th>3</th>\n",
       "      <td>101-02-01</td>\n",
       "      <td>Help Pay for Food</td>\n",
       "      <td>101-02</td>\n",
       "      <td>Emergency Cash</td>\n",
       "    </tr>\n",
       "    <tr>\n",
       "      <th>4</th>\n",
       "      <td>101-02-02</td>\n",
       "      <td>Help Pay for Healthcare</td>\n",
       "      <td>101-02</td>\n",
       "      <td>Emergency Cash</td>\n",
       "    </tr>\n",
       "  </tbody>\n",
       "</table>\n",
       "</div>"
      ],
      "text/plain": [
       "  taxonomy_id                     name parent_id     parent_name\n",
       "0         101                Emergency       NaN             NaN\n",
       "1      101-01        Disaster Response       101       Emergency\n",
       "2      101-02           Emergency Cash       101       Emergency\n",
       "3   101-02-01        Help Pay for Food    101-02  Emergency Cash\n",
       "4   101-02-02  Help Pay for Healthcare    101-02  Emergency Cash"
      ]
     },
     "execution_count": 18,
     "metadata": {},
     "output_type": "execute_result"
    }
   ],
   "source": [
    "df.head()"
   ]
  },
  {
   "cell_type": "code",
   "execution_count": 19,
   "id": "e9a9a7df-e596-48f8-b38f-88b68e676623",
   "metadata": {},
   "outputs": [
    {
     "data": {
      "text/plain": [
       "Index(['taxonomy_id', 'name', 'parent_id', 'parent_name'], dtype='object')"
      ]
     },
     "execution_count": 19,
     "metadata": {},
     "output_type": "execute_result"
    }
   ],
   "source": [
    "# now check columns of csv file\n",
    "df.columns"
   ]
  },
  {
   "cell_type": "code",
   "execution_count": 20,
   "id": "21331351-8699-4f0d-bca3-6dc2ea343685",
   "metadata": {},
   "outputs": [],
   "source": [
    "copy_1=df['parent_name'][0:9]"
   ]
  },
  {
   "cell_type": "code",
   "execution_count": 21,
   "id": "bf073e20-f4a2-4ad4-854a-022cd947cf29",
   "metadata": {},
   "outputs": [
    {
     "data": {
      "text/plain": [
       "pandas.core.series.Series"
      ]
     },
     "execution_count": 21,
     "metadata": {},
     "output_type": "execute_result"
    }
   ],
   "source": [
    "type(copy_1)"
   ]
  },
  {
   "cell_type": "code",
   "execution_count": 22,
   "id": "3dd9ed3b-7db6-4130-9863-3692365c3852",
   "metadata": {},
   "outputs": [],
   "source": [
    "self_indexes= ['a','b','c','d','e','f','g','h', 'i']\n",
    "copy_2=pd.Series(list(copy_1), index=self_indexes)"
   ]
  },
  {
   "cell_type": "code",
   "execution_count": 23,
   "id": "c6c7ce94-4f13-4a7a-a88f-078e57582080",
   "metadata": {},
   "outputs": [
    {
     "data": {
      "text/plain": [
       "a               NaN\n",
       "b         Emergency\n",
       "c         Emergency\n",
       "d    Emergency Cash\n",
       "e    Emergency Cash\n",
       "f    Emergency Cash\n",
       "g    Emergency Cash\n",
       "h    Emergency Cash\n",
       "i    Emergency Cash\n",
       "dtype: object"
      ]
     },
     "execution_count": 23,
     "metadata": {},
     "output_type": "execute_result"
    }
   ],
   "source": [
    "copy_2"
   ]
  },
  {
   "cell_type": "code",
   "execution_count": 26,
   "id": "e08e88a9-e6e5-4b41-a2c2-5c9dd63dbf80",
   "metadata": {},
   "outputs": [
    {
     "data": {
      "text/plain": [
       "'Emergency Cash'"
      ]
     },
     "execution_count": 26,
     "metadata": {},
     "output_type": "execute_result"
    }
   ],
   "source": [
    "copy_2.iloc[4]"
   ]
  },
  {
   "cell_type": "code",
   "execution_count": 28,
   "id": "516552dd-c5b6-48b3-80ab-dc16c3a9edde",
   "metadata": {},
   "outputs": [
    {
     "data": {
      "text/plain": [
       "'Emergency Cash'"
      ]
     },
     "execution_count": 28,
     "metadata": {},
     "output_type": "execute_result"
    }
   ],
   "source": [
    "copy_2.loc['d']"
   ]
  },
  {
   "cell_type": "code",
   "execution_count": 33,
   "id": "1d2ab518-defa-4f2e-86f3-ffb9e057ac14",
   "metadata": {},
   "outputs": [],
   "source": [
    "series_1=pd.Series([1,2,3,4,5,6,7], index=[1,2,3,4,5,6,7])\n",
    "series_2=pd.Series([7,8,9,10,11,12,13,14], index=[2,3,41,4,5,7,34,23])"
   ]
  },
  {
   "cell_type": "code",
   "execution_count": 39,
   "id": "1046b67e-f98f-4350-80e5-cf290cd35ccc",
   "metadata": {},
   "outputs": [],
   "source": [
    "all_series=pd.concat([series_1, series_2], sort=False)"
   ]
  },
  {
   "cell_type": "code",
   "execution_count": 40,
   "id": "8c20747c-62b0-4930-abc0-6a67d3e656c9",
   "metadata": {},
   "outputs": [
    {
     "data": {
      "text/plain": [
       "1      1\n",
       "2      2\n",
       "3      3\n",
       "4      4\n",
       "5      5\n",
       "6      6\n",
       "7      7\n",
       "2      7\n",
       "3      8\n",
       "41     9\n",
       "4     10\n",
       "5     11\n",
       "7     12\n",
       "34    13\n",
       "23    14\n",
       "dtype: int64"
      ]
     },
     "execution_count": 40,
     "metadata": {},
     "output_type": "execute_result"
    }
   ],
   "source": [
    "all_series"
   ]
  },
  {
   "cell_type": "code",
   "execution_count": 41,
   "id": "95d59346-d00b-4a84-8ebc-5c9ed83a5632",
   "metadata": {},
   "outputs": [
    {
     "data": {
      "text/plain": [
       "4     4\n",
       "4    10\n",
       "dtype: int64"
      ]
     },
     "execution_count": 41,
     "metadata": {},
     "output_type": "execute_result"
    }
   ],
   "source": [
    "all_series[4]"
   ]
  },
  {
   "cell_type": "code",
   "execution_count": 42,
   "id": "c6b0566e-e0a3-4386-89d6-34ace8782a4b",
   "metadata": {},
   "outputs": [
    {
     "data": {
      "text/plain": [
       "5     5\n",
       "5    11\n",
       "dtype: int64"
      ]
     },
     "execution_count": 42,
     "metadata": {},
     "output_type": "execute_result"
    }
   ],
   "source": [
    "all_series[5]"
   ]
  },
  {
   "cell_type": "code",
   "execution_count": 43,
   "id": "f8aa3634-1974-47c4-8831-979ad0259fb1",
   "metadata": {},
   "outputs": [],
   "source": [
    "res=series_1+series_2"
   ]
  },
  {
   "cell_type": "code",
   "execution_count": 44,
   "id": "a7935180-b606-4084-9513-3f0a7030e8f6",
   "metadata": {},
   "outputs": [
    {
     "data": {
      "text/plain": [
       "1      NaN\n",
       "2      9.0\n",
       "3     11.0\n",
       "4     14.0\n",
       "5     16.0\n",
       "6      NaN\n",
       "7     19.0\n",
       "23     NaN\n",
       "34     NaN\n",
       "41     NaN\n",
       "dtype: float64"
      ]
     },
     "execution_count": 44,
     "metadata": {},
     "output_type": "execute_result"
    }
   ],
   "source": [
    "res"
   ]
  },
  {
   "cell_type": "code",
   "execution_count": null,
   "id": "5208e6e9-c0a8-42f7-b173-b5fe984df7cc",
   "metadata": {},
   "outputs": [],
   "source": []
  }
 ],
 "metadata": {
  "kernelspec": {
   "display_name": "Python 3 (ipykernel)",
   "language": "python",
   "name": "python3"
  },
  "language_info": {
   "codemirror_mode": {
    "name": "ipython",
    "version": 3
   },
   "file_extension": ".py",
   "mimetype": "text/x-python",
   "name": "python",
   "nbconvert_exporter": "python",
   "pygments_lexer": "ipython3",
   "version": "3.12.8"
  }
 },
 "nbformat": 4,
 "nbformat_minor": 5
}
