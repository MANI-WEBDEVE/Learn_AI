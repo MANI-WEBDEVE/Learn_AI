{
  "metadata": {
    "kernelspec": {
      "language": "python",
      "display_name": "Python 3",
      "name": "python3"
    },
    "language_info": {
      "name": "python",
      "version": "3.10.12",
      "mimetype": "text/x-python",
      "codemirror_mode": {
        "name": "ipython",
        "version": 3
      },
      "pygments_lexer": "ipython3",
      "nbconvert_exporter": "python",
      "file_extension": ".py"
    },
    "kaggle": {
      "accelerator": "none",
      "dataSources": [],
      "dockerImageVersionId": 30886,
      "isInternetEnabled": false,
      "language": "python",
      "sourceType": "notebook",
      "isGpuEnabled": false
    },
    "colab": {
      "provenance": []
    }
  },
  "nbformat_minor": 0,
  "nbformat": 4,
  "cells": [
    {
      "cell_type": "code",
      "source": [
        "import pandas as pd"
      ],
      "metadata": {
        "_uuid": "8f2839f25d086af736a60e9eeb907d3b93b6e0e5",
        "_cell_guid": "b1076dfc-b9ad-4769-8c92-a6c4dae69d19",
        "trusted": true,
        "execution": {
          "iopub.status.busy": "2025-02-11T00:45:35.682038Z",
          "iopub.execute_input": "2025-02-11T00:45:35.682279Z",
          "iopub.status.idle": "2025-02-11T00:45:36.101229Z",
          "shell.execute_reply.started": "2025-02-11T00:45:35.682248Z",
          "shell.execute_reply": "2025-02-11T00:45:36.100181Z"
        },
        "id": "8DxW3arcAgzf"
      },
      "outputs": [],
      "execution_count": 1
    },
    {
      "cell_type": "code",
      "source": [
        "data={\n",
        "    'id':[1,2,3,4,5,6,7],\n",
        "    'name':['inam','khan','Muhammad','ali','mani','jokar','saad'],\n",
        "    'age':[12,23,45,55,67,23,22],\n",
        "    'role':['student','chai-shop','scholar','engineer','entertainment','doctor','worker']\n",
        "}"
      ],
      "metadata": {
        "trusted": true,
        "execution": {
          "iopub.status.busy": "2025-02-11T00:45:36.102330Z",
          "iopub.execute_input": "2025-02-11T00:45:36.102804Z",
          "iopub.status.idle": "2025-02-11T00:45:36.107867Z",
          "shell.execute_reply.started": "2025-02-11T00:45:36.102775Z",
          "shell.execute_reply": "2025-02-11T00:45:36.106763Z"
        },
        "id": "VvIllm16Agzp"
      },
      "outputs": [],
      "execution_count": 2
    },
    {
      "cell_type": "code",
      "source": [
        "df=pd.DataFrame(data)"
      ],
      "metadata": {
        "trusted": true,
        "execution": {
          "iopub.status.busy": "2025-02-11T00:45:36.108923Z",
          "iopub.execute_input": "2025-02-11T00:45:36.109179Z",
          "iopub.status.idle": "2025-02-11T00:45:36.130284Z",
          "shell.execute_reply.started": "2025-02-11T00:45:36.109156Z",
          "shell.execute_reply": "2025-02-11T00:45:36.129115Z"
        },
        "id": "tj3ddEaEAgzr"
      },
      "outputs": [],
      "execution_count": 3
    },
    {
      "cell_type": "code",
      "source": [
        "df"
      ],
      "metadata": {
        "trusted": true,
        "execution": {
          "iopub.status.busy": "2025-02-11T00:45:36.131363Z",
          "iopub.execute_input": "2025-02-11T00:45:36.131696Z",
          "iopub.status.idle": "2025-02-11T00:45:36.164341Z",
          "shell.execute_reply.started": "2025-02-11T00:45:36.131666Z",
          "shell.execute_reply": "2025-02-11T00:45:36.163244Z"
        },
        "colab": {
          "base_uri": "https://localhost:8080/",
          "height": 269
        },
        "id": "tgR9fwAEAgzs",
        "outputId": "430c57ec-6bd2-421f-bbf9-92acee9748b1"
      },
      "outputs": [
        {
          "output_type": "execute_result",
          "data": {
            "text/plain": [
              "   id      name  age           role\n",
              "0   1      inam   12        student\n",
              "1   2      khan   23      chai-shop\n",
              "2   3  Muhammad   45        scholar\n",
              "3   4       ali   55       engineer\n",
              "4   5      mani   67  entertainment\n",
              "5   6     jokar   23         doctor\n",
              "6   7      saad   22         worker"
            ],
            "text/html": [
              "\n",
              "  <div id=\"df-8d46b182-c452-471f-ad63-a150b5651821\" class=\"colab-df-container\">\n",
              "    <div>\n",
              "<style scoped>\n",
              "    .dataframe tbody tr th:only-of-type {\n",
              "        vertical-align: middle;\n",
              "    }\n",
              "\n",
              "    .dataframe tbody tr th {\n",
              "        vertical-align: top;\n",
              "    }\n",
              "\n",
              "    .dataframe thead th {\n",
              "        text-align: right;\n",
              "    }\n",
              "</style>\n",
              "<table border=\"1\" class=\"dataframe\">\n",
              "  <thead>\n",
              "    <tr style=\"text-align: right;\">\n",
              "      <th></th>\n",
              "      <th>id</th>\n",
              "      <th>name</th>\n",
              "      <th>age</th>\n",
              "      <th>role</th>\n",
              "    </tr>\n",
              "  </thead>\n",
              "  <tbody>\n",
              "    <tr>\n",
              "      <th>0</th>\n",
              "      <td>1</td>\n",
              "      <td>inam</td>\n",
              "      <td>12</td>\n",
              "      <td>student</td>\n",
              "    </tr>\n",
              "    <tr>\n",
              "      <th>1</th>\n",
              "      <td>2</td>\n",
              "      <td>khan</td>\n",
              "      <td>23</td>\n",
              "      <td>chai-shop</td>\n",
              "    </tr>\n",
              "    <tr>\n",
              "      <th>2</th>\n",
              "      <td>3</td>\n",
              "      <td>Muhammad</td>\n",
              "      <td>45</td>\n",
              "      <td>scholar</td>\n",
              "    </tr>\n",
              "    <tr>\n",
              "      <th>3</th>\n",
              "      <td>4</td>\n",
              "      <td>ali</td>\n",
              "      <td>55</td>\n",
              "      <td>engineer</td>\n",
              "    </tr>\n",
              "    <tr>\n",
              "      <th>4</th>\n",
              "      <td>5</td>\n",
              "      <td>mani</td>\n",
              "      <td>67</td>\n",
              "      <td>entertainment</td>\n",
              "    </tr>\n",
              "    <tr>\n",
              "      <th>5</th>\n",
              "      <td>6</td>\n",
              "      <td>jokar</td>\n",
              "      <td>23</td>\n",
              "      <td>doctor</td>\n",
              "    </tr>\n",
              "    <tr>\n",
              "      <th>6</th>\n",
              "      <td>7</td>\n",
              "      <td>saad</td>\n",
              "      <td>22</td>\n",
              "      <td>worker</td>\n",
              "    </tr>\n",
              "  </tbody>\n",
              "</table>\n",
              "</div>\n",
              "    <div class=\"colab-df-buttons\">\n",
              "\n",
              "  <div class=\"colab-df-container\">\n",
              "    <button class=\"colab-df-convert\" onclick=\"convertToInteractive('df-8d46b182-c452-471f-ad63-a150b5651821')\"\n",
              "            title=\"Convert this dataframe to an interactive table.\"\n",
              "            style=\"display:none;\">\n",
              "\n",
              "  <svg xmlns=\"http://www.w3.org/2000/svg\" height=\"24px\" viewBox=\"0 -960 960 960\">\n",
              "    <path d=\"M120-120v-720h720v720H120Zm60-500h600v-160H180v160Zm220 220h160v-160H400v160Zm0 220h160v-160H400v160ZM180-400h160v-160H180v160Zm440 0h160v-160H620v160ZM180-180h160v-160H180v160Zm440 0h160v-160H620v160Z\"/>\n",
              "  </svg>\n",
              "    </button>\n",
              "\n",
              "  <style>\n",
              "    .colab-df-container {\n",
              "      display:flex;\n",
              "      gap: 12px;\n",
              "    }\n",
              "\n",
              "    .colab-df-convert {\n",
              "      background-color: #E8F0FE;\n",
              "      border: none;\n",
              "      border-radius: 50%;\n",
              "      cursor: pointer;\n",
              "      display: none;\n",
              "      fill: #1967D2;\n",
              "      height: 32px;\n",
              "      padding: 0 0 0 0;\n",
              "      width: 32px;\n",
              "    }\n",
              "\n",
              "    .colab-df-convert:hover {\n",
              "      background-color: #E2EBFA;\n",
              "      box-shadow: 0px 1px 2px rgba(60, 64, 67, 0.3), 0px 1px 3px 1px rgba(60, 64, 67, 0.15);\n",
              "      fill: #174EA6;\n",
              "    }\n",
              "\n",
              "    .colab-df-buttons div {\n",
              "      margin-bottom: 4px;\n",
              "    }\n",
              "\n",
              "    [theme=dark] .colab-df-convert {\n",
              "      background-color: #3B4455;\n",
              "      fill: #D2E3FC;\n",
              "    }\n",
              "\n",
              "    [theme=dark] .colab-df-convert:hover {\n",
              "      background-color: #434B5C;\n",
              "      box-shadow: 0px 1px 3px 1px rgba(0, 0, 0, 0.15);\n",
              "      filter: drop-shadow(0px 1px 2px rgba(0, 0, 0, 0.3));\n",
              "      fill: #FFFFFF;\n",
              "    }\n",
              "  </style>\n",
              "\n",
              "    <script>\n",
              "      const buttonEl =\n",
              "        document.querySelector('#df-8d46b182-c452-471f-ad63-a150b5651821 button.colab-df-convert');\n",
              "      buttonEl.style.display =\n",
              "        google.colab.kernel.accessAllowed ? 'block' : 'none';\n",
              "\n",
              "      async function convertToInteractive(key) {\n",
              "        const element = document.querySelector('#df-8d46b182-c452-471f-ad63-a150b5651821');\n",
              "        const dataTable =\n",
              "          await google.colab.kernel.invokeFunction('convertToInteractive',\n",
              "                                                    [key], {});\n",
              "        if (!dataTable) return;\n",
              "\n",
              "        const docLinkHtml = 'Like what you see? Visit the ' +\n",
              "          '<a target=\"_blank\" href=https://colab.research.google.com/notebooks/data_table.ipynb>data table notebook</a>'\n",
              "          + ' to learn more about interactive tables.';\n",
              "        element.innerHTML = '';\n",
              "        dataTable['output_type'] = 'display_data';\n",
              "        await google.colab.output.renderOutput(dataTable, element);\n",
              "        const docLink = document.createElement('div');\n",
              "        docLink.innerHTML = docLinkHtml;\n",
              "        element.appendChild(docLink);\n",
              "      }\n",
              "    </script>\n",
              "  </div>\n",
              "\n",
              "\n",
              "<div id=\"df-0cf18902-fe2d-4d02-9375-3fd488854b00\">\n",
              "  <button class=\"colab-df-quickchart\" onclick=\"quickchart('df-0cf18902-fe2d-4d02-9375-3fd488854b00')\"\n",
              "            title=\"Suggest charts\"\n",
              "            style=\"display:none;\">\n",
              "\n",
              "<svg xmlns=\"http://www.w3.org/2000/svg\" height=\"24px\"viewBox=\"0 0 24 24\"\n",
              "     width=\"24px\">\n",
              "    <g>\n",
              "        <path d=\"M19 3H5c-1.1 0-2 .9-2 2v14c0 1.1.9 2 2 2h14c1.1 0 2-.9 2-2V5c0-1.1-.9-2-2-2zM9 17H7v-7h2v7zm4 0h-2V7h2v10zm4 0h-2v-4h2v4z\"/>\n",
              "    </g>\n",
              "</svg>\n",
              "  </button>\n",
              "\n",
              "<style>\n",
              "  .colab-df-quickchart {\n",
              "      --bg-color: #E8F0FE;\n",
              "      --fill-color: #1967D2;\n",
              "      --hover-bg-color: #E2EBFA;\n",
              "      --hover-fill-color: #174EA6;\n",
              "      --disabled-fill-color: #AAA;\n",
              "      --disabled-bg-color: #DDD;\n",
              "  }\n",
              "\n",
              "  [theme=dark] .colab-df-quickchart {\n",
              "      --bg-color: #3B4455;\n",
              "      --fill-color: #D2E3FC;\n",
              "      --hover-bg-color: #434B5C;\n",
              "      --hover-fill-color: #FFFFFF;\n",
              "      --disabled-bg-color: #3B4455;\n",
              "      --disabled-fill-color: #666;\n",
              "  }\n",
              "\n",
              "  .colab-df-quickchart {\n",
              "    background-color: var(--bg-color);\n",
              "    border: none;\n",
              "    border-radius: 50%;\n",
              "    cursor: pointer;\n",
              "    display: none;\n",
              "    fill: var(--fill-color);\n",
              "    height: 32px;\n",
              "    padding: 0;\n",
              "    width: 32px;\n",
              "  }\n",
              "\n",
              "  .colab-df-quickchart:hover {\n",
              "    background-color: var(--hover-bg-color);\n",
              "    box-shadow: 0 1px 2px rgba(60, 64, 67, 0.3), 0 1px 3px 1px rgba(60, 64, 67, 0.15);\n",
              "    fill: var(--button-hover-fill-color);\n",
              "  }\n",
              "\n",
              "  .colab-df-quickchart-complete:disabled,\n",
              "  .colab-df-quickchart-complete:disabled:hover {\n",
              "    background-color: var(--disabled-bg-color);\n",
              "    fill: var(--disabled-fill-color);\n",
              "    box-shadow: none;\n",
              "  }\n",
              "\n",
              "  .colab-df-spinner {\n",
              "    border: 2px solid var(--fill-color);\n",
              "    border-color: transparent;\n",
              "    border-bottom-color: var(--fill-color);\n",
              "    animation:\n",
              "      spin 1s steps(1) infinite;\n",
              "  }\n",
              "\n",
              "  @keyframes spin {\n",
              "    0% {\n",
              "      border-color: transparent;\n",
              "      border-bottom-color: var(--fill-color);\n",
              "      border-left-color: var(--fill-color);\n",
              "    }\n",
              "    20% {\n",
              "      border-color: transparent;\n",
              "      border-left-color: var(--fill-color);\n",
              "      border-top-color: var(--fill-color);\n",
              "    }\n",
              "    30% {\n",
              "      border-color: transparent;\n",
              "      border-left-color: var(--fill-color);\n",
              "      border-top-color: var(--fill-color);\n",
              "      border-right-color: var(--fill-color);\n",
              "    }\n",
              "    40% {\n",
              "      border-color: transparent;\n",
              "      border-right-color: var(--fill-color);\n",
              "      border-top-color: var(--fill-color);\n",
              "    }\n",
              "    60% {\n",
              "      border-color: transparent;\n",
              "      border-right-color: var(--fill-color);\n",
              "    }\n",
              "    80% {\n",
              "      border-color: transparent;\n",
              "      border-right-color: var(--fill-color);\n",
              "      border-bottom-color: var(--fill-color);\n",
              "    }\n",
              "    90% {\n",
              "      border-color: transparent;\n",
              "      border-bottom-color: var(--fill-color);\n",
              "    }\n",
              "  }\n",
              "</style>\n",
              "\n",
              "  <script>\n",
              "    async function quickchart(key) {\n",
              "      const quickchartButtonEl =\n",
              "        document.querySelector('#' + key + ' button');\n",
              "      quickchartButtonEl.disabled = true;  // To prevent multiple clicks.\n",
              "      quickchartButtonEl.classList.add('colab-df-spinner');\n",
              "      try {\n",
              "        const charts = await google.colab.kernel.invokeFunction(\n",
              "            'suggestCharts', [key], {});\n",
              "      } catch (error) {\n",
              "        console.error('Error during call to suggestCharts:', error);\n",
              "      }\n",
              "      quickchartButtonEl.classList.remove('colab-df-spinner');\n",
              "      quickchartButtonEl.classList.add('colab-df-quickchart-complete');\n",
              "    }\n",
              "    (() => {\n",
              "      let quickchartButtonEl =\n",
              "        document.querySelector('#df-0cf18902-fe2d-4d02-9375-3fd488854b00 button');\n",
              "      quickchartButtonEl.style.display =\n",
              "        google.colab.kernel.accessAllowed ? 'block' : 'none';\n",
              "    })();\n",
              "  </script>\n",
              "</div>\n",
              "\n",
              "  <div id=\"id_32ba7f6b-570d-4c75-956a-8095d0640001\">\n",
              "    <style>\n",
              "      .colab-df-generate {\n",
              "        background-color: #E8F0FE;\n",
              "        border: none;\n",
              "        border-radius: 50%;\n",
              "        cursor: pointer;\n",
              "        display: none;\n",
              "        fill: #1967D2;\n",
              "        height: 32px;\n",
              "        padding: 0 0 0 0;\n",
              "        width: 32px;\n",
              "      }\n",
              "\n",
              "      .colab-df-generate:hover {\n",
              "        background-color: #E2EBFA;\n",
              "        box-shadow: 0px 1px 2px rgba(60, 64, 67, 0.3), 0px 1px 3px 1px rgba(60, 64, 67, 0.15);\n",
              "        fill: #174EA6;\n",
              "      }\n",
              "\n",
              "      [theme=dark] .colab-df-generate {\n",
              "        background-color: #3B4455;\n",
              "        fill: #D2E3FC;\n",
              "      }\n",
              "\n",
              "      [theme=dark] .colab-df-generate:hover {\n",
              "        background-color: #434B5C;\n",
              "        box-shadow: 0px 1px 3px 1px rgba(0, 0, 0, 0.15);\n",
              "        filter: drop-shadow(0px 1px 2px rgba(0, 0, 0, 0.3));\n",
              "        fill: #FFFFFF;\n",
              "      }\n",
              "    </style>\n",
              "    <button class=\"colab-df-generate\" onclick=\"generateWithVariable('df')\"\n",
              "            title=\"Generate code using this dataframe.\"\n",
              "            style=\"display:none;\">\n",
              "\n",
              "  <svg xmlns=\"http://www.w3.org/2000/svg\" height=\"24px\"viewBox=\"0 0 24 24\"\n",
              "       width=\"24px\">\n",
              "    <path d=\"M7,19H8.4L18.45,9,17,7.55,7,17.6ZM5,21V16.75L18.45,3.32a2,2,0,0,1,2.83,0l1.4,1.43a1.91,1.91,0,0,1,.58,1.4,1.91,1.91,0,0,1-.58,1.4L9.25,21ZM18.45,9,17,7.55Zm-12,3A5.31,5.31,0,0,0,4.9,8.1,5.31,5.31,0,0,0,1,6.5,5.31,5.31,0,0,0,4.9,4.9,5.31,5.31,0,0,0,6.5,1,5.31,5.31,0,0,0,8.1,4.9,5.31,5.31,0,0,0,12,6.5,5.46,5.46,0,0,0,6.5,12Z\"/>\n",
              "  </svg>\n",
              "    </button>\n",
              "    <script>\n",
              "      (() => {\n",
              "      const buttonEl =\n",
              "        document.querySelector('#id_32ba7f6b-570d-4c75-956a-8095d0640001 button.colab-df-generate');\n",
              "      buttonEl.style.display =\n",
              "        google.colab.kernel.accessAllowed ? 'block' : 'none';\n",
              "\n",
              "      buttonEl.onclick = () => {\n",
              "        google.colab.notebook.generateWithVariable('df');\n",
              "      }\n",
              "      })();\n",
              "    </script>\n",
              "  </div>\n",
              "\n",
              "    </div>\n",
              "  </div>\n"
            ],
            "application/vnd.google.colaboratory.intrinsic+json": {
              "type": "dataframe",
              "variable_name": "df",
              "summary": "{\n  \"name\": \"df\",\n  \"rows\": 7,\n  \"fields\": [\n    {\n      \"column\": \"id\",\n      \"properties\": {\n        \"dtype\": \"number\",\n        \"std\": 2,\n        \"min\": 1,\n        \"max\": 7,\n        \"num_unique_values\": 7,\n        \"samples\": [\n          1,\n          2,\n          6\n        ],\n        \"semantic_type\": \"\",\n        \"description\": \"\"\n      }\n    },\n    {\n      \"column\": \"name\",\n      \"properties\": {\n        \"dtype\": \"string\",\n        \"num_unique_values\": 7,\n        \"samples\": [\n          \"inam\",\n          \"khan\",\n          \"jokar\"\n        ],\n        \"semantic_type\": \"\",\n        \"description\": \"\"\n      }\n    },\n    {\n      \"column\": \"age\",\n      \"properties\": {\n        \"dtype\": \"number\",\n        \"std\": 20,\n        \"min\": 12,\n        \"max\": 67,\n        \"num_unique_values\": 6,\n        \"samples\": [\n          12,\n          23,\n          22\n        ],\n        \"semantic_type\": \"\",\n        \"description\": \"\"\n      }\n    },\n    {\n      \"column\": \"role\",\n      \"properties\": {\n        \"dtype\": \"string\",\n        \"num_unique_values\": 7,\n        \"samples\": [\n          \"student\",\n          \"chai-shop\",\n          \"doctor\"\n        ],\n        \"semantic_type\": \"\",\n        \"description\": \"\"\n      }\n    }\n  ]\n}"
            }
          },
          "metadata": {},
          "execution_count": 4
        }
      ],
      "execution_count": 4
    },
    {
      "cell_type": "code",
      "source": [
        "df[[\"name\"]]"
      ],
      "metadata": {
        "trusted": true,
        "execution": {
          "iopub.status.busy": "2025-02-11T00:45:36.167841Z",
          "iopub.execute_input": "2025-02-11T00:45:36.168132Z",
          "iopub.status.idle": "2025-02-11T00:45:36.186679Z",
          "shell.execute_reply.started": "2025-02-11T00:45:36.168110Z",
          "shell.execute_reply": "2025-02-11T00:45:36.185608Z"
        },
        "id": "lpXlAl5gAgzu",
        "outputId": "6c40462e-542f-4fe3-dc76-94abba815bde"
      },
      "outputs": [
        {
          "execution_count": 5,
          "output_type": "execute_result",
          "data": {
            "text/plain": "       name\n0      inam\n1      khan\n2  Muhammad\n3       ali\n4      mani\n5     jokar\n6      saad",
            "text/html": "<div>\n<style scoped>\n    .dataframe tbody tr th:only-of-type {\n        vertical-align: middle;\n    }\n\n    .dataframe tbody tr th {\n        vertical-align: top;\n    }\n\n    .dataframe thead th {\n        text-align: right;\n    }\n</style>\n<table border=\"1\" class=\"dataframe\">\n  <thead>\n    <tr style=\"text-align: right;\">\n      <th></th>\n      <th>name</th>\n    </tr>\n  </thead>\n  <tbody>\n    <tr>\n      <th>0</th>\n      <td>inam</td>\n    </tr>\n    <tr>\n      <th>1</th>\n      <td>khan</td>\n    </tr>\n    <tr>\n      <th>2</th>\n      <td>Muhammad</td>\n    </tr>\n    <tr>\n      <th>3</th>\n      <td>ali</td>\n    </tr>\n    <tr>\n      <th>4</th>\n      <td>mani</td>\n    </tr>\n    <tr>\n      <th>5</th>\n      <td>jokar</td>\n    </tr>\n    <tr>\n      <th>6</th>\n      <td>saad</td>\n    </tr>\n  </tbody>\n</table>\n</div>"
          },
          "metadata": {}
        }
      ],
      "execution_count": null
    },
    {
      "cell_type": "code",
      "source": [
        "# iterate the name for loop\n",
        "[print(i) for i in df['name']]"
      ],
      "metadata": {
        "trusted": true,
        "execution": {
          "iopub.status.busy": "2025-02-11T00:45:36.188573Z",
          "iopub.execute_input": "2025-02-11T00:45:36.188930Z",
          "iopub.status.idle": "2025-02-11T00:45:36.216363Z",
          "shell.execute_reply.started": "2025-02-11T00:45:36.188896Z",
          "shell.execute_reply": "2025-02-11T00:45:36.214610Z"
        },
        "id": "GOoQfLmrAgzv",
        "outputId": "c0ee0850-435e-4b58-ca45-0f6b3bdc457f"
      },
      "outputs": [
        {
          "name": "stdout",
          "text": "inam\nkhan\nMuhammad\nali\nmani\njokar\nsaad\n",
          "output_type": "stream"
        },
        {
          "execution_count": 6,
          "output_type": "execute_result",
          "data": {
            "text/plain": "[None, None, None, None, None, None, None]"
          },
          "metadata": {}
        }
      ],
      "execution_count": null
    },
    {
      "cell_type": "markdown",
      "source": [
        "# Apply\n",
        "- Pandas library ke apply() method ka use hum kisi bhi DataFrame ya Series ke har ek element par ek custom function apply karne ke liye karte hain. Yeh ek powerful method hai jo row-wise ya column-wise operations perform karne ke kaam aata hai.\n",
        "\n",
        "- func → Yeh wo function hai jo har row ya column par apply hoga.\n",
        "- axis=0 → Column-wise apply karega.\n",
        "- axis=1 → Row-wise apply karega.\n",
        "\n",
        "```\n",
        "df.apply(func, axis=0)\n",
        "```"
      ],
      "metadata": {
        "id": "12-yJ3EvAgzx"
      }
    },
    {
      "cell_type": "code",
      "source": [
        "df[\"role_id\"]=df['age'].apply(lambda x:x+2)"
      ],
      "metadata": {
        "trusted": true,
        "execution": {
          "iopub.status.busy": "2025-02-11T00:45:36.218554Z",
          "iopub.execute_input": "2025-02-11T00:45:36.218993Z",
          "iopub.status.idle": "2025-02-11T00:45:36.238134Z",
          "shell.execute_reply.started": "2025-02-11T00:45:36.218962Z",
          "shell.execute_reply": "2025-02-11T00:45:36.236994Z"
        },
        "id": "71ugciWeAgz3"
      },
      "outputs": [],
      "execution_count": null
    },
    {
      "cell_type": "code",
      "source": [
        "df"
      ],
      "metadata": {
        "trusted": true,
        "execution": {
          "iopub.status.busy": "2025-02-11T00:45:36.239404Z",
          "iopub.execute_input": "2025-02-11T00:45:36.239787Z",
          "iopub.status.idle": "2025-02-11T00:45:36.270078Z",
          "shell.execute_reply.started": "2025-02-11T00:45:36.239751Z",
          "shell.execute_reply": "2025-02-11T00:45:36.268093Z"
        },
        "id": "J0vRLbf-Agz5",
        "outputId": "c64897dc-e2cb-49a6-f325-fd029ce72ce2"
      },
      "outputs": [
        {
          "execution_count": 8,
          "output_type": "execute_result",
          "data": {
            "text/plain": "   id      name  age           role  role_id\n0   1      inam   12        student       14\n1   2      khan   23      chai-shop       25\n2   3  Muhammad   45        scholar       47\n3   4       ali   55       engineer       57\n4   5      mani   67  entertainment       69\n5   6     jokar   23         doctor       25\n6   7      saad   22         worker       24",
            "text/html": "<div>\n<style scoped>\n    .dataframe tbody tr th:only-of-type {\n        vertical-align: middle;\n    }\n\n    .dataframe tbody tr th {\n        vertical-align: top;\n    }\n\n    .dataframe thead th {\n        text-align: right;\n    }\n</style>\n<table border=\"1\" class=\"dataframe\">\n  <thead>\n    <tr style=\"text-align: right;\">\n      <th></th>\n      <th>id</th>\n      <th>name</th>\n      <th>age</th>\n      <th>role</th>\n      <th>role_id</th>\n    </tr>\n  </thead>\n  <tbody>\n    <tr>\n      <th>0</th>\n      <td>1</td>\n      <td>inam</td>\n      <td>12</td>\n      <td>student</td>\n      <td>14</td>\n    </tr>\n    <tr>\n      <th>1</th>\n      <td>2</td>\n      <td>khan</td>\n      <td>23</td>\n      <td>chai-shop</td>\n      <td>25</td>\n    </tr>\n    <tr>\n      <th>2</th>\n      <td>3</td>\n      <td>Muhammad</td>\n      <td>45</td>\n      <td>scholar</td>\n      <td>47</td>\n    </tr>\n    <tr>\n      <th>3</th>\n      <td>4</td>\n      <td>ali</td>\n      <td>55</td>\n      <td>engineer</td>\n      <td>57</td>\n    </tr>\n    <tr>\n      <th>4</th>\n      <td>5</td>\n      <td>mani</td>\n      <td>67</td>\n      <td>entertainment</td>\n      <td>69</td>\n    </tr>\n    <tr>\n      <th>5</th>\n      <td>6</td>\n      <td>jokar</td>\n      <td>23</td>\n      <td>doctor</td>\n      <td>25</td>\n    </tr>\n    <tr>\n      <th>6</th>\n      <td>7</td>\n      <td>saad</td>\n      <td>22</td>\n      <td>worker</td>\n      <td>24</td>\n    </tr>\n  </tbody>\n</table>\n</div>"
          },
          "metadata": {}
        }
      ],
      "execution_count": null
    },
    {
      "cell_type": "code",
      "source": [
        "# if ont want use the lambda function to define the proper function\n",
        "def sumFunc(x):\n",
        "    return x.sum()\n",
        "df.apply(sumFunc, axis=0)"
      ],
      "metadata": {
        "trusted": true,
        "execution": {
          "iopub.status.busy": "2025-02-11T00:45:36.271175Z",
          "iopub.execute_input": "2025-02-11T00:45:36.271529Z",
          "iopub.status.idle": "2025-02-11T00:45:36.302473Z",
          "shell.execute_reply.started": "2025-02-11T00:45:36.271493Z",
          "shell.execute_reply": "2025-02-11T00:45:36.301062Z"
        },
        "id": "IIPvHlrIAgz7",
        "outputId": "82d3908b-83b0-4aac-c615-d0689e9f7139"
      },
      "outputs": [
        {
          "execution_count": 9,
          "output_type": "execute_result",
          "data": {
            "text/plain": "id                                                        28\nname                        inamkhanMuhammadalimanijokarsaad\nage                                                      247\nrole       studentchai-shopscholarengineerentertainmentdo...\nrole_id                                                  261\ndtype: object"
          },
          "metadata": {}
        }
      ],
      "execution_count": null
    },
    {
      "cell_type": "code",
      "source": [
        "df_1=df[['age', 'role_id']]"
      ],
      "metadata": {
        "trusted": true,
        "execution": {
          "iopub.status.busy": "2025-02-11T00:45:36.303814Z",
          "iopub.execute_input": "2025-02-11T00:45:36.304117Z",
          "iopub.status.idle": "2025-02-11T00:45:36.324274Z",
          "shell.execute_reply.started": "2025-02-11T00:45:36.304086Z",
          "shell.execute_reply": "2025-02-11T00:45:36.323052Z"
        },
        "id": "kZvMj870Agz8"
      },
      "outputs": [],
      "execution_count": null
    },
    {
      "cell_type": "code",
      "source": [
        "df_1 # and age value find square and role_id find square"
      ],
      "metadata": {
        "trusted": true,
        "execution": {
          "iopub.status.busy": "2025-02-11T00:45:36.325587Z",
          "iopub.execute_input": "2025-02-11T00:45:36.325992Z",
          "iopub.status.idle": "2025-02-11T00:45:36.349921Z",
          "shell.execute_reply.started": "2025-02-11T00:45:36.325955Z",
          "shell.execute_reply": "2025-02-11T00:45:36.348423Z"
        },
        "id": "iqkaNAIYAgz9",
        "outputId": "ef4eee56-ed60-4de6-a876-7981393bbf52"
      },
      "outputs": [
        {
          "execution_count": 11,
          "output_type": "execute_result",
          "data": {
            "text/plain": "   age  role_id\n0   12       14\n1   23       25\n2   45       47\n3   55       57\n4   67       69\n5   23       25\n6   22       24",
            "text/html": "<div>\n<style scoped>\n    .dataframe tbody tr th:only-of-type {\n        vertical-align: middle;\n    }\n\n    .dataframe tbody tr th {\n        vertical-align: top;\n    }\n\n    .dataframe thead th {\n        text-align: right;\n    }\n</style>\n<table border=\"1\" class=\"dataframe\">\n  <thead>\n    <tr style=\"text-align: right;\">\n      <th></th>\n      <th>age</th>\n      <th>role_id</th>\n    </tr>\n  </thead>\n  <tbody>\n    <tr>\n      <th>0</th>\n      <td>12</td>\n      <td>14</td>\n    </tr>\n    <tr>\n      <th>1</th>\n      <td>23</td>\n      <td>25</td>\n    </tr>\n    <tr>\n      <th>2</th>\n      <td>45</td>\n      <td>47</td>\n    </tr>\n    <tr>\n      <th>3</th>\n      <td>55</td>\n      <td>57</td>\n    </tr>\n    <tr>\n      <th>4</th>\n      <td>67</td>\n      <td>69</td>\n    </tr>\n    <tr>\n      <th>5</th>\n      <td>23</td>\n      <td>25</td>\n    </tr>\n    <tr>\n      <th>6</th>\n      <td>22</td>\n      <td>24</td>\n    </tr>\n  </tbody>\n</table>\n</div>"
          },
          "metadata": {}
        }
      ],
      "execution_count": null
    },
    {
      "cell_type": "markdown",
      "source": [
        "## ApplyMap()\n",
        "\n",
        "-  Agar apply() method row-wise ya column-wise operations ke liye use hota hai, toh applymap() method pure DataFrame ke har ek  -  individual element par function apply karne ke liye use hota hai.\n",
        "\n",
        "- 📌 applymap() ka Basic Syntax\n",
        "- df.applymap(func)\n",
        "- func → Yeh wo function hai jo har ek element par apply hoga.\n",
        "- Yeh sirf DataFrame par kaam karta hai, Series par nahi.\n"
      ],
      "metadata": {
        "id": "5iC1FNYOAgz9"
      }
    },
    {
      "cell_type": "code",
      "source": [
        "df_2=df_1.applymap(lambda x:x**2)\n",
        "df_2"
      ],
      "metadata": {
        "trusted": true,
        "execution": {
          "iopub.status.busy": "2025-02-11T00:45:36.351077Z",
          "iopub.execute_input": "2025-02-11T00:45:36.351420Z",
          "iopub.status.idle": "2025-02-11T00:45:36.377855Z",
          "shell.execute_reply.started": "2025-02-11T00:45:36.351367Z",
          "shell.execute_reply": "2025-02-11T00:45:36.376682Z"
        },
        "id": "RHcmOyjaAgz-",
        "outputId": "7bc5376b-d435-49c7-e9c9-c9d6968233f6"
      },
      "outputs": [
        {
          "name": "stderr",
          "text": "<ipython-input-12-b6fdc535b69d>:1: FutureWarning: DataFrame.applymap has been deprecated. Use DataFrame.map instead.\n  df_2=df_1.applymap(lambda x:x**2)\n",
          "output_type": "stream"
        },
        {
          "execution_count": 12,
          "output_type": "execute_result",
          "data": {
            "text/plain": "    age  role_id\n0   144      196\n1   529      625\n2  2025     2209\n3  3025     3249\n4  4489     4761\n5   529      625\n6   484      576",
            "text/html": "<div>\n<style scoped>\n    .dataframe tbody tr th:only-of-type {\n        vertical-align: middle;\n    }\n\n    .dataframe tbody tr th {\n        vertical-align: top;\n    }\n\n    .dataframe thead th {\n        text-align: right;\n    }\n</style>\n<table border=\"1\" class=\"dataframe\">\n  <thead>\n    <tr style=\"text-align: right;\">\n      <th></th>\n      <th>age</th>\n      <th>role_id</th>\n    </tr>\n  </thead>\n  <tbody>\n    <tr>\n      <th>0</th>\n      <td>144</td>\n      <td>196</td>\n    </tr>\n    <tr>\n      <th>1</th>\n      <td>529</td>\n      <td>625</td>\n    </tr>\n    <tr>\n      <th>2</th>\n      <td>2025</td>\n      <td>2209</td>\n    </tr>\n    <tr>\n      <th>3</th>\n      <td>3025</td>\n      <td>3249</td>\n    </tr>\n    <tr>\n      <th>4</th>\n      <td>4489</td>\n      <td>4761</td>\n    </tr>\n    <tr>\n      <th>5</th>\n      <td>529</td>\n      <td>625</td>\n    </tr>\n    <tr>\n      <th>6</th>\n      <td>484</td>\n      <td>576</td>\n    </tr>\n  </tbody>\n</table>\n</div>"
          },
          "metadata": {}
        }
      ],
      "execution_count": null
    },
    {
      "cell_type": "markdown",
      "source": [
        "# Sort"
      ],
      "metadata": {
        "id": "EdOxH5jkAgz_"
      }
    },
    {
      "cell_type": "code",
      "source": [
        "df_2.sort_values(\"age\")"
      ],
      "metadata": {
        "trusted": true,
        "execution": {
          "iopub.status.busy": "2025-02-11T00:45:36.379055Z",
          "iopub.execute_input": "2025-02-11T00:45:36.379453Z",
          "iopub.status.idle": "2025-02-11T00:45:36.404653Z",
          "shell.execute_reply.started": "2025-02-11T00:45:36.379416Z",
          "shell.execute_reply": "2025-02-11T00:45:36.403377Z"
        },
        "id": "kf-K9sYLAg0A",
        "outputId": "d7297c08-48ee-4ac1-c470-cb090152e500"
      },
      "outputs": [
        {
          "execution_count": 13,
          "output_type": "execute_result",
          "data": {
            "text/plain": "    age  role_id\n0   144      196\n6   484      576\n1   529      625\n5   529      625\n2  2025     2209\n3  3025     3249\n4  4489     4761",
            "text/html": "<div>\n<style scoped>\n    .dataframe tbody tr th:only-of-type {\n        vertical-align: middle;\n    }\n\n    .dataframe tbody tr th {\n        vertical-align: top;\n    }\n\n    .dataframe thead th {\n        text-align: right;\n    }\n</style>\n<table border=\"1\" class=\"dataframe\">\n  <thead>\n    <tr style=\"text-align: right;\">\n      <th></th>\n      <th>age</th>\n      <th>role_id</th>\n    </tr>\n  </thead>\n  <tbody>\n    <tr>\n      <th>0</th>\n      <td>144</td>\n      <td>196</td>\n    </tr>\n    <tr>\n      <th>6</th>\n      <td>484</td>\n      <td>576</td>\n    </tr>\n    <tr>\n      <th>1</th>\n      <td>529</td>\n      <td>625</td>\n    </tr>\n    <tr>\n      <th>5</th>\n      <td>529</td>\n      <td>625</td>\n    </tr>\n    <tr>\n      <th>2</th>\n      <td>2025</td>\n      <td>2209</td>\n    </tr>\n    <tr>\n      <th>3</th>\n      <td>3025</td>\n      <td>3249</td>\n    </tr>\n    <tr>\n      <th>4</th>\n      <td>4489</td>\n      <td>4761</td>\n    </tr>\n  </tbody>\n</table>\n</div>"
          },
          "metadata": {}
        }
      ],
      "execution_count": null
    },
    {
      "cell_type": "code",
      "source": [
        "df_2.sort_index(ascending=True).sort_values('age')"
      ],
      "metadata": {
        "trusted": true,
        "execution": {
          "iopub.status.busy": "2025-02-11T00:45:36.405734Z",
          "iopub.execute_input": "2025-02-11T00:45:36.406172Z",
          "iopub.status.idle": "2025-02-11T00:45:36.435939Z",
          "shell.execute_reply.started": "2025-02-11T00:45:36.406137Z",
          "shell.execute_reply": "2025-02-11T00:45:36.434581Z"
        },
        "id": "QM3gZPjdAg0B",
        "outputId": "43d31d31-df07-4e9e-8e45-9bca75885cea"
      },
      "outputs": [
        {
          "execution_count": 14,
          "output_type": "execute_result",
          "data": {
            "text/plain": "    age  role_id\n0   144      196\n6   484      576\n1   529      625\n5   529      625\n2  2025     2209\n3  3025     3249\n4  4489     4761",
            "text/html": "<div>\n<style scoped>\n    .dataframe tbody tr th:only-of-type {\n        vertical-align: middle;\n    }\n\n    .dataframe tbody tr th {\n        vertical-align: top;\n    }\n\n    .dataframe thead th {\n        text-align: right;\n    }\n</style>\n<table border=\"1\" class=\"dataframe\">\n  <thead>\n    <tr style=\"text-align: right;\">\n      <th></th>\n      <th>age</th>\n      <th>role_id</th>\n    </tr>\n  </thead>\n  <tbody>\n    <tr>\n      <th>0</th>\n      <td>144</td>\n      <td>196</td>\n    </tr>\n    <tr>\n      <th>6</th>\n      <td>484</td>\n      <td>576</td>\n    </tr>\n    <tr>\n      <th>1</th>\n      <td>529</td>\n      <td>625</td>\n    </tr>\n    <tr>\n      <th>5</th>\n      <td>529</td>\n      <td>625</td>\n    </tr>\n    <tr>\n      <th>2</th>\n      <td>2025</td>\n      <td>2209</td>\n    </tr>\n    <tr>\n      <th>3</th>\n      <td>3025</td>\n      <td>3249</td>\n    </tr>\n    <tr>\n      <th>4</th>\n      <td>4489</td>\n      <td>4761</td>\n    </tr>\n  </tbody>\n</table>\n</div>"
          },
          "metadata": {}
        }
      ],
      "execution_count": null
    },
    {
      "cell_type": "markdown",
      "source": [
        "# set Option"
      ],
      "metadata": {
        "id": "7L_OZjzVAg0C"
      }
    },
    {
      "cell_type": "code",
      "source": [
        "pd.set_option('display.max_colwidth', 1000)\n",
        "df_3=pd.DataFrame({\n",
        "    'description':[\n",
        "        'Pandas library ke apply() method ka use hum kisi bhi DataFrame ya Series ke har ek element par ek custom function apply karne ke liye karte hain. Yeh ek powerful method hai jo row-wise ya column-wise operations perform karne ke kaam aata hai.',\n",
        "        'Agar tumhe column-wise ya row-wise kaam karna hai, toh apply() use karo.Agar tumhe har ek element ko modify karna hai, toh applymap() use karo. 🚀😃',\n",
        "        'Pandas ka set_option() function hum display settings ya configuration change karne ke liye use karte hain. Yeh mainly output formatting, maximum rows/columns dikhane, decimal precision aur aur bhi settings control karne ke liye hota hai.',]\n",
        "})"
      ],
      "metadata": {
        "trusted": true,
        "execution": {
          "iopub.status.busy": "2025-02-11T00:45:36.437060Z",
          "iopub.execute_input": "2025-02-11T00:45:36.437450Z",
          "iopub.status.idle": "2025-02-11T00:45:36.456480Z",
          "shell.execute_reply.started": "2025-02-11T00:45:36.437416Z",
          "shell.execute_reply": "2025-02-11T00:45:36.455235Z"
        },
        "id": "jewT7SneAg0D"
      },
      "outputs": [],
      "execution_count": null
    },
    {
      "cell_type": "code",
      "source": [
        "df_3"
      ],
      "metadata": {
        "trusted": true,
        "execution": {
          "iopub.status.busy": "2025-02-11T00:45:36.457502Z",
          "iopub.execute_input": "2025-02-11T00:45:36.457871Z",
          "iopub.status.idle": "2025-02-11T00:45:36.487661Z",
          "shell.execute_reply.started": "2025-02-11T00:45:36.457837Z",
          "shell.execute_reply": "2025-02-11T00:45:36.486129Z"
        },
        "id": "udqW8H3kAg0E",
        "outputId": "22991406-f113-4dc6-fcd6-ac1c8e9cdf2d"
      },
      "outputs": [
        {
          "execution_count": 16,
          "output_type": "execute_result",
          "data": {
            "text/plain": "                                                                                                                                                                                                                                          description\n0  Pandas library ke apply() method ka use hum kisi bhi DataFrame ya Series ke har ek element par ek custom function apply karne ke liye karte hain. Yeh ek powerful method hai jo row-wise ya column-wise operations perform karne ke kaam aata hai.\n1                                                                                                  Agar tumhe column-wise ya row-wise kaam karna hai, toh apply() use karo.Agar tumhe har ek element ko modify karna hai, toh applymap() use karo. 🚀😃\n2       Pandas ka set_option() function hum display settings ya configuration change karne ke liye use karte hain. Yeh mainly output formatting, maximum rows/columns dikhane, decimal precision aur aur bhi settings control karne ke liye hota hai.",
            "text/html": "<div>\n<style scoped>\n    .dataframe tbody tr th:only-of-type {\n        vertical-align: middle;\n    }\n\n    .dataframe tbody tr th {\n        vertical-align: top;\n    }\n\n    .dataframe thead th {\n        text-align: right;\n    }\n</style>\n<table border=\"1\" class=\"dataframe\">\n  <thead>\n    <tr style=\"text-align: right;\">\n      <th></th>\n      <th>description</th>\n    </tr>\n  </thead>\n  <tbody>\n    <tr>\n      <th>0</th>\n      <td>Pandas library ke apply() method ka use hum kisi bhi DataFrame ya Series ke har ek element par ek custom function apply karne ke liye karte hain. Yeh ek powerful method hai jo row-wise ya column-wise operations perform karne ke kaam aata hai.</td>\n    </tr>\n    <tr>\n      <th>1</th>\n      <td>Agar tumhe column-wise ya row-wise kaam karna hai, toh apply() use karo.Agar tumhe har ek element ko modify karna hai, toh applymap() use karo. 🚀😃</td>\n    </tr>\n    <tr>\n      <th>2</th>\n      <td>Pandas ka set_option() function hum display settings ya configuration change karne ke liye use karte hain. Yeh mainly output formatting, maximum rows/columns dikhane, decimal precision aur aur bhi settings control karne ke liye hota hai.</td>\n    </tr>\n  </tbody>\n</table>\n</div>"
          },
          "metadata": {}
        }
      ],
      "execution_count": null
    },
    {
      "cell_type": "code",
      "source": [
        "df_3[\"para_length\"]=df_3['description'].apply(len)"
      ],
      "metadata": {
        "trusted": true,
        "execution": {
          "iopub.status.busy": "2025-02-11T00:45:36.488844Z",
          "iopub.execute_input": "2025-02-11T00:45:36.489164Z",
          "iopub.status.idle": "2025-02-11T00:45:36.508919Z",
          "shell.execute_reply.started": "2025-02-11T00:45:36.489138Z",
          "shell.execute_reply": "2025-02-11T00:45:36.507548Z"
        },
        "id": "IolNGMVtAg0E"
      },
      "outputs": [],
      "execution_count": null
    },
    {
      "cell_type": "code",
      "source": [
        "df_3"
      ],
      "metadata": {
        "trusted": true,
        "execution": {
          "iopub.status.busy": "2025-02-11T00:45:36.510200Z",
          "iopub.execute_input": "2025-02-11T00:45:36.510653Z",
          "iopub.status.idle": "2025-02-11T00:45:36.536014Z",
          "shell.execute_reply.started": "2025-02-11T00:45:36.510587Z",
          "shell.execute_reply": "2025-02-11T00:45:36.534743Z"
        },
        "id": "QWnORTIRAg0F",
        "outputId": "36a85ab5-8a4e-4a43-e6ea-c60ca6bf2e1b"
      },
      "outputs": [
        {
          "execution_count": 18,
          "output_type": "execute_result",
          "data": {
            "text/plain": "                                                                                                                                                                                                                                          description  \\\n0  Pandas library ke apply() method ka use hum kisi bhi DataFrame ya Series ke har ek element par ek custom function apply karne ke liye karte hain. Yeh ek powerful method hai jo row-wise ya column-wise operations perform karne ke kaam aata hai.   \n1                                                                                                  Agar tumhe column-wise ya row-wise kaam karna hai, toh apply() use karo.Agar tumhe har ek element ko modify karna hai, toh applymap() use karo. 🚀😃   \n2       Pandas ka set_option() function hum display settings ya configuration change karne ke liye use karte hain. Yeh mainly output formatting, maximum rows/columns dikhane, decimal precision aur aur bhi settings control karne ke liye hota hai.   \n\n   para_length  \n0          242  \n1          146  \n2          237  ",
            "text/html": "<div>\n<style scoped>\n    .dataframe tbody tr th:only-of-type {\n        vertical-align: middle;\n    }\n\n    .dataframe tbody tr th {\n        vertical-align: top;\n    }\n\n    .dataframe thead th {\n        text-align: right;\n    }\n</style>\n<table border=\"1\" class=\"dataframe\">\n  <thead>\n    <tr style=\"text-align: right;\">\n      <th></th>\n      <th>description</th>\n      <th>para_length</th>\n    </tr>\n  </thead>\n  <tbody>\n    <tr>\n      <th>0</th>\n      <td>Pandas library ke apply() method ka use hum kisi bhi DataFrame ya Series ke har ek element par ek custom function apply karne ke liye karte hain. Yeh ek powerful method hai jo row-wise ya column-wise operations perform karne ke kaam aata hai.</td>\n      <td>242</td>\n    </tr>\n    <tr>\n      <th>1</th>\n      <td>Agar tumhe column-wise ya row-wise kaam karna hai, toh apply() use karo.Agar tumhe har ek element ko modify karna hai, toh applymap() use karo. 🚀😃</td>\n      <td>146</td>\n    </tr>\n    <tr>\n      <th>2</th>\n      <td>Pandas ka set_option() function hum display settings ya configuration change karne ke liye use karte hain. Yeh mainly output formatting, maximum rows/columns dikhane, decimal precision aur aur bhi settings control karne ke liye hota hai.</td>\n      <td>237</td>\n    </tr>\n  </tbody>\n</table>\n</div>"
          },
          "metadata": {}
        }
      ],
      "execution_count": null
    },
    {
      "cell_type": "code",
      "source": [
        "df_3['total_words']=df_3['description'].apply(lambda x:len(x.split()))"
      ],
      "metadata": {
        "trusted": true,
        "execution": {
          "iopub.status.busy": "2025-02-11T00:45:36.541375Z",
          "iopub.execute_input": "2025-02-11T00:45:36.541783Z",
          "iopub.status.idle": "2025-02-11T00:45:36.561343Z",
          "shell.execute_reply.started": "2025-02-11T00:45:36.541751Z",
          "shell.execute_reply": "2025-02-11T00:45:36.559827Z"
        },
        "id": "KjsbDRnFAg0F"
      },
      "outputs": [],
      "execution_count": null
    },
    {
      "cell_type": "code",
      "source": [
        "df_3"
      ],
      "metadata": {
        "trusted": true,
        "execution": {
          "iopub.status.busy": "2025-02-11T00:45:36.563723Z",
          "iopub.execute_input": "2025-02-11T00:45:36.564060Z",
          "iopub.status.idle": "2025-02-11T00:45:36.592725Z",
          "shell.execute_reply.started": "2025-02-11T00:45:36.564032Z",
          "shell.execute_reply": "2025-02-11T00:45:36.591267Z"
        },
        "id": "ct0LAyceAg0G",
        "outputId": "c40c90c2-2b60-4240-c7aa-49f78499a939"
      },
      "outputs": [
        {
          "execution_count": 20,
          "output_type": "execute_result",
          "data": {
            "text/plain": "                                                                                                                                                                                                                                          description  \\\n0  Pandas library ke apply() method ka use hum kisi bhi DataFrame ya Series ke har ek element par ek custom function apply karne ke liye karte hain. Yeh ek powerful method hai jo row-wise ya column-wise operations perform karne ke kaam aata hai.   \n1                                                                                                  Agar tumhe column-wise ya row-wise kaam karna hai, toh apply() use karo.Agar tumhe har ek element ko modify karna hai, toh applymap() use karo. 🚀😃   \n2       Pandas ka set_option() function hum display settings ya configuration change karne ke liye use karte hain. Yeh mainly output formatting, maximum rows/columns dikhane, decimal precision aur aur bhi settings control karne ke liye hota hai.   \n\n   para_length  total_words  \n0          242           43  \n1          146           25  \n2          237           35  ",
            "text/html": "<div>\n<style scoped>\n    .dataframe tbody tr th:only-of-type {\n        vertical-align: middle;\n    }\n\n    .dataframe tbody tr th {\n        vertical-align: top;\n    }\n\n    .dataframe thead th {\n        text-align: right;\n    }\n</style>\n<table border=\"1\" class=\"dataframe\">\n  <thead>\n    <tr style=\"text-align: right;\">\n      <th></th>\n      <th>description</th>\n      <th>para_length</th>\n      <th>total_words</th>\n    </tr>\n  </thead>\n  <tbody>\n    <tr>\n      <th>0</th>\n      <td>Pandas library ke apply() method ka use hum kisi bhi DataFrame ya Series ke har ek element par ek custom function apply karne ke liye karte hain. Yeh ek powerful method hai jo row-wise ya column-wise operations perform karne ke kaam aata hai.</td>\n      <td>242</td>\n      <td>43</td>\n    </tr>\n    <tr>\n      <th>1</th>\n      <td>Agar tumhe column-wise ya row-wise kaam karna hai, toh apply() use karo.Agar tumhe har ek element ko modify karna hai, toh applymap() use karo. 🚀😃</td>\n      <td>146</td>\n      <td>25</td>\n    </tr>\n    <tr>\n      <th>2</th>\n      <td>Pandas ka set_option() function hum display settings ya configuration change karne ke liye use karte hain. Yeh mainly output formatting, maximum rows/columns dikhane, decimal precision aur aur bhi settings control karne ke liye hota hai.</td>\n      <td>237</td>\n      <td>35</td>\n    </tr>\n  </tbody>\n</table>\n</div>"
          },
          "metadata": {}
        }
      ],
      "execution_count": null
    },
    {
      "cell_type": "code",
      "source": [
        "df_2"
      ],
      "metadata": {
        "trusted": true,
        "execution": {
          "iopub.status.busy": "2025-02-11T00:45:36.594147Z",
          "iopub.execute_input": "2025-02-11T00:45:36.594588Z",
          "iopub.status.idle": "2025-02-11T00:45:36.621546Z",
          "shell.execute_reply.started": "2025-02-11T00:45:36.594540Z",
          "shell.execute_reply": "2025-02-11T00:45:36.620340Z"
        },
        "id": "0vqaYd5NAg0G",
        "outputId": "7134e554-f184-4002-9d0f-1697e619a999"
      },
      "outputs": [
        {
          "execution_count": 21,
          "output_type": "execute_result",
          "data": {
            "text/plain": "    age  role_id\n0   144      196\n1   529      625\n2  2025     2209\n3  3025     3249\n4  4489     4761\n5   529      625\n6   484      576",
            "text/html": "<div>\n<style scoped>\n    .dataframe tbody tr th:only-of-type {\n        vertical-align: middle;\n    }\n\n    .dataframe tbody tr th {\n        vertical-align: top;\n    }\n\n    .dataframe thead th {\n        text-align: right;\n    }\n</style>\n<table border=\"1\" class=\"dataframe\">\n  <thead>\n    <tr style=\"text-align: right;\">\n      <th></th>\n      <th>age</th>\n      <th>role_id</th>\n    </tr>\n  </thead>\n  <tbody>\n    <tr>\n      <th>0</th>\n      <td>144</td>\n      <td>196</td>\n    </tr>\n    <tr>\n      <th>1</th>\n      <td>529</td>\n      <td>625</td>\n    </tr>\n    <tr>\n      <th>2</th>\n      <td>2025</td>\n      <td>2209</td>\n    </tr>\n    <tr>\n      <th>3</th>\n      <td>3025</td>\n      <td>3249</td>\n    </tr>\n    <tr>\n      <th>4</th>\n      <td>4489</td>\n      <td>4761</td>\n    </tr>\n    <tr>\n      <th>5</th>\n      <td>529</td>\n      <td>625</td>\n    </tr>\n    <tr>\n      <th>6</th>\n      <td>484</td>\n      <td>576</td>\n    </tr>\n  </tbody>\n</table>\n</div>"
          },
          "metadata": {}
        }
      ],
      "execution_count": null
    },
    {
      "cell_type": "code",
      "source": [
        "df"
      ],
      "metadata": {
        "trusted": true,
        "execution": {
          "iopub.status.busy": "2025-02-11T00:45:36.622805Z",
          "iopub.execute_input": "2025-02-11T00:45:36.623274Z",
          "iopub.status.idle": "2025-02-11T00:45:36.649467Z",
          "shell.execute_reply.started": "2025-02-11T00:45:36.623232Z",
          "shell.execute_reply": "2025-02-11T00:45:36.647737Z"
        },
        "id": "ArVWpMUKAg0H",
        "outputId": "43326177-ff13-4e9b-b6e0-a0d0c0a09cf4"
      },
      "outputs": [
        {
          "execution_count": 22,
          "output_type": "execute_result",
          "data": {
            "text/plain": "   id      name  age           role  role_id\n0   1      inam   12        student       14\n1   2      khan   23      chai-shop       25\n2   3  Muhammad   45        scholar       47\n3   4       ali   55       engineer       57\n4   5      mani   67  entertainment       69\n5   6     jokar   23         doctor       25\n6   7      saad   22         worker       24",
            "text/html": "<div>\n<style scoped>\n    .dataframe tbody tr th:only-of-type {\n        vertical-align: middle;\n    }\n\n    .dataframe tbody tr th {\n        vertical-align: top;\n    }\n\n    .dataframe thead th {\n        text-align: right;\n    }\n</style>\n<table border=\"1\" class=\"dataframe\">\n  <thead>\n    <tr style=\"text-align: right;\">\n      <th></th>\n      <th>id</th>\n      <th>name</th>\n      <th>age</th>\n      <th>role</th>\n      <th>role_id</th>\n    </tr>\n  </thead>\n  <tbody>\n    <tr>\n      <th>0</th>\n      <td>1</td>\n      <td>inam</td>\n      <td>12</td>\n      <td>student</td>\n      <td>14</td>\n    </tr>\n    <tr>\n      <th>1</th>\n      <td>2</td>\n      <td>khan</td>\n      <td>23</td>\n      <td>chai-shop</td>\n      <td>25</td>\n    </tr>\n    <tr>\n      <th>2</th>\n      <td>3</td>\n      <td>Muhammad</td>\n      <td>45</td>\n      <td>scholar</td>\n      <td>47</td>\n    </tr>\n    <tr>\n      <th>3</th>\n      <td>4</td>\n      <td>ali</td>\n      <td>55</td>\n      <td>engineer</td>\n      <td>57</td>\n    </tr>\n    <tr>\n      <th>4</th>\n      <td>5</td>\n      <td>mani</td>\n      <td>67</td>\n      <td>entertainment</td>\n      <td>69</td>\n    </tr>\n    <tr>\n      <th>5</th>\n      <td>6</td>\n      <td>jokar</td>\n      <td>23</td>\n      <td>doctor</td>\n      <td>25</td>\n    </tr>\n    <tr>\n      <th>6</th>\n      <td>7</td>\n      <td>saad</td>\n      <td>22</td>\n      <td>worker</td>\n      <td>24</td>\n    </tr>\n  </tbody>\n</table>\n</div>"
          },
          "metadata": {}
        }
      ],
      "execution_count": null
    },
    {
      "cell_type": "code",
      "source": [
        "df['role_id'].sum()"
      ],
      "metadata": {
        "trusted": true,
        "execution": {
          "iopub.status.busy": "2025-02-11T00:45:36.650678Z",
          "iopub.execute_input": "2025-02-11T00:45:36.650988Z",
          "iopub.status.idle": "2025-02-11T00:45:36.675554Z",
          "shell.execute_reply.started": "2025-02-11T00:45:36.650961Z",
          "shell.execute_reply": "2025-02-11T00:45:36.673972Z"
        },
        "id": "fp4qcUiBAg0H",
        "outputId": "97519eda-36e4-4ab2-818b-a941ac20c4cb"
      },
      "outputs": [
        {
          "execution_count": 23,
          "output_type": "execute_result",
          "data": {
            "text/plain": "261"
          },
          "metadata": {}
        }
      ],
      "execution_count": null
    },
    {
      "cell_type": "code",
      "source": [
        "df['role_id'].mode()"
      ],
      "metadata": {
        "trusted": true,
        "execution": {
          "iopub.status.busy": "2025-02-11T00:45:36.676818Z",
          "iopub.execute_input": "2025-02-11T00:45:36.677229Z",
          "iopub.status.idle": "2025-02-11T00:45:36.701895Z",
          "shell.execute_reply.started": "2025-02-11T00:45:36.677192Z",
          "shell.execute_reply": "2025-02-11T00:45:36.700747Z"
        },
        "id": "5XY-MkiZAg0I",
        "outputId": "19d44cc5-82d0-4117-cf43-8f53f8bbd113"
      },
      "outputs": [
        {
          "execution_count": 24,
          "output_type": "execute_result",
          "data": {
            "text/plain": "0    25\nName: role_id, dtype: int64"
          },
          "metadata": {}
        }
      ],
      "execution_count": null
    },
    {
      "cell_type": "code",
      "source": [
        "df['role_id'].mean()"
      ],
      "metadata": {
        "trusted": true,
        "execution": {
          "iopub.status.busy": "2025-02-11T00:45:36.703038Z",
          "iopub.execute_input": "2025-02-11T00:45:36.703333Z",
          "iopub.status.idle": "2025-02-11T00:45:36.726788Z",
          "shell.execute_reply.started": "2025-02-11T00:45:36.703308Z",
          "shell.execute_reply": "2025-02-11T00:45:36.725476Z"
        },
        "id": "DXyNYUnhAg0I",
        "outputId": "1f6a0f0a-9594-492d-8666-a14cebd0e8fc"
      },
      "outputs": [
        {
          "execution_count": 25,
          "output_type": "execute_result",
          "data": {
            "text/plain": "37.285714285714285"
          },
          "metadata": {}
        }
      ],
      "execution_count": null
    },
    {
      "cell_type": "code",
      "source": [
        "df"
      ],
      "metadata": {
        "trusted": true,
        "execution": {
          "iopub.status.busy": "2025-02-11T00:45:36.728047Z",
          "iopub.execute_input": "2025-02-11T00:45:36.728374Z",
          "iopub.status.idle": "2025-02-11T00:45:36.756810Z",
          "shell.execute_reply.started": "2025-02-11T00:45:36.728347Z",
          "shell.execute_reply": "2025-02-11T00:45:36.755007Z"
        },
        "id": "8eZFpliLAg0J",
        "outputId": "efa010c5-c2bb-4007-8108-8ff0b86a3d18"
      },
      "outputs": [
        {
          "execution_count": 26,
          "output_type": "execute_result",
          "data": {
            "text/plain": "   id      name  age           role  role_id\n0   1      inam   12        student       14\n1   2      khan   23      chai-shop       25\n2   3  Muhammad   45        scholar       47\n3   4       ali   55       engineer       57\n4   5      mani   67  entertainment       69\n5   6     jokar   23         doctor       25\n6   7      saad   22         worker       24",
            "text/html": "<div>\n<style scoped>\n    .dataframe tbody tr th:only-of-type {\n        vertical-align: middle;\n    }\n\n    .dataframe tbody tr th {\n        vertical-align: top;\n    }\n\n    .dataframe thead th {\n        text-align: right;\n    }\n</style>\n<table border=\"1\" class=\"dataframe\">\n  <thead>\n    <tr style=\"text-align: right;\">\n      <th></th>\n      <th>id</th>\n      <th>name</th>\n      <th>age</th>\n      <th>role</th>\n      <th>role_id</th>\n    </tr>\n  </thead>\n  <tbody>\n    <tr>\n      <th>0</th>\n      <td>1</td>\n      <td>inam</td>\n      <td>12</td>\n      <td>student</td>\n      <td>14</td>\n    </tr>\n    <tr>\n      <th>1</th>\n      <td>2</td>\n      <td>khan</td>\n      <td>23</td>\n      <td>chai-shop</td>\n      <td>25</td>\n    </tr>\n    <tr>\n      <th>2</th>\n      <td>3</td>\n      <td>Muhammad</td>\n      <td>45</td>\n      <td>scholar</td>\n      <td>47</td>\n    </tr>\n    <tr>\n      <th>3</th>\n      <td>4</td>\n      <td>ali</td>\n      <td>55</td>\n      <td>engineer</td>\n      <td>57</td>\n    </tr>\n    <tr>\n      <th>4</th>\n      <td>5</td>\n      <td>mani</td>\n      <td>67</td>\n      <td>entertainment</td>\n      <td>69</td>\n    </tr>\n    <tr>\n      <th>5</th>\n      <td>6</td>\n      <td>jokar</td>\n      <td>23</td>\n      <td>doctor</td>\n      <td>25</td>\n    </tr>\n    <tr>\n      <th>6</th>\n      <td>7</td>\n      <td>saad</td>\n      <td>22</td>\n      <td>worker</td>\n      <td>24</td>\n    </tr>\n  </tbody>\n</table>\n</div>"
          },
          "metadata": {}
        }
      ],
      "execution_count": null
    },
    {
      "cell_type": "code",
      "source": [
        "df['role_id'].cumsum()"
      ],
      "metadata": {
        "trusted": true,
        "execution": {
          "iopub.status.busy": "2025-02-11T00:45:36.758025Z",
          "iopub.execute_input": "2025-02-11T00:45:36.758475Z",
          "iopub.status.idle": "2025-02-11T00:45:36.783209Z",
          "shell.execute_reply.started": "2025-02-11T00:45:36.758446Z",
          "shell.execute_reply": "2025-02-11T00:45:36.781668Z"
        },
        "id": "f4iBkBnIAg0J",
        "outputId": "a9510de9-e8db-49c8-e94f-df89fb3bbc8b"
      },
      "outputs": [
        {
          "execution_count": 27,
          "output_type": "execute_result",
          "data": {
            "text/plain": "0     14\n1     39\n2     86\n3    143\n4    212\n5    237\n6    261\nName: role_id, dtype: int64"
          },
          "metadata": {}
        }
      ],
      "execution_count": null
    },
    {
      "cell_type": "markdown",
      "source": [
        "# Pandas | Window Function\n",
        "> Pandas me window ka matlab hota hai ek aisi technique jisme aap apne data ke ek chhote hisse (window) par operations perform karte ho, instead of poore data par. Ye methods mostly time series analysis ya sequential data ke liye kaam aate hain jahan aapko moving average, cumulative sum, ya kisi aur aggregation ko calculate karna hota hai."
      ],
      "metadata": {
        "id": "JdPSP9oKAg0J"
      }
    },
    {
      "cell_type": "code",
      "source": [
        "df"
      ],
      "metadata": {
        "trusted": true,
        "execution": {
          "iopub.status.busy": "2025-02-11T00:45:36.784586Z",
          "iopub.execute_input": "2025-02-11T00:45:36.785034Z",
          "iopub.status.idle": "2025-02-11T00:45:36.810404Z",
          "shell.execute_reply.started": "2025-02-11T00:45:36.784989Z",
          "shell.execute_reply": "2025-02-11T00:45:36.809016Z"
        },
        "id": "RmFeTLxYAg0K",
        "outputId": "f61fc953-571c-43bd-d03c-aa469d833450"
      },
      "outputs": [
        {
          "execution_count": 28,
          "output_type": "execute_result",
          "data": {
            "text/plain": "   id      name  age           role  role_id\n0   1      inam   12        student       14\n1   2      khan   23      chai-shop       25\n2   3  Muhammad   45        scholar       47\n3   4       ali   55       engineer       57\n4   5      mani   67  entertainment       69\n5   6     jokar   23         doctor       25\n6   7      saad   22         worker       24",
            "text/html": "<div>\n<style scoped>\n    .dataframe tbody tr th:only-of-type {\n        vertical-align: middle;\n    }\n\n    .dataframe tbody tr th {\n        vertical-align: top;\n    }\n\n    .dataframe thead th {\n        text-align: right;\n    }\n</style>\n<table border=\"1\" class=\"dataframe\">\n  <thead>\n    <tr style=\"text-align: right;\">\n      <th></th>\n      <th>id</th>\n      <th>name</th>\n      <th>age</th>\n      <th>role</th>\n      <th>role_id</th>\n    </tr>\n  </thead>\n  <tbody>\n    <tr>\n      <th>0</th>\n      <td>1</td>\n      <td>inam</td>\n      <td>12</td>\n      <td>student</td>\n      <td>14</td>\n    </tr>\n    <tr>\n      <th>1</th>\n      <td>2</td>\n      <td>khan</td>\n      <td>23</td>\n      <td>chai-shop</td>\n      <td>25</td>\n    </tr>\n    <tr>\n      <th>2</th>\n      <td>3</td>\n      <td>Muhammad</td>\n      <td>45</td>\n      <td>scholar</td>\n      <td>47</td>\n    </tr>\n    <tr>\n      <th>3</th>\n      <td>4</td>\n      <td>ali</td>\n      <td>55</td>\n      <td>engineer</td>\n      <td>57</td>\n    </tr>\n    <tr>\n      <th>4</th>\n      <td>5</td>\n      <td>mani</td>\n      <td>67</td>\n      <td>entertainment</td>\n      <td>69</td>\n    </tr>\n    <tr>\n      <th>5</th>\n      <td>6</td>\n      <td>jokar</td>\n      <td>23</td>\n      <td>doctor</td>\n      <td>25</td>\n    </tr>\n    <tr>\n      <th>6</th>\n      <td>7</td>\n      <td>saad</td>\n      <td>22</td>\n      <td>worker</td>\n      <td>24</td>\n    </tr>\n  </tbody>\n</table>\n</div>"
          },
          "metadata": {}
        }
      ],
      "execution_count": null
    },
    {
      "cell_type": "code",
      "source": [
        "df['role_id'].rolling(window=2).sum()"
      ],
      "metadata": {
        "trusted": true,
        "execution": {
          "iopub.status.busy": "2025-02-11T00:45:36.811693Z",
          "iopub.execute_input": "2025-02-11T00:45:36.812408Z",
          "iopub.status.idle": "2025-02-11T00:45:36.837754Z",
          "shell.execute_reply.started": "2025-02-11T00:45:36.812353Z",
          "shell.execute_reply": "2025-02-11T00:45:36.836600Z"
        },
        "id": "04HayU2CAg0K",
        "outputId": "9b2446a9-7d23-4528-a9be-7c45c5de284e"
      },
      "outputs": [
        {
          "name": "stderr",
          "text": "/usr/local/lib/python3.10/dist-packages/pandas/io/formats/format.py:1458: RuntimeWarning: invalid value encountered in greater\n  has_large_values = (abs_vals > 1e6).any()\n/usr/local/lib/python3.10/dist-packages/pandas/io/formats/format.py:1459: RuntimeWarning: invalid value encountered in less\n  has_small_values = ((abs_vals < 10 ** (-self.digits)) & (abs_vals > 0)).any()\n/usr/local/lib/python3.10/dist-packages/pandas/io/formats/format.py:1459: RuntimeWarning: invalid value encountered in greater\n  has_small_values = ((abs_vals < 10 ** (-self.digits)) & (abs_vals > 0)).any()\n",
          "output_type": "stream"
        },
        {
          "execution_count": 29,
          "output_type": "execute_result",
          "data": {
            "text/plain": "0      NaN\n1     39.0\n2     72.0\n3    104.0\n4    126.0\n5     94.0\n6     49.0\nName: role_id, dtype: float64"
          },
          "metadata": {}
        }
      ],
      "execution_count": null
    },
    {
      "cell_type": "code",
      "source": [
        "df['role_id'].rolling(window=3).mean() # three value ka average la ga"
      ],
      "metadata": {
        "trusted": true,
        "execution": {
          "iopub.status.busy": "2025-02-11T00:45:36.838746Z",
          "iopub.execute_input": "2025-02-11T00:45:36.839039Z",
          "iopub.status.idle": "2025-02-11T00:45:36.862208Z",
          "shell.execute_reply.started": "2025-02-11T00:45:36.839014Z",
          "shell.execute_reply": "2025-02-11T00:45:36.860433Z"
        },
        "id": "mUlE20FfAg0L",
        "outputId": "40c37835-81b8-4898-92de-6c9617c35662"
      },
      "outputs": [
        {
          "execution_count": 30,
          "output_type": "execute_result",
          "data": {
            "text/plain": "0          NaN\n1          NaN\n2    28.666667\n3    43.000000\n4    57.666667\n5    50.333333\n6    39.333333\nName: role_id, dtype: float64"
          },
          "metadata": {}
        }
      ],
      "execution_count": null
    },
    {
      "cell_type": "markdown",
      "source": [
        "> expanding() Function\n",
        "Kya karta hai?\n",
        "Yeh cumulative window hai jo series ke start se current row tak ke saare values ko consider karta hai. Matlab window ka size continuously badhta jata hai."
      ],
      "metadata": {
        "id": "-w6Pm56sAg0M"
      }
    },
    {
      "cell_type": "code",
      "source": [
        "df['expanding_val']=df['role_id'].expanding().sum()"
      ],
      "metadata": {
        "trusted": true,
        "execution": {
          "iopub.status.busy": "2025-02-11T00:45:36.863370Z",
          "iopub.execute_input": "2025-02-11T00:45:36.863806Z",
          "iopub.status.idle": "2025-02-11T00:45:36.884014Z",
          "shell.execute_reply.started": "2025-02-11T00:45:36.863767Z",
          "shell.execute_reply": "2025-02-11T00:45:36.882095Z"
        },
        "id": "rhXNImGOAg0M"
      },
      "outputs": [],
      "execution_count": null
    },
    {
      "cell_type": "code",
      "source": [
        "df"
      ],
      "metadata": {
        "trusted": true,
        "execution": {
          "iopub.status.busy": "2025-02-11T00:45:36.885512Z",
          "iopub.execute_input": "2025-02-11T00:45:36.885945Z",
          "iopub.status.idle": "2025-02-11T00:45:36.911746Z",
          "shell.execute_reply.started": "2025-02-11T00:45:36.885908Z",
          "shell.execute_reply": "2025-02-11T00:45:36.910520Z"
        },
        "id": "LQ0GmXGtAg0N",
        "outputId": "366bf3d7-5661-4ef4-d8cb-555824b24824"
      },
      "outputs": [
        {
          "execution_count": 32,
          "output_type": "execute_result",
          "data": {
            "text/plain": "   id      name  age           role  role_id  expanding_val\n0   1      inam   12        student       14           14.0\n1   2      khan   23      chai-shop       25           39.0\n2   3  Muhammad   45        scholar       47           86.0\n3   4       ali   55       engineer       57          143.0\n4   5      mani   67  entertainment       69          212.0\n5   6     jokar   23         doctor       25          237.0\n6   7      saad   22         worker       24          261.0",
            "text/html": "<div>\n<style scoped>\n    .dataframe tbody tr th:only-of-type {\n        vertical-align: middle;\n    }\n\n    .dataframe tbody tr th {\n        vertical-align: top;\n    }\n\n    .dataframe thead th {\n        text-align: right;\n    }\n</style>\n<table border=\"1\" class=\"dataframe\">\n  <thead>\n    <tr style=\"text-align: right;\">\n      <th></th>\n      <th>id</th>\n      <th>name</th>\n      <th>age</th>\n      <th>role</th>\n      <th>role_id</th>\n      <th>expanding_val</th>\n    </tr>\n  </thead>\n  <tbody>\n    <tr>\n      <th>0</th>\n      <td>1</td>\n      <td>inam</td>\n      <td>12</td>\n      <td>student</td>\n      <td>14</td>\n      <td>14.0</td>\n    </tr>\n    <tr>\n      <th>1</th>\n      <td>2</td>\n      <td>khan</td>\n      <td>23</td>\n      <td>chai-shop</td>\n      <td>25</td>\n      <td>39.0</td>\n    </tr>\n    <tr>\n      <th>2</th>\n      <td>3</td>\n      <td>Muhammad</td>\n      <td>45</td>\n      <td>scholar</td>\n      <td>47</td>\n      <td>86.0</td>\n    </tr>\n    <tr>\n      <th>3</th>\n      <td>4</td>\n      <td>ali</td>\n      <td>55</td>\n      <td>engineer</td>\n      <td>57</td>\n      <td>143.0</td>\n    </tr>\n    <tr>\n      <th>4</th>\n      <td>5</td>\n      <td>mani</td>\n      <td>67</td>\n      <td>entertainment</td>\n      <td>69</td>\n      <td>212.0</td>\n    </tr>\n    <tr>\n      <th>5</th>\n      <td>6</td>\n      <td>jokar</td>\n      <td>23</td>\n      <td>doctor</td>\n      <td>25</td>\n      <td>237.0</td>\n    </tr>\n    <tr>\n      <th>6</th>\n      <td>7</td>\n      <td>saad</td>\n      <td>22</td>\n      <td>worker</td>\n      <td>24</td>\n      <td>261.0</td>\n    </tr>\n  </tbody>\n</table>\n</div>"
          },
          "metadata": {}
        }
      ],
      "execution_count": null
    },
    {
      "cell_type": "markdown",
      "source": [
        "# ewm() Function (Exponentially Weighted Functions)\n",
        "\n",
        "> Kya karta hai?Yeh window function recent data ko zyada weight (importance) deta hai aur purane data ko kam. Isme exponential decay factor use hota hai.\n"
      ],
      "metadata": {
        "id": "WuBUE2SoAg0N"
      }
    },
    {
      "cell_type": "code",
      "source": [
        "df['ewm_mean'] = df['role_id'].ewm(span=3).sum()"
      ],
      "metadata": {
        "trusted": true,
        "execution": {
          "iopub.status.busy": "2025-02-11T00:45:36.912874Z",
          "iopub.execute_input": "2025-02-11T00:45:36.913448Z",
          "iopub.status.idle": "2025-02-11T00:45:36.933988Z",
          "shell.execute_reply.started": "2025-02-11T00:45:36.913399Z",
          "shell.execute_reply": "2025-02-11T00:45:36.932856Z"
        },
        "id": "QfEMvoeUAg0W"
      },
      "outputs": [],
      "execution_count": null
    },
    {
      "cell_type": "code",
      "source": [
        "df"
      ],
      "metadata": {
        "trusted": true,
        "execution": {
          "iopub.status.busy": "2025-02-11T00:45:36.935259Z",
          "iopub.execute_input": "2025-02-11T00:45:36.935683Z",
          "iopub.status.idle": "2025-02-11T00:45:36.964335Z",
          "shell.execute_reply.started": "2025-02-11T00:45:36.935618Z",
          "shell.execute_reply": "2025-02-11T00:45:36.962935Z"
        },
        "id": "QQfz6GkmAg0X",
        "outputId": "aae04b0d-be6a-4048-c3c5-511ec79b83f0"
      },
      "outputs": [
        {
          "execution_count": 34,
          "output_type": "execute_result",
          "data": {
            "text/plain": "   id      name  age           role  role_id  expanding_val  ewm_mean\n0   1      inam   12        student       14           14.0   14.0000\n1   2      khan   23      chai-shop       25           39.0   32.0000\n2   3  Muhammad   45        scholar       47           86.0   63.0000\n3   4       ali   55       engineer       57          143.0   88.5000\n4   5      mani   67  entertainment       69          212.0  113.2500\n5   6     jokar   23         doctor       25          237.0   81.6250\n6   7      saad   22         worker       24          261.0   64.8125",
            "text/html": "<div>\n<style scoped>\n    .dataframe tbody tr th:only-of-type {\n        vertical-align: middle;\n    }\n\n    .dataframe tbody tr th {\n        vertical-align: top;\n    }\n\n    .dataframe thead th {\n        text-align: right;\n    }\n</style>\n<table border=\"1\" class=\"dataframe\">\n  <thead>\n    <tr style=\"text-align: right;\">\n      <th></th>\n      <th>id</th>\n      <th>name</th>\n      <th>age</th>\n      <th>role</th>\n      <th>role_id</th>\n      <th>expanding_val</th>\n      <th>ewm_mean</th>\n    </tr>\n  </thead>\n  <tbody>\n    <tr>\n      <th>0</th>\n      <td>1</td>\n      <td>inam</td>\n      <td>12</td>\n      <td>student</td>\n      <td>14</td>\n      <td>14.0</td>\n      <td>14.0000</td>\n    </tr>\n    <tr>\n      <th>1</th>\n      <td>2</td>\n      <td>khan</td>\n      <td>23</td>\n      <td>chai-shop</td>\n      <td>25</td>\n      <td>39.0</td>\n      <td>32.0000</td>\n    </tr>\n    <tr>\n      <th>2</th>\n      <td>3</td>\n      <td>Muhammad</td>\n      <td>45</td>\n      <td>scholar</td>\n      <td>47</td>\n      <td>86.0</td>\n      <td>63.0000</td>\n    </tr>\n    <tr>\n      <th>3</th>\n      <td>4</td>\n      <td>ali</td>\n      <td>55</td>\n      <td>engineer</td>\n      <td>57</td>\n      <td>143.0</td>\n      <td>88.5000</td>\n    </tr>\n    <tr>\n      <th>4</th>\n      <td>5</td>\n      <td>mani</td>\n      <td>67</td>\n      <td>entertainment</td>\n      <td>69</td>\n      <td>212.0</td>\n      <td>113.2500</td>\n    </tr>\n    <tr>\n      <th>5</th>\n      <td>6</td>\n      <td>jokar</td>\n      <td>23</td>\n      <td>doctor</td>\n      <td>25</td>\n      <td>237.0</td>\n      <td>81.6250</td>\n    </tr>\n    <tr>\n      <th>6</th>\n      <td>7</td>\n      <td>saad</td>\n      <td>22</td>\n      <td>worker</td>\n      <td>24</td>\n      <td>261.0</td>\n      <td>64.8125</td>\n    </tr>\n  </tbody>\n</table>\n</div>"
          },
          "metadata": {}
        }
      ],
      "execution_count": null
    },
    {
      "cell_type": "markdown",
      "source": [
        "# **how to check the new data and old data**"
      ],
      "metadata": {
        "id": "69k9plg8Ag0X"
      }
    },
    {
      "cell_type": "code",
      "source": [
        "ewm_series = df['role_id'].ewm(span=2)\n",
        "\n",
        "# Weights Dekhne Ke Liye\n",
        "alpha = 2 / (2 + 1)  # span=3 ke liye alpha = 0.5\n",
        "df['ewm_sum_next'] = ewm_series.sum()\n",
        "df['next_weights'] = (1 - alpha) ** (df.index[::-1])  # Reverse order se weight calculate karna\n"
      ],
      "metadata": {
        "trusted": true,
        "execution": {
          "iopub.status.busy": "2025-02-11T00:46:45.922430Z",
          "iopub.execute_input": "2025-02-11T00:46:45.922883Z",
          "iopub.status.idle": "2025-02-11T00:46:45.930656Z",
          "shell.execute_reply.started": "2025-02-11T00:46:45.922846Z",
          "shell.execute_reply": "2025-02-11T00:46:45.929253Z"
        },
        "id": "VrEXvPkKAg0Y"
      },
      "outputs": [],
      "execution_count": null
    },
    {
      "cell_type": "code",
      "source": [
        "df"
      ],
      "metadata": {
        "trusted": true,
        "execution": {
          "iopub.status.busy": "2025-02-11T00:46:48.315959Z",
          "iopub.execute_input": "2025-02-11T00:46:48.316473Z",
          "iopub.status.idle": "2025-02-11T00:46:48.332381Z",
          "shell.execute_reply.started": "2025-02-11T00:46:48.316436Z",
          "shell.execute_reply": "2025-02-11T00:46:48.331148Z"
        },
        "id": "DCBW5OkQAg0Y",
        "outputId": "45a2ec30-d91f-46f1-e6e9-b4dcde08a40c"
      },
      "outputs": [
        {
          "execution_count": 37,
          "output_type": "execute_result",
          "data": {
            "text/plain": "   id      name  age           role  role_id  expanding_val  ewm_mean  \\\n0   1      inam   12        student       14           14.0   14.0000   \n1   2      khan   23      chai-shop       25           39.0   32.0000   \n2   3  Muhammad   45        scholar       47           86.0   63.0000   \n3   4       ali   55       engineer       57          143.0   88.5000   \n4   5      mani   67  entertainment       69          212.0  113.2500   \n5   6     jokar   23         doctor       25          237.0   81.6250   \n6   7      saad   22         worker       24          261.0   64.8125   \n\n   ewm_sum_next  next_weights  \n0     14.000000      0.001372  \n1     29.666667      0.004115  \n2     56.888889      0.012346  \n3     75.962963      0.037037  \n4     94.320988      0.111111  \n5     56.440329      0.333333  \n6     42.813443      1.000000  ",
            "text/html": "<div>\n<style scoped>\n    .dataframe tbody tr th:only-of-type {\n        vertical-align: middle;\n    }\n\n    .dataframe tbody tr th {\n        vertical-align: top;\n    }\n\n    .dataframe thead th {\n        text-align: right;\n    }\n</style>\n<table border=\"1\" class=\"dataframe\">\n  <thead>\n    <tr style=\"text-align: right;\">\n      <th></th>\n      <th>id</th>\n      <th>name</th>\n      <th>age</th>\n      <th>role</th>\n      <th>role_id</th>\n      <th>expanding_val</th>\n      <th>ewm_mean</th>\n      <th>ewm_sum_next</th>\n      <th>next_weights</th>\n    </tr>\n  </thead>\n  <tbody>\n    <tr>\n      <th>0</th>\n      <td>1</td>\n      <td>inam</td>\n      <td>12</td>\n      <td>student</td>\n      <td>14</td>\n      <td>14.0</td>\n      <td>14.0000</td>\n      <td>14.000000</td>\n      <td>0.001372</td>\n    </tr>\n    <tr>\n      <th>1</th>\n      <td>2</td>\n      <td>khan</td>\n      <td>23</td>\n      <td>chai-shop</td>\n      <td>25</td>\n      <td>39.0</td>\n      <td>32.0000</td>\n      <td>29.666667</td>\n      <td>0.004115</td>\n    </tr>\n    <tr>\n      <th>2</th>\n      <td>3</td>\n      <td>Muhammad</td>\n      <td>45</td>\n      <td>scholar</td>\n      <td>47</td>\n      <td>86.0</td>\n      <td>63.0000</td>\n      <td>56.888889</td>\n      <td>0.012346</td>\n    </tr>\n    <tr>\n      <th>3</th>\n      <td>4</td>\n      <td>ali</td>\n      <td>55</td>\n      <td>engineer</td>\n      <td>57</td>\n      <td>143.0</td>\n      <td>88.5000</td>\n      <td>75.962963</td>\n      <td>0.037037</td>\n    </tr>\n    <tr>\n      <th>4</th>\n      <td>5</td>\n      <td>mani</td>\n      <td>67</td>\n      <td>entertainment</td>\n      <td>69</td>\n      <td>212.0</td>\n      <td>113.2500</td>\n      <td>94.320988</td>\n      <td>0.111111</td>\n    </tr>\n    <tr>\n      <th>5</th>\n      <td>6</td>\n      <td>jokar</td>\n      <td>23</td>\n      <td>doctor</td>\n      <td>25</td>\n      <td>237.0</td>\n      <td>81.6250</td>\n      <td>56.440329</td>\n      <td>0.333333</td>\n    </tr>\n    <tr>\n      <th>6</th>\n      <td>7</td>\n      <td>saad</td>\n      <td>22</td>\n      <td>worker</td>\n      <td>24</td>\n      <td>261.0</td>\n      <td>64.8125</td>\n      <td>42.813443</td>\n      <td>1.000000</td>\n    </tr>\n  </tbody>\n</table>\n</div>"
          },
          "metadata": {}
        }
      ],
      "execution_count": null
    },
    {
      "cell_type": "markdown",
      "source": [
        "##   Pandas | Date Functionality"
      ],
      "metadata": {
        "id": "I28pF9PVAg0Y"
      }
    },
    {
      "cell_type": "code",
      "source": [
        "date=pd.date_range(start='2024-2-11', end='2024-4-11')"
      ],
      "metadata": {
        "trusted": true,
        "execution": {
          "iopub.status.busy": "2025-02-11T00:49:04.133433Z",
          "iopub.execute_input": "2025-02-11T00:49:04.133880Z",
          "iopub.status.idle": "2025-02-11T00:49:04.146998Z",
          "shell.execute_reply.started": "2025-02-11T00:49:04.133845Z",
          "shell.execute_reply": "2025-02-11T00:49:04.145265Z"
        },
        "id": "xtRw-MUnAg0Z"
      },
      "outputs": [],
      "execution_count": null
    },
    {
      "cell_type": "code",
      "source": [
        "date"
      ],
      "metadata": {
        "trusted": true,
        "execution": {
          "iopub.status.busy": "2025-02-11T00:49:06.545673Z",
          "iopub.execute_input": "2025-02-11T00:49:06.546082Z",
          "iopub.status.idle": "2025-02-11T00:49:06.554354Z",
          "shell.execute_reply.started": "2025-02-11T00:49:06.546053Z",
          "shell.execute_reply": "2025-02-11T00:49:06.553247Z"
        },
        "id": "Dn1y3fpdAg0Z",
        "outputId": "b413c6a0-2ee9-4ea5-fcf1-64ae2ddd3bac"
      },
      "outputs": [
        {
          "execution_count": 39,
          "output_type": "execute_result",
          "data": {
            "text/plain": "DatetimeIndex(['2024-02-11', '2024-02-12', '2024-02-13', '2024-02-14',\n               '2024-02-15', '2024-02-16', '2024-02-17', '2024-02-18',\n               '2024-02-19', '2024-02-20', '2024-02-21', '2024-02-22',\n               '2024-02-23', '2024-02-24', '2024-02-25', '2024-02-26',\n               '2024-02-27', '2024-02-28', '2024-02-29', '2024-03-01',\n               '2024-03-02', '2024-03-03', '2024-03-04', '2024-03-05',\n               '2024-03-06', '2024-03-07', '2024-03-08', '2024-03-09',\n               '2024-03-10', '2024-03-11', '2024-03-12', '2024-03-13',\n               '2024-03-14', '2024-03-15', '2024-03-16', '2024-03-17',\n               '2024-03-18', '2024-03-19', '2024-03-20', '2024-03-21',\n               '2024-03-22', '2024-03-23', '2024-03-24', '2024-03-25',\n               '2024-03-26', '2024-03-27', '2024-03-28', '2024-03-29',\n               '2024-03-30', '2024-03-31', '2024-04-01', '2024-04-02',\n               '2024-04-03', '2024-04-04', '2024-04-05', '2024-04-06',\n               '2024-04-07', '2024-04-08', '2024-04-09', '2024-04-10',\n               '2024-04-11'],\n              dtype='datetime64[ns]', freq='D')"
          },
          "metadata": {}
        }
      ],
      "execution_count": null
    },
    {
      "cell_type": "code",
      "source": [
        "df_dt=pd.DataFrame({'date':date})"
      ],
      "metadata": {
        "trusted": true,
        "execution": {
          "iopub.status.busy": "2025-02-11T01:28:28.888167Z",
          "iopub.execute_input": "2025-02-11T01:28:28.888583Z",
          "iopub.status.idle": "2025-02-11T01:28:28.894706Z",
          "shell.execute_reply.started": "2025-02-11T01:28:28.888555Z",
          "shell.execute_reply": "2025-02-11T01:28:28.893144Z"
        },
        "id": "fwa-HNXmAg0Z"
      },
      "outputs": [],
      "execution_count": null
    },
    {
      "cell_type": "code",
      "source": [
        "df_dt"
      ],
      "metadata": {
        "trusted": true,
        "execution": {
          "iopub.status.busy": "2025-02-11T01:28:29.739051Z",
          "iopub.execute_input": "2025-02-11T01:28:29.739462Z",
          "iopub.status.idle": "2025-02-11T01:28:29.751292Z",
          "shell.execute_reply.started": "2025-02-11T01:28:29.739424Z",
          "shell.execute_reply": "2025-02-11T01:28:29.750137Z"
        },
        "id": "tVGsohtlAg0a",
        "outputId": "b7d0231a-919b-42b8-8d5e-99968de507b3"
      },
      "outputs": [
        {
          "execution_count": 43,
          "output_type": "execute_result",
          "data": {
            "text/plain": "         date\n0  2024-02-11\n1  2024-02-12\n2  2024-02-13\n3  2024-02-14\n4  2024-02-15\n..        ...\n56 2024-04-07\n57 2024-04-08\n58 2024-04-09\n59 2024-04-10\n60 2024-04-11\n\n[61 rows x 1 columns]",
            "text/html": "<div>\n<style scoped>\n    .dataframe tbody tr th:only-of-type {\n        vertical-align: middle;\n    }\n\n    .dataframe tbody tr th {\n        vertical-align: top;\n    }\n\n    .dataframe thead th {\n        text-align: right;\n    }\n</style>\n<table border=\"1\" class=\"dataframe\">\n  <thead>\n    <tr style=\"text-align: right;\">\n      <th></th>\n      <th>date</th>\n    </tr>\n  </thead>\n  <tbody>\n    <tr>\n      <th>0</th>\n      <td>2024-02-11</td>\n    </tr>\n    <tr>\n      <th>1</th>\n      <td>2024-02-12</td>\n    </tr>\n    <tr>\n      <th>2</th>\n      <td>2024-02-13</td>\n    </tr>\n    <tr>\n      <th>3</th>\n      <td>2024-02-14</td>\n    </tr>\n    <tr>\n      <th>4</th>\n      <td>2024-02-15</td>\n    </tr>\n    <tr>\n      <th>...</th>\n      <td>...</td>\n    </tr>\n    <tr>\n      <th>56</th>\n      <td>2024-04-07</td>\n    </tr>\n    <tr>\n      <th>57</th>\n      <td>2024-04-08</td>\n    </tr>\n    <tr>\n      <th>58</th>\n      <td>2024-04-09</td>\n    </tr>\n    <tr>\n      <th>59</th>\n      <td>2024-04-10</td>\n    </tr>\n    <tr>\n      <th>60</th>\n      <td>2024-04-11</td>\n    </tr>\n  </tbody>\n</table>\n<p>61 rows × 1 columns</p>\n</div>"
          },
          "metadata": {}
        }
      ],
      "execution_count": null
    },
    {
      "cell_type": "code",
      "source": [
        "df_dt.dtypes"
      ],
      "metadata": {
        "trusted": true,
        "execution": {
          "iopub.status.busy": "2025-02-11T01:28:53.887660Z",
          "iopub.execute_input": "2025-02-11T01:28:53.888033Z",
          "iopub.status.idle": "2025-02-11T01:28:53.896611Z",
          "shell.execute_reply.started": "2025-02-11T01:28:53.888006Z",
          "shell.execute_reply": "2025-02-11T01:28:53.895365Z"
        },
        "id": "5Vfhcg6LAg0a",
        "outputId": "32a81df8-914c-405e-bfa8-00a0f798d9f8"
      },
      "outputs": [
        {
          "execution_count": 45,
          "output_type": "execute_result",
          "data": {
            "text/plain": "date    datetime64[ns]\ndtype: object"
          },
          "metadata": {}
        }
      ],
      "execution_count": null
    },
    {
      "cell_type": "code",
      "source": [
        "df5 = pd.DataFrame({'date':['2024-04-20','2024-04-18','2024-04-22']})"
      ],
      "metadata": {
        "trusted": true,
        "execution": {
          "iopub.status.busy": "2025-02-11T01:29:05.933159Z",
          "iopub.execute_input": "2025-02-11T01:29:05.933617Z",
          "iopub.status.idle": "2025-02-11T01:29:05.939159Z",
          "shell.execute_reply.started": "2025-02-11T01:29:05.933574Z",
          "shell.execute_reply": "2025-02-11T01:29:05.937907Z"
        },
        "id": "vXixLTtZAg0b"
      },
      "outputs": [],
      "execution_count": null
    },
    {
      "cell_type": "code",
      "source": [
        "df5"
      ],
      "metadata": {
        "trusted": true,
        "execution": {
          "iopub.status.busy": "2025-02-11T01:29:08.580697Z",
          "iopub.execute_input": "2025-02-11T01:29:08.581120Z",
          "iopub.status.idle": "2025-02-11T01:29:08.591542Z",
          "shell.execute_reply.started": "2025-02-11T01:29:08.581090Z",
          "shell.execute_reply": "2025-02-11T01:29:08.590169Z"
        },
        "id": "033onGKQAg0b",
        "outputId": "ad52afcf-d6b0-4960-902f-6c240e24f858"
      },
      "outputs": [
        {
          "execution_count": 47,
          "output_type": "execute_result",
          "data": {
            "text/plain": "         date\n0  2024-04-20\n1  2024-04-18\n2  2024-04-22",
            "text/html": "<div>\n<style scoped>\n    .dataframe tbody tr th:only-of-type {\n        vertical-align: middle;\n    }\n\n    .dataframe tbody tr th {\n        vertical-align: top;\n    }\n\n    .dataframe thead th {\n        text-align: right;\n    }\n</style>\n<table border=\"1\" class=\"dataframe\">\n  <thead>\n    <tr style=\"text-align: right;\">\n      <th></th>\n      <th>date</th>\n    </tr>\n  </thead>\n  <tbody>\n    <tr>\n      <th>0</th>\n      <td>2024-04-20</td>\n    </tr>\n    <tr>\n      <th>1</th>\n      <td>2024-04-18</td>\n    </tr>\n    <tr>\n      <th>2</th>\n      <td>2024-04-22</td>\n    </tr>\n  </tbody>\n</table>\n</div>"
          },
          "metadata": {}
        }
      ],
      "execution_count": null
    },
    {
      "cell_type": "code",
      "source": [
        "df5.dtypes"
      ],
      "metadata": {
        "trusted": true,
        "execution": {
          "iopub.status.busy": "2025-02-11T01:29:16.541046Z",
          "iopub.execute_input": "2025-02-11T01:29:16.541468Z",
          "iopub.status.idle": "2025-02-11T01:29:16.550966Z",
          "shell.execute_reply.started": "2025-02-11T01:29:16.541436Z",
          "shell.execute_reply": "2025-02-11T01:29:16.549539Z"
        },
        "id": "M7t6_VPSAg0b",
        "outputId": "9f666cd0-55dd-495c-e4ad-6a2d227f317e"
      },
      "outputs": [
        {
          "execution_count": 48,
          "output_type": "execute_result",
          "data": {
            "text/plain": "date    object\ndtype: object"
          },
          "metadata": {}
        }
      ],
      "execution_count": null
    },
    {
      "cell_type": "code",
      "source": [
        "df5['update_date']=pd.to_datetime(df5['date'])"
      ],
      "metadata": {
        "trusted": true,
        "execution": {
          "iopub.status.busy": "2025-02-11T01:30:27.285018Z",
          "iopub.execute_input": "2025-02-11T01:30:27.285409Z",
          "iopub.status.idle": "2025-02-11T01:30:27.297405Z",
          "shell.execute_reply.started": "2025-02-11T01:30:27.285380Z",
          "shell.execute_reply": "2025-02-11T01:30:27.296163Z"
        },
        "id": "k3InWKb_Ag0c"
      },
      "outputs": [],
      "execution_count": null
    },
    {
      "cell_type": "code",
      "source": [
        "df5"
      ],
      "metadata": {
        "trusted": true,
        "execution": {
          "iopub.status.busy": "2025-02-11T01:30:31.405206Z",
          "iopub.execute_input": "2025-02-11T01:30:31.405581Z",
          "iopub.status.idle": "2025-02-11T01:30:31.414854Z",
          "shell.execute_reply.started": "2025-02-11T01:30:31.405551Z",
          "shell.execute_reply": "2025-02-11T01:30:31.413747Z"
        },
        "id": "y-0a22CQAg0d",
        "outputId": "ff69009a-ce00-4282-cee6-ea317462c221"
      },
      "outputs": [
        {
          "execution_count": 52,
          "output_type": "execute_result",
          "data": {
            "text/plain": "         date update_date\n0  2024-04-20  2024-04-20\n1  2024-04-18  2024-04-18\n2  2024-04-22  2024-04-22",
            "text/html": "<div>\n<style scoped>\n    .dataframe tbody tr th:only-of-type {\n        vertical-align: middle;\n    }\n\n    .dataframe tbody tr th {\n        vertical-align: top;\n    }\n\n    .dataframe thead th {\n        text-align: right;\n    }\n</style>\n<table border=\"1\" class=\"dataframe\">\n  <thead>\n    <tr style=\"text-align: right;\">\n      <th></th>\n      <th>date</th>\n      <th>update_date</th>\n    </tr>\n  </thead>\n  <tbody>\n    <tr>\n      <th>0</th>\n      <td>2024-04-20</td>\n      <td>2024-04-20</td>\n    </tr>\n    <tr>\n      <th>1</th>\n      <td>2024-04-18</td>\n      <td>2024-04-18</td>\n    </tr>\n    <tr>\n      <th>2</th>\n      <td>2024-04-22</td>\n      <td>2024-04-22</td>\n    </tr>\n  </tbody>\n</table>\n</div>"
          },
          "metadata": {}
        }
      ],
      "execution_count": null
    },
    {
      "cell_type": "code",
      "source": [
        "df5.dtypes"
      ],
      "metadata": {
        "trusted": true,
        "execution": {
          "iopub.status.busy": "2025-02-11T01:30:46.860204Z",
          "iopub.execute_input": "2025-02-11T01:30:46.860588Z",
          "iopub.status.idle": "2025-02-11T01:30:46.868338Z",
          "shell.execute_reply.started": "2025-02-11T01:30:46.860559Z",
          "shell.execute_reply": "2025-02-11T01:30:46.867224Z"
        },
        "id": "Ahb155xHAg0d",
        "outputId": "bea0fe65-3bf6-432b-e794-ba56dc91293c"
      },
      "outputs": [
        {
          "execution_count": 54,
          "output_type": "execute_result",
          "data": {
            "text/plain": "date                   object\nupdate_date    datetime64[ns]\ndtype: object"
          },
          "metadata": {}
        }
      ],
      "execution_count": null
    },
    {
      "cell_type": "code",
      "source": [
        "df5['year']=df5['update_date'].dt.year"
      ],
      "metadata": {
        "trusted": true,
        "execution": {
          "iopub.status.busy": "2025-02-11T01:31:57.997388Z",
          "iopub.execute_input": "2025-02-11T01:31:57.997806Z",
          "iopub.status.idle": "2025-02-11T01:31:58.003924Z",
          "shell.execute_reply.started": "2025-02-11T01:31:57.997779Z",
          "shell.execute_reply": "2025-02-11T01:31:58.002510Z"
        },
        "id": "bQOyvRxQAg0e"
      },
      "outputs": [],
      "execution_count": null
    },
    {
      "cell_type": "code",
      "source": [
        "df5['month']=df5['update_date'].dt.month"
      ],
      "metadata": {
        "trusted": true,
        "execution": {
          "iopub.status.busy": "2025-02-11T01:32:19.000955Z",
          "iopub.execute_input": "2025-02-11T01:32:19.001403Z",
          "iopub.status.idle": "2025-02-11T01:32:19.007842Z",
          "shell.execute_reply.started": "2025-02-11T01:32:19.001366Z",
          "shell.execute_reply": "2025-02-11T01:32:19.006595Z"
        },
        "id": "fQ017PmWAg0e"
      },
      "outputs": [],
      "execution_count": null
    },
    {
      "cell_type": "code",
      "source": [
        "df5['day']=df5['update_date'].dt.day"
      ],
      "metadata": {
        "trusted": true,
        "execution": {
          "iopub.status.busy": "2025-02-11T01:32:30.025840Z",
          "iopub.execute_input": "2025-02-11T01:32:30.026249Z",
          "iopub.status.idle": "2025-02-11T01:32:30.033351Z",
          "shell.execute_reply.started": "2025-02-11T01:32:30.026219Z",
          "shell.execute_reply": "2025-02-11T01:32:30.031929Z"
        },
        "id": "JnJo8r6jAg0f"
      },
      "outputs": [],
      "execution_count": null
    },
    {
      "cell_type": "code",
      "source": [
        "df5"
      ],
      "metadata": {
        "trusted": true,
        "execution": {
          "iopub.status.busy": "2025-02-11T01:32:34.452491Z",
          "iopub.execute_input": "2025-02-11T01:32:34.452966Z",
          "iopub.status.idle": "2025-02-11T01:32:34.464427Z",
          "shell.execute_reply.started": "2025-02-11T01:32:34.452928Z",
          "shell.execute_reply": "2025-02-11T01:32:34.463355Z"
        },
        "id": "NRQZHWtnAg0f",
        "outputId": "5750cfaf-cf59-4521-eddd-b2e6e0ec41da"
      },
      "outputs": [
        {
          "execution_count": 59,
          "output_type": "execute_result",
          "data": {
            "text/plain": "         date update_date  year  month  day\n0  2024-04-20  2024-04-20  2024      4   20\n1  2024-04-18  2024-04-18  2024      4   18\n2  2024-04-22  2024-04-22  2024      4   22",
            "text/html": "<div>\n<style scoped>\n    .dataframe tbody tr th:only-of-type {\n        vertical-align: middle;\n    }\n\n    .dataframe tbody tr th {\n        vertical-align: top;\n    }\n\n    .dataframe thead th {\n        text-align: right;\n    }\n</style>\n<table border=\"1\" class=\"dataframe\">\n  <thead>\n    <tr style=\"text-align: right;\">\n      <th></th>\n      <th>date</th>\n      <th>update_date</th>\n      <th>year</th>\n      <th>month</th>\n      <th>day</th>\n    </tr>\n  </thead>\n  <tbody>\n    <tr>\n      <th>0</th>\n      <td>2024-04-20</td>\n      <td>2024-04-20</td>\n      <td>2024</td>\n      <td>4</td>\n      <td>20</td>\n    </tr>\n    <tr>\n      <th>1</th>\n      <td>2024-04-18</td>\n      <td>2024-04-18</td>\n      <td>2024</td>\n      <td>4</td>\n      <td>18</td>\n    </tr>\n    <tr>\n      <th>2</th>\n      <td>2024-04-22</td>\n      <td>2024-04-22</td>\n      <td>2024</td>\n      <td>4</td>\n      <td>22</td>\n    </tr>\n  </tbody>\n</table>\n</div>"
          },
          "metadata": {}
        }
      ],
      "execution_count": null
    },
    {
      "cell_type": "markdown",
      "source": [
        "## Pandas - Time Delta"
      ],
      "metadata": {
        "id": "kDtQQJHGAg0g"
      }
    },
    {
      "cell_type": "code",
      "source": [
        "pd.Timedelta(days=1, hours=10, minutes=38)"
      ],
      "metadata": {
        "trusted": true,
        "execution": {
          "iopub.status.busy": "2025-02-11T01:40:14.071210Z",
          "iopub.execute_input": "2025-02-11T01:40:14.071651Z",
          "iopub.status.idle": "2025-02-11T01:40:14.079309Z",
          "shell.execute_reply.started": "2025-02-11T01:40:14.071602Z",
          "shell.execute_reply": "2025-02-11T01:40:14.078213Z"
        },
        "id": "Mc5mzbN8Ag0g",
        "outputId": "d9c87da3-e063-4760-89b4-804878a47813"
      },
      "outputs": [
        {
          "execution_count": 62,
          "output_type": "execute_result",
          "data": {
            "text/plain": "Timedelta('1 days 10:38:00')"
          },
          "metadata": {}
        }
      ],
      "execution_count": null
    },
    {
      "cell_type": "code",
      "source": [
        "date = pd.to_datetime('2025-2-12')\n",
        "\n",
        "date_time=pd.Timedelta(days=1,hours=2,minutes=34)"
      ],
      "metadata": {
        "trusted": true,
        "execution": {
          "iopub.status.busy": "2025-02-11T01:42:54.688248Z",
          "iopub.execute_input": "2025-02-11T01:42:54.688654Z",
          "iopub.status.idle": "2025-02-11T01:42:54.695070Z",
          "shell.execute_reply.started": "2025-02-11T01:42:54.688609Z",
          "shell.execute_reply": "2025-02-11T01:42:54.693779Z"
        },
        "id": "Pm5Qs_T6Ag0g"
      },
      "outputs": [],
      "execution_count": null
    },
    {
      "cell_type": "code",
      "source": [
        "date+date_time"
      ],
      "metadata": {
        "trusted": true,
        "execution": {
          "iopub.status.busy": "2025-02-11T01:43:07.014112Z",
          "iopub.execute_input": "2025-02-11T01:43:07.014527Z",
          "iopub.status.idle": "2025-02-11T01:43:07.021585Z",
          "shell.execute_reply.started": "2025-02-11T01:43:07.014498Z",
          "shell.execute_reply": "2025-02-11T01:43:07.020299Z"
        },
        "id": "nRwVlS6RAg0h",
        "outputId": "9ea5373c-bd79-4197-e496-1e9d1d6b7e0e"
      },
      "outputs": [
        {
          "execution_count": 66,
          "output_type": "execute_result",
          "data": {
            "text/plain": "Timestamp('2025-02-13 02:34:00')"
          },
          "metadata": {}
        }
      ],
      "execution_count": null
    },
    {
      "cell_type": "markdown",
      "source": [
        "#  Pnadas Categorical"
      ],
      "metadata": {
        "id": "9PufZbV_Ag0i"
      }
    },
    {
      "cell_type": "code",
      "source": [
        "course_name_data=['ml','dl','web','app','devops','ml','dl','AI', 'ai']"
      ],
      "metadata": {
        "trusted": true,
        "execution": {
          "iopub.status.busy": "2025-02-11T01:44:41.749678Z",
          "iopub.execute_input": "2025-02-11T01:44:41.750046Z",
          "iopub.status.idle": "2025-02-11T01:44:41.754679Z",
          "shell.execute_reply.started": "2025-02-11T01:44:41.750021Z",
          "shell.execute_reply": "2025-02-11T01:44:41.753344Z"
        },
        "id": "54TjqzrbAg0j"
      },
      "outputs": [],
      "execution_count": null
    },
    {
      "cell_type": "code",
      "source": [
        "cate=pd.Categorical(course_name_data)"
      ],
      "metadata": {
        "trusted": true,
        "execution": {
          "iopub.status.busy": "2025-02-11T01:45:45.598315Z",
          "iopub.execute_input": "2025-02-11T01:45:45.598799Z",
          "iopub.status.idle": "2025-02-11T01:45:45.606569Z",
          "shell.execute_reply.started": "2025-02-11T01:45:45.598761Z",
          "shell.execute_reply": "2025-02-11T01:45:45.605148Z"
        },
        "id": "du7vyeZIAg0j"
      },
      "outputs": [],
      "execution_count": null
    },
    {
      "cell_type": "code",
      "source": [
        "cate"
      ],
      "metadata": {
        "trusted": true,
        "execution": {
          "iopub.status.busy": "2025-02-11T01:46:12.919805Z",
          "iopub.execute_input": "2025-02-11T01:46:12.920191Z",
          "iopub.status.idle": "2025-02-11T01:46:12.928649Z",
          "shell.execute_reply.started": "2025-02-11T01:46:12.920164Z",
          "shell.execute_reply": "2025-02-11T01:46:12.927618Z"
        },
        "id": "_9M-bohkAg0j",
        "outputId": "abd06576-2d08-4eb9-969c-3a566cdd0b01"
      },
      "outputs": [
        {
          "execution_count": 71,
          "output_type": "execute_result",
          "data": {
            "text/plain": "['ml', 'dl', 'web', 'app', 'devops', 'ml', 'dl', 'AI', 'ai']\nCategories (7, object): ['AI', 'ai', 'app', 'devops', 'dl', 'ml', 'web']"
          },
          "metadata": {}
        }
      ],
      "execution_count": null
    },
    {
      "cell_type": "code",
      "source": [
        "cate.value_counts()"
      ],
      "metadata": {
        "trusted": true,
        "execution": {
          "iopub.status.busy": "2025-02-11T01:46:20.005215Z",
          "iopub.execute_input": "2025-02-11T01:46:20.005606Z",
          "iopub.status.idle": "2025-02-11T01:46:20.015684Z",
          "shell.execute_reply.started": "2025-02-11T01:46:20.005580Z",
          "shell.execute_reply": "2025-02-11T01:46:20.014218Z"
        },
        "id": "qkl0sJSIAg0k",
        "outputId": "750c6b33-c18b-48b6-e045-8f28e4669805"
      },
      "outputs": [
        {
          "execution_count": 72,
          "output_type": "execute_result",
          "data": {
            "text/plain": "AI        1\nai        1\napp       1\ndevops    1\ndl        2\nml        2\nweb       1\nName: count, dtype: int64"
          },
          "metadata": {}
        }
      ],
      "execution_count": null
    },
    {
      "cell_type": "markdown",
      "source": [
        "# pandas - Visualization"
      ],
      "metadata": {
        "id": "4lEzjIApAg0l"
      }
    },
    {
      "cell_type": "code",
      "source": [
        "ser=pd.Series([1,2,20,5,3,78,4,98,45,23,20,8,56,23,12,1,0,22,11])"
      ],
      "metadata": {
        "trusted": true,
        "execution": {
          "iopub.status.busy": "2025-02-11T01:50:28.837313Z",
          "iopub.execute_input": "2025-02-11T01:50:28.837697Z",
          "iopub.status.idle": "2025-02-11T01:50:28.842882Z",
          "shell.execute_reply.started": "2025-02-11T01:50:28.837668Z",
          "shell.execute_reply": "2025-02-11T01:50:28.841669Z"
        },
        "id": "0qzD0LDzAg0l"
      },
      "outputs": [],
      "execution_count": null
    },
    {
      "cell_type": "code",
      "source": [
        "ser"
      ],
      "metadata": {
        "trusted": true,
        "execution": {
          "iopub.status.busy": "2025-02-11T01:50:32.053084Z",
          "iopub.execute_input": "2025-02-11T01:50:32.053477Z",
          "iopub.status.idle": "2025-02-11T01:50:32.060923Z",
          "shell.execute_reply.started": "2025-02-11T01:50:32.053448Z",
          "shell.execute_reply": "2025-02-11T01:50:32.059474Z"
        },
        "id": "k7NZKVg6Ag0m",
        "outputId": "605c64a4-66eb-4b84-f765-101b822d6337"
      },
      "outputs": [
        {
          "execution_count": 74,
          "output_type": "execute_result",
          "data": {
            "text/plain": "0      1\n1      2\n2     20\n3      5\n4      3\n5     78\n6      4\n7     98\n8     45\n9     23\n10    20\n11     8\n12    56\n13    23\n14    12\n15     1\n16     0\n17    22\n18    11\ndtype: int64"
          },
          "metadata": {}
        }
      ],
      "execution_count": null
    },
    {
      "cell_type": "code",
      "source": [
        "ser.plot()"
      ],
      "metadata": {
        "trusted": true,
        "execution": {
          "iopub.status.busy": "2025-02-11T01:50:39.901940Z",
          "iopub.execute_input": "2025-02-11T01:50:39.902368Z",
          "iopub.status.idle": "2025-02-11T01:50:40.303359Z",
          "shell.execute_reply.started": "2025-02-11T01:50:39.902337Z",
          "shell.execute_reply": "2025-02-11T01:50:40.302026Z"
        },
        "id": "fdX9zDLKAg0m",
        "outputId": "2b34b28b-b27e-4642-9d3d-e8f45fc94a4a"
      },
      "outputs": [
        {
          "execution_count": 75,
          "output_type": "execute_result",
          "data": {
            "text/plain": "<Axes: >"
          },
          "metadata": {}
        },
        {
          "output_type": "display_data",
          "data": {
            "text/plain": "<Figure size 640x480 with 1 Axes>",
            "image/png": "[encoded data removed]"
          },
          "metadata": {}
        }
      ],
      "execution_count": null
    },
    {
      "cell_type": "code",
      "source": [
        "df['age']"
      ],
      "metadata": {
        "trusted": true,
        "execution": {
          "iopub.status.busy": "2025-02-11T01:51:43.333623Z",
          "iopub.execute_input": "2025-02-11T01:51:43.334092Z",
          "iopub.status.idle": "2025-02-11T01:51:43.342864Z",
          "shell.execute_reply.started": "2025-02-11T01:51:43.334061Z",
          "shell.execute_reply": "2025-02-11T01:51:43.341015Z"
        },
        "id": "zMQSMFLnAg0n",
        "outputId": "84853e6c-4dfe-482f-a5ae-b26bc2ea8b3e"
      },
      "outputs": [
        {
          "execution_count": 79,
          "output_type": "execute_result",
          "data": {
            "text/plain": "0    12\n1    23\n2    45\n3    55\n4    67\n5    23\n6    22\nName: age, dtype: int64"
          },
          "metadata": {}
        }
      ],
      "execution_count": null
    },
    {
      "cell_type": "code",
      "source": [
        "df"
      ],
      "metadata": {
        "trusted": true,
        "execution": {
          "iopub.status.busy": "2025-02-11T01:52:40.421056Z",
          "iopub.execute_input": "2025-02-11T01:52:40.421533Z",
          "iopub.status.idle": "2025-02-11T01:52:40.437338Z",
          "shell.execute_reply.started": "2025-02-11T01:52:40.421475Z",
          "shell.execute_reply": "2025-02-11T01:52:40.436081Z"
        },
        "id": "WWv0TZwSAg0o",
        "outputId": "b254ec90-1c91-4544-f36c-0aafd1ec17b6"
      },
      "outputs": [
        {
          "execution_count": 81,
          "output_type": "execute_result",
          "data": {
            "text/plain": "   id      name  age           role  role_id  expanding_val  ewm_mean  \\\n0   1      inam   12        student       14           14.0   14.0000   \n1   2      khan   23      chai-shop       25           39.0   32.0000   \n2   3  Muhammad   45        scholar       47           86.0   63.0000   \n3   4       ali   55       engineer       57          143.0   88.5000   \n4   5      mani   67  entertainment       69          212.0  113.2500   \n5   6     jokar   23         doctor       25          237.0   81.6250   \n6   7      saad   22         worker       24          261.0   64.8125   \n\n   ewm_sum_next  next_weights  \n0     14.000000      0.001372  \n1     29.666667      0.004115  \n2     56.888889      0.012346  \n3     75.962963      0.037037  \n4     94.320988      0.111111  \n5     56.440329      0.333333  \n6     42.813443      1.000000  ",
            "text/html": "<div>\n<style scoped>\n    .dataframe tbody tr th:only-of-type {\n        vertical-align: middle;\n    }\n\n    .dataframe tbody tr th {\n        vertical-align: top;\n    }\n\n    .dataframe thead th {\n        text-align: right;\n    }\n</style>\n<table border=\"1\" class=\"dataframe\">\n  <thead>\n    <tr style=\"text-align: right;\">\n      <th></th>\n      <th>id</th>\n      <th>name</th>\n      <th>age</th>\n      <th>role</th>\n      <th>role_id</th>\n      <th>expanding_val</th>\n      <th>ewm_mean</th>\n      <th>ewm_sum_next</th>\n      <th>next_weights</th>\n    </tr>\n  </thead>\n  <tbody>\n    <tr>\n      <th>0</th>\n      <td>1</td>\n      <td>inam</td>\n      <td>12</td>\n      <td>student</td>\n      <td>14</td>\n      <td>14.0</td>\n      <td>14.0000</td>\n      <td>14.000000</td>\n      <td>0.001372</td>\n    </tr>\n    <tr>\n      <th>1</th>\n      <td>2</td>\n      <td>khan</td>\n      <td>23</td>\n      <td>chai-shop</td>\n      <td>25</td>\n      <td>39.0</td>\n      <td>32.0000</td>\n      <td>29.666667</td>\n      <td>0.004115</td>\n    </tr>\n    <tr>\n      <th>2</th>\n      <td>3</td>\n      <td>Muhammad</td>\n      <td>45</td>\n      <td>scholar</td>\n      <td>47</td>\n      <td>86.0</td>\n      <td>63.0000</td>\n      <td>56.888889</td>\n      <td>0.012346</td>\n    </tr>\n    <tr>\n      <th>3</th>\n      <td>4</td>\n      <td>ali</td>\n      <td>55</td>\n      <td>engineer</td>\n      <td>57</td>\n      <td>143.0</td>\n      <td>88.5000</td>\n      <td>75.962963</td>\n      <td>0.037037</td>\n    </tr>\n    <tr>\n      <th>4</th>\n      <td>5</td>\n      <td>mani</td>\n      <td>67</td>\n      <td>entertainment</td>\n      <td>69</td>\n      <td>212.0</td>\n      <td>113.2500</td>\n      <td>94.320988</td>\n      <td>0.111111</td>\n    </tr>\n    <tr>\n      <th>5</th>\n      <td>6</td>\n      <td>jokar</td>\n      <td>23</td>\n      <td>doctor</td>\n      <td>25</td>\n      <td>237.0</td>\n      <td>81.6250</td>\n      <td>56.440329</td>\n      <td>0.333333</td>\n    </tr>\n    <tr>\n      <th>6</th>\n      <td>7</td>\n      <td>saad</td>\n      <td>22</td>\n      <td>worker</td>\n      <td>24</td>\n      <td>261.0</td>\n      <td>64.8125</td>\n      <td>42.813443</td>\n      <td>1.000000</td>\n    </tr>\n  </tbody>\n</table>\n</div>"
          },
          "metadata": {}
        }
      ],
      "execution_count": null
    },
    {
      "cell_type": "code",
      "source": [
        "df[['age','next_weights']].plot()"
      ],
      "metadata": {
        "trusted": true,
        "execution": {
          "iopub.status.busy": "2025-02-11T01:52:53.870619Z",
          "iopub.execute_input": "2025-02-11T01:52:53.871164Z",
          "iopub.status.idle": "2025-02-11T01:52:54.103665Z",
          "shell.execute_reply.started": "2025-02-11T01:52:53.871126Z",
          "shell.execute_reply": "2025-02-11T01:52:54.102516Z"
        },
        "id": "w83TdvodAg0o",
        "outputId": "c87d9114-e8ab-4b15-8a91-2af1b5f80c86"
      },
      "outputs": [
        {
          "execution_count": 82,
          "output_type": "execute_result",
          "data": {
            "text/plain": "<Axes: >"
          },
          "metadata": {}
        },
        {
          "output_type": "display_data",
          "data": {
            "text/plain": "<Figure size 640x480 with 1 Axes>",
            "image/png": "[encoded data removed]"
          },
          "metadata": {}
        }
      ],
      "execution_count": null
    },
    {
      "cell_type": "code",
      "source": [
        "linear=pd.Series([1,2,3,4,5,6,7,8,9,10])\n",
        "linear.plot()"
      ],
      "metadata": {
        "trusted": true,
        "execution": {
          "iopub.status.busy": "2025-02-11T01:53:48.602469Z",
          "iopub.execute_input": "2025-02-11T01:53:48.602957Z",
          "iopub.status.idle": "2025-02-11T01:53:48.800999Z",
          "shell.execute_reply.started": "2025-02-11T01:53:48.602921Z",
          "shell.execute_reply": "2025-02-11T01:53:48.799572Z"
        },
        "id": "wLVwDHBMAg0o",
        "outputId": "b51364f9-b51f-4eef-c887-4a824cb931d7"
      },
      "outputs": [
        {
          "execution_count": 83,
          "output_type": "execute_result",
          "data": {
            "text/plain": "<Axes: >"
          },
          "metadata": {}
        },
        {
          "output_type": "display_data",
          "data": {
            "text/plain": "<Figure size 640x480 with 1 Axes>",
            "image/png": "[encoded data removed]"
          },
          "metadata": {}
        }
      ],
      "execution_count": null
    },
    {
      "cell_type": "code",
      "source": [
        "marks_std=pd.DataFrame({'marks':[78,56,54,34,21,90,88,78,85,83], 'prev_marks':[65,78,67,43,34,56,23,43,90,98]})"
      ],
      "metadata": {
        "trusted": true,
        "id": "phN4x2svAg0p"
      },
      "outputs": [],
      "execution_count": 5
    },
    {
      "cell_type": "code",
      "source": [
        "marks_std"
      ],
      "metadata": {
        "id": "iGXYDMJiGDAq"
      },
      "execution_count": null,
      "outputs": []
    },
    {
      "cell_type": "code",
      "source": [
        "marks_std.plot(x='marks', y='prev_marks', kind='line')"
      ],
      "metadata": {
        "colab": {
          "base_uri": "https://localhost:8080/",
          "height": 466
        },
        "id": "E8rEx_sgGFOP",
        "outputId": "c28423ca-a5db-4b1f-dba7-772c5d698c5d"
      },
      "execution_count": 7,
      "outputs": [
        {
          "output_type": "execute_result",
          "data": {
            "text/plain": [
              "<Axes: xlabel='marks'>"
            ]
          },
          "metadata": {},
          "execution_count": 7
        },
        {
          "output_type": "display_data",
          "data": {
            "text/plain": [
              "<Figure size 640x480 with 1 Axes>"
            ],
            "image/png": "[encoded data removed]"
          },
          "metadata": {}
        }
      ]
    },
    {
      "cell_type": "code",
      "source": [
        "marks_std.plot()"
      ],
      "metadata": {
        "colab": {
          "base_uri": "https://localhost:8080/",
          "height": 447
        },
        "id": "THrTf-_PGVPH",
        "outputId": "1b8c5dab-9514-4a8d-f5ad-50b999dff784"
      },
      "execution_count": 8,
      "outputs": [
        {
          "output_type": "execute_result",
          "data": {
            "text/plain": [
              "<Axes: >"
            ]
          },
          "metadata": {},
          "execution_count": 8
        },
        {
          "output_type": "display_data",
          "data": {
            "text/plain": [
              "<Figure size 640x480 with 1 Axes>"
            ],
            "image/png": "[encoded data removed]"
          },
          "metadata": {}
        }
      ]
    },
    {
      "cell_type": "code",
      "source": [
        "marks_std['marks'].plot.pie()"
      ],
      "metadata": {
        "colab": {
          "base_uri": "https://localhost:8080/",
          "height": 423
        },
        "id": "edeuIxtPGjSn",
        "outputId": "74d2976e-8ceb-4245-9f35-064715bc9ba6"
      },
      "execution_count": 10,
      "outputs": [
        {
          "output_type": "execute_result",
          "data": {
            "text/plain": [
              "<Axes: ylabel='marks'>"
            ]
          },
          "metadata": {},
          "execution_count": 10
        },
        {
          "output_type": "display_data",
          "data": {
            "text/plain": [
              "<Figure size 640x480 with 1 Axes>"
            ],
            "image/png": "[encoded data removed]"
          },
          "metadata": {}
        }
      ]
    },
    {
      "cell_type": "code",
      "source": [],
      "metadata": {
        "id": "QboKkFRfHOuQ"
      },
      "execution_count": null,
      "outputs": []
    }
  ]
}